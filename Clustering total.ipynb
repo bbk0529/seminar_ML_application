{
 "cells": [
  {
   "cell_type": "code",
   "execution_count": 1,
   "metadata": {},
   "outputs": [],
   "source": [
    "from evaluation import *"
   ]
  },
  {
   "cell_type": "code",
   "execution_count": 2,
   "metadata": {},
   "outputs": [],
   "source": [
    "# filename = 'PrepaidTravelCost.xes'\n",
    "filename = \"BPI_Challenge_2012.xes\"\n",
    "# filename = 'filtered_3way_after_80%.xes'"
   ]
  },
  {
   "cell_type": "code",
   "execution_count": 3,
   "metadata": {},
   "outputs": [],
   "source": [
    "k=4\n",
    "output=False\n",
    "visual=False\n",
    "w=0.25\n",
    "tf=1\n",
    "mcs=0.25\n",
    "N=1\n",
    "p=1"
   ]
  },
  {
   "cell_type": "code",
   "execution_count": 4,
   "metadata": {},
   "outputs": [
    {
     "data": {
      "application/vnd.jupyter.widget-view+json": {
       "model_id": "bff08ba033884df3b6cbb3a189d016b6",
       "version_major": 2,
       "version_minor": 0
      },
      "text/plain": [
       "HBox(children=(IntProgress(value=0, description='parsing log, completed traces :: ', max=13087, style=Progress…"
      ]
     },
     "metadata": {},
     "output_type": "display_data"
    },
    {
     "name": "stdout",
     "output_type": "stream",
     "text": [
      "\n",
      "==================================================================================================== =READ THE XES FILElength of log 13087 \n",
      "length of event 262200 \n",
      "number of variants : 4366\n"
     ]
    }
   ],
   "source": [
    "log, VARIANT = read_xes(filename)"
   ]
  },
  {
   "cell_type": "code",
   "execution_count": 6,
   "metadata": {},
   "outputs": [],
   "source": [
    "from pm4py.statistics.traces.log import case_statistics\n",
    "variants_count = case_statistics.get_variant_statistics(log)\n",
    "variants_count = sorted(variants_count, key=lambda x: x['count'], reverse=True)\n",
    "import pandas as pd\n",
    "data=pd.DataFrame(stat, columns = ['len','size'])\n",
    "\n",
    "stat=[]\n",
    "for v in variants_count : \n",
    "    stat.append([len(v['variant'].split(',')), v['count']])\n",
    "\n",
    "import matplotlib.pyplot as plt\n",
    "fig = plt.figure()\n",
    "ax = fig.add_axes([0,0,1,1])\n",
    "ax.bar(D.index, D['size'])\n",
    "plt.show()"
   ]
  },
  {
   "cell_type": "code",
   "execution_count": 7,
   "metadata": {},
   "outputs": [],
   "source": []
  },
  {
   "cell_type": "code",
   "execution_count": 26,
   "metadata": {},
   "outputs": [
    {
     "data": {
      "image/png": "[encoded data removed]",
      "text/plain": [
       "<Figure size 432x288 with 1 Axes>"
      ]
     },
     "metadata": {
      "needs_background": "light"
     },
     "output_type": "display_data"
    }
   ],
   "source": []
  },
  {
   "cell_type": "code",
   "execution_count": null,
   "metadata": {},
   "outputs": [],
   "source": [
    "from pm4py.statistics.traces.log import case_statistics\n",
    "variants_count = case_statistics.get_variant_statistics(log)\n",
    "variants_count = sorted(variants_count, key=lambda x: x['count'], reverse=True)\n",
    "\n",
    "import pandas as pd\n",
    "\n",
    "stat=[]\n",
    "d=[]\n",
    "for v in variants_count : \n",
    "    stat.append([len(v['variant'].split(',')), v['count']])\n",
    "    data=pd.DataFrame(stat, columns = ['len','size'])\n",
    "    d.append(v['count'])\n"
   ]
  },
  {
   "cell_type": "code",
   "execution_count": 35,
   "metadata": {},
   "outputs": [
    {
     "data": {
      "text/plain": [
       "<Figure size 1440x1440 with 0 Axes>"
      ]
     },
     "metadata": {},
     "output_type": "display_data"
    },
    {
     "data": {
      "text/plain": [
       "<Figure size 432x288 with 0 Axes>"
      ]
     },
     "metadata": {},
     "output_type": "display_data"
    }
   ],
   "source": [
    "\n",
    "\n",
    "import matplotlib.pyplot as plt\n",
    "from matplotlib.pyplot import figure\n",
    "figure(\n",
    "    num=None, \n",
    "    figsize=(20, 20), \n",
    "#     dpi=80, \n",
    "    facecolor='w', \n",
    "    edgecolor='k'\n",
    ")\n",
    "fig = plt.figure()\n",
    "\n",
    "# ax = fig.add_axes([0,0,1,1])\n",
    "ax.bar(range(len(d)), d)\n",
    "plt.show()"
   ]
  },
  {
   "cell_type": "code",
   "execution_count": 29,
   "metadata": {},
   "outputs": [
    {
     "data": {
      "text/plain": [
       "4366"
      ]
     },
     "execution_count": 29,
     "metadata": {},
     "output_type": "execute_result"
    }
   ],
   "source": [
    "len(d)"
   ]
  },
  {
   "cell_type": "code",
   "execution_count": 11,
   "metadata": {},
   "outputs": [],
   "source": []
  },
  {
   "cell_type": "code",
   "execution_count": 23,
   "metadata": {},
   "outputs": [
    {
     "data": {
      "text/plain": [
       "len\n",
       "3      0.262016\n",
       "6      0.143196\n",
       "7      0.022465\n",
       "8      0.025063\n",
       "9      0.013831\n",
       "         ...   \n",
       "161    0.000076\n",
       "163    0.000076\n",
       "167    0.000076\n",
       "170    0.000076\n",
       "175    0.000076\n",
       "Name: size, Length: 131, dtype: float64"
      ]
     },
     "execution_count": 23,
     "metadata": {},
     "output_type": "execute_result"
    }
   ],
   "source": [
    "D['size']"
   ]
  },
  {
   "cell_type": "code",
   "execution_count": null,
   "metadata": {
    "scrolled": true
   },
   "outputs": [
    {
     "data": {
      "application/vnd.jupyter.widget-view+json": {
       "model_id": "3bb118283c4d42938181f8f3ccbeb9a2",
       "version_major": 2,
       "version_minor": 0
      },
      "text/plain": [
       "HBox(children=(IntProgress(value=0, description='parsing log, completed traces :: ', max=13087, style=Progress…"
      ]
     },
     "metadata": {},
     "output_type": "display_data"
    },
    {
     "name": "stdout",
     "output_type": "stream",
     "text": [
      "\n",
      "==================================================================================================== =READ THE XES FILElength of log 13087 \n",
      "length of event 262200 \n",
      "number of variants : 4366\n"
     ]
    }
   ],
   "source": [
    "total_clustering(filename, k=k, output=output, visual=visual,w=w,  tf=tf, mcs=mcs,N=N,p=p)\n",
    "result = total_evaluation()\n",
    "visualize_evaluation(result)"
   ]
  },
  {
   "cell_type": "code",
   "execution_count": 9,
   "metadata": {},
   "outputs": [
    {
     "name": "stdout",
     "output_type": "stream",
     "text": [
      "fitness:0.9975599325290521, prec:0.7080787189368352, gen:0.959954009930977, simp:0.7936353363538462, weighted by # traces\n",
      "fitness:0.9579690750547412, prec:0.7773492801299782, gen:0.8909971817315372, simp:0.727341736648063, weighted by # traces\n",
      "fitness:0.957045151400519, prec:0.6403714989821689, gen:0.8893155669791506, simp:0.5956234269946592, weighted by # traces\n",
      "fitness:0.9579045662147095, prec:0.7727420316149795, gen:0.8865471905867095, simp:0.7208095040235899, weighted by # traces\n"
     ]
    },
    {
     "data": {
      "image/png": "[encoded data removed]",
      "text/plain": [
       "<Figure size 432x288 with 1 Axes>"
      ]
     },
     "metadata": {
      "needs_background": "light"
     },
     "output_type": "display_data"
    }
   ],
   "source": [
    "\n",
    "result = total_evaluation()\n",
    "visualize_evaluation(result)"
   ]
  },
  {
   "cell_type": "code",
   "execution_count": 17,
   "metadata": {},
   "outputs": [],
   "source": [
    "k=10\n",
    "output=False\n",
    "visual=False\n",
    "w=0.1\n",
    "tf=1\n",
    "mcs=0.1\n",
    "N=1\n",
    "p=0.62"
   ]
  },
  {
   "cell_type": "code",
   "execution_count": 18,
   "metadata": {
    "scrolled": true
   },
   "outputs": [
    {
     "name": "stdout",
     "output_type": "stream",
     "text": [
      "3\n"
     ]
    },
    {
     "data": {
      "application/vnd.jupyter.widget-view+json": {
       "model_id": "ed38c70d8cfa41839988b845e841c04a",
       "version_major": 2,
       "version_minor": 0
      },
      "text/plain": [
       "HBox(children=(IntProgress(value=0, description='parsing log, completed traces :: ', max=13087, style=Progress…"
      ]
     },
     "metadata": {},
     "output_type": "display_data"
    },
    {
     "name": "stdout",
     "output_type": "stream",
     "text": [
      "\n",
      "==================================================================================================== =READ THE XES FILElength of trace 8178 \n",
      "length of event 64227 \n",
      "number of variants : 151\n",
      "\n",
      " * size of C is 0, fitness check is skipped and cur_dpi is added to C\n",
      "\n",
      " * size of C is 0, fitness check is skipped and cur_dpi is added to C\n",
      "fitness:0.9976426342683602, prec:0.7121406411690663, gen:0.9595079512393475, simp:0.7896395053802886, weighted by # traces\n",
      "fitness:0.9619958451945727, prec:0.7306980095082412, gen:0.9029650911484471, simp:0.5689639708005461, weighted by # traces\n",
      "fitness:0.9550408132949948, prec:0.6930323252063799, gen:0.9026491875660655, simp:0.5999627424323912, weighted by # traces\n",
      "fitness:0.9994998778683852, prec:0.6016375272903104, gen:0.8809218246733568, simp:0.6146111765654373, weighted by # traces\n"
     ]
    },
    {
     "data": {
      "image/png": "[encoded data removed]",
      "text/plain": [
       "<Figure size 432x288 with 1 Axes>"
      ]
     },
     "metadata": {
      "needs_background": "light"
     },
     "output_type": "display_data"
    },
    {
     "name": "stdout",
     "output_type": "stream",
     "text": [
      "4\n"
     ]
    },
    {
     "data": {
      "application/vnd.jupyter.widget-view+json": {
       "model_id": "64f1ba52090f4be9bb27a1f15f3fdf3c",
       "version_major": 2,
       "version_minor": 0
      },
      "text/plain": [
       "HBox(children=(IntProgress(value=0, description='parsing log, completed traces :: ', max=13087, style=Progress…"
      ]
     },
     "metadata": {},
     "output_type": "display_data"
    },
    {
     "name": "stdout",
     "output_type": "stream",
     "text": [
      "\n",
      "==================================================================================================== =READ THE XES FILElength of trace 8178 \n",
      "length of event 64227 \n",
      "number of variants : 151\n",
      "\n",
      " * size of C is 0, fitness check is skipped and cur_dpi is added to C\n",
      "\n",
      " * size of C is 0, fitness check is skipped and cur_dpi is added to C\n",
      "\n",
      " * size of C is 0, fitness check is skipped and cur_dpi is added to C\n",
      "fitness:0.998562556029828, prec:0.7027140538473094, gen:0.951716793267874, simp:0.789297987635302, weighted by # traces\n",
      "fitness:0.9598332871432452, prec:0.6864730881930408, gen:0.9104466123714803, simp:0.5753438644101448, weighted by # traces\n",
      "fitness:0.9549385866253748, prec:0.6856477349597923, gen:0.9013727120396772, simp:0.6016574401387313, weighted by # traces\n",
      "fitness:0.999651780698449, prec:0.5982312333156549, gen:0.8736005286583153, simp:0.6162456833914501, weighted by # traces\n"
     ]
    },
    {
     "data": {
      "image/png": "[encoded data removed]",
      "text/plain": [
       "<Figure size 432x288 with 1 Axes>"
      ]
     },
     "metadata": {
      "needs_background": "light"
     },
     "output_type": "display_data"
    },
    {
     "name": "stdout",
     "output_type": "stream",
     "text": [
      "5\n"
     ]
    },
    {
     "data": {
      "application/vnd.jupyter.widget-view+json": {
       "model_id": "7d7c2f9c597f4d48b1320371d587f247",
       "version_major": 2,
       "version_minor": 0
      },
      "text/plain": [
       "HBox(children=(IntProgress(value=0, description='parsing log, completed traces :: ', max=13087, style=Progress…"
      ]
     },
     "metadata": {},
     "output_type": "display_data"
    },
    {
     "name": "stdout",
     "output_type": "stream",
     "text": [
      "\n",
      "==================================================================================================== =READ THE XES FILElength of trace 8178 \n",
      "length of event 64227 \n",
      "number of variants : 151\n",
      "\n",
      " * size of C is 0, fitness check is skipped and cur_dpi is added to C\n",
      "\n",
      " * size of C is 0, fitness check is skipped and cur_dpi is added to C\n",
      "\n",
      " * size of C is 0, fitness check is skipped and cur_dpi is added to C\n",
      "\n",
      " * size of C is 0, fitness check is skipped and cur_dpi is added to C\n",
      "fitness:0.9984529396388316, prec:0.7047985002930974, gen:0.9514003471523185, simp:0.7913097477127102, weighted by # traces\n",
      "fitness:0.9598263357175894, prec:0.6869729304071013, gen:0.9103534449922263, simp:0.5755363238044747, weighted by # traces\n",
      "fitness:0.955311274288567, prec:0.6816633093816525, gen:0.8997704107572778, simp:0.6023672448613844, weighted by # traces\n",
      "fitness:0.9627464249666952, prec:0.7363979915637416, gen:0.8762933221569081, simp:0.6563455444296501, weighted by # traces\n"
     ]
    },
    {
     "data": {
      "image/png": "[encoded data removed]",
      "text/plain": [
       "<Figure size 432x288 with 1 Axes>"
      ]
     },
     "metadata": {
      "needs_background": "light"
     },
     "output_type": "display_data"
    },
    {
     "name": "stdout",
     "output_type": "stream",
     "text": [
      "6\n"
     ]
    },
    {
     "data": {
      "application/vnd.jupyter.widget-view+json": {
       "model_id": "60e91770a4fb45a78063353015ed572d",
       "version_major": 2,
       "version_minor": 0
      },
      "text/plain": [
       "HBox(children=(IntProgress(value=0, description='parsing log, completed traces :: ', max=13087, style=Progress…"
      ]
     },
     "metadata": {},
     "output_type": "display_data"
    },
    {
     "name": "stdout",
     "output_type": "stream",
     "text": [
      "\n",
      "==================================================================================================== =READ THE XES FILElength of trace 8178 \n",
      "length of event 64227 \n",
      "number of variants : 151\n",
      "\n",
      " * size of C is 0, fitness check is skipped and cur_dpi is added to C\n",
      "\n",
      " * size of C is 0, fitness check is skipped and cur_dpi is added to C\n",
      "\n",
      " * size of C is 0, fitness check is skipped and cur_dpi is added to C\n",
      "\n",
      " * size of C is 0, fitness check is skipped and cur_dpi is added to C\n",
      "\n",
      " * size of C is 0, fitness check is skipped and cur_dpi is added to C\n",
      "fitness:0.9986177504125602, prec:0.70444761159724, gen:0.9508798672540182, simp:0.7920761618180875, weighted by # traces\n",
      "fitness:0.96277553210655, prec:0.7396146027449759, gen:0.9015096828746252, simp:0.66026493775292, weighted by # traces\n",
      "fitness:0.9572037850906587, prec:0.6711950931325383, gen:0.8380673070770586, simp:0.5916818425332786, weighted by # traces\n",
      "fitness:0.9627420024591559, prec:0.7390379388250465, gen:0.8792684660579517, simp:0.6612610072681998, weighted by # traces\n"
     ]
    },
    {
     "data": {
      "image/png": "[encoded data removed]",
      "text/plain": [
       "<Figure size 432x288 with 1 Axes>"
      ]
     },
     "metadata": {
      "needs_background": "light"
     },
     "output_type": "display_data"
    },
    {
     "name": "stdout",
     "output_type": "stream",
     "text": [
      "7\n"
     ]
    },
    {
     "data": {
      "application/vnd.jupyter.widget-view+json": {
       "model_id": "aa79f60164c649e793b5a4f8432b1c90",
       "version_major": 2,
       "version_minor": 0
      },
      "text/plain": [
       "HBox(children=(IntProgress(value=0, description='parsing log, completed traces :: ', max=13087, style=Progress…"
      ]
     },
     "metadata": {},
     "output_type": "display_data"
    },
    {
     "name": "stdout",
     "output_type": "stream",
     "text": [
      "\n",
      "==================================================================================================== =READ THE XES FILElength of trace 8178 \n",
      "length of event 64227 \n",
      "number of variants : 151\n",
      "\n",
      " * size of C is 0, fitness check is skipped and cur_dpi is added to C\n",
      "\n",
      " * size of C is 0, fitness check is skipped and cur_dpi is added to C\n",
      "\n",
      " * size of C is 0, fitness check is skipped and cur_dpi is added to C\n",
      "\n",
      " * size of C is 0, fitness check is skipped and cur_dpi is added to C\n",
      "\n",
      " * size of C is 0, fitness check is skipped and cur_dpi is added to C\n",
      "\n",
      " * size of C is 0, fitness check is skipped and cur_dpi is added to C\n",
      "fitness:0.9987409614158412, prec:0.7040928200813518, gen:0.9491531776606291, simp:0.7923028062886794, weighted by # traces\n",
      "fitness:0.96277553210655, prec:0.7539661458056793, gen:0.9010318886079708, simp:0.6678336971474641, weighted by # traces\n",
      "fitness:0.9571898007005252, prec:0.6711194604459901, gen:0.8365823767869128, simp:0.5915738003423554, weighted by # traces\n",
      "fitness:0.9626938298052058, prec:0.7501632829709415, gen:0.8906364200666522, simp:0.6655450959305159, weighted by # traces\n"
     ]
    },
    {
     "data": {
      "image/png": "[encoded data removed]",
      "text/plain": [
       "<Figure size 432x288 with 1 Axes>"
      ]
     },
     "metadata": {
      "needs_background": "light"
     },
     "output_type": "display_data"
    },
    {
     "name": "stdout",
     "output_type": "stream",
     "text": [
      "8\n"
     ]
    },
    {
     "data": {
      "application/vnd.jupyter.widget-view+json": {
       "model_id": "8546dd260bed4111b665d5f50139c5fb",
       "version_major": 2,
       "version_minor": 0
      },
      "text/plain": [
       "HBox(children=(IntProgress(value=0, description='parsing log, completed traces :: ', max=13087, style=Progress…"
      ]
     },
     "metadata": {},
     "output_type": "display_data"
    },
    {
     "name": "stdout",
     "output_type": "stream",
     "text": [
      "\n",
      "==================================================================================================== =READ THE XES FILElength of trace 8178 \n",
      "length of event 64227 \n",
      "number of variants : 151\n",
      "\n",
      " * size of C is 0, fitness check is skipped and cur_dpi is added to C\n",
      "\n",
      " * size of C is 0, fitness check is skipped and cur_dpi is added to C\n",
      "\n",
      " * size of C is 0, fitness check is skipped and cur_dpi is added to C\n",
      "\n",
      " * size of C is 0, fitness check is skipped and cur_dpi is added to C\n",
      "\n",
      " * size of C is 0, fitness check is skipped and cur_dpi is added to C\n",
      "\n",
      " * size of C is 0, fitness check is skipped and cur_dpi is added to C\n",
      "\n",
      " * size of C is 0, fitness check is skipped and cur_dpi is added to C\n",
      "fitness:0.9988627795499159, prec:0.7027147984236108, gen:0.9480872297204197, simp:0.7926258330651649, weighted by # traces\n",
      "fitness:0.9627755321065499, prec:0.7582726896873498, gen:0.8983352018347355, simp:0.6727014673587354, weighted by # traces\n",
      "fitness:0.9573429476971126, prec:0.659217711660843, gen:0.8855528062431894, simp:0.5799521772285244, weighted by # traces\n",
      "fitness:0.9627420024591559, prec:0.7514082452572264, gen:0.893217774820896, simp:0.6650003864846545, weighted by # traces\n"
     ]
    },
    {
     "data": {
      "image/png": "[encoded data removed]",
      "text/plain": [
       "<Figure size 432x288 with 1 Axes>"
      ]
     },
     "metadata": {
      "needs_background": "light"
     },
     "output_type": "display_data"
    },
    {
     "name": "stdout",
     "output_type": "stream",
     "text": [
      "9\n"
     ]
    },
    {
     "data": {
      "application/vnd.jupyter.widget-view+json": {
       "model_id": "7b822a9f50bc44288eccddd842e12a3a",
       "version_major": 2,
       "version_minor": 0
      },
      "text/plain": [
       "HBox(children=(IntProgress(value=0, description='parsing log, completed traces :: ', max=13087, style=Progress…"
      ]
     },
     "metadata": {},
     "output_type": "display_data"
    },
    {
     "name": "stdout",
     "output_type": "stream",
     "text": [
      "\n",
      "==================================================================================================== =READ THE XES FILElength of trace 8178 \n",
      "length of event 64227 \n",
      "number of variants : 151\n",
      "\n",
      " * size of C is 0, fitness check is skipped and cur_dpi is added to C\n",
      "\n",
      " * size of C is 0, fitness check is skipped and cur_dpi is added to C\n",
      "\n",
      " * size of C is 0, fitness check is skipped and cur_dpi is added to C\n",
      "\n",
      " * size of C is 0, fitness check is skipped and cur_dpi is added to C\n",
      "\n",
      " * size of C is 0, fitness check is skipped and cur_dpi is added to C\n",
      "\n",
      " * size of C is 0, fitness check is skipped and cur_dpi is added to C\n",
      "\n",
      " * size of C is 0, fitness check is skipped and cur_dpi is added to C\n",
      "\n",
      " * size of C is 0, fitness check is skipped and cur_dpi is added to C\n",
      "fitness:0.9988571092934384, prec:0.7023158814875323, gen:0.9472580980837374, simp:0.7930953506087113, weighted by # traces\n",
      "fitness:0.9627567144069277, prec:0.7589192281644113, gen:0.8979479453051418, simp:0.6726838977012715, weighted by # traces\n",
      "fitness:0.9571519104825756, prec:0.6572210796207332, gen:0.8833199133946544, simp:0.5797664395173099, weighted by # traces\n",
      "fitness:0.9626906433855368, prec:0.7537775973180686, gen:0.8935863468448657, simp:0.6662765339366948, weighted by # traces\n"
     ]
    },
    {
     "data": {
      "image/png": "[encoded data removed]",
      "text/plain": [
       "<Figure size 432x288 with 1 Axes>"
      ]
     },
     "metadata": {
      "needs_background": "light"
     },
     "output_type": "display_data"
    },
    {
     "name": "stdout",
     "output_type": "stream",
     "text": [
      "10\n"
     ]
    },
    {
     "data": {
      "application/vnd.jupyter.widget-view+json": {
       "model_id": "1cfa4ab4db1c472e9475633b452e79b2",
       "version_major": 2,
       "version_minor": 0
      },
      "text/plain": [
       "HBox(children=(IntProgress(value=0, description='parsing log, completed traces :: ', max=13087, style=Progress…"
      ]
     },
     "metadata": {},
     "output_type": "display_data"
    },
    {
     "name": "stdout",
     "output_type": "stream",
     "text": [
      "\n",
      "==================================================================================================== =READ THE XES FILElength of trace 8178 \n",
      "length of event 64227 \n",
      "number of variants : 151\n",
      "\n",
      " * size of C is 0, fitness check is skipped and cur_dpi is added to C\n",
      "\n",
      " * size of C is 0, fitness check is skipped and cur_dpi is added to C\n",
      "\n",
      " * size of C is 0, fitness check is skipped and cur_dpi is added to C\n",
      "\n",
      " * size of C is 0, fitness check is skipped and cur_dpi is added to C\n",
      "\n",
      " * size of C is 0, fitness check is skipped and cur_dpi is added to C\n",
      "\n",
      " * size of C is 0, fitness check is skipped and cur_dpi is added to C\n",
      "\n",
      " * size of C is 0, fitness check is skipped and cur_dpi is added to C\n",
      "\n",
      " * size of C is 0, fitness check is skipped and cur_dpi is added to C\n",
      "\n",
      " * size of C is 0, fitness check is skipped and cur_dpi is added to C\n",
      "fitness:0.9990394371406126, prec:0.7035608338179306, gen:0.9454657887251312, simp:0.793449133083975, weighted by # traces\n",
      "fitness:0.9579690750547412, prec:0.7773492801299782, gen:0.8909971817315372, simp:0.727341736648063, weighted by # traces\n",
      "fitness:0.9585048357812325, prec:0.6403714989821689, gen:0.8772370148433198, simp:0.5963377877762638, weighted by # traces\n",
      "fitness:0.9579045662147095, prec:0.7727420316149795, gen:0.8865471905867095, simp:0.7208095040235899, weighted by # traces\n"
     ]
    },
    {
     "data": {
      "image/png": "[encoded data removed]",
      "text/plain": [
       "<Figure size 432x288 with 1 Axes>"
      ]
     },
     "metadata": {
      "needs_background": "light"
     },
     "output_type": "display_data"
    },
    {
     "name": "stdout",
     "output_type": "stream",
     "text": [
      "11\n"
     ]
    },
    {
     "data": {
      "application/vnd.jupyter.widget-view+json": {
       "model_id": "e9e54e1ad80c4912b5cf835317fb44b4",
       "version_major": 2,
       "version_minor": 0
      },
      "text/plain": [
       "HBox(children=(IntProgress(value=0, description='parsing log, completed traces :: ', max=13087, style=Progress…"
      ]
     },
     "metadata": {},
     "output_type": "display_data"
    },
    {
     "name": "stdout",
     "output_type": "stream",
     "text": [
      "\n",
      "==================================================================================================== =READ THE XES FILElength of trace 8178 \n",
      "length of event 64227 \n",
      "number of variants : 151\n",
      "\n",
      " * size of C is 0, fitness check is skipped and cur_dpi is added to C\n",
      "\n",
      " * size of C is 0, fitness check is skipped and cur_dpi is added to C\n",
      "\n",
      " * size of C is 0, fitness check is skipped and cur_dpi is added to C\n",
      "\n",
      " * size of C is 0, fitness check is skipped and cur_dpi is added to C\n",
      "\n",
      " * size of C is 0, fitness check is skipped and cur_dpi is added to C\n",
      "\n",
      " * size of C is 0, fitness check is skipped and cur_dpi is added to C\n",
      "\n",
      " * size of C is 0, fitness check is skipped and cur_dpi is added to C\n",
      "\n",
      " * size of C is 0, fitness check is skipped and cur_dpi is added to C\n",
      "\n",
      " * size of C is 0, fitness check is skipped and cur_dpi is added to C\n",
      "\n",
      " * size of C is 0, fitness check is skipped and cur_dpi is added to C\n",
      "fitness:0.9992463602807969, prec:0.7027708628292711, gen:0.9448661597309067, simp:0.7935521422613943, weighted by # traces\n",
      "fitness:0.9579690750547412, prec:0.7790494783360857, gen:0.8925824428976413, simp:0.7303092014930092, weighted by # traces\n",
      "fitness:0.9568547602779074, prec:0.6629005187945161, gen:0.8905478545812422, simp:0.5943416847078795, weighted by # traces\n",
      "fitness:0.9579045662147095, prec:0.7860214950996183, gen:0.887645432752593, simp:0.7293806996820931, weighted by # traces\n"
     ]
    },
    {
     "data": {
      "image/png": "[encoded data removed]",
      "text/plain": [
       "<Figure size 432x288 with 1 Axes>"
      ]
     },
     "metadata": {
      "needs_background": "light"
     },
     "output_type": "display_data"
    },
    {
     "name": "stdout",
     "output_type": "stream",
     "text": [
      "12\n"
     ]
    },
    {
     "data": {
      "application/vnd.jupyter.widget-view+json": {
       "model_id": "71051a5278e54fcfadb841dd2289df16",
       "version_major": 2,
       "version_minor": 0
      },
      "text/plain": [
       "HBox(children=(IntProgress(value=0, description='parsing log, completed traces :: ', max=13087, style=Progress…"
      ]
     },
     "metadata": {},
     "output_type": "display_data"
    },
    {
     "name": "stdout",
     "output_type": "stream",
     "text": [
      "\n",
      "==================================================================================================== =READ THE XES FILElength of trace 8178 \n",
      "length of event 64227 \n",
      "number of variants : 151\n",
      "\n",
      " * size of C is 0, fitness check is skipped and cur_dpi is added to C\n",
      "\n",
      " * size of C is 0, fitness check is skipped and cur_dpi is added to C\n",
      "\n",
      " * size of C is 0, fitness check is skipped and cur_dpi is added to C\n",
      "\n",
      " * size of C is 0, fitness check is skipped and cur_dpi is added to C\n",
      "\n",
      " * size of C is 0, fitness check is skipped and cur_dpi is added to C\n",
      "\n",
      " * size of C is 0, fitness check is skipped and cur_dpi is added to C\n",
      "\n",
      " * size of C is 0, fitness check is skipped and cur_dpi is added to C\n",
      "\n",
      " * size of C is 0, fitness check is skipped and cur_dpi is added to C\n",
      "\n",
      " * size of C is 0, fitness check is skipped and cur_dpi is added to C\n",
      "\n",
      " * size of C is 0, fitness check is skipped and cur_dpi is added to C\n",
      "\n",
      " * size of C is 0, fitness check is skipped and cur_dpi is added to C\n",
      "fitness:0.9993619192877883, prec:0.7030105515288563, gen:0.9445017258835343, simp:0.7939512523761119, weighted by # traces\n",
      "fitness:0.9996605079573223, prec:0.829435761440758, gen:0.944050469356732, simp:0.7761980008814419, weighted by # traces\n",
      "fitness:0.9569173891517293, prec:0.6607825224414526, gen:0.8322540555691529, simp:0.6082689504358924, weighted by # traces\n",
      "fitness:0.9579045662147095, prec:0.7877495307065966, gen:0.888073404637808, simp:0.7298262517359396, weighted by # traces\n"
     ]
    },
    {
     "data": {
      "image/png": "[encoded data removed]",
      "text/plain": [
       "<Figure size 432x288 with 1 Axes>"
      ]
     },
     "metadata": {
      "needs_background": "light"
     },
     "output_type": "display_data"
    },
    {
     "name": "stdout",
     "output_type": "stream",
     "text": [
      "13\n"
     ]
    },
    {
     "data": {
      "application/vnd.jupyter.widget-view+json": {
       "model_id": "a1e916c80b904a62a1827d5d53ee1d51",
       "version_major": 2,
       "version_minor": 0
      },
      "text/plain": [
       "HBox(children=(IntProgress(value=0, description='parsing log, completed traces :: ', max=13087, style=Progress…"
      ]
     },
     "metadata": {},
     "output_type": "display_data"
    },
    {
     "name": "stdout",
     "output_type": "stream",
     "text": [
      "\n",
      "==================================================================================================== =READ THE XES FILElength of trace 8178 \n",
      "length of event 64227 \n",
      "number of variants : 151\n",
      "\n",
      " * size of C is 0, fitness check is skipped and cur_dpi is added to C\n",
      "\n",
      " * size of C is 0, fitness check is skipped and cur_dpi is added to C\n",
      "\n",
      " * size of C is 0, fitness check is skipped and cur_dpi is added to C\n",
      "\n",
      " * size of C is 0, fitness check is skipped and cur_dpi is added to C\n",
      "\n",
      " * size of C is 0, fitness check is skipped and cur_dpi is added to C\n",
      "\n",
      " * size of C is 0, fitness check is skipped and cur_dpi is added to C\n",
      "\n",
      " * size of C is 0, fitness check is skipped and cur_dpi is added to C\n",
      "\n",
      " * size of C is 0, fitness check is skipped and cur_dpi is added to C\n",
      "\n",
      " * size of C is 0, fitness check is skipped and cur_dpi is added to C\n",
      "\n",
      " * size of C is 0, fitness check is skipped and cur_dpi is added to C\n",
      "\n",
      " * size of C is 0, fitness check is skipped and cur_dpi is added to C\n",
      "\n",
      " * size of C is 0, fitness check is skipped and cur_dpi is added to C\n",
      "fitness:0.999397908119144, prec:0.702382290540152, gen:0.9441575928754481, simp:0.7941527983689315, weighted by # traces\n",
      "fitness:0.9579690750547412, prec:0.7966327855310029, gen:0.8931987430448249, simp:0.7343852735946306, weighted by # traces\n",
      "fitness:0.9569491204683083, prec:0.6545713204491398, gen:0.8261071857938657, simp:0.6084807146245679, weighted by # traces\n",
      "fitness:0.9579611109788709, prec:0.7867230029371449, gen:0.8882004755291141, simp:0.7303017810665616, weighted by # traces\n"
     ]
    },
    {
     "data": {
      "image/png": "[encoded data removed]",
      "text/plain": [
       "<Figure size 432x288 with 1 Axes>"
      ]
     },
     "metadata": {
      "needs_background": "light"
     },
     "output_type": "display_data"
    },
    {
     "name": "stdout",
     "output_type": "stream",
     "text": [
      "14\n"
     ]
    },
    {
     "data": {
      "application/vnd.jupyter.widget-view+json": {
       "model_id": "df67452eab6346f19a2263b2727aa010",
       "version_major": 2,
       "version_minor": 0
      },
      "text/plain": [
       "HBox(children=(IntProgress(value=0, description='parsing log, completed traces :: ', max=13087, style=Progress…"
      ]
     },
     "metadata": {},
     "output_type": "display_data"
    },
    {
     "name": "stdout",
     "output_type": "stream",
     "text": [
      "\n",
      "==================================================================================================== =READ THE XES FILElength of trace 8178 \n",
      "length of event 64227 \n",
      "number of variants : 151\n",
      "\n",
      " * size of C is 0, fitness check is skipped and cur_dpi is added to C\n",
      "\n",
      " * size of C is 0, fitness check is skipped and cur_dpi is added to C\n",
      "\n",
      " * size of C is 0, fitness check is skipped and cur_dpi is added to C\n",
      "\n",
      " * size of C is 0, fitness check is skipped and cur_dpi is added to C\n",
      "\n",
      " * size of C is 0, fitness check is skipped and cur_dpi is added to C\n",
      "\n",
      " * size of C is 0, fitness check is skipped and cur_dpi is added to C\n",
      "\n",
      " * size of C is 0, fitness check is skipped and cur_dpi is added to C\n",
      "\n",
      " * size of C is 0, fitness check is skipped and cur_dpi is added to C\n",
      "\n",
      " * size of C is 0, fitness check is skipped and cur_dpi is added to C\n",
      "\n",
      " * size of C is 0, fitness check is skipped and cur_dpi is added to C\n",
      "\n",
      " * size of C is 0, fitness check is skipped and cur_dpi is added to C\n",
      "\n",
      " * size of C is 0, fitness check is skipped and cur_dpi is added to C\n",
      "\n",
      " * size of C is 0, fitness check is skipped and cur_dpi is added to C\n",
      "fitness:0.9994880485257852, prec:0.7023545616715391, gen:0.9437683059997697, simp:0.7945050964518237, weighted by # traces\n",
      "fitness:0.9996690013753771, prec:0.8457665080517666, gen:0.9453138517993493, simp:0.7802606108691352, weighted by # traces\n",
      "fitness:0.9576124103342397, prec:0.628457224471155, gen:0.8335752675763827, simp:0.60989378544302, weighted by # traces\n",
      "fitness:0.9578119402066159, prec:0.7841769504475068, gen:0.8893229046361472, simp:0.7327399718295478, weighted by # traces\n"
     ]
    },
    {
     "data": {
      "image/png": "[encoded data removed]",
      "text/plain": [
       "<Figure size 432x288 with 1 Axes>"
      ]
     },
     "metadata": {
      "needs_background": "light"
     },
     "output_type": "display_data"
    },
    {
     "name": "stdout",
     "output_type": "stream",
     "text": [
      "15\n"
     ]
    },
    {
     "data": {
      "application/vnd.jupyter.widget-view+json": {
       "model_id": "0b55d4a4a98c442f9b0a3d8fff6d4ace",
       "version_major": 2,
       "version_minor": 0
      },
      "text/plain": [
       "HBox(children=(IntProgress(value=0, description='parsing log, completed traces :: ', max=13087, style=Progress…"
      ]
     },
     "metadata": {},
     "output_type": "display_data"
    },
    {
     "name": "stdout",
     "output_type": "stream",
     "text": [
      "\n",
      "==================================================================================================== =READ THE XES FILElength of trace 8178 \n",
      "length of event 64227 \n",
      "number of variants : 151\n",
      "\n",
      " * size of C is 0, fitness check is skipped and cur_dpi is added to C\n",
      "\n",
      " * size of C is 0, fitness check is skipped and cur_dpi is added to C\n",
      "\n",
      " * size of C is 0, fitness check is skipped and cur_dpi is added to C\n",
      "\n",
      " * size of C is 0, fitness check is skipped and cur_dpi is added to C\n",
      "\n",
      " * size of C is 0, fitness check is skipped and cur_dpi is added to C\n",
      "\n",
      " * size of C is 0, fitness check is skipped and cur_dpi is added to C\n",
      "\n",
      " * size of C is 0, fitness check is skipped and cur_dpi is added to C\n",
      "\n",
      " * size of C is 0, fitness check is skipped and cur_dpi is added to C\n",
      "\n",
      " * size of C is 0, fitness check is skipped and cur_dpi is added to C\n",
      "\n",
      " * size of C is 0, fitness check is skipped and cur_dpi is added to C\n",
      "\n",
      " * size of C is 0, fitness check is skipped and cur_dpi is added to C\n",
      "\n",
      " * size of C is 0, fitness check is skipped and cur_dpi is added to C\n",
      "\n",
      " * size of C is 0, fitness check is skipped and cur_dpi is added to C\n",
      "\n",
      " * size of C is 0, fitness check is skipped and cur_dpi is added to C\n",
      "fitness:0.9996037269377765, prec:0.7023966584934853, gen:0.9425519595034071, simp:0.7949242870558376, weighted by # traces\n",
      "fitness:0.9996690013753771, prec:0.8527306735866129, gen:0.9469519235907079, simp:0.7833372536074239, weighted by # traces\n",
      "fitness:0.9576839672895568, prec:0.6316124552747232, gen:0.8352868634751981, simp:0.6109017152776537, weighted by # traces\n",
      "fitness:0.95813810645937, prec:0.7901106017734696, gen:0.8878227544199243, simp:0.7311858575186577, weighted by # traces\n"
     ]
    },
    {
     "data": {
      "image/png": "[encoded data removed]",
      "text/plain": [
       "<Figure size 432x288 with 1 Axes>"
      ]
     },
     "metadata": {
      "needs_background": "light"
     },
     "output_type": "display_data"
    },
    {
     "name": "stdout",
     "output_type": "stream",
     "text": [
      "16\n"
     ]
    },
    {
     "data": {
      "application/vnd.jupyter.widget-view+json": {
       "model_id": "111ecf70a7bc4129957782bc80e76eb1",
       "version_major": 2,
       "version_minor": 0
      },
      "text/plain": [
       "HBox(children=(IntProgress(value=0, description='parsing log, completed traces :: ', max=13087, style=Progress…"
      ]
     },
     "metadata": {},
     "output_type": "display_data"
    },
    {
     "name": "stdout",
     "output_type": "stream",
     "text": [
      "\n",
      "==================================================================================================== =READ THE XES FILElength of trace 8178 \n",
      "length of event 64227 \n",
      "number of variants : 151\n",
      "\n",
      " * size of C is 0, fitness check is skipped and cur_dpi is added to C\n",
      "\n",
      " * size of C is 0, fitness check is skipped and cur_dpi is added to C\n",
      "\n",
      " * size of C is 0, fitness check is skipped and cur_dpi is added to C\n",
      "\n",
      " * size of C is 0, fitness check is skipped and cur_dpi is added to C\n",
      "\n",
      " * size of C is 0, fitness check is skipped and cur_dpi is added to C\n",
      "\n",
      " * size of C is 0, fitness check is skipped and cur_dpi is added to C\n",
      "\n",
      " * size of C is 0, fitness check is skipped and cur_dpi is added to C\n",
      "\n",
      " * size of C is 0, fitness check is skipped and cur_dpi is added to C\n",
      "\n",
      " * size of C is 0, fitness check is skipped and cur_dpi is added to C\n",
      "\n",
      " * size of C is 0, fitness check is skipped and cur_dpi is added to C\n",
      "\n",
      " * size of C is 0, fitness check is skipped and cur_dpi is added to C\n",
      "\n",
      " * size of C is 0, fitness check is skipped and cur_dpi is added to C\n",
      "\n",
      " * size of C is 0, fitness check is skipped and cur_dpi is added to C\n",
      "\n",
      " * size of C is 0, fitness check is skipped and cur_dpi is added to C\n",
      "\n",
      " * size of C is 0, fitness check is skipped and cur_dpi is added to C\n",
      "fitness:0.9997550611727795, prec:0.7027470960918081, gen:0.9420466082842752, simp:0.7953636354673348, weighted by # traces\n",
      "fitness:0.999669001375377, prec:0.854121203567886, gen:0.9694496144838167, simp:0.8826747256004819, weighted by # traces\n",
      "fitness:0.9576884728321948, prec:0.6257389692718811, gen:0.8282093122968591, simp:0.6113715823506107, weighted by # traces\n",
      "fitness:0.9998129934218704, prec:0.8384928030671968, gen:0.9388039483535883, simp:0.7767675344096499, weighted by # traces\n"
     ]
    },
    {
     "data": {
      "image/png": "[encoded data removed]",
      "text/plain": [
       "<Figure size 432x288 with 1 Axes>"
      ]
     },
     "metadata": {
      "needs_background": "light"
     },
     "output_type": "display_data"
    },
    {
     "name": "stdout",
     "output_type": "stream",
     "text": [
      "17\n"
     ]
    },
    {
     "data": {
      "application/vnd.jupyter.widget-view+json": {
       "model_id": "1679d519c2744ee08759a6ed6220dd6a",
       "version_major": 2,
       "version_minor": 0
      },
      "text/plain": [
       "HBox(children=(IntProgress(value=0, description='parsing log, completed traces :: ', max=13087, style=Progress…"
      ]
     },
     "metadata": {},
     "output_type": "display_data"
    },
    {
     "name": "stdout",
     "output_type": "stream",
     "text": [
      "\n",
      "==================================================================================================== =READ THE XES FILElength of trace 8178 \n",
      "length of event 64227 \n",
      "number of variants : 151\n",
      "\n",
      " * size of C is 0, fitness check is skipped and cur_dpi is added to C\n",
      "\n",
      " * size of C is 0, fitness check is skipped and cur_dpi is added to C\n",
      "\n",
      " * size of C is 0, fitness check is skipped and cur_dpi is added to C\n",
      "\n",
      " * size of C is 0, fitness check is skipped and cur_dpi is added to C\n",
      "\n",
      " * size of C is 0, fitness check is skipped and cur_dpi is added to C\n",
      "\n",
      " * size of C is 0, fitness check is skipped and cur_dpi is added to C\n",
      "\n",
      " * size of C is 0, fitness check is skipped and cur_dpi is added to C\n",
      "\n",
      " * size of C is 0, fitness check is skipped and cur_dpi is added to C\n",
      "\n",
      " * size of C is 0, fitness check is skipped and cur_dpi is added to C\n",
      "\n",
      " * size of C is 0, fitness check is skipped and cur_dpi is added to C\n",
      "\n",
      " * size of C is 0, fitness check is skipped and cur_dpi is added to C\n",
      "\n",
      " * size of C is 0, fitness check is skipped and cur_dpi is added to C\n",
      "\n",
      " * size of C is 0, fitness check is skipped and cur_dpi is added to C\n",
      "\n",
      " * size of C is 0, fitness check is skipped and cur_dpi is added to C\n",
      "\n",
      " * size of C is 0, fitness check is skipped and cur_dpi is added to C\n",
      "\n",
      " * size of C is 0, fitness check is skipped and cur_dpi is added to C\n",
      "fitness:0.9997844947311357, prec:0.7027968149898065, gen:0.9415382164283789, simp:0.7954887232844863, weighted by # traces\n",
      "fitness:0.9997276054932228, prec:0.8610853691027324, gen:0.9709528126283138, simp:0.8857145405647144, weighted by # traces\n",
      "fitness:0.9577506663328013, prec:0.626439557499885, gen:0.8284167220140068, simp:0.6117305958358119, weighted by # traces\n",
      "fitness:0.9993559011102264, prec:0.7535683003796286, gen:0.928695704513849, simp:0.7736158313682766, weighted by # traces\n"
     ]
    },
    {
     "data": {
      "image/png": "[encoded data removed]",
      "text/plain": [
       "<Figure size 432x288 with 1 Axes>"
      ]
     },
     "metadata": {
      "needs_background": "light"
     },
     "output_type": "display_data"
    },
    {
     "name": "stdout",
     "output_type": "stream",
     "text": [
      "18\n"
     ]
    },
    {
     "data": {
      "application/vnd.jupyter.widget-view+json": {
       "model_id": "15b7afe545d34dfdbe8ee40e56aa64d7",
       "version_major": 2,
       "version_minor": 0
      },
      "text/plain": [
       "HBox(children=(IntProgress(value=0, description='parsing log, completed traces :: ', max=13087, style=Progress…"
      ]
     },
     "metadata": {},
     "output_type": "display_data"
    },
    {
     "name": "stdout",
     "output_type": "stream",
     "text": [
      "\n",
      "==================================================================================================== =READ THE XES FILElength of trace 8178 \n",
      "length of event 64227 \n",
      "number of variants : 151\n",
      "\n",
      " * size of C is 0, fitness check is skipped and cur_dpi is added to C\n",
      "\n",
      " * size of C is 0, fitness check is skipped and cur_dpi is added to C\n",
      "\n",
      " * size of C is 0, fitness check is skipped and cur_dpi is added to C\n",
      "\n",
      " * size of C is 0, fitness check is skipped and cur_dpi is added to C\n",
      "\n",
      " * size of C is 0, fitness check is skipped and cur_dpi is added to C\n",
      "\n",
      " * size of C is 0, fitness check is skipped and cur_dpi is added to C\n",
      "\n",
      " * size of C is 0, fitness check is skipped and cur_dpi is added to C\n",
      "\n",
      " * size of C is 0, fitness check is skipped and cur_dpi is added to C\n",
      "\n",
      " * size of C is 0, fitness check is skipped and cur_dpi is added to C\n",
      "\n",
      " * size of C is 0, fitness check is skipped and cur_dpi is added to C\n",
      "\n",
      " * size of C is 0, fitness check is skipped and cur_dpi is added to C\n",
      "\n",
      " * size of C is 0, fitness check is skipped and cur_dpi is added to C\n",
      "\n",
      " * size of C is 0, fitness check is skipped and cur_dpi is added to C\n",
      "\n",
      " * size of C is 0, fitness check is skipped and cur_dpi is added to C\n",
      "\n",
      " * size of C is 0, fitness check is skipped and cur_dpi is added to C\n",
      "\n",
      " * size of C is 0, fitness check is skipped and cur_dpi is added to C\n",
      "\n",
      " * size of C is 0, fitness check is skipped and cur_dpi is added to C\n",
      "fitness:0.9997733236718845, prec:0.7031571708376735, gen:0.9413049850388607, simp:0.7955934406033563, weighted by # traces\n",
      "fitness:0.999669001375377, prec:0.8610853691027324, gen:0.9710876862751754, simp:0.8857513683387707, weighted by # traces\n",
      "fitness:0.9972213063594153, prec:0.6561415850618623, gen:0.8699314024281356, simp:0.6290316647966865, weighted by # traces\n",
      "fitness:0.9582158035012275, prec:0.8047622975840587, gen:0.8914866737101824, simp:0.7431374423678356, weighted by # traces\n"
     ]
    },
    {
     "data": {
      "image/png": "[encoded data removed]",
      "text/plain": [
       "<Figure size 432x288 with 1 Axes>"
      ]
     },
     "metadata": {
      "needs_background": "light"
     },
     "output_type": "display_data"
    },
    {
     "name": "stdout",
     "output_type": "stream",
     "text": [
      "19\n"
     ]
    },
    {
     "data": {
      "application/vnd.jupyter.widget-view+json": {
       "model_id": "8050416ddd0543149d4be6b0d2e60dcd",
       "version_major": 2,
       "version_minor": 0
      },
      "text/plain": [
       "HBox(children=(IntProgress(value=0, description='parsing log, completed traces :: ', max=13087, style=Progress…"
      ]
     },
     "metadata": {},
     "output_type": "display_data"
    },
    {
     "name": "stdout",
     "output_type": "stream",
     "text": [
      "\n",
      "==================================================================================================== =READ THE XES FILElength of trace 8178 \n",
      "length of event 64227 \n",
      "number of variants : 151\n",
      "\n",
      " * size of C is 0, fitness check is skipped and cur_dpi is added to C\n",
      "\n",
      " * size of C is 0, fitness check is skipped and cur_dpi is added to C\n",
      "\n",
      " * size of C is 0, fitness check is skipped and cur_dpi is added to C\n",
      "\n",
      " * size of C is 0, fitness check is skipped and cur_dpi is added to C\n",
      "\n",
      " * size of C is 0, fitness check is skipped and cur_dpi is added to C\n",
      "\n",
      " * size of C is 0, fitness check is skipped and cur_dpi is added to C\n",
      "\n",
      " * size of C is 0, fitness check is skipped and cur_dpi is added to C\n",
      "\n",
      " * size of C is 0, fitness check is skipped and cur_dpi is added to C\n",
      "\n",
      " * size of C is 0, fitness check is skipped and cur_dpi is added to C\n",
      "\n",
      " * size of C is 0, fitness check is skipped and cur_dpi is added to C\n",
      "\n",
      " * size of C is 0, fitness check is skipped and cur_dpi is added to C\n",
      "\n",
      " * size of C is 0, fitness check is skipped and cur_dpi is added to C\n",
      "\n",
      " * size of C is 0, fitness check is skipped and cur_dpi is added to C\n",
      "\n",
      " * size of C is 0, fitness check is skipped and cur_dpi is added to C\n",
      "\n",
      " * size of C is 0, fitness check is skipped and cur_dpi is added to C\n",
      "\n",
      " * size of C is 0, fitness check is skipped and cur_dpi is added to C\n",
      "\n",
      " * size of C is 0, fitness check is skipped and cur_dpi is added to C\n",
      "\n",
      " * size of C is 0, fitness check is skipped and cur_dpi is added to C\n",
      "fitness:0.9998189519386368, prec:0.7032227156970793, gen:0.9410566830917251, simp:0.7957309042502091, weighted by # traces\n",
      "fitness:0.9996430694243875, prec:0.861229398632187, gen:0.9710621236483842, simp:0.8857145405647144, weighted by # traces\n",
      "fitness:0.9971816453386967, prec:0.666148288559426, gen:0.8611519608280862, simp:0.6611916140328014, weighted by # traces\n",
      "fitness:0.9582158035012275, prec:0.8041892512118092, gen:0.8903617840727954, simp:0.7445401779885686, weighted by # traces\n"
     ]
    },
    {
     "data": {
      "image/png": "[encoded data removed]",
      "text/plain": [
       "<Figure size 432x288 with 1 Axes>"
      ]
     },
     "metadata": {
      "needs_background": "light"
     },
     "output_type": "display_data"
    },
    {
     "name": "stdout",
     "output_type": "stream",
     "text": [
      "20\n"
     ]
    },
    {
     "data": {
      "application/vnd.jupyter.widget-view+json": {
       "model_id": "d6401bc9f57e4600a61867b8d593ee4d",
       "version_major": 2,
       "version_minor": 0
      },
      "text/plain": [
       "HBox(children=(IntProgress(value=0, description='parsing log, completed traces :: ', max=13087, style=Progress…"
      ]
     },
     "metadata": {},
     "output_type": "display_data"
    },
    {
     "name": "stdout",
     "output_type": "stream",
     "text": [
      "\n",
      "==================================================================================================== =READ THE XES FILElength of trace 8178 \n",
      "length of event 64227 \n",
      "number of variants : 151\n",
      "\n",
      " * size of C is 0, fitness check is skipped and cur_dpi is added to C\n",
      "\n",
      " * size of C is 0, fitness check is skipped and cur_dpi is added to C\n",
      "\n",
      " * size of C is 0, fitness check is skipped and cur_dpi is added to C\n",
      "\n",
      " * size of C is 0, fitness check is skipped and cur_dpi is added to C\n",
      "\n",
      " * size of C is 0, fitness check is skipped and cur_dpi is added to C\n",
      "\n",
      " * size of C is 0, fitness check is skipped and cur_dpi is added to C\n",
      "\n",
      " * size of C is 0, fitness check is skipped and cur_dpi is added to C\n",
      "\n",
      " * size of C is 0, fitness check is skipped and cur_dpi is added to C\n",
      "\n",
      " * size of C is 0, fitness check is skipped and cur_dpi is added to C\n",
      "\n",
      " * size of C is 0, fitness check is skipped and cur_dpi is added to C\n",
      "\n",
      " * size of C is 0, fitness check is skipped and cur_dpi is added to C\n",
      "\n",
      " * size of C is 0, fitness check is skipped and cur_dpi is added to C\n",
      "\n",
      " * size of C is 0, fitness check is skipped and cur_dpi is added to C\n",
      "\n",
      " * size of C is 0, fitness check is skipped and cur_dpi is added to C\n",
      "\n",
      " * size of C is 0, fitness check is skipped and cur_dpi is added to C\n",
      "\n",
      " * size of C is 0, fitness check is skipped and cur_dpi is added to C\n",
      "\n",
      " * size of C is 0, fitness check is skipped and cur_dpi is added to C\n",
      "\n",
      " * size of C is 0, fitness check is skipped and cur_dpi is added to C\n",
      "\n",
      " * size of C is 0, fitness check is skipped and cur_dpi is added to C\n",
      "fitness:1.0, prec:0.7034294466224854, gen:0.9407355136029166, simp:0.7959507982252119, weighted by # traces\n",
      "fitness:0.999669001375377, prec:0.8610853691027324, gen:0.9710876862751754, simp:0.8857513683387707, weighted by # traces\n",
      "fitness:0.9579095691435476, prec:0.6077651145525195, gen:0.8079538068717416, simp:0.5985079069918279, weighted by # traces\n",
      "fitness:0.9582865416359856, prec:0.7978170300212848, gen:0.8880045305478849, simp:0.7428157314063413, weighted by # traces\n"
     ]
    },
    {
     "data": {
      "image/png": "[encoded data removed]",
      "text/plain": [
       "<Figure size 432x288 with 1 Axes>"
      ]
     },
     "metadata": {
      "needs_background": "light"
     },
     "output_type": "display_data"
    },
    {
     "name": "stdout",
     "output_type": "stream",
     "text": [
      "21\n"
     ]
    },
    {
     "data": {
      "application/vnd.jupyter.widget-view+json": {
       "model_id": "70e7f233907349f0a1ed12f2a48bbf19",
       "version_major": 2,
       "version_minor": 0
      },
      "text/plain": [
       "HBox(children=(IntProgress(value=0, description='parsing log, completed traces :: ', max=13087, style=Progress…"
      ]
     },
     "metadata": {},
     "output_type": "display_data"
    },
    {
     "name": "stdout",
     "output_type": "stream",
     "text": [
      "\n",
      "==================================================================================================== =READ THE XES FILElength of trace 8178 \n",
      "length of event 64227 \n",
      "number of variants : 151\n",
      "\n",
      " * size of C is 0, fitness check is skipped and cur_dpi is added to C\n",
      "\n",
      " * size of C is 0, fitness check is skipped and cur_dpi is added to C\n",
      "\n",
      " * size of C is 0, fitness check is skipped and cur_dpi is added to C\n",
      "\n",
      " * size of C is 0, fitness check is skipped and cur_dpi is added to C\n",
      "\n",
      " * size of C is 0, fitness check is skipped and cur_dpi is added to C\n",
      "\n",
      " * size of C is 0, fitness check is skipped and cur_dpi is added to C\n",
      "\n",
      " * size of C is 0, fitness check is skipped and cur_dpi is added to C\n",
      "\n",
      " * size of C is 0, fitness check is skipped and cur_dpi is added to C\n",
      "\n",
      " * size of C is 0, fitness check is skipped and cur_dpi is added to C\n",
      "\n",
      " * size of C is 0, fitness check is skipped and cur_dpi is added to C\n",
      "\n",
      " * size of C is 0, fitness check is skipped and cur_dpi is added to C\n",
      "\n",
      " * size of C is 0, fitness check is skipped and cur_dpi is added to C\n",
      "\n",
      " * size of C is 0, fitness check is skipped and cur_dpi is added to C\n",
      "\n",
      " * size of C is 0, fitness check is skipped and cur_dpi is added to C\n",
      "\n",
      " * size of C is 0, fitness check is skipped and cur_dpi is added to C\n",
      "\n",
      " * size of C is 0, fitness check is skipped and cur_dpi is added to C\n",
      "\n",
      " * size of C is 0, fitness check is skipped and cur_dpi is added to C\n",
      "\n",
      " * size of C is 0, fitness check is skipped and cur_dpi is added to C\n",
      "\n",
      " * size of C is 0, fitness check is skipped and cur_dpi is added to C\n",
      "\n",
      " * size of C is 0, fitness check is skipped and cur_dpi is added to C\n",
      "fitness:1.0, prec:0.7034294466224854, gen:0.9407355136029166, simp:0.7959507982252119, weighted by # traces\n",
      "fitness:0.9996690013753771, prec:0.8610853691027324, gen:0.9710876862751753, simp:0.8857513683387707, weighted by # traces\n",
      "fitness:0.957594093500508, prec:0.6287707711437264, gen:0.825469781277732, simp:0.6137734356758626, weighted by # traces\n",
      "fitness:0.9998599067904581, prec:0.8516492585522364, gen:0.9237580345567226, simp:0.7835236416543453, weighted by # traces\n"
     ]
    },
    {
     "data": {
      "image/png": "[encoded data removed]",
      "text/plain": [
       "<Figure size 432x288 with 1 Axes>"
      ]
     },
     "metadata": {
      "needs_background": "light"
     },
     "output_type": "display_data"
    },
    {
     "name": "stdout",
     "output_type": "stream",
     "text": [
      "22\n"
     ]
    },
    {
     "data": {
      "application/vnd.jupyter.widget-view+json": {
       "model_id": "1cc8dfc4859949c28e9bcaaacd467955",
       "version_major": 2,
       "version_minor": 0
      },
      "text/plain": [
       "HBox(children=(IntProgress(value=0, description='parsing log, completed traces :: ', max=13087, style=Progress…"
      ]
     },
     "metadata": {},
     "output_type": "display_data"
    },
    {
     "name": "stdout",
     "output_type": "stream",
     "text": [
      "\n",
      "==================================================================================================== =READ THE XES FILElength of trace 8178 \n",
      "length of event 64227 \n",
      "number of variants : 151\n",
      "\n",
      " * size of C is 0, fitness check is skipped and cur_dpi is added to C\n",
      "\n",
      " * size of C is 0, fitness check is skipped and cur_dpi is added to C\n",
      "\n",
      " * size of C is 0, fitness check is skipped and cur_dpi is added to C\n",
      "\n",
      " * size of C is 0, fitness check is skipped and cur_dpi is added to C\n",
      "\n",
      " * size of C is 0, fitness check is skipped and cur_dpi is added to C\n",
      "\n",
      " * size of C is 0, fitness check is skipped and cur_dpi is added to C\n",
      "\n",
      " * size of C is 0, fitness check is skipped and cur_dpi is added to C\n",
      "\n",
      " * size of C is 0, fitness check is skipped and cur_dpi is added to C\n",
      "\n",
      " * size of C is 0, fitness check is skipped and cur_dpi is added to C\n",
      "\n",
      " * size of C is 0, fitness check is skipped and cur_dpi is added to C\n",
      "\n",
      " * size of C is 0, fitness check is skipped and cur_dpi is added to C\n",
      "\n",
      " * size of C is 0, fitness check is skipped and cur_dpi is added to C\n",
      "\n",
      " * size of C is 0, fitness check is skipped and cur_dpi is added to C\n",
      "\n",
      " * size of C is 0, fitness check is skipped and cur_dpi is added to C\n",
      "\n",
      " * size of C is 0, fitness check is skipped and cur_dpi is added to C\n",
      "\n",
      " * size of C is 0, fitness check is skipped and cur_dpi is added to C\n",
      "\n",
      " * size of C is 0, fitness check is skipped and cur_dpi is added to C\n",
      "\n",
      " * size of C is 0, fitness check is skipped and cur_dpi is added to C\n",
      "\n",
      " * size of C is 0, fitness check is skipped and cur_dpi is added to C\n",
      "\n",
      " * size of C is 0, fitness check is skipped and cur_dpi is added to C\n",
      "fitness:1.0, prec:0.7034294466224854, gen:0.9407355136029166, simp:0.7959507982252119, weighted by # traces\n",
      "fitness:0.9996690013753771, prec:0.8610853691027324, gen:0.9710876862751753, simp:0.8857513683387708, weighted by # traces\n",
      "fitness:0.9573708070896548, prec:0.626865292986073, gen:0.8818998121952193, simp:0.5998342575309131, weighted by # traces\n",
      "fitness:0.9583085670974191, prec:0.798563614273149, gen:0.8889996172196523, simp:0.7422655552889017, weighted by # traces\n"
     ]
    },
    {
     "data": {
      "image/png": "[encoded data removed]",
      "text/plain": [
       "<Figure size 432x288 with 1 Axes>"
      ]
     },
     "metadata": {
      "needs_background": "light"
     },
     "output_type": "display_data"
    },
    {
     "name": "stdout",
     "output_type": "stream",
     "text": [
      "23\n"
     ]
    },
    {
     "data": {
      "application/vnd.jupyter.widget-view+json": {
       "model_id": "17d03a7361444c059d8219025d0e3713",
       "version_major": 2,
       "version_minor": 0
      },
      "text/plain": [
       "HBox(children=(IntProgress(value=0, description='parsing log, completed traces :: ', max=13087, style=Progress…"
      ]
     },
     "metadata": {},
     "output_type": "display_data"
    },
    {
     "name": "stdout",
     "output_type": "stream",
     "text": [
      "\n",
      "==================================================================================================== =READ THE XES FILElength of trace 8178 \n",
      "length of event 64227 \n",
      "number of variants : 151\n",
      "\n",
      " * size of C is 0, fitness check is skipped and cur_dpi is added to C\n",
      "\n",
      " * size of C is 0, fitness check is skipped and cur_dpi is added to C\n",
      "\n",
      " * size of C is 0, fitness check is skipped and cur_dpi is added to C\n",
      "\n",
      " * size of C is 0, fitness check is skipped and cur_dpi is added to C\n",
      "\n",
      " * size of C is 0, fitness check is skipped and cur_dpi is added to C\n",
      "\n",
      " * size of C is 0, fitness check is skipped and cur_dpi is added to C\n",
      "\n",
      " * size of C is 0, fitness check is skipped and cur_dpi is added to C\n",
      "\n",
      " * size of C is 0, fitness check is skipped and cur_dpi is added to C\n",
      "\n",
      " * size of C is 0, fitness check is skipped and cur_dpi is added to C\n",
      "\n",
      " * size of C is 0, fitness check is skipped and cur_dpi is added to C\n",
      "\n",
      " * size of C is 0, fitness check is skipped and cur_dpi is added to C\n",
      "\n",
      " * size of C is 0, fitness check is skipped and cur_dpi is added to C\n",
      "\n",
      " * size of C is 0, fitness check is skipped and cur_dpi is added to C\n",
      "\n",
      " * size of C is 0, fitness check is skipped and cur_dpi is added to C\n",
      "\n",
      " * size of C is 0, fitness check is skipped and cur_dpi is added to C\n",
      "\n",
      " * size of C is 0, fitness check is skipped and cur_dpi is added to C\n",
      "\n",
      " * size of C is 0, fitness check is skipped and cur_dpi is added to C\n",
      "\n",
      " * size of C is 0, fitness check is skipped and cur_dpi is added to C\n",
      "fitness:1.0, prec:0.7028308385866496, gen:0.9410483690715974, simp:0.7953660188393779, weighted by # traces\n",
      "fitness:0.9996690013753771, prec:0.8610853691027324, gen:0.9710876862751753, simp:0.8857513683387708, weighted by # traces\n",
      "fitness:0.9971011646036563, prec:0.6373648662652941, gen:0.8984418683254457, simp:0.6423995532003351, weighted by # traces\n",
      "fitness:0.9999779745385666, prec:0.8128728875100545, gen:0.9484280195050584, simp:0.7946727468486381, weighted by # traces\n"
     ]
    },
    {
     "data": {
      "image/png": "[encoded data removed]",
      "text/plain": [
       "<Figure size 432x288 with 1 Axes>"
      ]
     },
     "metadata": {
      "needs_background": "light"
     },
     "output_type": "display_data"
    },
    {
     "name": "stdout",
     "output_type": "stream",
     "text": [
      "24\n"
     ]
    },
    {
     "data": {
      "application/vnd.jupyter.widget-view+json": {
       "model_id": "efbb50c89f1a4df98f7ddda93cab2109",
       "version_major": 2,
       "version_minor": 0
      },
      "text/plain": [
       "HBox(children=(IntProgress(value=0, description='parsing log, completed traces :: ', max=13087, style=Progress…"
      ]
     },
     "metadata": {},
     "output_type": "display_data"
    },
    {
     "name": "stdout",
     "output_type": "stream",
     "text": [
      "\n",
      "==================================================================================================== =READ THE XES FILElength of trace 8178 \n",
      "length of event 64227 \n",
      "number of variants : 151\n",
      "\n",
      " * size of C is 0, fitness check is skipped and cur_dpi is added to C\n",
      "\n",
      " * size of C is 0, fitness check is skipped and cur_dpi is added to C\n",
      "\n",
      " * size of C is 0, fitness check is skipped and cur_dpi is added to C\n",
      "\n",
      " * size of C is 0, fitness check is skipped and cur_dpi is added to C\n",
      "\n",
      " * size of C is 0, fitness check is skipped and cur_dpi is added to C\n",
      "\n",
      " * size of C is 0, fitness check is skipped and cur_dpi is added to C\n",
      "\n",
      " * size of C is 0, fitness check is skipped and cur_dpi is added to C\n",
      "\n",
      " * size of C is 0, fitness check is skipped and cur_dpi is added to C\n",
      "\n",
      " * size of C is 0, fitness check is skipped and cur_dpi is added to C\n",
      "\n",
      " * size of C is 0, fitness check is skipped and cur_dpi is added to C\n",
      "\n",
      " * size of C is 0, fitness check is skipped and cur_dpi is added to C\n",
      "\n",
      " * size of C is 0, fitness check is skipped and cur_dpi is added to C\n",
      "\n",
      " * size of C is 0, fitness check is skipped and cur_dpi is added to C\n",
      "\n",
      " * size of C is 0, fitness check is skipped and cur_dpi is added to C\n",
      "\n",
      " * size of C is 0, fitness check is skipped and cur_dpi is added to C\n",
      "\n",
      " * size of C is 0, fitness check is skipped and cur_dpi is added to C\n",
      "\n",
      " * size of C is 0, fitness check is skipped and cur_dpi is added to C\n",
      "\n",
      " * size of C is 0, fitness check is skipped and cur_dpi is added to C\n",
      "\n",
      " * size of C is 0, fitness check is skipped and cur_dpi is added to C\n",
      "\n",
      " * size of C is 0, fitness check is skipped and cur_dpi is added to C\n",
      "fitness:1.0, prec:0.7034294466224854, gen:0.9407355136029166, simp:0.7959507982252119, weighted by # traces\n",
      "fitness:0.9996690013753771, prec:0.8610853691027323, gen:0.9710876862751753, simp:0.8857513683387707, weighted by # traces\n",
      "fitness:0.9973600277025454, prec:0.665977329060424, gen:0.8597537291308707, simp:0.6663824869991972, weighted by # traces\n",
      "fitness:1.0, prec:0.8126955267640906, gen:0.9479776589919108, simp:0.7942168857334392, weighted by # traces\n"
     ]
    },
    {
     "data": {
      "image/png": "[encoded data removed]",
      "text/plain": [
       "<Figure size 432x288 with 1 Axes>"
      ]
     },
     "metadata": {
      "needs_background": "light"
     },
     "output_type": "display_data"
    },
    {
     "name": "stdout",
     "output_type": "stream",
     "text": [
      "25\n"
     ]
    },
    {
     "data": {
      "application/vnd.jupyter.widget-view+json": {
       "model_id": "df5eff60f1b645e28abcb4a1a0720877",
       "version_major": 2,
       "version_minor": 0
      },
      "text/plain": [
       "HBox(children=(IntProgress(value=0, description='parsing log, completed traces :: ', max=13087, style=Progress…"
      ]
     },
     "metadata": {},
     "output_type": "display_data"
    },
    {
     "name": "stdout",
     "output_type": "stream",
     "text": [
      "\n",
      "==================================================================================================== =READ THE XES FILElength of trace 8178 \n",
      "length of event 64227 \n",
      "number of variants : 151\n",
      "\n",
      " * size of C is 0, fitness check is skipped and cur_dpi is added to C\n",
      "\n",
      " * size of C is 0, fitness check is skipped and cur_dpi is added to C\n",
      "\n",
      " * size of C is 0, fitness check is skipped and cur_dpi is added to C\n",
      "\n",
      " * size of C is 0, fitness check is skipped and cur_dpi is added to C\n",
      "\n",
      " * size of C is 0, fitness check is skipped and cur_dpi is added to C\n",
      "\n",
      " * size of C is 0, fitness check is skipped and cur_dpi is added to C\n",
      "\n",
      " * size of C is 0, fitness check is skipped and cur_dpi is added to C\n",
      "\n",
      " * size of C is 0, fitness check is skipped and cur_dpi is added to C\n",
      "\n",
      " * size of C is 0, fitness check is skipped and cur_dpi is added to C\n",
      "\n",
      " * size of C is 0, fitness check is skipped and cur_dpi is added to C\n",
      "\n",
      " * size of C is 0, fitness check is skipped and cur_dpi is added to C\n",
      "\n",
      " * size of C is 0, fitness check is skipped and cur_dpi is added to C\n",
      "\n",
      " * size of C is 0, fitness check is skipped and cur_dpi is added to C\n",
      "\n",
      " * size of C is 0, fitness check is skipped and cur_dpi is added to C\n",
      "\n",
      " * size of C is 0, fitness check is skipped and cur_dpi is added to C\n",
      "\n",
      " * size of C is 0, fitness check is skipped and cur_dpi is added to C\n",
      "\n",
      " * size of C is 0, fitness check is skipped and cur_dpi is added to C\n",
      "\n",
      " * size of C is 0, fitness check is skipped and cur_dpi is added to C\n",
      "\n",
      " * size of C is 0, fitness check is skipped and cur_dpi is added to C\n",
      "\n",
      " * size of C is 0, fitness check is skipped and cur_dpi is added to C\n",
      "fitness:1.0, prec:0.7034294466224854, gen:0.9407355136029166, simp:0.7959507982252119, weighted by # traces\n",
      "fitness:0.9996690013753771, prec:0.8610853691027323, gen:0.9710876862751753, simp:0.8857513683387707, weighted by # traces\n",
      "fitness:0.9990426510244592, prec:0.6981624875165281, gen:0.899861795767411, simp:0.6600254986914615, weighted by # traces\n",
      "fitness:0.9582419936441895, prec:0.7991872495853524, gen:0.8880490469717841, simp:0.7408991694639844, weighted by # traces\n"
     ]
    },
    {
     "data": {
      "image/png": "[encoded data removed]",
      "text/plain": [
       "<Figure size 432x288 with 1 Axes>"
      ]
     },
     "metadata": {
      "needs_background": "light"
     },
     "output_type": "display_data"
    },
    {
     "name": "stdout",
     "output_type": "stream",
     "text": [
      "26\n"
     ]
    },
    {
     "data": {
      "application/vnd.jupyter.widget-view+json": {
       "model_id": "a7e1e7f07e0a40b5a890796ec88dd726",
       "version_major": 2,
       "version_minor": 0
      },
      "text/plain": [
       "HBox(children=(IntProgress(value=0, description='parsing log, completed traces :: ', max=13087, style=Progress…"
      ]
     },
     "metadata": {},
     "output_type": "display_data"
    },
    {
     "name": "stdout",
     "output_type": "stream",
     "text": [
      "\n",
      "==================================================================================================== =READ THE XES FILElength of trace 8178 \n",
      "length of event 64227 \n",
      "number of variants : 151\n",
      "\n",
      " * size of C is 0, fitness check is skipped and cur_dpi is added to C\n",
      "\n",
      " * size of C is 0, fitness check is skipped and cur_dpi is added to C\n",
      "\n",
      " * size of C is 0, fitness check is skipped and cur_dpi is added to C\n",
      "\n",
      " * size of C is 0, fitness check is skipped and cur_dpi is added to C\n",
      "\n",
      " * size of C is 0, fitness check is skipped and cur_dpi is added to C\n",
      "\n",
      " * size of C is 0, fitness check is skipped and cur_dpi is added to C\n",
      "\n",
      " * size of C is 0, fitness check is skipped and cur_dpi is added to C\n",
      "\n",
      " * size of C is 0, fitness check is skipped and cur_dpi is added to C\n",
      "\n",
      " * size of C is 0, fitness check is skipped and cur_dpi is added to C\n",
      "\n",
      " * size of C is 0, fitness check is skipped and cur_dpi is added to C\n",
      "\n",
      " * size of C is 0, fitness check is skipped and cur_dpi is added to C\n",
      "\n",
      " * size of C is 0, fitness check is skipped and cur_dpi is added to C\n",
      "\n",
      " * size of C is 0, fitness check is skipped and cur_dpi is added to C\n",
      "\n",
      " * size of C is 0, fitness check is skipped and cur_dpi is added to C\n",
      "\n",
      " * size of C is 0, fitness check is skipped and cur_dpi is added to C\n",
      "\n",
      " * size of C is 0, fitness check is skipped and cur_dpi is added to C\n",
      "\n",
      " * size of C is 0, fitness check is skipped and cur_dpi is added to C\n",
      "\n",
      " * size of C is 0, fitness check is skipped and cur_dpi is added to C\n",
      "\n",
      " * size of C is 0, fitness check is skipped and cur_dpi is added to C\n",
      "\n",
      " * size of C is 0, fitness check is skipped and cur_dpi is added to C\n",
      "fitness:1.0, prec:0.7034294466224854, gen:0.9407355136029166, simp:0.7959507982252119, weighted by # traces\n",
      "fitness:0.9996690013753771, prec:0.8610853691027323, gen:0.9710876862751753, simp:0.8857513683387707, weighted by # traces\n",
      "fitness:0.9578334602346783, prec:0.6283412505568644, gen:0.82418662612227, simp:0.614713303710647, weighted by # traces\n",
      "fitness:0.9583085670974191, prec:0.7995094125128213, gen:0.887166725213195, simp:0.742466070619164, weighted by # traces\n"
     ]
    },
    {
     "data": {
      "image/png": "[encoded data removed]",
      "text/plain": [
       "<Figure size 432x288 with 1 Axes>"
      ]
     },
     "metadata": {
      "needs_background": "light"
     },
     "output_type": "display_data"
    },
    {
     "name": "stdout",
     "output_type": "stream",
     "text": [
      "27\n"
     ]
    },
    {
     "data": {
      "application/vnd.jupyter.widget-view+json": {
       "model_id": "0080787944514934bc6884ad52fcea3d",
       "version_major": 2,
       "version_minor": 0
      },
      "text/plain": [
       "HBox(children=(IntProgress(value=0, description='parsing log, completed traces :: ', max=13087, style=Progress…"
      ]
     },
     "metadata": {},
     "output_type": "display_data"
    },
    {
     "name": "stdout",
     "output_type": "stream",
     "text": [
      "\n",
      "==================================================================================================== =READ THE XES FILElength of trace 8178 \n",
      "length of event 64227 \n",
      "number of variants : 151\n",
      "\n",
      " * size of C is 0, fitness check is skipped and cur_dpi is added to C\n",
      "\n",
      " * size of C is 0, fitness check is skipped and cur_dpi is added to C\n",
      "\n",
      " * size of C is 0, fitness check is skipped and cur_dpi is added to C\n",
      "\n",
      " * size of C is 0, fitness check is skipped and cur_dpi is added to C\n",
      "\n",
      " * size of C is 0, fitness check is skipped and cur_dpi is added to C\n",
      "\n",
      " * size of C is 0, fitness check is skipped and cur_dpi is added to C\n",
      "\n",
      " * size of C is 0, fitness check is skipped and cur_dpi is added to C\n",
      "\n",
      " * size of C is 0, fitness check is skipped and cur_dpi is added to C\n",
      "\n",
      " * size of C is 0, fitness check is skipped and cur_dpi is added to C\n",
      "\n",
      " * size of C is 0, fitness check is skipped and cur_dpi is added to C\n",
      "\n",
      " * size of C is 0, fitness check is skipped and cur_dpi is added to C\n",
      "\n",
      " * size of C is 0, fitness check is skipped and cur_dpi is added to C\n",
      "\n",
      " * size of C is 0, fitness check is skipped and cur_dpi is added to C\n",
      "\n",
      " * size of C is 0, fitness check is skipped and cur_dpi is added to C\n",
      "\n",
      " * size of C is 0, fitness check is skipped and cur_dpi is added to C\n",
      "\n",
      " * size of C is 0, fitness check is skipped and cur_dpi is added to C\n",
      "\n",
      " * size of C is 0, fitness check is skipped and cur_dpi is added to C\n",
      "\n",
      " * size of C is 0, fitness check is skipped and cur_dpi is added to C\n",
      "\n",
      " * size of C is 0, fitness check is skipped and cur_dpi is added to C\n",
      "\n",
      " * size of C is 0, fitness check is skipped and cur_dpi is added to C\n",
      "fitness:1.0, prec:0.7034294466224854, gen:0.9407355136029166, simp:0.7959507982252119, weighted by # traces\n",
      "fitness:0.9996690013753771, prec:0.8610853691027323, gen:0.9710876862751753, simp:0.8857513683387707, weighted by # traces\n",
      "fitness:0.9578196856102157, prec:0.6287708538496011, gen:0.8271122032167976, simp:0.615134555535939, weighted by # traces\n",
      "fitness:1.0, prec:0.8589849689276211, gen:0.9638745553911771, simp:0.8929124326174906, weighted by # traces\n"
     ]
    },
    {
     "data": {
      "image/png": "[encoded data removed]",
      "text/plain": [
       "<Figure size 432x288 with 1 Axes>"
      ]
     },
     "metadata": {
      "needs_background": "light"
     },
     "output_type": "display_data"
    },
    {
     "name": "stdout",
     "output_type": "stream",
     "text": [
      "28\n"
     ]
    },
    {
     "data": {
      "application/vnd.jupyter.widget-view+json": {
       "model_id": "c0ee05ef1d1645b686e6525cfd301d09",
       "version_major": 2,
       "version_minor": 0
      },
      "text/plain": [
       "HBox(children=(IntProgress(value=0, description='parsing log, completed traces :: ', max=13087, style=Progress…"
      ]
     },
     "metadata": {},
     "output_type": "display_data"
    },
    {
     "name": "stdout",
     "output_type": "stream",
     "text": [
      "\n",
      "==================================================================================================== =READ THE XES FILElength of trace 8178 \n",
      "length of event 64227 \n",
      "number of variants : 151\n",
      "\n",
      " * size of C is 0, fitness check is skipped and cur_dpi is added to C\n",
      "\n",
      " * size of C is 0, fitness check is skipped and cur_dpi is added to C\n",
      "\n",
      " * size of C is 0, fitness check is skipped and cur_dpi is added to C\n",
      "\n",
      " * size of C is 0, fitness check is skipped and cur_dpi is added to C\n",
      "\n",
      " * size of C is 0, fitness check is skipped and cur_dpi is added to C\n",
      "\n",
      " * size of C is 0, fitness check is skipped and cur_dpi is added to C\n",
      "\n",
      " * size of C is 0, fitness check is skipped and cur_dpi is added to C\n",
      "\n",
      " * size of C is 0, fitness check is skipped and cur_dpi is added to C\n",
      "\n",
      " * size of C is 0, fitness check is skipped and cur_dpi is added to C\n",
      "\n",
      " * size of C is 0, fitness check is skipped and cur_dpi is added to C\n",
      "\n",
      " * size of C is 0, fitness check is skipped and cur_dpi is added to C\n",
      "\n",
      " * size of C is 0, fitness check is skipped and cur_dpi is added to C\n",
      "\n",
      " * size of C is 0, fitness check is skipped and cur_dpi is added to C\n",
      "\n",
      " * size of C is 0, fitness check is skipped and cur_dpi is added to C\n",
      "\n",
      " * size of C is 0, fitness check is skipped and cur_dpi is added to C\n",
      "\n",
      " * size of C is 0, fitness check is skipped and cur_dpi is added to C\n",
      "\n",
      " * size of C is 0, fitness check is skipped and cur_dpi is added to C\n",
      "\n",
      " * size of C is 0, fitness check is skipped and cur_dpi is added to C\n",
      "\n",
      " * size of C is 0, fitness check is skipped and cur_dpi is added to C\n",
      "\n",
      " * size of C is 0, fitness check is skipped and cur_dpi is added to C\n",
      "fitness:1.0, prec:0.7034294466224854, gen:0.9407355136029166, simp:0.7959507982252119, weighted by # traces\n",
      "fitness:0.9996690013753771, prec:0.8610853691027323, gen:0.9710876862751753, simp:0.8857513683387707, weighted by # traces\n",
      "fitness:0.9577817924060636, prec:0.6266488255974395, gen:0.823476227992492, simp:0.6148221945920093, weighted by # traces\n",
      "fitness:0.9583085670974191, prec:0.7991484509478495, gen:0.8867619722998128, simp:0.7434090504351115, weighted by # traces\n"
     ]
    },
    {
     "data": {
      "image/png": "[encoded data removed]",
      "text/plain": [
       "<Figure size 432x288 with 1 Axes>"
      ]
     },
     "metadata": {
      "needs_background": "light"
     },
     "output_type": "display_data"
    },
    {
     "name": "stdout",
     "output_type": "stream",
     "text": [
      "29\n"
     ]
    },
    {
     "data": {
      "application/vnd.jupyter.widget-view+json": {
       "model_id": "03c3a6ffe60e40d4b9c7d0c3d382d998",
       "version_major": 2,
       "version_minor": 0
      },
      "text/plain": [
       "HBox(children=(IntProgress(value=0, description='parsing log, completed traces :: ', max=13087, style=Progress…"
      ]
     },
     "metadata": {},
     "output_type": "display_data"
    },
    {
     "name": "stdout",
     "output_type": "stream",
     "text": [
      "\n",
      "==================================================================================================== =READ THE XES FILElength of trace 8178 \n",
      "length of event 64227 \n",
      "number of variants : 151\n",
      "\n",
      " * size of C is 0, fitness check is skipped and cur_dpi is added to C\n",
      "\n",
      " * size of C is 0, fitness check is skipped and cur_dpi is added to C\n",
      "\n",
      " * size of C is 0, fitness check is skipped and cur_dpi is added to C\n",
      "\n",
      " * size of C is 0, fitness check is skipped and cur_dpi is added to C\n",
      "\n",
      " * size of C is 0, fitness check is skipped and cur_dpi is added to C\n",
      "\n",
      " * size of C is 0, fitness check is skipped and cur_dpi is added to C\n",
      "\n",
      " * size of C is 0, fitness check is skipped and cur_dpi is added to C\n",
      "\n",
      " * size of C is 0, fitness check is skipped and cur_dpi is added to C\n",
      "\n",
      " * size of C is 0, fitness check is skipped and cur_dpi is added to C\n",
      "\n",
      " * size of C is 0, fitness check is skipped and cur_dpi is added to C\n",
      "\n",
      " * size of C is 0, fitness check is skipped and cur_dpi is added to C\n",
      "\n",
      " * size of C is 0, fitness check is skipped and cur_dpi is added to C\n",
      "\n",
      " * size of C is 0, fitness check is skipped and cur_dpi is added to C\n",
      "\n",
      " * size of C is 0, fitness check is skipped and cur_dpi is added to C\n",
      "\n",
      " * size of C is 0, fitness check is skipped and cur_dpi is added to C\n",
      "\n",
      " * size of C is 0, fitness check is skipped and cur_dpi is added to C\n",
      "\n",
      " * size of C is 0, fitness check is skipped and cur_dpi is added to C\n",
      "\n",
      " * size of C is 0, fitness check is skipped and cur_dpi is added to C\n",
      "\n",
      " * size of C is 0, fitness check is skipped and cur_dpi is added to C\n",
      "\n",
      " * size of C is 0, fitness check is skipped and cur_dpi is added to C\n",
      "fitness:1.0, prec:0.7034294466224854, gen:0.9407355136029166, simp:0.7959507982252119, weighted by # traces\n",
      "fitness:0.9996690013753771, prec:0.8610853691027323, gen:0.9710876862751754, simp:0.8857513683387707, weighted by # traces\n",
      "fitness:0.9523095419663877, prec:0.6253478460150327, gen:0.8770065123462025, simp:0.6071740951404191, weighted by # traces\n",
      "fitness:0.9583085670974191, prec:0.8056551253431867, gen:0.8886836765996503, simp:0.7454585471719329, weighted by # traces\n"
     ]
    },
    {
     "data": {
      "image/png": "[encoded data removed]",
      "text/plain": [
       "<Figure size 432x288 with 1 Axes>"
      ]
     },
     "metadata": {
      "needs_background": "light"
     },
     "output_type": "display_data"
    }
   ],
   "source": [
    "total_result={}\n",
    "for k in range(3,30) : \n",
    "    print(k)\n",
    "    total_clustering(filename, k=k, output=output, visual=visual,w=w,  tf=tf, mcs=mcs,N=N,p=p)\n",
    "    result = total_evaluation()\n",
    "    total_result[k] = result\n",
    "    visualize_evaluation(result)"
   ]
  },
  {
   "cell_type": "code",
   "execution_count": 22,
   "metadata": {},
   "outputs": [
    {
     "ename": "ValueError",
     "evalue": "If using all scalar values, you must pass an index",
     "output_type": "error",
     "traceback": [
      "\u001b[0;31m---------------------------------------------------------------------------\u001b[0m",
      "\u001b[0;31mValueError\u001b[0m                                Traceback (most recent call last)",
      "\u001b[0;32m<ipython-input-22-947620587d08>\u001b[0m in \u001b[0;36m<module>\u001b[0;34m\u001b[0m\n\u001b[1;32m      1\u001b[0m \u001b[0;32mimport\u001b[0m \u001b[0mpandas\u001b[0m \u001b[0;32mas\u001b[0m \u001b[0mpd\u001b[0m\u001b[0;34m\u001b[0m\u001b[0;34m\u001b[0m\u001b[0m\n\u001b[0;32m----> 2\u001b[0;31m \u001b[0mpd\u001b[0m\u001b[0;34m.\u001b[0m\u001b[0mDataFrame\u001b[0m\u001b[0;34m(\u001b[0m\u001b[0mtotal_result\u001b[0m\u001b[0;34m)\u001b[0m\u001b[0;34m\u001b[0m\u001b[0;34m\u001b[0m\u001b[0m\n\u001b[0m",
      "\u001b[0;32m~/anaconda3/lib/python3.7/site-packages/pandas/core/frame.py\u001b[0m in \u001b[0;36m__init__\u001b[0;34m(self, data, index, columns, dtype, copy)\u001b[0m\n\u001b[1;32m    409\u001b[0m             )\n\u001b[1;32m    410\u001b[0m         \u001b[0;32melif\u001b[0m \u001b[0misinstance\u001b[0m\u001b[0;34m(\u001b[0m\u001b[0mdata\u001b[0m\u001b[0;34m,\u001b[0m \u001b[0mdict\u001b[0m\u001b[0;34m)\u001b[0m\u001b[0;34m:\u001b[0m\u001b[0;34m\u001b[0m\u001b[0;34m\u001b[0m\u001b[0m\n\u001b[0;32m--> 411\u001b[0;31m             \u001b[0mmgr\u001b[0m \u001b[0;34m=\u001b[0m \u001b[0minit_dict\u001b[0m\u001b[0;34m(\u001b[0m\u001b[0mdata\u001b[0m\u001b[0;34m,\u001b[0m \u001b[0mindex\u001b[0m\u001b[0;34m,\u001b[0m \u001b[0mcolumns\u001b[0m\u001b[0;34m,\u001b[0m \u001b[0mdtype\u001b[0m\u001b[0;34m=\u001b[0m\u001b[0mdtype\u001b[0m\u001b[0;34m)\u001b[0m\u001b[0;34m\u001b[0m\u001b[0;34m\u001b[0m\u001b[0m\n\u001b[0m\u001b[1;32m    412\u001b[0m         \u001b[0;32melif\u001b[0m \u001b[0misinstance\u001b[0m\u001b[0;34m(\u001b[0m\u001b[0mdata\u001b[0m\u001b[0;34m,\u001b[0m \u001b[0mma\u001b[0m\u001b[0;34m.\u001b[0m\u001b[0mMaskedArray\u001b[0m\u001b[0;34m)\u001b[0m\u001b[0;34m:\u001b[0m\u001b[0;34m\u001b[0m\u001b[0;34m\u001b[0m\u001b[0m\n\u001b[1;32m    413\u001b[0m             \u001b[0;32mimport\u001b[0m \u001b[0mnumpy\u001b[0m\u001b[0;34m.\u001b[0m\u001b[0mma\u001b[0m\u001b[0;34m.\u001b[0m\u001b[0mmrecords\u001b[0m \u001b[0;32mas\u001b[0m \u001b[0mmrecords\u001b[0m\u001b[0;34m\u001b[0m\u001b[0;34m\u001b[0m\u001b[0m\n",
      "\u001b[0;32m~/anaconda3/lib/python3.7/site-packages/pandas/core/internals/construction.py\u001b[0m in \u001b[0;36minit_dict\u001b[0;34m(data, index, columns, dtype)\u001b[0m\n\u001b[1;32m    255\u001b[0m             \u001b[0marr\u001b[0m \u001b[0;32mif\u001b[0m \u001b[0;32mnot\u001b[0m \u001b[0mis_datetime64tz_dtype\u001b[0m\u001b[0;34m(\u001b[0m\u001b[0marr\u001b[0m\u001b[0;34m)\u001b[0m \u001b[0;32melse\u001b[0m \u001b[0marr\u001b[0m\u001b[0;34m.\u001b[0m\u001b[0mcopy\u001b[0m\u001b[0;34m(\u001b[0m\u001b[0;34m)\u001b[0m \u001b[0;32mfor\u001b[0m \u001b[0marr\u001b[0m \u001b[0;32min\u001b[0m \u001b[0marrays\u001b[0m\u001b[0;34m\u001b[0m\u001b[0;34m\u001b[0m\u001b[0m\n\u001b[1;32m    256\u001b[0m         ]\n\u001b[0;32m--> 257\u001b[0;31m     \u001b[0;32mreturn\u001b[0m \u001b[0marrays_to_mgr\u001b[0m\u001b[0;34m(\u001b[0m\u001b[0marrays\u001b[0m\u001b[0;34m,\u001b[0m \u001b[0mdata_names\u001b[0m\u001b[0;34m,\u001b[0m \u001b[0mindex\u001b[0m\u001b[0;34m,\u001b[0m \u001b[0mcolumns\u001b[0m\u001b[0;34m,\u001b[0m \u001b[0mdtype\u001b[0m\u001b[0;34m=\u001b[0m\u001b[0mdtype\u001b[0m\u001b[0;34m)\u001b[0m\u001b[0;34m\u001b[0m\u001b[0;34m\u001b[0m\u001b[0m\n\u001b[0m\u001b[1;32m    258\u001b[0m \u001b[0;34m\u001b[0m\u001b[0m\n\u001b[1;32m    259\u001b[0m \u001b[0;34m\u001b[0m\u001b[0m\n",
      "\u001b[0;32m~/anaconda3/lib/python3.7/site-packages/pandas/core/internals/construction.py\u001b[0m in \u001b[0;36marrays_to_mgr\u001b[0;34m(arrays, arr_names, index, columns, dtype)\u001b[0m\n\u001b[1;32m     75\u001b[0m     \u001b[0;31m# figure out the index, if necessary\u001b[0m\u001b[0;34m\u001b[0m\u001b[0;34m\u001b[0m\u001b[0;34m\u001b[0m\u001b[0m\n\u001b[1;32m     76\u001b[0m     \u001b[0;32mif\u001b[0m \u001b[0mindex\u001b[0m \u001b[0;32mis\u001b[0m \u001b[0;32mNone\u001b[0m\u001b[0;34m:\u001b[0m\u001b[0;34m\u001b[0m\u001b[0;34m\u001b[0m\u001b[0m\n\u001b[0;32m---> 77\u001b[0;31m         \u001b[0mindex\u001b[0m \u001b[0;34m=\u001b[0m \u001b[0mextract_index\u001b[0m\u001b[0;34m(\u001b[0m\u001b[0marrays\u001b[0m\u001b[0;34m)\u001b[0m\u001b[0;34m\u001b[0m\u001b[0;34m\u001b[0m\u001b[0m\n\u001b[0m\u001b[1;32m     78\u001b[0m     \u001b[0;32melse\u001b[0m\u001b[0;34m:\u001b[0m\u001b[0;34m\u001b[0m\u001b[0;34m\u001b[0m\u001b[0m\n\u001b[1;32m     79\u001b[0m         \u001b[0mindex\u001b[0m \u001b[0;34m=\u001b[0m \u001b[0mensure_index\u001b[0m\u001b[0;34m(\u001b[0m\u001b[0mindex\u001b[0m\u001b[0;34m)\u001b[0m\u001b[0;34m\u001b[0m\u001b[0;34m\u001b[0m\u001b[0m\n",
      "\u001b[0;32m~/anaconda3/lib/python3.7/site-packages/pandas/core/internals/construction.py\u001b[0m in \u001b[0;36mextract_index\u001b[0;34m(data)\u001b[0m\n\u001b[1;32m    356\u001b[0m \u001b[0;34m\u001b[0m\u001b[0m\n\u001b[1;32m    357\u001b[0m         \u001b[0;32mif\u001b[0m \u001b[0;32mnot\u001b[0m \u001b[0mindexes\u001b[0m \u001b[0;32mand\u001b[0m \u001b[0;32mnot\u001b[0m \u001b[0mraw_lengths\u001b[0m\u001b[0;34m:\u001b[0m\u001b[0;34m\u001b[0m\u001b[0;34m\u001b[0m\u001b[0m\n\u001b[0;32m--> 358\u001b[0;31m             \u001b[0;32mraise\u001b[0m \u001b[0mValueError\u001b[0m\u001b[0;34m(\u001b[0m\u001b[0;34m\"If using all scalar values, you must pass an index\"\u001b[0m\u001b[0;34m)\u001b[0m\u001b[0;34m\u001b[0m\u001b[0;34m\u001b[0m\u001b[0m\n\u001b[0m\u001b[1;32m    359\u001b[0m \u001b[0;34m\u001b[0m\u001b[0m\n\u001b[1;32m    360\u001b[0m         \u001b[0;32mif\u001b[0m \u001b[0mhave_series\u001b[0m\u001b[0;34m:\u001b[0m\u001b[0;34m\u001b[0m\u001b[0;34m\u001b[0m\u001b[0m\n",
      "\u001b[0;31mValueError\u001b[0m: If using all scalar values, you must pass an index"
     ]
    }
   ],
   "source": [
    "import pandas as pd\n"
   ]
  },
  {
   "cell_type": "code",
   "execution_count": 23,
   "metadata": {},
   "outputs": [
    {
     "ename": "ValueError",
     "evalue": "If using all scalar values, you must pass an index",
     "output_type": "error",
     "traceback": [
      "\u001b[0;31m---------------------------------------------------------------------------\u001b[0m",
      "\u001b[0;31mValueError\u001b[0m                                Traceback (most recent call last)",
      "\u001b[0;32m<ipython-input-23-62c98a653f80>\u001b[0m in \u001b[0;36m<module>\u001b[0;34m\u001b[0m\n\u001b[0;32m----> 1\u001b[0;31m \u001b[0mpd\u001b[0m\u001b[0;34m.\u001b[0m\u001b[0mDataFrame\u001b[0m\u001b[0;34m(\u001b[0m\u001b[0mtotal_result\u001b[0m\u001b[0;34m)\u001b[0m\u001b[0;34m\u001b[0m\u001b[0;34m\u001b[0m\u001b[0m\n\u001b[0m",
      "\u001b[0;32m~/anaconda3/lib/python3.7/site-packages/pandas/core/frame.py\u001b[0m in \u001b[0;36m__init__\u001b[0;34m(self, data, index, columns, dtype, copy)\u001b[0m\n\u001b[1;32m    409\u001b[0m             )\n\u001b[1;32m    410\u001b[0m         \u001b[0;32melif\u001b[0m \u001b[0misinstance\u001b[0m\u001b[0;34m(\u001b[0m\u001b[0mdata\u001b[0m\u001b[0;34m,\u001b[0m \u001b[0mdict\u001b[0m\u001b[0;34m)\u001b[0m\u001b[0;34m:\u001b[0m\u001b[0;34m\u001b[0m\u001b[0;34m\u001b[0m\u001b[0m\n\u001b[0;32m--> 411\u001b[0;31m             \u001b[0mmgr\u001b[0m \u001b[0;34m=\u001b[0m \u001b[0minit_dict\u001b[0m\u001b[0;34m(\u001b[0m\u001b[0mdata\u001b[0m\u001b[0;34m,\u001b[0m \u001b[0mindex\u001b[0m\u001b[0;34m,\u001b[0m \u001b[0mcolumns\u001b[0m\u001b[0;34m,\u001b[0m \u001b[0mdtype\u001b[0m\u001b[0;34m=\u001b[0m\u001b[0mdtype\u001b[0m\u001b[0;34m)\u001b[0m\u001b[0;34m\u001b[0m\u001b[0;34m\u001b[0m\u001b[0m\n\u001b[0m\u001b[1;32m    412\u001b[0m         \u001b[0;32melif\u001b[0m \u001b[0misinstance\u001b[0m\u001b[0;34m(\u001b[0m\u001b[0mdata\u001b[0m\u001b[0;34m,\u001b[0m \u001b[0mma\u001b[0m\u001b[0;34m.\u001b[0m\u001b[0mMaskedArray\u001b[0m\u001b[0;34m)\u001b[0m\u001b[0;34m:\u001b[0m\u001b[0;34m\u001b[0m\u001b[0;34m\u001b[0m\u001b[0m\n\u001b[1;32m    413\u001b[0m             \u001b[0;32mimport\u001b[0m \u001b[0mnumpy\u001b[0m\u001b[0;34m.\u001b[0m\u001b[0mma\u001b[0m\u001b[0;34m.\u001b[0m\u001b[0mmrecords\u001b[0m \u001b[0;32mas\u001b[0m \u001b[0mmrecords\u001b[0m\u001b[0;34m\u001b[0m\u001b[0;34m\u001b[0m\u001b[0m\n",
      "\u001b[0;32m~/anaconda3/lib/python3.7/site-packages/pandas/core/internals/construction.py\u001b[0m in \u001b[0;36minit_dict\u001b[0;34m(data, index, columns, dtype)\u001b[0m\n\u001b[1;32m    255\u001b[0m             \u001b[0marr\u001b[0m \u001b[0;32mif\u001b[0m \u001b[0;32mnot\u001b[0m \u001b[0mis_datetime64tz_dtype\u001b[0m\u001b[0;34m(\u001b[0m\u001b[0marr\u001b[0m\u001b[0;34m)\u001b[0m \u001b[0;32melse\u001b[0m \u001b[0marr\u001b[0m\u001b[0;34m.\u001b[0m\u001b[0mcopy\u001b[0m\u001b[0;34m(\u001b[0m\u001b[0;34m)\u001b[0m \u001b[0;32mfor\u001b[0m \u001b[0marr\u001b[0m \u001b[0;32min\u001b[0m \u001b[0marrays\u001b[0m\u001b[0;34m\u001b[0m\u001b[0;34m\u001b[0m\u001b[0m\n\u001b[1;32m    256\u001b[0m         ]\n\u001b[0;32m--> 257\u001b[0;31m     \u001b[0;32mreturn\u001b[0m \u001b[0marrays_to_mgr\u001b[0m\u001b[0;34m(\u001b[0m\u001b[0marrays\u001b[0m\u001b[0;34m,\u001b[0m \u001b[0mdata_names\u001b[0m\u001b[0;34m,\u001b[0m \u001b[0mindex\u001b[0m\u001b[0;34m,\u001b[0m \u001b[0mcolumns\u001b[0m\u001b[0;34m,\u001b[0m \u001b[0mdtype\u001b[0m\u001b[0;34m=\u001b[0m\u001b[0mdtype\u001b[0m\u001b[0;34m)\u001b[0m\u001b[0;34m\u001b[0m\u001b[0;34m\u001b[0m\u001b[0m\n\u001b[0m\u001b[1;32m    258\u001b[0m \u001b[0;34m\u001b[0m\u001b[0m\n\u001b[1;32m    259\u001b[0m \u001b[0;34m\u001b[0m\u001b[0m\n",
      "\u001b[0;32m~/anaconda3/lib/python3.7/site-packages/pandas/core/internals/construction.py\u001b[0m in \u001b[0;36marrays_to_mgr\u001b[0;34m(arrays, arr_names, index, columns, dtype)\u001b[0m\n\u001b[1;32m     75\u001b[0m     \u001b[0;31m# figure out the index, if necessary\u001b[0m\u001b[0;34m\u001b[0m\u001b[0;34m\u001b[0m\u001b[0;34m\u001b[0m\u001b[0m\n\u001b[1;32m     76\u001b[0m     \u001b[0;32mif\u001b[0m \u001b[0mindex\u001b[0m \u001b[0;32mis\u001b[0m \u001b[0;32mNone\u001b[0m\u001b[0;34m:\u001b[0m\u001b[0;34m\u001b[0m\u001b[0;34m\u001b[0m\u001b[0m\n\u001b[0;32m---> 77\u001b[0;31m         \u001b[0mindex\u001b[0m \u001b[0;34m=\u001b[0m \u001b[0mextract_index\u001b[0m\u001b[0;34m(\u001b[0m\u001b[0marrays\u001b[0m\u001b[0;34m)\u001b[0m\u001b[0;34m\u001b[0m\u001b[0;34m\u001b[0m\u001b[0m\n\u001b[0m\u001b[1;32m     78\u001b[0m     \u001b[0;32melse\u001b[0m\u001b[0;34m:\u001b[0m\u001b[0;34m\u001b[0m\u001b[0;34m\u001b[0m\u001b[0m\n\u001b[1;32m     79\u001b[0m         \u001b[0mindex\u001b[0m \u001b[0;34m=\u001b[0m \u001b[0mensure_index\u001b[0m\u001b[0;34m(\u001b[0m\u001b[0mindex\u001b[0m\u001b[0;34m)\u001b[0m\u001b[0;34m\u001b[0m\u001b[0;34m\u001b[0m\u001b[0m\n",
      "\u001b[0;32m~/anaconda3/lib/python3.7/site-packages/pandas/core/internals/construction.py\u001b[0m in \u001b[0;36mextract_index\u001b[0;34m(data)\u001b[0m\n\u001b[1;32m    356\u001b[0m \u001b[0;34m\u001b[0m\u001b[0m\n\u001b[1;32m    357\u001b[0m         \u001b[0;32mif\u001b[0m \u001b[0;32mnot\u001b[0m \u001b[0mindexes\u001b[0m \u001b[0;32mand\u001b[0m \u001b[0;32mnot\u001b[0m \u001b[0mraw_lengths\u001b[0m\u001b[0;34m:\u001b[0m\u001b[0;34m\u001b[0m\u001b[0;34m\u001b[0m\u001b[0m\n\u001b[0;32m--> 358\u001b[0;31m             \u001b[0;32mraise\u001b[0m \u001b[0mValueError\u001b[0m\u001b[0;34m(\u001b[0m\u001b[0;34m\"If using all scalar values, you must pass an index\"\u001b[0m\u001b[0;34m)\u001b[0m\u001b[0;34m\u001b[0m\u001b[0;34m\u001b[0m\u001b[0m\n\u001b[0m\u001b[1;32m    359\u001b[0m \u001b[0;34m\u001b[0m\u001b[0m\n\u001b[1;32m    360\u001b[0m         \u001b[0;32mif\u001b[0m \u001b[0mhave_series\u001b[0m\u001b[0;34m:\u001b[0m\u001b[0;34m\u001b[0m\u001b[0;34m\u001b[0m\u001b[0m\n",
      "\u001b[0;31mValueError\u001b[0m: If using all scalar values, you must pass an index"
     ]
    }
   ],
   "source": [
    "pd.DataFrame(total_result)"
   ]
  },
  {
   "cell_type": "code",
   "execution_count": 24,
   "metadata": {},
   "outputs": [
    {
     "data": {
      "text/plain": [
       "{3: array([[0.99764263, 0.71214064, 0.95950795, 0.78963951],\n",
       "        [0.96199585, 0.73069801, 0.90296509, 0.56896397],\n",
       "        [0.95504081, 0.69303233, 0.90264919, 0.59996274],\n",
       "        [0.99949988, 0.60163753, 0.88092182, 0.61461118]]),\n",
       " 4: array([[0.99856256, 0.70271405, 0.95171679, 0.78929799],\n",
       "        [0.95983329, 0.68647309, 0.91044661, 0.57534386],\n",
       "        [0.95493859, 0.68564773, 0.90137271, 0.60165744],\n",
       "        [0.99965178, 0.59823123, 0.87360053, 0.61624568]]),\n",
       " 5: array([[0.99845294, 0.7047985 , 0.95140035, 0.79130975],\n",
       "        [0.95982634, 0.68697293, 0.91035344, 0.57553632],\n",
       "        [0.95531127, 0.68166331, 0.89977041, 0.60236724],\n",
       "        [0.96274642, 0.73639799, 0.87629332, 0.65634554]]),\n",
       " 6: array([[0.99861775, 0.70444761, 0.95087987, 0.79207616],\n",
       "        [0.96277553, 0.7396146 , 0.90150968, 0.66026494],\n",
       "        [0.95720379, 0.67119509, 0.83806731, 0.59168184],\n",
       "        [0.962742  , 0.73903794, 0.87926847, 0.66126101]]),\n",
       " 7: array([[0.99874096, 0.70409282, 0.94915318, 0.79230281],\n",
       "        [0.96277553, 0.75396615, 0.90103189, 0.6678337 ],\n",
       "        [0.9571898 , 0.67111946, 0.83658238, 0.5915738 ],\n",
       "        [0.96269383, 0.75016328, 0.89063642, 0.6655451 ]]),\n",
       " 8: array([[0.99886278, 0.7027148 , 0.94808723, 0.79262583],\n",
       "        [0.96277553, 0.75827269, 0.8983352 , 0.67270147],\n",
       "        [0.95734295, 0.65921771, 0.88555281, 0.57995218],\n",
       "        [0.962742  , 0.75140825, 0.89321777, 0.66500039]]),\n",
       " 9: array([[0.99885711, 0.70231588, 0.9472581 , 0.79309535],\n",
       "        [0.96275671, 0.75891923, 0.89794795, 0.6726839 ],\n",
       "        [0.95715191, 0.65722108, 0.88331991, 0.57976644],\n",
       "        [0.96269064, 0.7537776 , 0.89358635, 0.66627653]]),\n",
       " 10: array([[0.99903944, 0.70356083, 0.94546579, 0.79344913],\n",
       "        [0.95796908, 0.77734928, 0.89099718, 0.72734174],\n",
       "        [0.95850484, 0.6403715 , 0.87723701, 0.59633779],\n",
       "        [0.95790457, 0.77274203, 0.88654719, 0.7208095 ]]),\n",
       " 11: array([[0.99924636, 0.70277086, 0.94486616, 0.79355214],\n",
       "        [0.95796908, 0.77904948, 0.89258244, 0.7303092 ],\n",
       "        [0.95685476, 0.66290052, 0.89054785, 0.59434168],\n",
       "        [0.95790457, 0.7860215 , 0.88764543, 0.7293807 ]]),\n",
       " 12: array([[0.99936192, 0.70301055, 0.94450173, 0.79395125],\n",
       "        [0.99966051, 0.82943576, 0.94405047, 0.776198  ],\n",
       "        [0.95691739, 0.66078252, 0.83225406, 0.60826895],\n",
       "        [0.95790457, 0.78774953, 0.8880734 , 0.72982625]]),\n",
       " 13: array([[0.99939791, 0.70238229, 0.94415759, 0.7941528 ],\n",
       "        [0.95796908, 0.79663279, 0.89319874, 0.73438527],\n",
       "        [0.95694912, 0.65457132, 0.82610719, 0.60848071],\n",
       "        [0.95796111, 0.786723  , 0.88820048, 0.73030178]]),\n",
       " 14: array([[0.99948805, 0.70235456, 0.94376831, 0.7945051 ],\n",
       "        [0.999669  , 0.84576651, 0.94531385, 0.78026061],\n",
       "        [0.95761241, 0.62845722, 0.83357527, 0.60989379],\n",
       "        [0.95781194, 0.78417695, 0.8893229 , 0.73273997]]),\n",
       " 15: array([[0.99960373, 0.70239666, 0.94255196, 0.79492429],\n",
       "        [0.999669  , 0.85273067, 0.94695192, 0.78333725],\n",
       "        [0.95768397, 0.63161246, 0.83528686, 0.61090172],\n",
       "        [0.95813811, 0.7901106 , 0.88782275, 0.73118586]]),\n",
       " 16: array([[0.99975506, 0.7027471 , 0.94204661, 0.79536364],\n",
       "        [0.999669  , 0.8541212 , 0.96944961, 0.88267473],\n",
       "        [0.95768847, 0.62573897, 0.82820931, 0.61137158],\n",
       "        [0.99981299, 0.8384928 , 0.93880395, 0.77676753]]),\n",
       " 17: array([[0.99978449, 0.70279681, 0.94153822, 0.79548872],\n",
       "        [0.99972761, 0.86108537, 0.97095281, 0.88571454],\n",
       "        [0.95775067, 0.62643956, 0.82841672, 0.6117306 ],\n",
       "        [0.9993559 , 0.7535683 , 0.9286957 , 0.77361583]]),\n",
       " 18: array([[0.99977332, 0.70315717, 0.94130499, 0.79559344],\n",
       "        [0.999669  , 0.86108537, 0.97108769, 0.88575137],\n",
       "        [0.99722131, 0.65614159, 0.8699314 , 0.62903166],\n",
       "        [0.9582158 , 0.8047623 , 0.89148667, 0.74313744]]),\n",
       " 19: array([[0.99981895, 0.70322272, 0.94105668, 0.7957309 ],\n",
       "        [0.99964307, 0.8612294 , 0.97106212, 0.88571454],\n",
       "        [0.99718165, 0.66614829, 0.86115196, 0.66119161],\n",
       "        [0.9582158 , 0.80418925, 0.89036178, 0.74454018]]),\n",
       " 20: array([[1.        , 0.70342945, 0.94073551, 0.7959508 ],\n",
       "        [0.999669  , 0.86108537, 0.97108769, 0.88575137],\n",
       "        [0.95790957, 0.60776511, 0.80795381, 0.59850791],\n",
       "        [0.95828654, 0.79781703, 0.88800453, 0.74281573]]),\n",
       " 21: array([[1.        , 0.70342945, 0.94073551, 0.7959508 ],\n",
       "        [0.999669  , 0.86108537, 0.97108769, 0.88575137],\n",
       "        [0.95759409, 0.62877077, 0.82546978, 0.61377344],\n",
       "        [0.99985991, 0.85164926, 0.92375803, 0.78352364]]),\n",
       " 22: array([[1.        , 0.70342945, 0.94073551, 0.7959508 ],\n",
       "        [0.999669  , 0.86108537, 0.97108769, 0.88575137],\n",
       "        [0.95737081, 0.62686529, 0.88189981, 0.59983426],\n",
       "        [0.95830857, 0.79856361, 0.88899962, 0.74226556]]),\n",
       " 23: array([[1.        , 0.70283084, 0.94104837, 0.79536602],\n",
       "        [0.999669  , 0.86108537, 0.97108769, 0.88575137],\n",
       "        [0.99710116, 0.63736487, 0.89844187, 0.64239955],\n",
       "        [0.99997797, 0.81287289, 0.94842802, 0.79467275]]),\n",
       " 24: array([[1.        , 0.70342945, 0.94073551, 0.7959508 ],\n",
       "        [0.999669  , 0.86108537, 0.97108769, 0.88575137],\n",
       "        [0.99736003, 0.66597733, 0.85975373, 0.66638249],\n",
       "        [1.        , 0.81269553, 0.94797766, 0.79421689]]),\n",
       " 25: array([[1.        , 0.70342945, 0.94073551, 0.7959508 ],\n",
       "        [0.999669  , 0.86108537, 0.97108769, 0.88575137],\n",
       "        [0.99904265, 0.69816249, 0.8998618 , 0.6600255 ],\n",
       "        [0.95824199, 0.79918725, 0.88804905, 0.74089917]]),\n",
       " 26: array([[1.        , 0.70342945, 0.94073551, 0.7959508 ],\n",
       "        [0.999669  , 0.86108537, 0.97108769, 0.88575137],\n",
       "        [0.95783346, 0.62834125, 0.82418663, 0.6147133 ],\n",
       "        [0.95830857, 0.79950941, 0.88716673, 0.74246607]]),\n",
       " 27: array([[1.        , 0.70342945, 0.94073551, 0.7959508 ],\n",
       "        [0.999669  , 0.86108537, 0.97108769, 0.88575137],\n",
       "        [0.95781969, 0.62877085, 0.8271122 , 0.61513456],\n",
       "        [1.        , 0.85898497, 0.96387456, 0.89291243]]),\n",
       " 28: array([[1.        , 0.70342945, 0.94073551, 0.7959508 ],\n",
       "        [0.999669  , 0.86108537, 0.97108769, 0.88575137],\n",
       "        [0.95778179, 0.62664883, 0.82347623, 0.61482219],\n",
       "        [0.95830857, 0.79914845, 0.88676197, 0.74340905]]),\n",
       " 29: array([[1.        , 0.70342945, 0.94073551, 0.7959508 ],\n",
       "        [0.999669  , 0.86108537, 0.97108769, 0.88575137],\n",
       "        [0.95230954, 0.62534785, 0.87700651, 0.6071741 ],\n",
       "        [0.95830857, 0.80565513, 0.88868368, 0.74545855]])}"
      ]
     },
     "execution_count": 24,
     "metadata": {},
     "output_type": "execute_result"
    }
   ],
   "source": [
    "total_result"
   ]
  },
  {
   "cell_type": "code",
   "execution_count": null,
   "metadata": {},
   "outputs": [],
   "source": []
  }
 ],
 "metadata": {
  "kernelspec": {
   "display_name": "Python 3",
   "language": "python",
   "name": "python3"
  },
  "language_info": {
   "codemirror_mode": {
    "name": "ipython",
    "version": 3
   },
   "file_extension": ".py",
   "mimetype": "text/x-python",
   "name": "python",
   "nbconvert_exporter": "python",
   "pygments_lexer": "ipython3",
   "version": "3.7.3"
  }
 },
 "nbformat": 4,
 "nbformat_minor": 2
}
