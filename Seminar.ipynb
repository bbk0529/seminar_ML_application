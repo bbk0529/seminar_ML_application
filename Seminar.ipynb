{
 "cells": [
  {
   "cell_type": "code",
   "execution_count": 205,
   "metadata": {},
   "outputs": [
    {
     "data": {
      "text/plain": [
       "<module 'active_clustering_util' from '/home/bk/dev/seminar/active_clustering_util.py'>"
      ]
     },
     "execution_count": 205,
     "metadata": {},
     "output_type": "execute_result"
    }
   ],
   "source": [
    "import active_clustering_util\n",
    "import importlib\n",
    "from active_clustering_util import *\n",
    "importlib.reload(active_clustering_util) #for iterative coding enviroment, it loads the library again"
   ]
  },
  {
   "cell_type": "markdown",
   "metadata": {},
   "source": [
    "# Read the xes data"
   ]
  },
  {
   "cell_type": "code",
   "execution_count": 206,
   "metadata": {},
   "outputs": [],
   "source": [
    "# filename = 'filtered_3way_after_80%.xes'\n",
    "filename = 'PrepaidTravelCost.xes'\n",
    "log, VARIANT = read_xes(filename,1)\n"
   ]
  },
  {
   "cell_type": "markdown",
   "metadata": {},
   "source": [
    "#  Active clustering"
   ]
  },
  {
   "cell_type": "markdown",
   "metadata": {},
   "source": [
    "import time\n",
    "cur_time = time.strftime(\"%Y%m%d-%H%M%S\")\n",
    "log_file = 'clustering_log' + cur_time + '.txt'\n",
    "f=open(log_file,'w')\n",
    "\n",
    "f.close()"
   ]
  },
  {
   "cell_type": "code",
   "execution_count": null,
   "metadata": {},
   "outputs": [
    {
     "name": "stdout",
     "output_type": "stream",
     "text": [
      "****************************************************************************************************\n",
      "START OF No. 0 CLUSTERING\n",
      "\n",
      "\n",
      "Clustering() is called. mcs:0.25, tf:1, w:1\n",
      "----------------------------------------------------------------------------------------------------\n",
      "START OF LOOP with cur_dpi // R and I comparision : False\n",
      "\n",
      " * C is empty set or |W| = 1. |C|:0, |W|:202 ->  R[0] is to be added.\n",
      "\n",
      "\n",
      " * Fitness check to be done with cur_dpi\n",
      "\t B,C,H,A,G,F,D,E...\n",
      "\n",
      " * CASE of fit 1.0 >= 1 tf -> Cur_dpi is added to cluster C & removed from R\n",
      "\t\n",
      "\n",
      "END OF LOOP with cur_dpi____fit : 1.0 / size of C: 1 / size of R: 201 / size of I: 0\n",
      "\n",
      "\n",
      "----------------------------------------------------------------------------------------------------\n",
      "START OF LOOP with cur_dpi // R and I comparision : False\n",
      "\n",
      " * C is not empty set, so w in W to be selected with min_dist\n",
      "\n",
      " * Selected dpi via dpi_finder() :\n",
      "\tB,C,J,H,A,G,K,F,D,E... with dist 0.0\n",
      "\n",
      " * Fitness check to be done with cur_dpi\n",
      "\t B,C,J,H,A,G,K,F,D,E...\n",
      "\n",
      " * CASE of fit 1.0 >= 1 tf -> Cur_dpi is added to cluster C & removed from R\n",
      "\t\n",
      "\n",
      "END OF LOOP with cur_dpi____fit : 1.0 / size of C: 2 / size of R: 200 / size of I: 0\n",
      "\n",
      "\n",
      "----------------------------------------------------------------------------------------------------\n",
      "START OF LOOP with cur_dpi // R and I comparision : False\n",
      "\n",
      " * C is not empty set, so w in W to be selected with min_dist\n",
      "\n",
      " * Selected dpi via dpi_finder() :\n",
      "\tB,C,M,N,A,G,F,D,E... with dist 0.0\n",
      "\n",
      " * Fitness check to be done with cur_dpi\n",
      "\t B,C,M,N,A,G,F,D,E...\n",
      "\n",
      " * CASE of fit 1.0 >= 1 tf -> Cur_dpi is added to cluster C & removed from R\n",
      "\t\n",
      "\n",
      "END OF LOOP with cur_dpi____fit : 1.0 / size of C: 3 / size of R: 199 / size of I: 0\n",
      "\n",
      "\n",
      "----------------------------------------------------------------------------------------------------\n",
      "START OF LOOP with cur_dpi // R and I comparision : False\n",
      "\n",
      " * C is not empty set, so w in W to be selected with min_dist\n",
      "\n",
      " * Selected dpi via dpi_finder() :\n",
      "\tB,C,J,M,N,A,G,K,F,D,E... with dist 0.0\n",
      "\n",
      " * Fitness check to be done with cur_dpi\n",
      "\t B,C,J,M,N,A,G,K,F,D,E...\n",
      "\n",
      " * CASE of fit 0.9656195589495034 < 1 tf -> fitness dropped than the tf\n",
      "\t - CASE of |C|3 <= 49.75 mcs*|R| -> still it need more trace, cur_dpi added to I and the loop continues \n",
      "\n",
      "END OF LOOP with cur_dpi____fit : 0.9656195589495034 / size of C: 3 / size of R: 199 / size of I: 1\n",
      "\n",
      "\n",
      "----------------------------------------------------------------------------------------------------\n",
      "START OF LOOP with cur_dpi // R and I comparision : False\n",
      "\n",
      " * C is not empty set, so w in W to be selected with min_dist\n",
      "\n",
      " * Selected dpi via dpi_finder() :\n",
      "\tA,G,K,F,D,E... with dist 0.0\n",
      "\n",
      " * Fitness check to be done with cur_dpi\n",
      "\t A,G,K,F,D,E...\n",
      "\n",
      " * CASE of fit 1.0 >= 1 tf -> Cur_dpi is added to cluster C & removed from R\n",
      "\t\n",
      "\n",
      "END OF LOOP with cur_dpi____fit : 1.0 / size of C: 4 / size of R: 198 / size of I: 1\n",
      "\n",
      "\n",
      "----------------------------------------------------------------------------------------------------\n",
      "START OF LOOP with cur_dpi // R and I comparision : False\n",
      "\n",
      " * C is not empty set, so w in W to be selected with min_dist\n",
      "\n",
      " * Selected dpi via dpi_finder() :\n",
      "\tB,P,H,A,Q,F,D,E... with dist 0.0\n",
      "\n",
      " * Fitness check to be done with cur_dpi\n",
      "\t B,P,H,A,Q,F,D,E...\n",
      "\n",
      " * CASE of fit 1.0 >= 1 tf -> Cur_dpi is added to cluster C & removed from R\n",
      "\t\n",
      "\n",
      "END OF LOOP with cur_dpi____fit : 1.0 / size of C: 5 / size of R: 197 / size of I: 1\n",
      "\n",
      "\n",
      "----------------------------------------------------------------------------------------------------\n",
      "START OF LOOP with cur_dpi // R and I comparision : False\n",
      "\n",
      " * C is not empty set, so w in W to be selected with min_dist\n",
      "\n",
      " * Selected dpi via dpi_finder() :\n",
      "\tA,G,F,D,E... with dist 0.0\n",
      "\n",
      " * Fitness check to be done with cur_dpi\n",
      "\t A,G,F,D,E...\n",
      "\n",
      " * CASE of fit 1.0 >= 1 tf -> Cur_dpi is added to cluster C & removed from R\n",
      "\t\n",
      "\n",
      "END OF LOOP with cur_dpi____fit : 1.0 / size of C: 6 / size of R: 196 / size of I: 1\n",
      "\n",
      "\n",
      "----------------------------------------------------------------------------------------------------\n",
      "START OF LOOP with cur_dpi // R and I comparision : False\n",
      "\n",
      " * C is not empty set, so w in W to be selected with min_dist\n",
      "\n",
      " * Selected dpi via dpi_finder() :\n",
      "\tB,H,A,F,D,E... with dist 0.0\n",
      "\n",
      " * Fitness check to be done with cur_dpi\n",
      "\t B,H,A,F,D,E...\n",
      "\n",
      " * CASE of fit 0.9117588033268574 < 1 tf -> fitness dropped than the tf\n",
      "\t - CASE of |C|6 <= 49.0 mcs*|R| -> still it need more trace, cur_dpi added to I and the loop continues \n",
      "\n",
      "END OF LOOP with cur_dpi____fit : 0.9117588033268574 / size of C: 6 / size of R: 196 / size of I: 2\n",
      "\n",
      "\n",
      "----------------------------------------------------------------------------------------------------\n",
      "START OF LOOP with cur_dpi // R and I comparision : False\n",
      "\n",
      " * C is not empty set, so w in W to be selected with min_dist\n",
      "\n",
      " * Selected dpi via dpi_finder() :\n",
      "\tB,C,A,G,H,F,D,E... with dist 0.0\n",
      "\n",
      " * Fitness check to be done with cur_dpi\n",
      "\t B,C,A,G,H,F,D,E...\n",
      "\n",
      " * CASE of fit 0.9949731119943874 < 1 tf -> fitness dropped than the tf\n",
      "\t - CASE of |C|6 <= 49.0 mcs*|R| -> still it need more trace, cur_dpi added to I and the loop continues \n",
      "\n",
      "END OF LOOP with cur_dpi____fit : 0.9949731119943874 / size of C: 6 / size of R: 196 / size of I: 3\n",
      "\n",
      "\n",
      "----------------------------------------------------------------------------------------------------\n",
      "START OF LOOP with cur_dpi // R and I comparision : False\n",
      "\n",
      " * C is not empty set, so w in W to be selected with min_dist\n",
      "\n",
      " * Selected dpi via dpi_finder() :\n",
      "\tB,C,A,G,J,K,H,F,D,E... with dist 0.0\n",
      "\n",
      " * Fitness check to be done with cur_dpi\n",
      "\t B,C,A,G,J,K,H,F,D,E...\n",
      "\n",
      " * CASE of fit 0.9971304125032003 < 1 tf -> fitness dropped than the tf\n",
      "\t - CASE of |C|6 <= 49.0 mcs*|R| -> still it need more trace, cur_dpi added to I and the loop continues \n",
      "\n",
      "END OF LOOP with cur_dpi____fit : 0.9971304125032003 / size of C: 6 / size of R: 196 / size of I: 4\n",
      "\n",
      "\n",
      "----------------------------------------------------------------------------------------------------\n",
      "START OF LOOP with cur_dpi // R and I comparision : False\n",
      "\n",
      " * C is not empty set, so w in W to be selected with min_dist\n",
      "\n",
      " * Selected dpi via dpi_finder() :\n",
      "\tB,M,N,A,F,D,E... with dist 0.0\n",
      "\n",
      " * Fitness check to be done with cur_dpi\n",
      "\t B,M,N,A,F,D,E...\n"
     ]
    }
   ],
   "source": [
    "CS = active_clustering(\n",
    "    log, VARIANT,\n",
    "    w = 1,  tf = 1, nb_clus = 5, mcs = 0.25,\n",
    "    N = 1\n",
    ")"
   ]
  },
  {
   "cell_type": "code",
   "execution_count": null,
   "metadata": {},
   "outputs": [],
   "source": [
    "visualization(log, VARIANT, True, False)\n",
    "for cs in CS : \n",
    "    print(len(cs))\n",
    "    print(fit_check(log, cs))\n",
    "    visualization(log, cs, True, False)\n"
   ]
  },
  {
   "cell_type": "markdown",
   "metadata": {},
   "source": [
    "# save for the future job"
   ]
  },
  {
   "cell_type": "code",
   "execution_count": null,
   "metadata": {},
   "outputs": [],
   "source": [
    "#for f1 score measurement \n",
    "# RECALL can be approximated by fitness\n",
    "# ACCURACY can be approximated by precision\n",
    "from pm4py.evaluation.precision import evaluator as precision_evaluator\n",
    "net, im, fm = heuristics_miner.apply(variants_filter.apply(log, C))\n",
    "prec = precision_evaluator.apply(log, net, im, fm, variant=precision_evaluator.Variants.ETCONFORMANCE_TOKEN)"
   ]
  },
  {
   "cell_type": "code",
   "execution_count": null,
   "metadata": {},
   "outputs": [],
   "source": [
    "#for complexity measurement\n",
    "places = net.places\n",
    "transitions = net.transitions\n",
    "arcs = net.arcs"
   ]
  },
  {
   "cell_type": "code",
   "execution_count": null,
   "metadata": {},
   "outputs": [],
   "source": []
  },
  {
   "cell_type": "markdown",
   "metadata": {},
   "source": [
    "import time\n",
    "cur_time = time.strftime(\"%Y%m%d-%H%M%S\")\n",
    "log_file = 'clustering_log' + cur_time + '.txt'\n",
    "f=open(log_file,'w')\n",
    "\n",
    "f.close()"
   ]
  },
  {
   "cell_type": "code",
   "execution_count": 14,
   "metadata": {},
   "outputs": [
    {
     "data": {
      "text/plain": [
       "[['A,B,C,D,Z',\n",
       "  'A,C,B,D,Z',\n",
       "  'A,B,C,D,E,Z',\n",
       "  'A,F',\n",
       "  'A,C,B,D,E,Z',\n",
       "  'J,A,B,C,D,Z'],\n",
       " ['A,C,G,B,D,Z',\n",
       "  'A,H,B,C,D,Z',\n",
       "  'A,I,B,C,D,Z',\n",
       "  'A,C,G,B,D,E,Z',\n",
       "  'A,I,B,C,D,E,Z'],\n",
       " ['A,I,C,B,D,Z', 'A,H,C,B,D,Z', 'A,H,C,B,D,E,Z'],\n",
       " ['A,I,H,B,C,D,Z',\n",
       "  'A,K,B,C,D,E,Z',\n",
       "  'A,B,C,I,D,Z',\n",
       "  'A,B,C,I,D,E,Z',\n",
       "  'A,K,B,C,D,Z'],\n",
       " ['A,C,C,C,C,G,G,G,G,B,D,Z',\n",
       "  'A,B,C,H,D,Z',\n",
       "  'A,C,C,C,G,G,G,B,D,Z',\n",
       "  'A,C,C,C,C,C,G,G,G,G,G,B,D,Z',\n",
       "  'A,B,I,C,D,Z',\n",
       "  'A,C,C,C,C,C,C,G,G,G,G,G,G,B,D,Z',\n",
       "  'A,B,C,C,D,Z']]"
      ]
     },
     "execution_count": 14,
     "metadata": {},
     "output_type": "execute_result"
    }
   ],
   "source": [
    "CS"
   ]
  },
  {
   "cell_type": "code",
   "execution_count": null,
   "metadata": {},
   "outputs": [],
   "source": []
  },
  {
   "cell_type": "markdown",
   "metadata": {},
   "source": [
    "# MRA based distance"
   ]
  },
  {
   "cell_type": "code",
   "execution_count": null,
   "metadata": {},
   "outputs": [],
   "source": [
    "def mra_feature_generator(variant_list) : \n",
    "    features = set()\n",
    "    for v in variant_list : \n",
    "        features = features.union(set(v.split(',')))\n",
    "    return features\n",
    "\n"
   ]
  },
  {
   "cell_type": "code",
   "execution_count": null,
   "metadata": {},
   "outputs": [],
   "source": [
    "features=set()\n",
    "   \n",
    "for v in VARIANT : \n",
    "     features = features.union(\n",
    "         set(discover_maximal_repeat(v.split(',')))\n",
    "     )"
   ]
  },
  {
   "cell_type": "code",
   "execution_count": null,
   "metadata": {},
   "outputs": [],
   "source": [
    "len(features)"
   ]
  },
  {
   "cell_type": "code",
   "execution_count": null,
   "metadata": {},
   "outputs": [],
   "source": [
    "feature_space=list(features)\n",
    "result=pd.DataFrame(columns=feature_space)\n",
    "for variant in VARIANT :\n",
    "    v=discover_maximal_repeat(variant.split(','))\n",
    "    print(v)\n",
    "    A=pd.DataFrame(np.ones((1,len(v))), columns=v)\n",
    "    result=result.append(A)\n",
    "result=result.fillna(0)"
   ]
  },
  {
   "cell_type": "code",
   "execution_count": null,
   "metadata": {},
   "outputs": [],
   "source": [
    "data=np.array(result)"
   ]
  },
  {
   "cell_type": "code",
   "execution_count": null,
   "metadata": {},
   "outputs": [],
   "source": [
    "kmeans = KMeans(n_clusters=5, random_state=0).fit(data)"
   ]
  },
  {
   "cell_type": "code",
   "execution_count": null,
   "metadata": {},
   "outputs": [],
   "source": [
    "kmeans.labels_"
   ]
  },
  {
   "cell_type": "code",
   "execution_count": null,
   "metadata": {},
   "outputs": [],
   "source": [
    "np.unique(kmeans.labels_)"
   ]
  },
  {
   "cell_type": "code",
   "execution_count": null,
   "metadata": {},
   "outputs": [],
   "source": [
    "unique, counts = np.unique(kmeans.labels_, return_counts=True)\n",
    "dict(zip(unique, counts))\n"
   ]
  },
  {
   "cell_type": "code",
   "execution_count": null,
   "metadata": {},
   "outputs": [],
   "source": [
    "for v in np.array(VARIANT)[kmeans.labels_ == 2] :\n",
    "    print(discover_maximal_repeat(v.split(',')))"
   ]
  },
  {
   "cell_type": "code",
   "execution_count": null,
   "metadata": {},
   "outputs": [],
   "source": [
    "visualization(log, VARIANT, True, False)"
   ]
  },
  {
   "cell_type": "code",
   "execution_count": null,
   "metadata": {
    "scrolled": false
   },
   "outputs": [],
   "source": [
    "for i in np.unique(kmeans.labels_) : \n",
    "    c=np.array(VARIANT)[kmeans.labels_ == i]\n",
    "    visualization(log, c, True, False)\n",
    "    "
   ]
  },
  {
   "cell_type": "code",
   "execution_count": null,
   "metadata": {},
   "outputs": [],
   "source": []
  }
 ],
 "metadata": {
  "kernelspec": {
   "display_name": "Python 3",
   "language": "python",
   "name": "python3"
  },
  "language_info": {
   "codemirror_mode": {
    "name": "ipython",
    "version": 3
   },
   "file_extension": ".py",
   "mimetype": "text/x-python",
   "name": "python",
   "nbconvert_exporter": "python",
   "pygments_lexer": "ipython3",
   "version": "3.7.3"
  }
 },
 "nbformat": 4,
 "nbformat_minor": 2
}
