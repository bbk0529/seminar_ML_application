{
 "cells": [
  {
   "cell_type": "markdown",
   "metadata": {},
   "source": [
    "Paper \n",
    "# Active clustering"
   ]
  },
  {
   "cell_type": "code",
   "execution_count": null,
   "metadata": {},
   "outputs": [],
   "source": []
  },
  {
   "cell_type": "markdown",
   "metadata": {},
   "source": [
    "# Import the required library"
   ]
  },
  {
   "cell_type": "code",
   "execution_count": null,
   "metadata": {},
   "outputs": [],
   "source": [
    "import numpy as np"
   ]
  },
  {
   "cell_type": "markdown",
   "metadata": {},
   "source": [
    "# Load a XES file and exploration"
   ]
  },
  {
   "cell_type": "code",
   "execution_count": 1,
   "metadata": {
    "scrolled": true
   },
   "outputs": [
    {
     "name": "stderr",
     "output_type": "stream",
     "text": [
      "/home/bk/anaconda3/lib/python3.7/site-packages/ipykernel_launcher.py:2: DeprecatedWarning: apply is deprecated as of 1.3.0 and will be removed in 2.0.0. Use importer entrypoint instead\n",
      "  \n"
     ]
    },
    {
     "name": "stdout",
     "output_type": "stream",
     "text": [
      "length of trace 2099 \n",
      "length of event 18246\n"
     ]
    }
   ],
   "source": [
    "from pm4py.objects.log.importer.xes import factory as xes_import_factory\n",
    "log = xes_import_factory.apply('PrepaidTravelCost.xes')\n",
    "\n",
    "print(\n",
    "    'length of trace', len(log),\n",
    "    '\\nlength of event', sum(len(trace) for trace in log)\n",
    ")"
   ]
  },
  {
   "cell_type": "markdown",
   "metadata": {},
   "source": [
    "# Filtering out some variatns "
   ]
  },
  {
   "cell_type": "code",
   "execution_count": 2,
   "metadata": {},
   "outputs": [],
   "source": [
    "from pm4py.algo.filtering.log.variants import variants_filter\n",
    "variants = variants_filter.get_variants(log)\n",
    "\n",
    "from pm4py.statistics.traces.log import case_statistics\n",
    "variants_count = case_statistics.get_variant_statistics(log)\n",
    "variants_count = sorted(variants_count, key=lambda x: x['count'], reverse=True)"
   ]
  },
  {
   "cell_type": "code",
   "execution_count": 3,
   "metadata": {},
   "outputs": [],
   "source": [
    "#parameter\n",
    "w = 0.5  #window size\n",
    "tf = 0.8 #target fitness\n",
    "nb_clus = 3 #number of cluster\n",
    "N = 1 #case separate \n",
    "\n",
    "\n"
   ]
  },
  {
   "cell_type": "markdown",
   "metadata": {},
   "source": [
    "# Adding statistics about Frequency and Acc. Frequency "
   ]
  },
  {
   "cell_type": "code",
   "execution_count": 6,
   "metadata": {},
   "outputs": [],
   "source": [
    "def add_frequency_into_variants_count(variants_count) : \n",
    "    #total sum\n",
    "    s = 0 \n",
    "    for i in range(len(variants_count)) : \n",
    "        s += variants_count[i]['count'] \n",
    "\n",
    "    #frequency \n",
    "    for i in range(len(variants_count)) : \n",
    "        variants_count[i]['freq']  = variants_count[i]['count'] / s\n",
    "        if i == 0 : \n",
    "            variants_count[i]['acc_freq']  = variants_count[i]['freq']\n",
    "        else : \n",
    "            variants_count[i]['acc_freq'] = variants_count[i-1]['acc_freq'] + variants_count[i]['freq']\n",
    "    return variants_count"
   ]
  },
  {
   "cell_type": "code",
   "execution_count": 7,
   "metadata": {},
   "outputs": [],
   "source": [
    "#GL, grouped event log = A collection of dpi. Used the same notation in the paper.\n",
    "GL = add_frequency_into_variants_count(variants_count)"
   ]
  },
  {
   "cell_type": "code",
   "execution_count": null,
   "metadata": {},
   "outputs": [],
   "source": [
    "variants_count[:5]"
   ]
  },
  {
   "cell_type": "code",
   "execution_count": null,
   "metadata": {},
   "outputs": [],
   "source": [
    "def filtering_with_freq(variants_count, w) :\n",
    "    acc_freq = 0 \n",
    "    last_idx = 0\n",
    "    while (variants_count[last_idx]['acc_freq']  <= w) : \n",
    "        last_idx += 1\n",
    "    W = variants_filter.apply(\n",
    "        log, \n",
    "        [variants_count[i]['variant'] for i in range(last_idx+1)]  \n",
    "    )\n",
    "    W_variant = case_statistics.get_variant_statistics(W)\n",
    "    W_variant = sorted(W_variant, key=lambda x: x['count'], reverse=True)\n",
    "    W_variant = add_frequency_into_variants_count(W_variant)\n",
    "    return W, W_variant"
   ]
  },
  {
   "cell_type": "code",
   "execution_count": null,
   "metadata": {},
   "outputs": [],
   "source": [
    "W, W_variant = filtering_with_freq(variants_count, 0.5)"
   ]
  },
  {
   "cell_type": "markdown",
   "metadata": {},
   "source": [
    "# Line 4 $$while(|CS| < nb_{clus}) \\wedge (R \\neq \\emptyset) do $$"
   ]
  },
  {
   "cell_type": "code",
   "execution_count": 114,
   "metadata": {},
   "outputs": [],
   "source": [
    "#Corresponding to line 5,6\n",
    "C=[]\n",
    "I=[]"
   ]
  },
  {
   "cell_type": "markdown",
   "metadata": {},
   "source": [
    "# HERUSTIC MINER"
   ]
  },
  {
   "cell_type": "code",
   "execution_count": 109,
   "metadata": {},
   "outputs": [],
   "source": [
    "# corresponding to the line 3 in the paper. \n",
    "R=[]\n",
    "for gl in GL: \n",
    "    R.append(gl['variant'])\n",
    "    \n",
    "R_variants_count = GL\n",
    "\n",
    "# R_variants_count contains \n",
    "#     variant : trace\n",
    "#     count : number of occurence\n",
    "#     freq : frequency\n",
    "#     acc_freq : accmulated freq.\n"
   ]
  },
  {
   "cell_type": "code",
   "execution_count": 96,
   "metadata": {},
   "outputs": [],
   "source": [
    "# line 10\n",
    "cur_dpi = R_variants_count[0]['variant'] #since R has been already sorted in order of increase in frequency"
   ]
  },
  {
   "cell_type": "code",
   "execution_count": 97,
   "metadata": {},
   "outputs": [
    {
     "data": {
      "text/plain": [
       "'Permit SUBMITTED by EMPLOYEE,Permit APPROVED by ADMINISTRATION,Permit FINAL_APPROVED by SUPERVISOR,Request For Payment SUBMITTED by EMPLOYEE,Request For Payment APPROVED by ADMINISTRATION,Request For Payment FINAL_APPROVED by SUPERVISOR,Request Payment,Payment Handled'"
      ]
     },
     "execution_count": 97,
     "metadata": {},
     "output_type": "execute_result"
    }
   ],
   "source": [
    "cur_dpi"
   ]
  },
  {
   "cell_type": "markdown",
   "metadata": {},
   "source": [
    "# Line 15, PM<-HM(C U {cur_dpi})"
   ]
  },
  {
   "cell_type": "code",
   "execution_count": null,
   "metadata": {},
   "outputs": [],
   "source": []
  },
  {
   "cell_type": "code",
   "execution_count": 99,
   "metadata": {},
   "outputs": [],
   "source": [
    "R.remove(cur_dpi)"
   ]
  },
  {
   "cell_type": "code",
   "execution_count": 111,
   "metadata": {},
   "outputs": [
    {
     "name": "stdout",
     "output_type": "stream",
     "text": [
      "0\n"
     ]
    }
   ],
   "source": [
    "try : \n",
    "    print(R.index(cur_dpi))\n",
    "    \n",
    "except :\n",
    "    print(\"cur_dpi is not exist\")"
   ]
  },
  {
   "cell_type": "code",
   "execution_count": 112,
   "metadata": {},
   "outputs": [
    {
     "data": {
      "text/plain": [
       "'Permit SUBMITTED by EMPLOYEE,Permit APPROVED by ADMINISTRATION,Permit FINAL_APPROVED by SUPERVISOR,Request For Payment SUBMITTED by EMPLOYEE,Request For Payment APPROVED by ADMINISTRATION,Request For Payment FINAL_APPROVED by SUPERVISOR,Request Payment,Payment Handled'"
      ]
     },
     "execution_count": 112,
     "metadata": {},
     "output_type": "execute_result"
    }
   ],
   "source": [
    "R[0]"
   ]
  },
  {
   "cell_type": "code",
   "execution_count": 123,
   "metadata": {},
   "outputs": [],
   "source": [
    "C=[]\n",
    "cur_dpi = R[0]"
   ]
  },
  {
   "cell_type": "code",
   "execution_count": 124,
   "metadata": {},
   "outputs": [
    {
     "data": {
      "text/plain": [
       "'Permit SUBMITTED by EMPLOYEE,Permit APPROVED by ADMINISTRATION,Permit FINAL_APPROVED by SUPERVISOR,Request For Payment SUBMITTED by EMPLOYEE,Request For Payment APPROVED by ADMINISTRATION,Request For Payment FINAL_APPROVED by SUPERVISOR,Request Payment,Payment Handled'"
      ]
     },
     "execution_count": 124,
     "metadata": {},
     "output_type": "execute_result"
    }
   ],
   "source": [
    "cur_dpi"
   ]
  },
  {
   "cell_type": "code",
   "execution_count": 127,
   "metadata": {},
   "outputs": [
    {
     "data": {
      "text/plain": [
       "2"
      ]
     },
     "execution_count": 127,
     "metadata": {},
     "output_type": "execute_result"
    }
   ],
   "source": [
    "len(C + [cur_dpi] + [cur_dpi])"
   ]
  },
  {
   "cell_type": "code",
   "execution_count": 137,
   "metadata": {},
   "outputs": [
    {
     "data": {
      "text/plain": [
       "[{'attributes': {'Rfp_id': 'request for payment 73550', 'Permit travel permit number': 'UNKNOWN', 'Task': 'task 71977', 'OrganizationalEntity': 'organizational unit 65463', 'RequestedAmount': 854.5798378437331, 'Activity': 'activity 505', 'Permit TaskNumber': 'UNKNOWN', 'Permit BudgetNumber': 'budget 6198', 'Permit ProjectNumber': 'UNKNOWN', 'Project': 'project 503', 'concept:name': 'request for payment 73550', 'Permit OrganizationalEntity': 'organizational unit 65455', 'Permit RequestedBudget': 1979.272103997747, 'Cost Type': 0, 'Permit id': 'travel permit 73549', 'Permit ActivityNumber': 'UNKNOWN', 'RfpNumber': 'request for payment number 73551'}, 'events': [{'id': 'st_step 73555_0', 'org:resource': 'STAFF MEMBER', 'concept:name': 'Permit SUBMITTED by EMPLOYEE', 'time:timestamp': datetime.datetime(2017, 1, 9, 14, 48, 43, tzinfo=datetime.timezone(datetime.timedelta(seconds=3600))), 'org:role': 'EMPLOYEE'}, '..', {'id': 'st_step 73556_0', 'org:resource': 'STAFF MEMBER', 'concept:name': 'Permit REJECTED by MISSING', 'time:timestamp': datetime.datetime(2017, 7, 28, 10, 10, 18, tzinfo=datetime.timezone(datetime.timedelta(seconds=7200))), 'org:role': 'MISSING'}]}, '....', {'attributes': {'Rfp_id': 'request for payment 186612', 'Permit travel permit number': 'UNKNOWN', 'Task': 'UNKNOWN', 'OrganizationalEntity': 'organizational unit 65462', 'RequestedAmount': 96.7390753846436, 'Activity': 'UNKNOWN', 'Permit TaskNumber': 'UNKNOWN', 'Permit BudgetNumber': 'UNKNOWN', 'Permit ProjectNumber': 'UNKNOWN', 'Project': 'project 147531', 'concept:name': 'request for payment 186612', 'Permit OrganizationalEntity': 'UNKNOWN', 'Permit RequestedBudget': 0.0, 'Cost Type': 0, 'Permit id': 'UNKNOWN', 'Permit ActivityNumber': 'UNKNOWN', 'RfpNumber': 'request for payment number 186613'}, 'events': [{'id': 'st_step 186614_0', 'org:resource': 'STAFF MEMBER', 'concept:name': 'Request For Payment SUBMITTED by EMPLOYEE', 'time:timestamp': datetime.datetime(2018, 12, 30, 20, 16, 15, tzinfo=datetime.timezone(datetime.timedelta(seconds=3600))), 'org:role': 'EMPLOYEE'}, '..', {'id': 'rp_request for payment 186612_16', 'org:resource': 'SYSTEM', 'concept:name': 'Payment Handled', 'time:timestamp': datetime.datetime(2019, 1, 17, 17, 31, 44, tzinfo=datetime.timezone(datetime.timedelta(seconds=3600))), 'org:role': 'UNDEFINED'}]}]"
      ]
     },
     "execution_count": 137,
     "metadata": {},
     "output_type": "execute_result"
    }
   ],
   "source": [
    "log"
   ]
  },
  {
   "cell_type": "code",
   "execution_count": 169,
   "metadata": {},
   "outputs": [],
   "source": [
    "C=[]"
   ]
  },
  {
   "cell_type": "code",
   "execution_count": 188,
   "metadata": {},
   "outputs": [],
   "source": [
    "from pm4py.algo.discovery.heuristics import factory as heuristics_miner\n",
    "from pm4py.evaluation.replay_fitness import factory as replay_factory\n",
    "\n",
    "def fit_check_w_HM(log :list, cur_dpi :list, C :list, tf :float) -> (list, list): \n",
    "    log = variants_filter.apply(\n",
    "            log, \n",
    "            [c for c in C + [cur_dpi]]  \n",
    "    )\n",
    "    heu_net = heuristics_miner.apply_heu(log, parameters={\"dependency_thresh\": 0.99})\n",
    "    net, im, fm = heuristics_miner.apply(log, parameters={\"dependency_thresh\": 0.99})\n",
    "    fit = replay_factory.apply(C_log, net, im, fm )\n",
    "    print(\"fitness {}\".format(fit['averageFitness']))\n",
    "    if fit['averageFitness'] > tf :\n",
    "        C.append(cur_dpi)\n",
    "        C = list(set(C))\n",
    "        try : \n",
    "            R.remove(cur_dpi)\n",
    "            \n",
    "        except : \n",
    "            print(\"not found\")\n",
    "            print\n",
    "            pass\n",
    "    \n",
    "    else : \n",
    "        pass\n",
    "        # if cluster is larger enough\n",
    "        # then : look ahead\n",
    "        # else : I <- I U {cur_dpi}\n",
    "        \n",
    "    \n",
    "    return C, R"
   ]
  },
  {
   "cell_type": "code",
   "execution_count": 189,
   "metadata": {},
   "outputs": [
    {
     "name": "stderr",
     "output_type": "stream",
     "text": [
      "/home/bk/anaconda3/lib/python3.7/site-packages/ipykernel_launcher.py:9: DeprecatedWarning: apply_heu is deprecated as of 1.3.0 and will be removed in 2.0.0. Use algorithm entrypoint instead\n",
      "  if __name__ == '__main__':\n",
      "/home/bk/anaconda3/lib/python3.7/site-packages/ipykernel_launcher.py:10: DeprecatedWarning: apply is deprecated as of 1.3.0 and will be removed in 2.0.0. Use algorithm entrypoint instead\n",
      "  # Remove the CWD from sys.path while we load stuff.\n",
      "/home/bk/anaconda3/lib/python3.7/site-packages/ipykernel_launcher.py:11: DeprecatedWarning: apply is deprecated as of 1.3.0 and will be removed in 2.0.0. Use evaluator entrypoint instead\n",
      "  # This is added back by InteractiveShellApp.init_path()\n"
     ]
    },
    {
     "name": "stdout",
     "output_type": "stream",
     "text": [
      "fitness 0.8000000000000076\n",
      "not found\n"
     ]
    }
   ],
   "source": [
    "C,R = fit_check_w_HM(log, cur_dpi, C, tf)"
   ]
  },
  {
   "cell_type": "code",
   "execution_count": 187,
   "metadata": {},
   "outputs": [],
   "source": [
    "C = R[0:100]"
   ]
  },
  {
   "cell_type": "code",
   "execution_count": 180,
   "metadata": {},
   "outputs": [
    {
     "data": {
      "text/plain": [
       "['Permit SUBMITTED by EMPLOYEE,Permit APPROVED by ADMINISTRATION,Permit APPROVED by BUDGET OWNER,Permit FINAL_APPROVED by SUPERVISOR,Request For Payment SUBMITTED by EMPLOYEE,Request For Payment APPROVED by ADMINISTRATION,Request For Payment APPROVED by BUDGET OWNER,Request For Payment FINAL_APPROVED by SUPERVISOR,Request Payment,Payment Handled',\n",
       " 'Permit SUBMITTED by EMPLOYEE,Permit APPROVED by ADMINISTRATION,Permit APPROVED by SUPERVISOR,Permit FINAL_APPROVED by DIRECTOR,Request For Payment SUBMITTED by EMPLOYEE,Request For Payment APPROVED by ADMINISTRATION,Request For Payment FINAL_APPROVED by SUPERVISOR,Request Payment,Payment Handled',\n",
       " 'Permit SUBMITTED by EMPLOYEE,Permit APPROVED by ADMINISTRATION,Permit APPROVED by BUDGET OWNER,Permit APPROVED by SUPERVISOR,Permit FINAL_APPROVED by DIRECTOR,Request For Payment SUBMITTED by EMPLOYEE,Request For Payment APPROVED by ADMINISTRATION,Request For Payment APPROVED by BUDGET OWNER,Request For Payment FINAL_APPROVED by SUPERVISOR,Request Payment,Payment Handled',\n",
       " 'Request For Payment SUBMITTED by EMPLOYEE,Request For Payment APPROVED by ADMINISTRATION,Request For Payment APPROVED by BUDGET OWNER,Request For Payment FINAL_APPROVED by SUPERVISOR,Request Payment,Payment Handled',\n",
       " 'Permit SUBMITTED by EMPLOYEE,Permit APPROVED by PRE_APPROVER,Permit FINAL_APPROVED by SUPERVISOR,Request For Payment SUBMITTED by EMPLOYEE,Request For Payment APPROVED by PRE_APPROVER,Request For Payment FINAL_APPROVED by SUPERVISOR,Request Payment,Payment Handled',\n",
       " 'Request For Payment SUBMITTED by EMPLOYEE,Request For Payment APPROVED by ADMINISTRATION,Request For Payment FINAL_APPROVED by SUPERVISOR,Request Payment,Payment Handled',\n",
       " 'Permit SUBMITTED by EMPLOYEE,Permit FINAL_APPROVED by SUPERVISOR,Request For Payment SUBMITTED by EMPLOYEE,Request For Payment FINAL_APPROVED by SUPERVISOR,Request Payment,Payment Handled',\n",
       " 'Permit SUBMITTED by EMPLOYEE,Permit APPROVED by ADMINISTRATION,Permit FINAL_APPROVED by SUPERVISOR,Request For Payment SUBMITTED by EMPLOYEE,Request For Payment REJECTED by ADMINISTRATION,Request For Payment REJECTED by EMPLOYEE,Request For Payment SUBMITTED by EMPLOYEE,Request For Payment APPROVED by ADMINISTRATION,Request For Payment FINAL_APPROVED by SUPERVISOR,Request Payment,Payment Handled',\n",
       " 'Permit SUBMITTED by EMPLOYEE,Permit APPROVED by ADMINISTRATION,Request For Payment SUBMITTED by EMPLOYEE,Request For Payment APPROVED by ADMINISTRATION,Permit FINAL_APPROVED by SUPERVISOR,Request For Payment FINAL_APPROVED by SUPERVISOR,Request Payment,Payment Handled',\n",
       " 'Permit SUBMITTED by EMPLOYEE,Permit APPROVED by ADMINISTRATION,Request For Payment SUBMITTED by EMPLOYEE,Request For Payment APPROVED by ADMINISTRATION,Permit APPROVED by BUDGET OWNER,Request For Payment APPROVED by BUDGET OWNER,Permit FINAL_APPROVED by SUPERVISOR,Request For Payment FINAL_APPROVED by SUPERVISOR,Request Payment,Payment Handled',\n",
       " 'Permit SUBMITTED by EMPLOYEE,Permit APPROVED by ADMINISTRATION,Permit APPROVED by BUDGET OWNER,Permit FINAL_APPROVED by SUPERVISOR,Request For Payment SUBMITTED by EMPLOYEE,Request For Payment REJECTED by ADMINISTRATION,Request For Payment REJECTED by EMPLOYEE,Request For Payment SUBMITTED by EMPLOYEE,Request For Payment APPROVED by ADMINISTRATION,Request For Payment APPROVED by BUDGET OWNER,Request For Payment FINAL_APPROVED by SUPERVISOR,Request Payment,Payment Handled',\n",
       " 'Permit SUBMITTED by EMPLOYEE,Permit APPROVED by SUPERVISOR,Permit FINAL_APPROVED by DIRECTOR,Request For Payment SUBMITTED by EMPLOYEE,Request For Payment FINAL_APPROVED by SUPERVISOR,Request Payment,Payment Handled',\n",
       " 'Request For Payment SUBMITTED by EMPLOYEE,Request For Payment REJECTED by ADMINISTRATION,Request For Payment REJECTED by EMPLOYEE',\n",
       " 'Permit SUBMITTED by EMPLOYEE,Permit APPROVED by ADMINISTRATION,Permit FINAL_APPROVED by SUPERVISOR,Request For Payment SUBMITTED by EMPLOYEE,Request For Payment APPROVED by ADMINISTRATION,Request For Payment APPROVED by BUDGET OWNER,Request For Payment FINAL_APPROVED by SUPERVISOR,Request Payment,Payment Handled',\n",
       " 'Permit SUBMITTED by EMPLOYEE,Permit APPROVED by ADMINISTRATION,Request For Payment SUBMITTED by EMPLOYEE,Request For Payment APPROVED by ADMINISTRATION,Request For Payment FINAL_APPROVED by SUPERVISOR,Permit FINAL_APPROVED by SUPERVISOR,Request Payment,Payment Handled',\n",
       " 'Request For Payment SUBMITTED by EMPLOYEE,Request For Payment FINAL_APPROVED by SUPERVISOR,Request Payment,Payment Handled',\n",
       " 'Permit SUBMITTED by EMPLOYEE,Permit APPROVED by ADMINISTRATION,Permit APPROVED by SUPERVISOR,Permit FINAL_APPROVED by DIRECTOR,Request For Payment SUBMITTED by EMPLOYEE,Request For Payment APPROVED by ADMINISTRATION,Request For Payment APPROVED by SUPERVISOR,Request For Payment FINAL_APPROVED by DIRECTOR,Request Payment,Payment Handled',\n",
       " 'Permit SUBMITTED by EMPLOYEE,Permit APPROVED by ADMINISTRATION,Permit APPROVED by BUDGET OWNER,Permit FINAL_APPROVED by SUPERVISOR,Request For Payment SUBMITTED by EMPLOYEE,Request For Payment REJECTED by ADMINISTRATION,Request For Payment REJECTED by EMPLOYEE',\n",
       " 'Permit SUBMITTED by EMPLOYEE,Permit APPROVED by ADMINISTRATION,Permit FINAL_APPROVED by SUPERVISOR,Request For Payment SUBMITTED by EMPLOYEE,Request For Payment REJECTED by ADMINISTRATION,Request For Payment REJECTED by EMPLOYEE',\n",
       " 'Permit SUBMITTED by EMPLOYEE,Permit APPROVED by PRE_APPROVER,Permit FINAL_APPROVED by SUPERVISOR,Request For Payment SUBMITTED by EMPLOYEE,Request For Payment REJECTED by PRE_APPROVER,Request For Payment REJECTED by EMPLOYEE,Request For Payment SUBMITTED by EMPLOYEE,Request For Payment APPROVED by PRE_APPROVER,Request For Payment FINAL_APPROVED by SUPERVISOR,Request Payment,Payment Handled',\n",
       " 'Permit SUBMITTED by EMPLOYEE,Permit APPROVED by PRE_APPROVER,Permit APPROVED by SUPERVISOR,Permit FINAL_APPROVED by DIRECTOR,Request For Payment SUBMITTED by EMPLOYEE,Request For Payment APPROVED by PRE_APPROVER,Request For Payment FINAL_APPROVED by SUPERVISOR,Request Payment,Payment Handled',\n",
       " 'Permit SUBMITTED by EMPLOYEE,Permit APPROVED by ADMINISTRATION,Permit APPROVED by SUPERVISOR,Permit FINAL_APPROVED by DIRECTOR,Request For Payment SUBMITTED by EMPLOYEE,Request For Payment REJECTED by ADMINISTRATION,Request For Payment REJECTED by EMPLOYEE,Request For Payment SUBMITTED by EMPLOYEE,Request For Payment APPROVED by ADMINISTRATION,Request For Payment FINAL_APPROVED by SUPERVISOR,Request Payment,Payment Handled',\n",
       " 'Permit SUBMITTED by EMPLOYEE,Permit APPROVED by ADMINISTRATION,Permit REJECTED by SUPERVISOR,Permit REJECTED by EMPLOYEE,Permit SUBMITTED by EMPLOYEE,Permit APPROVED by ADMINISTRATION,Permit FINAL_APPROVED by SUPERVISOR,Request For Payment SUBMITTED by EMPLOYEE,Request For Payment APPROVED by ADMINISTRATION,Request For Payment FINAL_APPROVED by SUPERVISOR,Request Payment,Payment Handled',\n",
       " 'Permit SUBMITTED by EMPLOYEE,Permit APPROVED by ADMINISTRATION,Permit REJECTED by BUDGET OWNER,Permit REJECTED by EMPLOYEE,Permit SUBMITTED by EMPLOYEE,Permit APPROVED by ADMINISTRATION,Permit APPROVED by BUDGET OWNER,Permit FINAL_APPROVED by SUPERVISOR,Request For Payment SUBMITTED by EMPLOYEE,Request For Payment APPROVED by ADMINISTRATION,Request For Payment APPROVED by BUDGET OWNER,Request For Payment FINAL_APPROVED by SUPERVISOR,Request Payment,Payment Handled',\n",
       " 'Permit SUBMITTED by EMPLOYEE,Permit APPROVED by ADMINISTRATION,Permit APPROVED by BUDGET OWNER,Permit APPROVED by SUPERVISOR,Permit FINAL_APPROVED by DIRECTOR,Request For Payment SUBMITTED by EMPLOYEE,Request For Payment REJECTED by ADMINISTRATION,Request For Payment REJECTED by EMPLOYEE,Request For Payment SUBMITTED by EMPLOYEE,Request For Payment APPROVED by ADMINISTRATION,Request For Payment APPROVED by BUDGET OWNER,Request For Payment FINAL_APPROVED by SUPERVISOR,Request Payment,Payment Handled',\n",
       " 'Request For Payment SAVED by EMPLOYEE',\n",
       " 'Permit SUBMITTED by EMPLOYEE,Permit REJECTED by PRE_APPROVER,Permit REJECTED by EMPLOYEE,Permit SUBMITTED by EMPLOYEE,Permit APPROVED by PRE_APPROVER,Permit FINAL_APPROVED by SUPERVISOR,Request For Payment SUBMITTED by EMPLOYEE,Request For Payment APPROVED by PRE_APPROVER,Request For Payment FINAL_APPROVED by SUPERVISOR,Request Payment,Payment Handled',\n",
       " 'Permit SUBMITTED by EMPLOYEE,Permit APPROVED by ADMINISTRATION,Request For Payment SUBMITTED by EMPLOYEE,Request For Payment REJECTED by ADMINISTRATION,Permit FINAL_APPROVED by SUPERVISOR,Request For Payment REJECTED by EMPLOYEE,Request For Payment SUBMITTED by EMPLOYEE,Request For Payment APPROVED by ADMINISTRATION,Request For Payment FINAL_APPROVED by SUPERVISOR,Request Payment,Payment Handled',\n",
       " 'Permit SUBMITTED by EMPLOYEE,Permit FINAL_APPROVED by SUPERVISOR,Request For Payment SUBMITTED by EMPLOYEE,Request For Payment APPROVED by PRE_APPROVER,Request For Payment FINAL_APPROVED by SUPERVISOR,Request Payment,Payment Handled',\n",
       " 'Permit SUBMITTED by EMPLOYEE,Permit APPROVED by ADMINISTRATION,Permit APPROVED by BUDGET OWNER,Permit FINAL_APPROVED by SUPERVISOR,Request For Payment SUBMITTED by EMPLOYEE,Request For Payment APPROVED by ADMINISTRATION,Request For Payment FINAL_APPROVED by SUPERVISOR,Request Payment,Payment Handled',\n",
       " 'Permit SUBMITTED by EMPLOYEE,Permit APPROVED by PRE_APPROVER,Request For Payment SUBMITTED by EMPLOYEE,Request For Payment APPROVED by PRE_APPROVER,Permit FINAL_APPROVED by SUPERVISOR,Request For Payment FINAL_APPROVED by SUPERVISOR,Request Payment,Payment Handled',\n",
       " 'Permit SUBMITTED by EMPLOYEE,Permit APPROVED by ADMINISTRATION,Request For Payment SUBMITTED by EMPLOYEE,Request For Payment APPROVED by ADMINISTRATION,Request For Payment APPROVED by BUDGET OWNER,Permit APPROVED by BUDGET OWNER,Request For Payment FINAL_APPROVED by SUPERVISOR,Permit FINAL_APPROVED by SUPERVISOR,Request Payment,Payment Handled',\n",
       " 'Permit SUBMITTED by EMPLOYEE,Permit APPROVED by ADMINISTRATION,Request For Payment SUBMITTED by EMPLOYEE,Request For Payment APPROVED by ADMINISTRATION,Permit APPROVED by BUDGET OWNER,Request For Payment APPROVED by BUDGET OWNER,Permit APPROVED by SUPERVISOR,Request For Payment FINAL_APPROVED by SUPERVISOR,Permit FINAL_APPROVED by DIRECTOR,Request Payment,Payment Handled',\n",
       " 'Permit SUBMITTED by EMPLOYEE,Permit APPROVED by ADMINISTRATION,Request For Payment SUBMITTED by EMPLOYEE,Request For Payment APPROVED by ADMINISTRATION,Permit APPROVED by BUDGET OWNER,Permit FINAL_APPROVED by SUPERVISOR,Request For Payment APPROVED by BUDGET OWNER,Request For Payment FINAL_APPROVED by SUPERVISOR,Request Payment,Payment Handled',\n",
       " 'Permit SUBMITTED by EMPLOYEE,Permit APPROVED by ADMINISTRATION,Permit APPROVED by BUDGET OWNER,Request For Payment SUBMITTED by EMPLOYEE,Request For Payment APPROVED by ADMINISTRATION,Request For Payment APPROVED by BUDGET OWNER,Permit FINAL_APPROVED by SUPERVISOR,Request For Payment FINAL_APPROVED by SUPERVISOR,Request Payment,Payment Handled',\n",
       " 'Permit SUBMITTED by EMPLOYEE,Permit APPROVED by ADMINISTRATION,Permit APPROVED by BUDGET OWNER,Request For Payment SUBMITTED by EMPLOYEE,Request For Payment APPROVED by ADMINISTRATION,Permit FINAL_APPROVED by SUPERVISOR,Request For Payment APPROVED by BUDGET OWNER,Request For Payment FINAL_APPROVED by SUPERVISOR,Request Payment,Payment Handled',\n",
       " 'Permit SUBMITTED by EMPLOYEE,Permit APPROVED by ADMINISTRATION,Permit APPROVED by BUDGET OWNER,Permit APPROVED by SUPERVISOR,Permit FINAL_APPROVED by DIRECTOR,Request For Payment SUBMITTED by EMPLOYEE,Request For Payment APPROVED by ADMINISTRATION,Request For Payment APPROVED by BUDGET OWNER,Request For Payment APPROVED by SUPERVISOR,Request For Payment FINAL_APPROVED by DIRECTOR,Request Payment,Payment Handled',\n",
       " 'Permit SUBMITTED by EMPLOYEE,Permit FINAL_APPROVED by SUPERVISOR,Request For Payment SUBMITTED by EMPLOYEE,Request For Payment APPROVED by ADMINISTRATION,Request For Payment APPROVED by BUDGET OWNER,Request For Payment FINAL_APPROVED by SUPERVISOR,Request Payment,Payment Handled',\n",
       " 'Permit SUBMITTED by EMPLOYEE,Permit APPROVED by SUPERVISOR,Permit FINAL_APPROVED by DIRECTOR,Request For Payment SUBMITTED by EMPLOYEE,Request For Payment APPROVED by SUPERVISOR,Request For Payment FINAL_APPROVED by DIRECTOR,Request Payment,Payment Handled',\n",
       " 'Permit SUBMITTED by EMPLOYEE,Permit APPROVED by ADMINISTRATION,Request For Payment SUBMITTED by EMPLOYEE,Request For Payment APPROVED by ADMINISTRATION,Permit APPROVED by SUPERVISOR,Request For Payment FINAL_APPROVED by SUPERVISOR,Request Payment,Permit FINAL_APPROVED by DIRECTOR,Payment Handled',\n",
       " 'Permit SUBMITTED by EMPLOYEE,Permit APPROVED by ADMINISTRATION,Permit REJECTED by SUPERVISOR,Permit REJECTED by EMPLOYEE,Permit SUBMITTED by EMPLOYEE,Permit APPROVED by ADMINISTRATION,Permit APPROVED by SUPERVISOR,Permit FINAL_APPROVED by DIRECTOR,Request For Payment SUBMITTED by EMPLOYEE,Request For Payment APPROVED by ADMINISTRATION,Request For Payment FINAL_APPROVED by SUPERVISOR,Request Payment,Payment Handled',\n",
       " 'Permit SUBMITTED by EMPLOYEE,Permit APPROVED by ADMINISTRATION,Permit FINAL_APPROVED by SUPERVISOR,Request For Payment SUBMITTED by EMPLOYEE,Request For Payment REJECTED by ADMINISTRATION,Request For Payment REJECTED by EMPLOYEE,Request For Payment SUBMITTED by EMPLOYEE,Request For Payment REJECTED by ADMINISTRATION,Request For Payment REJECTED by EMPLOYEE,Request For Payment SUBMITTED by EMPLOYEE,Request For Payment APPROVED by ADMINISTRATION,Request For Payment FINAL_APPROVED by SUPERVISOR,Request Payment,Payment Handled',\n",
       " 'Permit SUBMITTED by EMPLOYEE,Permit APPROVED by ADMINISTRATION,Permit APPROVED by SUPERVISOR,Request For Payment SUBMITTED by EMPLOYEE,Request For Payment APPROVED by ADMINISTRATION,Request For Payment FINAL_APPROVED by SUPERVISOR,Permit FINAL_APPROVED by DIRECTOR,Request Payment,Payment Handled',\n",
       " 'Permit SUBMITTED by EMPLOYEE,Permit APPROVED by ADMINISTRATION,Permit APPROVED by BUDGET OWNER,Permit FINAL_APPROVED by SUPERVISOR,Request For Payment SAVED by EMPLOYEE',\n",
       " 'Request For Payment SUBMITTED by EMPLOYEE,Request For Payment APPROVED by PRE_APPROVER,Request For Payment FINAL_APPROVED by SUPERVISOR,Request Payment,Payment Handled',\n",
       " 'Permit SUBMITTED by EMPLOYEE,Permit REJECTED by PRE_APPROVER,Permit REJECTED by EMPLOYEE,Permit SUBMITTED by EMPLOYEE,Permit APPROVED by PRE_APPROVER,Permit FINAL_APPROVED by SUPERVISOR,Request For Payment SUBMITTED by EMPLOYEE,Request For Payment REJECTED by PRE_APPROVER,Request For Payment REJECTED by EMPLOYEE,Request For Payment SUBMITTED by EMPLOYEE,Request For Payment APPROVED by PRE_APPROVER,Request For Payment FINAL_APPROVED by SUPERVISOR,Request Payment,Payment Handled',\n",
       " 'Permit SUBMITTED by EMPLOYEE,Permit FINAL_APPROVED by SUPERVISOR,Request For Payment SUBMITTED by EMPLOYEE,Request For Payment FINAL_APPROVED by SUPERVISOR,Request Payment,Payment Handled,Permit REJECTED by MISSING',\n",
       " 'Permit SUBMITTED by EMPLOYEE,Permit APPROVED by SUPERVISOR,Permit FINAL_APPROVED by DIRECTOR,Request For Payment SUBMITTED by EMPLOYEE,Request For Payment APPROVED by PRE_APPROVER,Request For Payment FINAL_APPROVED by SUPERVISOR,Request Payment,Payment Handled',\n",
       " 'Permit SUBMITTED by EMPLOYEE,Permit APPROVED by SUPERVISOR,Permit FINAL_APPROVED by DIRECTOR,Permit REJECTED by MISSING,Permit SUBMITTED by EMPLOYEE,Permit APPROVED by SUPERVISOR,Permit FINAL_APPROVED by DIRECTOR,Request For Payment SUBMITTED by EMPLOYEE,Request For Payment FINAL_APPROVED by SUPERVISOR,Request Payment,Payment Handled,Permit REJECTED by MISSING,Permit SUBMITTED by EMPLOYEE,Permit APPROVED by SUPERVISOR,Permit FINAL_APPROVED by DIRECTOR',\n",
       " 'Permit SUBMITTED by EMPLOYEE,Permit APPROVED by PRE_APPROVER,Permit FINAL_APPROVED by SUPERVISOR,Request For Payment SUBMITTED by EMPLOYEE,Request For Payment REJECTED by PRE_APPROVER,Request For Payment REJECTED by EMPLOYEE',\n",
       " 'Permit SUBMITTED by EMPLOYEE,Permit APPROVED by PRE_APPROVER,Permit FINAL_APPROVED by SUPERVISOR,Request For Payment SUBMITTED by EMPLOYEE,Request For Payment APPROVED by PRE_APPROVER,Request For Payment FINAL_APPROVED by SUPERVISOR,Request Payment,Payment Handled,Permit REJECTED by MISSING',\n",
       " 'Permit SUBMITTED by EMPLOYEE,Permit APPROVED by PRE_APPROVER,Permit FINAL_APPROVED by SUPERVISOR,Request For Payment SUBMITTED by EMPLOYEE,Request For Payment APPROVED by PRE_APPROVER,Request For Payment FINAL_APPROVED by SUPERVISOR,Request For Payment REJECTED by MISSING',\n",
       " 'Permit SUBMITTED by EMPLOYEE,Permit APPROVED by ADMINISTRATION,Request For Payment SUBMITTED by EMPLOYEE,Request For Payment REJECTED by ADMINISTRATION,Permit APPROVED by BUDGET OWNER,Request For Payment REJECTED by EMPLOYEE,Request For Payment SUBMITTED by EMPLOYEE,Request For Payment APPROVED by ADMINISTRATION,Permit FINAL_APPROVED by SUPERVISOR,Request For Payment APPROVED by BUDGET OWNER,Request For Payment FINAL_APPROVED by SUPERVISOR,Request Payment,Payment Handled',\n",
       " 'Permit SUBMITTED by EMPLOYEE,Permit APPROVED by ADMINISTRATION,Request For Payment SUBMITTED by EMPLOYEE,Permit FINAL_APPROVED by SUPERVISOR,Request For Payment APPROVED by ADMINISTRATION,Request For Payment FINAL_APPROVED by SUPERVISOR,Request Payment,Payment Handled',\n",
       " 'Permit SUBMITTED by EMPLOYEE,Permit APPROVED by ADMINISTRATION,Request For Payment SAVED by EMPLOYEE,Permit APPROVED by BUDGET OWNER,Permit FINAL_APPROVED by SUPERVISOR',\n",
       " 'Permit SUBMITTED by EMPLOYEE,Permit APPROVED by ADMINISTRATION,Permit REJECTED by SUPERVISOR,Permit REJECTED by EMPLOYEE,Permit SUBMITTED by EMPLOYEE,Permit APPROVED by ADMINISTRATION,Permit FINAL_APPROVED by SUPERVISOR,Request For Payment SUBMITTED by EMPLOYEE,Request For Payment REJECTED by ADMINISTRATION,Request For Payment REJECTED by EMPLOYEE,Request For Payment SUBMITTED by EMPLOYEE,Request For Payment APPROVED by ADMINISTRATION,Request For Payment FINAL_APPROVED by SUPERVISOR,Request Payment,Payment Handled',\n",
       " 'Permit SUBMITTED by EMPLOYEE,Permit APPROVED by ADMINISTRATION,Permit FINAL_APPROVED by SUPERVISOR,Request For Payment SUBMITTED by EMPLOYEE,Request For Payment APPROVED by ADMINISTRATION,Request For Payment REJECTED by SUPERVISOR,Request For Payment REJECTED by EMPLOYEE,Request For Payment SUBMITTED by EMPLOYEE,Request For Payment APPROVED by ADMINISTRATION,Request For Payment FINAL_APPROVED by SUPERVISOR,Request Payment,Payment Handled',\n",
       " 'Permit SUBMITTED by EMPLOYEE,Permit APPROVED by ADMINISTRATION,Permit FINAL_APPROVED by SUPERVISOR,Request For Payment SAVED by EMPLOYEE',\n",
       " 'Permit SUBMITTED by EMPLOYEE,Permit APPROVED by ADMINISTRATION,Permit APPROVED by BUDGET OWNER,Request For Payment SUBMITTED by EMPLOYEE,Request For Payment APPROVED by ADMINISTRATION,Request For Payment APPROVED by BUDGET OWNER,Request For Payment FINAL_APPROVED by SUPERVISOR,Permit FINAL_APPROVED by SUPERVISOR,Request Payment,Payment Handled',\n",
       " 'Permit SUBMITTED by EMPLOYEE,Permit APPROVED by ADMINISTRATION,Permit APPROVED by BUDGET OWNER,Permit APPROVED by SUPERVISOR,Permit FINAL_APPROVED by DIRECTOR,Request For Payment SUBMITTED by EMPLOYEE,Request For Payment REJECTED by ADMINISTRATION,Request For Payment REJECTED by EMPLOYEE,Request For Payment SUBMITTED by EMPLOYEE,Request For Payment APPROVED by ADMINISTRATION,Request For Payment APPROVED by BUDGET OWNER,Request For Payment APPROVED by SUPERVISOR,Request For Payment FINAL_APPROVED by DIRECTOR,Request Payment,Payment Handled',\n",
       " 'Request For Payment SUBMITTED by EMPLOYEE,Request For Payment REJECTED by ADMINISTRATION,Request For Payment REJECTED by EMPLOYEE,Request For Payment SUBMITTED by EMPLOYEE,Request For Payment APPROVED by ADMINISTRATION,Request For Payment FINAL_APPROVED by SUPERVISOR,Request Payment,Payment Handled',\n",
       " 'Request For Payment SUBMITTED by EMPLOYEE,Request For Payment REJECTED by ADMINISTRATION,Request For Payment REJECTED by EMPLOYEE,Request For Payment SUBMITTED by EMPLOYEE,Request For Payment APPROVED by ADMINISTRATION,Request For Payment APPROVED by BUDGET OWNER,Request For Payment FINAL_APPROVED by SUPERVISOR,Request Payment,Payment Handled',\n",
       " 'Request For Payment SUBMITTED by EMPLOYEE,Request For Payment FINAL_APPROVED by SUPERVISOR,Request For Payment REJECTED by MISSING',\n",
       " 'Request For Payment SUBMITTED by EMPLOYEE,Request For Payment APPROVED by ADMINISTRATION,Request For Payment APPROVED by BUDGET OWNER,Request For Payment APPROVED by SUPERVISOR,Request For Payment FINAL_APPROVED by DIRECTOR,Request Payment,Payment Handled',\n",
       " 'Permit SUBMITTED by EMPLOYEE,Permit REJECTED by SUPERVISOR,Permit REJECTED by EMPLOYEE,Permit SUBMITTED by EMPLOYEE,Permit FINAL_APPROVED by SUPERVISOR,Request For Payment SUBMITTED by EMPLOYEE,Request For Payment FINAL_APPROVED by SUPERVISOR,Request Payment,Payment Handled',\n",
       " 'Permit SUBMITTED by EMPLOYEE,Permit REJECTED by SUPERVISOR,Permit REJECTED by EMPLOYEE,Permit SUBMITTED by EMPLOYEE,Permit APPROVED by SUPERVISOR,Permit FINAL_APPROVED by DIRECTOR,Request For Payment SUBMITTED by EMPLOYEE,Request For Payment APPROVED by SUPERVISOR,Request For Payment FINAL_APPROVED by DIRECTOR,Request Payment,Payment Handled',\n",
       " 'Permit SUBMITTED by EMPLOYEE,Permit REJECTED by PRE_APPROVER,Permit REJECTED by EMPLOYEE,Permit SUBMITTED by EMPLOYEE,Permit REJECTED by PRE_APPROVER,Permit REJECTED by EMPLOYEE,Permit SUBMITTED by EMPLOYEE,Permit APPROVED by PRE_APPROVER,Permit FINAL_APPROVED by SUPERVISOR,Request For Payment SUBMITTED by EMPLOYEE,Request For Payment APPROVED by PRE_APPROVER,Request For Payment FINAL_APPROVED by SUPERVISOR,Request Payment,Payment Handled',\n",
       " 'Permit SUBMITTED by EMPLOYEE,Permit REJECTED by PRE_APPROVER,Permit REJECTED by EMPLOYEE,Permit SUBMITTED by EMPLOYEE,Permit APPROVED by PRE_APPROVER,Permit APPROVED by SUPERVISOR,Permit FINAL_APPROVED by DIRECTOR,Request For Payment SUBMITTED by EMPLOYEE,Request For Payment APPROVED by PRE_APPROVER,Request For Payment FINAL_APPROVED by SUPERVISOR,Request Payment,Payment Handled',\n",
       " 'Permit SUBMITTED by EMPLOYEE,Permit REJECTED by ADMINISTRATION,Permit REJECTED by EMPLOYEE,Permit SUBMITTED by EMPLOYEE,Permit APPROVED by ADMINISTRATION,Permit FINAL_APPROVED by SUPERVISOR,Request For Payment SUBMITTED by EMPLOYEE,Request For Payment APPROVED by ADMINISTRATION,Request For Payment FINAL_APPROVED by SUPERVISOR,Request Payment,Payment Handled',\n",
       " 'Permit SUBMITTED by EMPLOYEE,Permit REJECTED by ADMINISTRATION,Permit REJECTED by EMPLOYEE,Permit SUBMITTED by EMPLOYEE,Permit APPROVED by ADMINISTRATION,Permit APPROVED by BUDGET OWNER,Permit FINAL_APPROVED by SUPERVISOR,Request For Payment SUBMITTED by EMPLOYEE,Request For Payment REJECTED by ADMINISTRATION,Request For Payment REJECTED by EMPLOYEE,Request For Payment SUBMITTED by EMPLOYEE,Request For Payment APPROVED by ADMINISTRATION,Request For Payment APPROVED by BUDGET OWNER,Request For Payment FINAL_APPROVED by SUPERVISOR,Request Payment,Payment Handled',\n",
       " 'Permit SUBMITTED by EMPLOYEE,Permit REJECTED by ADMINISTRATION,Permit REJECTED by EMPLOYEE,Permit SUBMITTED by EMPLOYEE,Permit APPROVED by ADMINISTRATION,Permit APPROVED by BUDGET OWNER,Permit APPROVED by SUPERVISOR,Permit FINAL_APPROVED by DIRECTOR,Request For Payment SUBMITTED by EMPLOYEE,Request For Payment APPROVED by ADMINISTRATION,Request For Payment APPROVED by BUDGET OWNER,Request For Payment FINAL_APPROVED by SUPERVISOR,Request Payment,Payment Handled',\n",
       " 'Permit SUBMITTED by EMPLOYEE,Permit FINAL_APPROVED by SUPERVISOR,Request For Payment SUBMITTED by EMPLOYEE,Request For Payment REJECTED by SUPERVISOR,Request For Payment REJECTED by EMPLOYEE',\n",
       " 'Permit SUBMITTED by EMPLOYEE,Permit FINAL_APPROVED by SUPERVISOR,Permit APPROVED by PRE_APPROVER,Request For Payment SUBMITTED by EMPLOYEE,Request For Payment APPROVED by PRE_APPROVER,Request For Payment FINAL_APPROVED by SUPERVISOR,Request Payment,Payment Handled',\n",
       " 'Permit SUBMITTED by EMPLOYEE,Permit APPROVED by SUPERVISOR,Request For Payment SUBMITTED by EMPLOYEE,Request For Payment FINAL_APPROVED by SUPERVISOR,Permit FINAL_APPROVED by DIRECTOR,Request Payment,Payment Handled',\n",
       " 'Permit SUBMITTED by EMPLOYEE,Permit APPROVED by SUPERVISOR,Permit FINAL_APPROVED by DIRECTOR,Request For Payment SUBMITTED by EMPLOYEE,Request For Payment FINAL_APPROVED by SUPERVISOR,Request Payment,Payment Handled,Permit REJECTED by MISSING,Permit SUBMITTED by EMPLOYEE,Permit APPROVED by SUPERVISOR,Permit FINAL_APPROVED by DIRECTOR',\n",
       " 'Permit SUBMITTED by EMPLOYEE,Permit APPROVED by SUPERVISOR,Permit FINAL_APPROVED by DIRECTOR,Permit REJECTED by MISSING,Permit SUBMITTED by EMPLOYEE,Permit FINAL_APPROVED by SUPERVISOR,Request For Payment SUBMITTED by EMPLOYEE,Request For Payment FINAL_APPROVED by SUPERVISOR,Request Payment,Payment Handled',\n",
       " 'Permit SUBMITTED by EMPLOYEE,Permit APPROVED by PRE_APPROVER,Request For Payment SUBMITTED by EMPLOYEE,Request For Payment APPROVED by PRE_APPROVER,Request For Payment FINAL_APPROVED by SUPERVISOR,Permit FINAL_APPROVED by SUPERVISOR,Request Payment,Payment Handled',\n",
       " 'Permit SUBMITTED by EMPLOYEE,Permit APPROVED by PRE_APPROVER,Permit FINAL_APPROVED by SUPERVISOR,Request For Payment SUBMITTED by EMPLOYEE,Request For Payment APPROVED by ADMINISTRATION,Request For Payment FINAL_APPROVED by SUPERVISOR,Request Payment,Payment Handled',\n",
       " 'Permit SUBMITTED by EMPLOYEE,Permit APPROVED by PRE_APPROVER,Permit FINAL_APPROVED by SUPERVISOR,Request For Payment SUBMITTED by EMPLOYEE,Request For Payment APPROVED by ADMINISTRATION,Request For Payment APPROVED by BUDGET OWNER,Request For Payment FINAL_APPROVED by SUPERVISOR,Request Payment,Payment Handled',\n",
       " 'Permit SUBMITTED by EMPLOYEE,Permit APPROVED by PRE_APPROVER,Permit FINAL_APPROVED by SUPERVISOR,Request For Payment SAVED by EMPLOYEE',\n",
       " 'Permit SUBMITTED by EMPLOYEE,Permit APPROVED by ADMINISTRATION,Request For Payment SUBMITTED by EMPLOYEE,Request For Payment APPROVED by ADMINISTRATION,Request For Payment FINAL_APPROVED by SUPERVISOR,Request Payment,Permit FINAL_APPROVED by SUPERVISOR,Payment Handled',\n",
       " 'Permit SUBMITTED by EMPLOYEE,Permit APPROVED by ADMINISTRATION,Request For Payment SUBMITTED by EMPLOYEE,Request For Payment APPROVED by ADMINISTRATION,Request For Payment FINAL_APPROVED by SUPERVISOR,Request Payment,Payment Handled,Permit FINAL_APPROVED by SUPERVISOR',\n",
       " 'Permit SUBMITTED by EMPLOYEE,Permit APPROVED by ADMINISTRATION,Request For Payment SUBMITTED by EMPLOYEE,Request For Payment APPROVED by ADMINISTRATION,Request For Payment APPROVED by BUDGET OWNER,Permit APPROVED by BUDGET OWNER,Permit FINAL_APPROVED by SUPERVISOR,Request For Payment FINAL_APPROVED by SUPERVISOR,Request Payment,Payment Handled',\n",
       " 'Permit SUBMITTED by EMPLOYEE,Permit APPROVED by ADMINISTRATION,Request For Payment SUBMITTED by EMPLOYEE,Request For Payment APPROVED by ADMINISTRATION,Permit APPROVED by SUPERVISOR,Request For Payment FINAL_APPROVED by SUPERVISOR,Permit FINAL_APPROVED by DIRECTOR,Request Payment,Payment Handled',\n",
       " 'Permit SUBMITTED by EMPLOYEE,Permit APPROVED by ADMINISTRATION,Request For Payment SUBMITTED by EMPLOYEE,Request For Payment APPROVED by ADMINISTRATION,Permit APPROVED by SUPERVISOR,Request For Payment APPROVED by SUPERVISOR,Permit FINAL_APPROVED by DIRECTOR,Request For Payment FINAL_APPROVED by DIRECTOR,Request Payment,Payment Handled',\n",
       " 'Permit SUBMITTED by EMPLOYEE,Permit APPROVED by ADMINISTRATION,Request For Payment SUBMITTED by EMPLOYEE,Request For Payment APPROVED by ADMINISTRATION,Permit APPROVED by BUDGET OWNER,Request For Payment APPROVED by BUDGET OWNER,Permit APPROVED by SUPERVISOR,Request For Payment FINAL_APPROVED by SUPERVISOR,Request Payment,Permit FINAL_APPROVED by DIRECTOR,Payment Handled',\n",
       " 'Permit SUBMITTED by EMPLOYEE,Permit APPROVED by ADMINISTRATION,Request For Payment SUBMITTED by EMPLOYEE,Permit FINAL_APPROVED by SUPERVISOR,Request For Payment REJECTED by ADMINISTRATION,Request For Payment REJECTED by EMPLOYEE,Request For Payment SUBMITTED by EMPLOYEE,Request For Payment APPROVED by ADMINISTRATION,Request For Payment FINAL_APPROVED by SUPERVISOR,Request Payment,Payment Handled',\n",
       " 'Permit SUBMITTED by EMPLOYEE,Permit APPROVED by ADMINISTRATION,Request For Payment SUBMITTED by EMPLOYEE,Permit APPROVED by BUDGET OWNER,Permit REJECTED by SUPERVISOR,Request For Payment APPROVED by ADMINISTRATION,Request For Payment APPROVED by BUDGET OWNER,Permit REJECTED by EMPLOYEE,Permit SUBMITTED by EMPLOYEE,Permit REJECTED by ADMINISTRATION,Permit REJECTED by EMPLOYEE,Request For Payment REJECTED by SUPERVISOR,Request For Payment REJECTED by EMPLOYEE',\n",
       " 'Permit SUBMITTED by EMPLOYEE,Permit APPROVED by ADMINISTRATION,Permit FINAL_APPROVED by SUPERVISOR,Request For Payment SUBMITTED by EMPLOYEE,Request For Payment REJECTED by ADMINISTRATION,Request For Payment SUBMITTED by EMPLOYEE,Request For Payment REJECTED by ADMINISTRATION,Request For Payment REJECTED by EMPLOYEE',\n",
       " 'Permit SUBMITTED by EMPLOYEE,Permit APPROVED by ADMINISTRATION,Permit FINAL_APPROVED by SUPERVISOR,Request For Payment SUBMITTED by EMPLOYEE,Request For Payment APPROVED by ADMINISTRATION,Request For Payment REJECTED by SUPERVISOR,Request For Payment REJECTED by EMPLOYEE',\n",
       " 'Permit SUBMITTED by EMPLOYEE,Permit APPROVED by ADMINISTRATION,Permit APPROVED by SUPERVISOR,Permit FINAL_APPROVED by DIRECTOR,Request For Payment SUBMITTED by EMPLOYEE,Request For Payment REJECTED by ADMINISTRATION,Request For Payment REJECTED by EMPLOYEE',\n",
       " 'Permit SUBMITTED by EMPLOYEE,Permit APPROVED by ADMINISTRATION,Permit APPROVED by SUPERVISOR,Permit FINAL_APPROVED by DIRECTOR,Request For Payment SUBMITTED by EMPLOYEE,Request For Payment APPROVED by ADMINISTRATION,Request For Payment APPROVED by BUDGET OWNER,Request For Payment FINAL_APPROVED by SUPERVISOR,Request Payment,Payment Handled',\n",
       " 'Permit SUBMITTED by EMPLOYEE,Permit APPROVED by ADMINISTRATION,Permit APPROVED by BUDGET OWNER,Permit FINAL_APPROVED by SUPERVISOR,Request For Payment SUBMITTED by EMPLOYEE,Request For Payment APPROVED by ADMINISTRATION,Request For Payment REJECTED by BUDGET OWNER,Request For Payment SUBMITTED by EMPLOYEE,Request For Payment APPROVED by ADMINISTRATION,Request For Payment APPROVED by BUDGET OWNER,Request For Payment FINAL_APPROVED by SUPERVISOR,Request Payment,Payment Handled',\n",
       " 'Request For Payment SUBMITTED by EMPLOYEE,Request For Payment REJECTED by PRE_APPROVER,Request For Payment REJECTED by EMPLOYEE',\n",
       " 'Request For Payment SUBMITTED by EMPLOYEE,Request For Payment REJECTED by ADMINISTRATION,Request For Payment SUBMITTED by EMPLOYEE,Request For Payment REJECTED by ADMINISTRATION',\n",
       " 'Request For Payment SUBMITTED by EMPLOYEE,Request For Payment REJECTED by ADMINISTRATION,Request For Payment REJECTED by EMPLOYEE,Request For Payment SUBMITTED by EMPLOYEE,Request For Payment REJECTED by ADMINISTRATION,Request For Payment REJECTED by EMPLOYEE,Request For Payment SUBMITTED by EMPLOYEE,Request For Payment APPROVED by ADMINISTRATION,Request For Payment FINAL_APPROVED by SUPERVISOR,Request Payment,Payment Handled',\n",
       " 'Request For Payment SUBMITTED by EMPLOYEE,Request For Payment REJECTED by ADMINISTRATION,Request For Payment REJECTED by EMPLOYEE,Request For Payment SUBMITTED by EMPLOYEE,Request For Payment REJECTED by ADMINISTRATION,Request For Payment REJECTED by EMPLOYEE',\n",
       " 'Request For Payment SUBMITTED by EMPLOYEE,Request For Payment REJECTED by ADMINISTRATION,Request For Payment REJECTED by EMPLOYEE,Request For Payment SUBMITTED by EMPLOYEE,Request For Payment APPROVED by ADMINISTRATION,Request For Payment REJECTED by SUPERVISOR,Request For Payment REJECTED by EMPLOYEE,Request For Payment SUBMITTED by EMPLOYEE,Request For Payment APPROVED by ADMINISTRATION,Request For Payment APPROVED by BUDGET OWNER,Request For Payment FINAL_APPROVED by SUPERVISOR,Request Payment,Payment Handled',\n",
       " 'Request For Payment SUBMITTED by EMPLOYEE,Request For Payment APPROVED by PRE_APPROVER,Request For Payment APPROVED by SUPERVISOR,Request For Payment FINAL_APPROVED by DIRECTOR,Request Payment,Payment Handled',\n",
       " 'Request For Payment SUBMITTED by EMPLOYEE,Request For Payment APPROVED by ADMINISTRATION,Request For Payment REJECTED by SUPERVISOR,Request For Payment REJECTED by EMPLOYEE,Request For Payment SUBMITTED by EMPLOYEE,Request For Payment APPROVED by ADMINISTRATION,Request For Payment FINAL_APPROVED by SUPERVISOR,Request Payment,Payment Handled',\n",
       " 'Request For Payment SUBMITTED by EMPLOYEE,Request For Payment APPROVED by ADMINISTRATION,Request For Payment REJECTED by SUPERVISOR,Request For Payment REJECTED by EMPLOYEE,Request For Payment SUBMITTED by EMPLOYEE,Request For Payment APPROVED by ADMINISTRATION,Request For Payment APPROVED by BUDGET OWNER,Request For Payment FINAL_APPROVED by SUPERVISOR,Request Payment,Payment Handled',\n",
       " 'Request For Payment SUBMITTED by EMPLOYEE,Request For Payment APPROVED by ADMINISTRATION,Request For Payment REJECTED by SUPERVISOR,Request For Payment REJECTED by EMPLOYEE',\n",
       " 'Request For Payment SUBMITTED by EMPLOYEE,Request For Payment APPROVED by ADMINISTRATION,Request For Payment REJECTED by BUDGET OWNER,Request For Payment REJECTED by EMPLOYEE,Request For Payment SUBMITTED by EMPLOYEE,Request For Payment APPROVED by ADMINISTRATION,Request For Payment FINAL_APPROVED by SUPERVISOR,Request Payment,Payment Handled',\n",
       " 'Request For Payment SUBMITTED by EMPLOYEE,Request For Payment APPROVED by ADMINISTRATION,Request For Payment FINAL_APPROVED by SUPERVISOR,Payment Handled',\n",
       " 'Request For Payment SUBMITTED by EMPLOYEE,Request For Payment APPROVED by ADMINISTRATION,Request For Payment APPROVED by BUDGET OWNER,Request For Payment APPROVED by SUPERVISOR,Request For Payment FINAL_APPROVED by DIRECTOR,Payment Handled,Request Payment',\n",
       " 'Permit SUBMITTED by EMPLOYEE,Permit REJECTED by ADMINISTRATION,Request For Payment SUBMITTED by EMPLOYEE,Request For Payment APPROVED by ADMINISTRATION,Request For Payment FINAL_APPROVED by SUPERVISOR,Request Payment,Permit REJECTED by EMPLOYEE,Permit SUBMITTED by EMPLOYEE,Permit APPROVED by ADMINISTRATION,Payment Handled,Permit FINAL_APPROVED by SUPERVISOR',\n",
       " 'Permit SUBMITTED by EMPLOYEE,Permit REJECTED by ADMINISTRATION,Request For Payment SUBMITTED by EMPLOYEE,Permit REJECTED by EMPLOYEE,Permit SUBMITTED by EMPLOYEE,Permit APPROVED by ADMINISTRATION,Request For Payment APPROVED by ADMINISTRATION,Permit APPROVED by BUDGET OWNER,Request For Payment APPROVED by BUDGET OWNER,Request For Payment FINAL_APPROVED by SUPERVISOR,Permit FINAL_APPROVED by SUPERVISOR,Request Payment,Payment Handled',\n",
       " 'Permit SUBMITTED by EMPLOYEE,Permit REJECTED by ADMINISTRATION,Request For Payment SUBMITTED by EMPLOYEE,Permit REJECTED by EMPLOYEE,Permit SUBMITTED by EMPLOYEE,Permit APPROVED by ADMINISTRATION,Permit APPROVED by BUDGET OWNER,Request For Payment APPROVED by ADMINISTRATION,Request For Payment APPROVED by BUDGET OWNER,Permit APPROVED by SUPERVISOR,Permit FINAL_APPROVED by DIRECTOR,Request For Payment FINAL_APPROVED by SUPERVISOR,Request Payment,Payment Handled',\n",
       " 'Permit SUBMITTED by EMPLOYEE,Permit REJECTED by ADMINISTRATION,Permit REJECTED by EMPLOYEE,Permit SUBMITTED by EMPLOYEE,Permit APPROVED by ADMINISTRATION,Permit FINAL_APPROVED by SUPERVISOR,Request For Payment SUBMITTED by EMPLOYEE,Request For Payment REJECTED by ADMINISTRATION,Request For Payment REJECTED by EMPLOYEE',\n",
       " 'Permit SUBMITTED by EMPLOYEE,Permit REJECTED by ADMINISTRATION,Permit REJECTED by EMPLOYEE,Permit SUBMITTED by EMPLOYEE,Permit APPROVED by ADMINISTRATION,Permit APPROVED by SUPERVISOR,Permit FINAL_APPROVED by DIRECTOR,Request For Payment SUBMITTED by EMPLOYEE,Request For Payment APPROVED by ADMINISTRATION,Request For Payment FINAL_APPROVED by SUPERVISOR,Request Payment,Payment Handled',\n",
       " 'Permit SUBMITTED by EMPLOYEE,Permit FINAL_APPROVED by SUPERVISOR,Request For Payment SUBMITTED by EMPLOYEE,Request For Payment REJECTED by SUPERVISOR,Request For Payment REJECTED by EMPLOYEE,Request For Payment SUBMITTED by EMPLOYEE,Request For Payment FINAL_APPROVED by SUPERVISOR,Request Payment,Payment Handled',\n",
       " 'Permit SUBMITTED by EMPLOYEE,Permit FINAL_APPROVED by SUPERVISOR,Request For Payment SUBMITTED by EMPLOYEE,Request For Payment REJECTED by ADMINISTRATION,Request For Payment REJECTED by EMPLOYEE,Request For Payment SUBMITTED by EMPLOYEE,Request For Payment APPROVED by ADMINISTRATION,Request For Payment APPROVED by BUDGET OWNER,Request For Payment FINAL_APPROVED by SUPERVISOR,Request Payment,Payment Handled',\n",
       " 'Permit SUBMITTED by EMPLOYEE,Permit FINAL_APPROVED by SUPERVISOR,Request For Payment SUBMITTED by EMPLOYEE,Request For Payment FINAL_APPROVED by SUPERVISOR,Request For Payment REJECTED by MISSING,Permit REJECTED by MISSING',\n",
       " 'Permit SUBMITTED by EMPLOYEE,Permit FINAL_APPROVED by SUPERVISOR,Request For Payment SUBMITTED by EMPLOYEE,Request For Payment FINAL_APPROVED by SUPERVISOR,Permit REJECTED by MISSING,Request Payment,Payment Handled,Permit SUBMITTED by EMPLOYEE,Permit FINAL_APPROVED by SUPERVISOR',\n",
       " 'Permit SUBMITTED by EMPLOYEE,Permit FINAL_APPROVED by SUPERVISOR,Permit REJECTED by MISSING,Permit SUBMITTED by EMPLOYEE,Permit FINAL_APPROVED by SUPERVISOR,Request For Payment SUBMITTED by EMPLOYEE,Request For Payment FINAL_APPROVED by SUPERVISOR,Request Payment,Payment Handled',\n",
       " 'Permit SUBMITTED by EMPLOYEE,Permit APPROVED by SUPERVISOR,Permit FINAL_APPROVED by DIRECTOR,Request For Payment SUBMITTED by EMPLOYEE,Request For Payment FINAL_APPROVED by SUPERVISOR,Request Payment,Request For Payment REJECTED by MISSING',\n",
       " 'Permit SUBMITTED by EMPLOYEE,Permit APPROVED by SUPERVISOR,Permit FINAL_APPROVED by DIRECTOR,Request For Payment SUBMITTED by EMPLOYEE,Request For Payment FINAL_APPROVED by SUPERVISOR,Request Payment,Payment Handled,Permit REJECTED by MISSING',\n",
       " 'Permit SUBMITTED by EMPLOYEE,Permit APPROVED by SUPERVISOR,Permit FINAL_APPROVED by DIRECTOR,Request For Payment SUBMITTED by EMPLOYEE,Request For Payment APPROVED by ADMINISTRATION,Request For Payment APPROVED by BUDGET OWNER,Request For Payment FINAL_APPROVED by SUPERVISOR,Request Payment,Payment Handled',\n",
       " 'Permit SUBMITTED by EMPLOYEE,Permit APPROVED by SUPERVISOR,Permit FINAL_APPROVED by DIRECTOR,Request For Payment SAVED by EMPLOYEE',\n",
       " 'Permit SUBMITTED by EMPLOYEE,Permit APPROVED by PRE_APPROVER,Request For Payment SUBMITTED by EMPLOYEE,Request For Payment APPROVED by PRE_APPROVER,Permit FINAL_APPROVED by SUPERVISOR,Request For Payment FINAL_APPROVED by SUPERVISOR,Request Payment,Payment Handled,Permit REJECTED by MISSING',\n",
       " 'Permit SUBMITTED by EMPLOYEE,Permit APPROVED by PRE_APPROVER,Permit REJECTED by SUPERVISOR,Permit REJECTED by EMPLOYEE,Permit SUBMITTED by EMPLOYEE,Permit APPROVED by PRE_APPROVER,Permit APPROVED by SUPERVISOR,Permit FINAL_APPROVED by DIRECTOR,Request For Payment SUBMITTED by EMPLOYEE,Request For Payment APPROVED by PRE_APPROVER,Request For Payment FINAL_APPROVED by SUPERVISOR,Request Payment,Payment Handled',\n",
       " 'Permit SUBMITTED by EMPLOYEE,Permit APPROVED by PRE_APPROVER,Permit FINAL_APPROVED by SUPERVISOR,Request For Payment SUBMITTED by EMPLOYEE,Request For Payment REJECTED by ADMINISTRATION,Request For Payment REJECTED by EMPLOYEE,Request For Payment SUBMITTED by EMPLOYEE,Request For Payment APPROVED by ADMINISTRATION,Request For Payment FINAL_APPROVED by SUPERVISOR,Request Payment,Payment Handled',\n",
       " 'Permit SUBMITTED by EMPLOYEE,Permit APPROVED by PRE_APPROVER,Permit FINAL_APPROVED by SUPERVISOR,Request For Payment SUBMITTED by EMPLOYEE,Request For Payment APPROVED by PRE_APPROVER,Request For Payment REJECTED by SUPERVISOR,Request For Payment REJECTED by EMPLOYEE,Request For Payment SUBMITTED by EMPLOYEE,Request For Payment APPROVED by PRE_APPROVER,Request For Payment FINAL_APPROVED by SUPERVISOR,Request Payment,Payment Handled',\n",
       " 'Permit SUBMITTED by EMPLOYEE,Permit APPROVED by PRE_APPROVER,Permit FINAL_APPROVED by SUPERVISOR,Request For Payment SUBMITTED by EMPLOYEE,Request For Payment APPROVED by PRE_APPROVER,Request For Payment FINAL_APPROVED by SUPERVISOR,Request For Payment REJECTED by MISSING,Permit REJECTED by MISSING',\n",
       " 'Permit SUBMITTED by EMPLOYEE,Permit APPROVED by PRE_APPROVER,Permit APPROVED by SUPERVISOR,Permit FINAL_APPROVED by DIRECTOR,Request For Payment SUBMITTED by EMPLOYEE,Request For Payment APPROVED by PRE_APPROVER,Request For Payment APPROVED by SUPERVISOR,Request For Payment FINAL_APPROVED by DIRECTOR,Request Payment,Payment Handled',\n",
       " 'Permit SUBMITTED by EMPLOYEE,Permit APPROVED by PRE_APPROVER,Permit APPROVED by SUPERVISOR,Permit FINAL_APPROVED by DIRECTOR,Request For Payment SUBMITTED by EMPLOYEE,Request For Payment APPROVED by PRE_APPROVER,Request For Payment APPROVED by SUPERVISOR,Request For Payment FINAL_APPROVED by DIRECTOR,Request For Payment REJECTED by MISSING',\n",
       " 'Permit SUBMITTED by EMPLOYEE,Permit APPROVED by PRE_APPROVER,Permit APPROVED by SUPERVISOR,Permit FINAL_APPROVED by DIRECTOR,Request For Payment SUBMITTED by EMPLOYEE,Request For Payment APPROVED by ADMINISTRATION,Request For Payment FINAL_APPROVED by SUPERVISOR,Request Payment,Payment Handled',\n",
       " 'Permit SUBMITTED by EMPLOYEE,Permit APPROVED by ADMINISTRATION,Request For Payment SUBMITTED by EMPLOYEE,Request For Payment REJECTED by ADMINISTRATION,Request For Payment REJECTED by EMPLOYEE,Request For Payment SUBMITTED by EMPLOYEE,Request For Payment REJECTED by ADMINISTRATION,Request For Payment REJECTED by EMPLOYEE,Request For Payment SUBMITTED by EMPLOYEE,Request For Payment APPROVED by ADMINISTRATION,Request For Payment FINAL_APPROVED by SUPERVISOR,Request Payment,Permit FINAL_APPROVED by SUPERVISOR,Payment Handled',\n",
       " 'Permit SUBMITTED by EMPLOYEE,Permit APPROVED by ADMINISTRATION,Request For Payment SUBMITTED by EMPLOYEE,Request For Payment REJECTED by ADMINISTRATION,Request For Payment REJECTED by EMPLOYEE,Permit APPROVED by BUDGET OWNER,Permit FINAL_APPROVED by SUPERVISOR',\n",
       " 'Permit SUBMITTED by EMPLOYEE,Permit APPROVED by ADMINISTRATION,Request For Payment SUBMITTED by EMPLOYEE,Request For Payment REJECTED by ADMINISTRATION,Permit REJECTED by SUPERVISOR,Request For Payment REJECTED by EMPLOYEE,Permit REJECTED by EMPLOYEE,Permit SUBMITTED by EMPLOYEE,Permit APPROVED by ADMINISTRATION,Request For Payment SUBMITTED by EMPLOYEE,Request For Payment APPROVED by ADMINISTRATION,Permit APPROVED by BUDGET OWNER,Request For Payment APPROVED by BUDGET OWNER,Permit FINAL_APPROVED by SUPERVISOR,Request For Payment FINAL_APPROVED by SUPERVISOR,Request Payment,Payment Handled',\n",
       " 'Permit SUBMITTED by EMPLOYEE,Permit APPROVED by ADMINISTRATION,Request For Payment SUBMITTED by EMPLOYEE,Request For Payment REJECTED by ADMINISTRATION,Permit REJECTED by SUPERVISOR,Permit REJECTED by EMPLOYEE,Permit SUBMITTED by EMPLOYEE,Permit APPROVED by ADMINISTRATION,Request For Payment REJECTED by EMPLOYEE,Request For Payment SUBMITTED by EMPLOYEE,Request For Payment APPROVED by ADMINISTRATION,Permit FINAL_APPROVED by SUPERVISOR,Request For Payment FINAL_APPROVED by SUPERVISOR,Request Payment,Payment Handled',\n",
       " 'Permit SUBMITTED by EMPLOYEE,Permit APPROVED by ADMINISTRATION,Request For Payment SUBMITTED by EMPLOYEE,Request For Payment REJECTED by ADMINISTRATION,Permit FINAL_APPROVED by SUPERVISOR,Request For Payment SUBMITTED by EMPLOYEE,Request For Payment APPROVED by ADMINISTRATION,Request For Payment FINAL_APPROVED by SUPERVISOR,Request Payment,Payment Handled',\n",
       " 'Permit SUBMITTED by EMPLOYEE,Permit APPROVED by ADMINISTRATION,Request For Payment SUBMITTED by EMPLOYEE,Request For Payment REJECTED by ADMINISTRATION,Permit FINAL_APPROVED by SUPERVISOR,Request For Payment REJECTED by EMPLOYEE,Request For Payment SUBMITTED by EMPLOYEE,Request For Payment REJECTED by ADMINISTRATION,Request For Payment REJECTED by EMPLOYEE,Request For Payment SUBMITTED by EMPLOYEE,Request For Payment APPROVED by ADMINISTRATION,Request For Payment FINAL_APPROVED by SUPERVISOR,Request Payment,Payment Handled',\n",
       " 'Permit SUBMITTED by EMPLOYEE,Permit APPROVED by ADMINISTRATION,Request For Payment SUBMITTED by EMPLOYEE,Request For Payment REJECTED by ADMINISTRATION,Permit APPROVED by BUDGET OWNER,Request For Payment REJECTED by EMPLOYEE,Permit FINAL_APPROVED by SUPERVISOR',\n",
       " 'Permit SUBMITTED by EMPLOYEE,Permit APPROVED by ADMINISTRATION,Request For Payment SUBMITTED by EMPLOYEE,Request For Payment APPROVED by ADMINISTRATION,Request For Payment REJECTED by BUDGET OWNER,Permit APPROVED by BUDGET OWNER,Request For Payment REJECTED by EMPLOYEE,Permit FINAL_APPROVED by SUPERVISOR',\n",
       " 'Permit SUBMITTED by EMPLOYEE,Permit APPROVED by ADMINISTRATION,Request For Payment SUBMITTED by EMPLOYEE,Request For Payment APPROVED by ADMINISTRATION,Request For Payment FINAL_APPROVED by SUPERVISOR,Permit APPROVED by SUPERVISOR,Request Payment,Permit FINAL_APPROVED by DIRECTOR,Payment Handled',\n",
       " 'Permit SUBMITTED by EMPLOYEE,Permit APPROVED by ADMINISTRATION,Request For Payment SUBMITTED by EMPLOYEE,Request For Payment APPROVED by ADMINISTRATION,Request For Payment FINAL_APPROVED by SUPERVISOR,Permit APPROVED by SUPERVISOR,Permit FINAL_APPROVED by DIRECTOR,Request Payment,Payment Handled',\n",
       " 'Permit SUBMITTED by EMPLOYEE,Permit APPROVED by ADMINISTRATION,Request For Payment SUBMITTED by EMPLOYEE,Request For Payment APPROVED by ADMINISTRATION,Request For Payment APPROVED by BUDGET OWNER,Request For Payment FINAL_APPROVED by SUPERVISOR,Request Payment,Permit APPROVED by BUDGET OWNER,Permit FINAL_APPROVED by SUPERVISOR,Payment Handled',\n",
       " 'Permit SUBMITTED by EMPLOYEE,Permit APPROVED by ADMINISTRATION,Request For Payment SUBMITTED by EMPLOYEE,Request For Payment APPROVED by ADMINISTRATION,Request For Payment APPROVED by BUDGET OWNER,Request For Payment FINAL_APPROVED by SUPERVISOR,Request Payment,Permit APPROVED by BUDGET OWNER,Payment Handled,Permit FINAL_APPROVED by SUPERVISOR',\n",
       " 'Permit SUBMITTED by EMPLOYEE,Permit APPROVED by ADMINISTRATION,Request For Payment SUBMITTED by EMPLOYEE,Request For Payment APPROVED by ADMINISTRATION,Request For Payment APPROVED by BUDGET OWNER,Permit APPROVED by BUDGET OWNER,Request For Payment FINAL_APPROVED by SUPERVISOR,Request Payment,Permit APPROVED by SUPERVISOR,Permit FINAL_APPROVED by DIRECTOR,Payment Handled',\n",
       " 'Permit SUBMITTED by EMPLOYEE,Permit APPROVED by ADMINISTRATION,Request For Payment SUBMITTED by EMPLOYEE,Request For Payment APPROVED by ADMINISTRATION,Request For Payment APPROVED by BUDGET OWNER,Permit APPROVED by BUDGET OWNER,Request For Payment FINAL_APPROVED by SUPERVISOR,Permit APPROVED by SUPERVISOR,Request Payment,Permit FINAL_APPROVED by DIRECTOR,Payment Handled',\n",
       " 'Permit SUBMITTED by EMPLOYEE,Permit APPROVED by ADMINISTRATION,Request For Payment SUBMITTED by EMPLOYEE,Request For Payment APPROVED by ADMINISTRATION,Request For Payment APPROVED by BUDGET OWNER,Permit APPROVED by BUDGET OWNER,Permit APPROVED by SUPERVISOR,Request For Payment FINAL_APPROVED by SUPERVISOR,Permit FINAL_APPROVED by DIRECTOR,Request Payment,Payment Handled',\n",
       " 'Permit SUBMITTED by EMPLOYEE,Permit APPROVED by ADMINISTRATION,Request For Payment SUBMITTED by EMPLOYEE,Request For Payment APPROVED by ADMINISTRATION,Permit REJECTED by SUPERVISOR,Request For Payment REJECTED by SUPERVISOR,Permit REJECTED by EMPLOYEE,Request For Payment REJECTED by EMPLOYEE,Permit SUBMITTED by EMPLOYEE,Permit APPROVED by ADMINISTRATION,Request For Payment SUBMITTED by EMPLOYEE,Request For Payment APPROVED by ADMINISTRATION,Permit APPROVED by BUDGET OWNER,Request For Payment APPROVED by BUDGET OWNER,Permit FINAL_APPROVED by SUPERVISOR,Request For Payment FINAL_APPROVED by SUPERVISOR,Request Payment,Payment Handled',\n",
       " 'Permit SUBMITTED by EMPLOYEE,Permit APPROVED by ADMINISTRATION,Request For Payment SUBMITTED by EMPLOYEE,Request For Payment APPROVED by ADMINISTRATION,Permit REJECTED by SUPERVISOR,Permit REJECTED by EMPLOYEE,Permit SUBMITTED by EMPLOYEE,Permit APPROVED by ADMINISTRATION,Request For Payment REJECTED by SUPERVISOR,Permit FINAL_APPROVED by SUPERVISOR,Request For Payment REJECTED by EMPLOYEE,Request For Payment SUBMITTED by EMPLOYEE,Request For Payment APPROVED by ADMINISTRATION,Request For Payment FINAL_APPROVED by SUPERVISOR,Request Payment,Payment Handled',\n",
       " 'Permit SUBMITTED by EMPLOYEE,Permit APPROVED by ADMINISTRATION,Request For Payment SUBMITTED by EMPLOYEE,Request For Payment APPROVED by ADMINISTRATION,Permit FINAL_APPROVED by SUPERVISOR,Request For Payment REJECTED by SUPERVISOR,Request For Payment REJECTED by EMPLOYEE,Request For Payment SUBMITTED by EMPLOYEE,Request For Payment APPROVED by ADMINISTRATION,Request For Payment FINAL_APPROVED by SUPERVISOR,Request Payment,Payment Handled',\n",
       " 'Permit SUBMITTED by EMPLOYEE,Permit APPROVED by ADMINISTRATION,Request For Payment SUBMITTED by EMPLOYEE,Request For Payment APPROVED by ADMINISTRATION,Permit APPROVED by SUPERVISOR,Request For Payment REJECTED by SUPERVISOR,Permit FINAL_APPROVED by DIRECTOR,Request For Payment REJECTED by EMPLOYEE,Request For Payment SUBMITTED by EMPLOYEE,Request For Payment APPROVED by ADMINISTRATION,Request For Payment FINAL_APPROVED by SUPERVISOR,Request Payment,Payment Handled',\n",
       " 'Permit SUBMITTED by EMPLOYEE,Permit APPROVED by ADMINISTRATION,Request For Payment SUBMITTED by EMPLOYEE,Request For Payment APPROVED by ADMINISTRATION,Permit APPROVED by SUPERVISOR,Permit FINAL_APPROVED by DIRECTOR,Request For Payment FINAL_APPROVED by SUPERVISOR,Request Payment,Payment Handled',\n",
       " 'Permit SUBMITTED by EMPLOYEE,Permit APPROVED by ADMINISTRATION,Request For Payment SUBMITTED by EMPLOYEE,Request For Payment APPROVED by ADMINISTRATION,Permit APPROVED by BUDGET OWNER,Request For Payment FINAL_APPROVED by SUPERVISOR,Request Payment,Permit FINAL_APPROVED by SUPERVISOR,Payment Handled',\n",
       " 'Permit SUBMITTED by EMPLOYEE,Permit APPROVED by ADMINISTRATION,Request For Payment SUBMITTED by EMPLOYEE,Request For Payment APPROVED by ADMINISTRATION,Permit APPROVED by BUDGET OWNER,Request For Payment APPROVED by BUDGET OWNER,Request For Payment FINAL_APPROVED by SUPERVISOR,Permit FINAL_APPROVED by SUPERVISOR,Request Payment,Payment Handled',\n",
       " 'Permit SUBMITTED by EMPLOYEE,Permit APPROVED by ADMINISTRATION,Request For Payment SUBMITTED by EMPLOYEE,Request For Payment APPROVED by ADMINISTRATION,Permit APPROVED by BUDGET OWNER,Request For Payment APPROVED by BUDGET OWNER,Request For Payment APPROVED by SUPERVISOR,Permit APPROVED by SUPERVISOR,Request For Payment FINAL_APPROVED by DIRECTOR,Permit FINAL_APPROVED by DIRECTOR,Request Payment,Payment Handled',\n",
       " 'Permit SUBMITTED by EMPLOYEE,Permit APPROVED by ADMINISTRATION,Request For Payment SUBMITTED by EMPLOYEE,Permit REJECTED by SUPERVISOR,Permit REJECTED by EMPLOYEE,Permit SUBMITTED by EMPLOYEE,Permit APPROVED by ADMINISTRATION,Permit APPROVED by BUDGET OWNER,Request For Payment REJECTED by ADMINISTRATION,Request For Payment REJECTED by EMPLOYEE,Request For Payment SUBMITTED by EMPLOYEE,Request For Payment APPROVED by ADMINISTRATION,Request For Payment APPROVED by BUDGET OWNER,Permit FINAL_APPROVED by SUPERVISOR,Request For Payment FINAL_APPROVED by SUPERVISOR,Request Payment,Payment Handled',\n",
       " 'Permit SUBMITTED by EMPLOYEE,Permit APPROVED by ADMINISTRATION,Request For Payment SUBMITTED by EMPLOYEE,Permit APPROVED by BUDGET OWNER,Permit FINAL_APPROVED by SUPERVISOR,Request For Payment REJECTED by ADMINISTRATION,Request For Payment REJECTED by EMPLOYEE,Request For Payment SUBMITTED by EMPLOYEE,Request For Payment APPROVED by ADMINISTRATION,Request For Payment APPROVED by BUDGET OWNER,Request For Payment APPROVED by SUPERVISOR,Request For Payment FINAL_APPROVED by DIRECTOR,Request Payment,Payment Handled',\n",
       " 'Permit SUBMITTED by EMPLOYEE,Permit APPROVED by ADMINISTRATION,Request For Payment SUBMITTED by EMPLOYEE,Permit APPROVED by BUDGET OWNER,Permit FINAL_APPROVED by SUPERVISOR,Request For Payment APPROVED by ADMINISTRATION,Request For Payment APPROVED by BUDGET OWNER,Request For Payment FINAL_APPROVED by SUPERVISOR,Request Payment,Payment Handled',\n",
       " 'Permit SUBMITTED by EMPLOYEE,Permit APPROVED by ADMINISTRATION,Request For Payment SAVED by EMPLOYEE,Permit APPROVED by SUPERVISOR,Permit FINAL_APPROVED by DIRECTOR',\n",
       " 'Permit SUBMITTED by EMPLOYEE,Permit APPROVED by ADMINISTRATION,Permit REJECTED by SUPERVISOR,Request For Payment SUBMITTED by EMPLOYEE,Request For Payment REJECTED by ADMINISTRATION,Permit REJECTED by EMPLOYEE,Permit SUBMITTED by EMPLOYEE,Permit APPROVED by ADMINISTRATION,Request For Payment REJECTED by EMPLOYEE,Permit FINAL_APPROVED by SUPERVISOR,Request For Payment SUBMITTED by EMPLOYEE,Request For Payment APPROVED by ADMINISTRATION,Request For Payment FINAL_APPROVED by SUPERVISOR,Request Payment,Payment Handled',\n",
       " 'Permit SUBMITTED by EMPLOYEE,Permit APPROVED by ADMINISTRATION,Permit REJECTED by SUPERVISOR,Permit REJECTED by EMPLOYEE,Permit SUBMITTED by EMPLOYEE,Permit APPROVED by ADMINISTRATION,Request For Payment SUBMITTED by EMPLOYEE,Request For Payment APPROVED by ADMINISTRATION,Permit APPROVED by BUDGET OWNER,Request For Payment APPROVED by BUDGET OWNER,Permit FINAL_APPROVED by SUPERVISOR,Request For Payment FINAL_APPROVED by SUPERVISOR,Request Payment,Payment Handled',\n",
       " 'Permit SUBMITTED by EMPLOYEE,Permit APPROVED by ADMINISTRATION,Permit REJECTED by SUPERVISOR,Permit REJECTED by EMPLOYEE,Permit SUBMITTED by EMPLOYEE,Permit APPROVED by ADMINISTRATION,Permit APPROVED by SUPERVISOR,Permit FINAL_APPROVED by DIRECTOR,Request For Payment SUBMITTED by EMPLOYEE,Request For Payment APPROVED by ADMINISTRATION,Request For Payment APPROVED by SUPERVISOR,Request For Payment FINAL_APPROVED by DIRECTOR,Request Payment,Payment Handled',\n",
       " 'Permit SUBMITTED by EMPLOYEE,Permit APPROVED by ADMINISTRATION,Permit REJECTED by SUPERVISOR,Permit REJECTED by EMPLOYEE,Permit SUBMITTED by EMPLOYEE,Permit APPROVED by ADMINISTRATION,Permit APPROVED by BUDGET OWNER,Request For Payment SUBMITTED by EMPLOYEE,Request For Payment REJECTED by ADMINISTRATION,Request For Payment REJECTED by EMPLOYEE,Request For Payment SUBMITTED by EMPLOYEE,Request For Payment APPROVED by ADMINISTRATION,Request For Payment APPROVED by BUDGET OWNER,Permit APPROVED by SUPERVISOR,Permit FINAL_APPROVED by DIRECTOR,Request For Payment FINAL_APPROVED by SUPERVISOR,Request Payment,Payment Handled',\n",
       " 'Permit SUBMITTED by EMPLOYEE,Permit APPROVED by ADMINISTRATION,Permit REJECTED by SUPERVISOR,Permit REJECTED by EMPLOYEE,Permit SUBMITTED by EMPLOYEE,Permit APPROVED by ADMINISTRATION,Permit APPROVED by BUDGET OWNER,Request For Payment SUBMITTED by EMPLOYEE,Request For Payment APPROVED by ADMINISTRATION,Request For Payment APPROVED by BUDGET OWNER,Permit FINAL_APPROVED by SUPERVISOR,Request For Payment FINAL_APPROVED by SUPERVISOR,Request Payment,Payment Handled',\n",
       " 'Permit SUBMITTED by EMPLOYEE,Permit APPROVED by ADMINISTRATION,Permit REJECTED by SUPERVISOR,Permit REJECTED by EMPLOYEE,Permit SUBMITTED by EMPLOYEE,Permit APPROVED by ADMINISTRATION,Permit APPROVED by BUDGET OWNER,Permit FINAL_APPROVED by SUPERVISOR,Request For Payment SUBMITTED by EMPLOYEE,Request For Payment REJECTED by ADMINISTRATION,Request For Payment REJECTED by EMPLOYEE,Request For Payment SUBMITTED by EMPLOYEE,Request For Payment APPROVED by ADMINISTRATION,Request For Payment APPROVED by BUDGET OWNER,Request For Payment FINAL_APPROVED by SUPERVISOR,Request Payment,Payment Handled',\n",
       " 'Permit SUBMITTED by EMPLOYEE,Permit APPROVED by ADMINISTRATION,Permit REJECTED by SUPERVISOR,Permit REJECTED by EMPLOYEE,Permit SUBMITTED by EMPLOYEE,Permit APPROVED by ADMINISTRATION,Permit APPROVED by BUDGET OWNER,Permit FINAL_APPROVED by SUPERVISOR,Request For Payment SUBMITTED by EMPLOYEE,Request For Payment APPROVED by ADMINISTRATION,Request For Payment APPROVED by BUDGET OWNER,Request For Payment FINAL_APPROVED by SUPERVISOR,Request Payment,Payment Handled',\n",
       " 'Permit SUBMITTED by EMPLOYEE,Permit APPROVED by ADMINISTRATION,Permit REJECTED by BUDGET OWNER,Request For Payment SUBMITTED by EMPLOYEE,Request For Payment APPROVED by ADMINISTRATION,Request For Payment APPROVED by BUDGET OWNER,Request For Payment FINAL_APPROVED by SUPERVISOR,Permit REJECTED by EMPLOYEE,Permit SUBMITTED by EMPLOYEE,Permit APPROVED by ADMINISTRATION,Request Payment,Permit APPROVED by BUDGET OWNER,Payment Handled,Permit FINAL_APPROVED by SUPERVISOR',\n",
       " 'Permit SUBMITTED by EMPLOYEE,Permit APPROVED by ADMINISTRATION,Permit REJECTED by BUDGET OWNER,Permit REJECTED by EMPLOYEE,Permit SUBMITTED by EMPLOYEE,Permit REJECTED by ADMINISTRATION,Permit REJECTED by EMPLOYEE,Permit SUBMITTED by EMPLOYEE,Permit APPROVED by ADMINISTRATION,Permit APPROVED by BUDGET OWNER,Permit FINAL_APPROVED by SUPERVISOR,Request For Payment SUBMITTED by EMPLOYEE,Request For Payment APPROVED by ADMINISTRATION,Request For Payment APPROVED by BUDGET OWNER,Request For Payment FINAL_APPROVED by SUPERVISOR,Request Payment,Payment Handled',\n",
       " 'Permit SUBMITTED by EMPLOYEE,Permit APPROVED by ADMINISTRATION,Permit REJECTED by BUDGET OWNER,Permit REJECTED by EMPLOYEE,Permit SUBMITTED by EMPLOYEE,Permit APPROVED by ADMINISTRATION,Request For Payment SUBMITTED by EMPLOYEE,Permit REJECTED by BUDGET OWNER,Permit REJECTED by EMPLOYEE,Permit SUBMITTED by EMPLOYEE,Permit APPROVED by ADMINISTRATION,Permit APPROVED by BUDGET OWNER,Permit FINAL_APPROVED by SUPERVISOR,Request For Payment REJECTED by ADMINISTRATION,Request For Payment REJECTED by EMPLOYEE',\n",
       " 'Permit SUBMITTED by EMPLOYEE,Permit APPROVED by ADMINISTRATION,Permit REJECTED by BUDGET OWNER,Permit REJECTED by EMPLOYEE,Permit SUBMITTED by EMPLOYEE,Permit APPROVED by ADMINISTRATION,Permit REJECTED by BUDGET OWNER,Permit REJECTED by EMPLOYEE,Permit SUBMITTED by EMPLOYEE,Permit APPROVED by ADMINISTRATION,Permit APPROVED by BUDGET OWNER,Permit FINAL_APPROVED by SUPERVISOR,Request For Payment SUBMITTED by EMPLOYEE,Request For Payment APPROVED by ADMINISTRATION,Request For Payment APPROVED by BUDGET OWNER,Request For Payment FINAL_APPROVED by SUPERVISOR,Request Payment,Payment Handled',\n",
       " 'Permit SUBMITTED by EMPLOYEE,Permit APPROVED by ADMINISTRATION,Permit REJECTED by BUDGET OWNER,Permit REJECTED by EMPLOYEE,Permit SUBMITTED by EMPLOYEE,Permit APPROVED by ADMINISTRATION,Permit FINAL_APPROVED by SUPERVISOR,Request For Payment SUBMITTED by EMPLOYEE,Request For Payment APPROVED by ADMINISTRATION,Request For Payment FINAL_APPROVED by SUPERVISOR,Request Payment,Payment Handled',\n",
       " 'Permit SUBMITTED by EMPLOYEE,Permit APPROVED by ADMINISTRATION,Permit REJECTED by BUDGET OWNER,Permit REJECTED by EMPLOYEE,Permit SUBMITTED by EMPLOYEE,Permit APPROVED by ADMINISTRATION,Permit APPROVED by BUDGET OWNER,Request For Payment SUBMITTED by EMPLOYEE,Request For Payment APPROVED by ADMINISTRATION,Permit FINAL_APPROVED by SUPERVISOR,Request For Payment APPROVED by BUDGET OWNER,Request For Payment FINAL_APPROVED by SUPERVISOR,Request Payment,Payment Handled',\n",
       " 'Permit SUBMITTED by EMPLOYEE,Permit APPROVED by ADMINISTRATION,Permit REJECTED by BUDGET OWNER,Permit REJECTED by EMPLOYEE,Permit SUBMITTED by EMPLOYEE,Permit APPROVED by ADMINISTRATION,Permit APPROVED by BUDGET OWNER,Permit APPROVED by SUPERVISOR,Permit FINAL_APPROVED by DIRECTOR,Request For Payment SUBMITTED by EMPLOYEE,Request For Payment APPROVED by ADMINISTRATION,Request For Payment APPROVED by BUDGET OWNER,Request For Payment FINAL_APPROVED by SUPERVISOR,Request Payment,Payment Handled',\n",
       " 'Permit SUBMITTED by EMPLOYEE,Permit APPROVED by ADMINISTRATION,Permit FINAL_APPROVED by SUPERVISOR,Request For Payment SUBMITTED by EMPLOYEE,Request For Payment REJECTED by ADMINISTRATION,Request For Payment REJECTED by EMPLOYEE,Request For Payment SUBMITTED by EMPLOYEE,Request For Payment REJECTED by ADMINISTRATION,Request For Payment REJECTED by EMPLOYEE,Request For Payment SUBMITTED by EMPLOYEE,Request For Payment REJECTED by ADMINISTRATION,Request For Payment REJECTED by EMPLOYEE,Request For Payment SUBMITTED by EMPLOYEE,Request For Payment APPROVED by ADMINISTRATION,Request For Payment FINAL_APPROVED by SUPERVISOR,Request Payment,Payment Handled',\n",
       " 'Permit SUBMITTED by EMPLOYEE,Permit APPROVED by ADMINISTRATION,Permit FINAL_APPROVED by SUPERVISOR,Request For Payment SUBMITTED by EMPLOYEE,Request For Payment REJECTED by ADMINISTRATION,Request For Payment REJECTED by EMPLOYEE,Request For Payment SUBMITTED by EMPLOYEE,Request For Payment REJECTED by ADMINISTRATION,Request For Payment REJECTED by EMPLOYEE',\n",
       " 'Permit SUBMITTED by EMPLOYEE,Permit APPROVED by ADMINISTRATION,Permit FINAL_APPROVED by SUPERVISOR,Request For Payment SUBMITTED by EMPLOYEE,Request For Payment APPROVED by ADMINISTRATION,Request For Payment APPROVED by SUPERVISOR,Request For Payment FINAL_APPROVED by DIRECTOR,Request Payment,Payment Handled',\n",
       " 'Permit SUBMITTED by EMPLOYEE,Permit APPROVED by ADMINISTRATION,Permit APPROVED by SUPERVISOR,Request For Payment SUBMITTED by EMPLOYEE,Request For Payment APPROVED by ADMINISTRATION,Request For Payment FINAL_APPROVED by SUPERVISOR,Request Payment,Permit FINAL_APPROVED by DIRECTOR,Payment Handled',\n",
       " 'Permit SUBMITTED by EMPLOYEE,Permit APPROVED by ADMINISTRATION,Permit APPROVED by SUPERVISOR,Permit FINAL_APPROVED by DIRECTOR,Request For Payment SUBMITTED by EMPLOYEE,Request For Payment REJECTED by ADMINISTRATION,Request For Payment REJECTED by EMPLOYEE,Request For Payment SUBMITTED by EMPLOYEE,Request For Payment REJECTED by ADMINISTRATION,Request For Payment REJECTED by EMPLOYEE',\n",
       " 'Permit SUBMITTED by EMPLOYEE,Permit APPROVED by ADMINISTRATION,Permit APPROVED by SUPERVISOR,Permit FINAL_APPROVED by DIRECTOR,Request For Payment SUBMITTED by EMPLOYEE,Request For Payment REJECTED by ADMINISTRATION,Request For Payment REJECTED by EMPLOYEE,Request For Payment SUBMITTED by EMPLOYEE,Request For Payment APPROVED by ADMINISTRATION,Request For Payment APPROVED by SUPERVISOR,Request For Payment FINAL_APPROVED by DIRECTOR,Request Payment,Payment Handled',\n",
       " 'Permit SUBMITTED by EMPLOYEE,Permit APPROVED by ADMINISTRATION,Permit APPROVED by SUPERVISOR,Permit FINAL_APPROVED by DIRECTOR,Request For Payment SUBMITTED by EMPLOYEE,Request For Payment REJECTED by ADMINISTRATION,Request For Payment REJECTED by EMPLOYEE,Request For Payment SUBMITTED by EMPLOYEE,Request For Payment APPROVED by ADMINISTRATION,Request For Payment APPROVED by BUDGET OWNER,Request For Payment FINAL_APPROVED by SUPERVISOR,Request Payment,Payment Handled',\n",
       " 'Permit SUBMITTED by EMPLOYEE,Permit APPROVED by ADMINISTRATION,Permit APPROVED by SUPERVISOR,Permit FINAL_APPROVED by DIRECTOR,Request For Payment SUBMITTED by EMPLOYEE,Request For Payment APPROVED by ADMINISTRATION,Request For Payment REJECTED by BUDGET OWNER,Request For Payment REJECTED by EMPLOYEE,Request For Payment SAVED by EMPLOYEE',\n",
       " 'Permit SUBMITTED by EMPLOYEE,Permit APPROVED by ADMINISTRATION,Permit APPROVED by BUDGET OWNER,Request For Payment SUBMITTED by EMPLOYEE,Request For Payment REJECTED by ADMINISTRATION,Request For Payment REJECTED by EMPLOYEE,Permit APPROVED by SUPERVISOR,Permit FINAL_APPROVED by DIRECTOR,Request For Payment SUBMITTED by EMPLOYEE,Request For Payment APPROVED by ADMINISTRATION,Request For Payment APPROVED by BUDGET OWNER,Request For Payment FINAL_APPROVED by SUPERVISOR,Request Payment,Payment Handled',\n",
       " 'Permit SUBMITTED by EMPLOYEE,Permit APPROVED by ADMINISTRATION,Permit APPROVED by BUDGET OWNER,Request For Payment SUBMITTED by EMPLOYEE,Request For Payment REJECTED by ADMINISTRATION,Permit FINAL_APPROVED by SUPERVISOR,Request For Payment REJECTED by EMPLOYEE,Request For Payment SUBMITTED by EMPLOYEE,Request For Payment APPROVED by ADMINISTRATION,Request For Payment APPROVED by BUDGET OWNER,Request For Payment FINAL_APPROVED by SUPERVISOR,Request Payment,Payment Handled',\n",
       " 'Permit SUBMITTED by EMPLOYEE,Permit APPROVED by ADMINISTRATION,Permit APPROVED by BUDGET OWNER,Request For Payment SUBMITTED by EMPLOYEE,Request For Payment APPROVED by ADMINISTRATION,Request For Payment APPROVED by BUDGET OWNER,Permit APPROVED by SUPERVISOR,Request For Payment FINAL_APPROVED by SUPERVISOR,Request Payment,Permit FINAL_APPROVED by DIRECTOR,Payment Handled',\n",
       " 'Permit SUBMITTED by EMPLOYEE,Permit APPROVED by ADMINISTRATION,Permit APPROVED by BUDGET OWNER,Request For Payment SUBMITTED by EMPLOYEE,Permit REJECTED by SUPERVISOR,Permit REJECTED by EMPLOYEE,Permit SUBMITTED by EMPLOYEE,Permit APPROVED by ADMINISTRATION,Permit FINAL_APPROVED by SUPERVISOR,Request For Payment REJECTED by ADMINISTRATION,Request For Payment REJECTED by EMPLOYEE',\n",
       " 'Permit SUBMITTED by EMPLOYEE,Permit APPROVED by ADMINISTRATION,Permit APPROVED by BUDGET OWNER,Request For Payment SUBMITTED by EMPLOYEE,Permit FINAL_APPROVED by SUPERVISOR,Request For Payment REJECTED by ADMINISTRATION,Request For Payment REJECTED by EMPLOYEE,Request For Payment SUBMITTED by EMPLOYEE,Request For Payment APPROVED by ADMINISTRATION,Request For Payment APPROVED by BUDGET OWNER,Request For Payment FINAL_APPROVED by SUPERVISOR,Request Payment,Payment Handled',\n",
       " 'Permit SUBMITTED by EMPLOYEE,Permit APPROVED by ADMINISTRATION,Permit APPROVED by BUDGET OWNER,Request For Payment SUBMITTED by EMPLOYEE,Permit FINAL_APPROVED by SUPERVISOR,Request For Payment REJECTED by ADMINISTRATION,Request For Payment REJECTED by EMPLOYEE',\n",
       " 'Permit SUBMITTED by EMPLOYEE,Permit APPROVED by ADMINISTRATION,Permit APPROVED by BUDGET OWNER,Permit REJECTED by SUPERVISOR,Request For Payment SUBMITTED by EMPLOYEE,Request For Payment APPROVED by ADMINISTRATION,Request For Payment APPROVED by BUDGET OWNER,Permit REJECTED by EMPLOYEE,Permit SUBMITTED by EMPLOYEE,Permit REJECTED by ADMINISTRATION,Permit REJECTED by EMPLOYEE,Request For Payment REJECTED by SUPERVISOR,Request For Payment REJECTED by EMPLOYEE',\n",
       " 'Permit SUBMITTED by EMPLOYEE,Permit APPROVED by ADMINISTRATION,Permit APPROVED by BUDGET OWNER,Permit FINAL_APPROVED by SUPERVISOR,Request For Payment SUBMITTED by EMPLOYEE,Request For Payment REJECTED by ADMINISTRATION,Request For Payment REJECTED by EMPLOYEE,Request For Payment SUBMITTED by EMPLOYEE,Request For Payment REJECTED by ADMINISTRATION,Request For Payment SUBMITTED by EMPLOYEE,Request For Payment REJECTED by EMPLOYEE,Request For Payment SUBMITTED by EMPLOYEE,Request For Payment APPROVED by ADMINISTRATION,Request For Payment APPROVED by BUDGET OWNER,Request For Payment FINAL_APPROVED by SUPERVISOR,Request Payment,Payment Handled',\n",
       " 'Permit SUBMITTED by EMPLOYEE,Permit APPROVED by ADMINISTRATION,Permit APPROVED by BUDGET OWNER,Permit FINAL_APPROVED by SUPERVISOR,Request For Payment SUBMITTED by EMPLOYEE,Request For Payment REJECTED by ADMINISTRATION,Request For Payment REJECTED by EMPLOYEE,Request For Payment SUBMITTED by EMPLOYEE,Request For Payment REJECTED by ADMINISTRATION,Request For Payment REJECTED by EMPLOYEE,Request For Payment SUBMITTED by EMPLOYEE,Request For Payment APPROVED by ADMINISTRATION,Request For Payment APPROVED by BUDGET OWNER,Request For Payment FINAL_APPROVED by SUPERVISOR,Request Payment,Payment Handled',\n",
       " 'Permit SUBMITTED by EMPLOYEE,Permit APPROVED by ADMINISTRATION,Permit APPROVED by BUDGET OWNER,Permit FINAL_APPROVED by SUPERVISOR,Request For Payment SUBMITTED by EMPLOYEE,Request For Payment REJECTED by ADMINISTRATION,Request For Payment REJECTED by EMPLOYEE,Request For Payment SUBMITTED by EMPLOYEE,Request For Payment APPROVED by ADMINISTRATION,Request For Payment FINAL_APPROVED by SUPERVISOR,Request Payment,Payment Handled',\n",
       " 'Permit SUBMITTED by EMPLOYEE,Permit APPROVED by ADMINISTRATION,Permit APPROVED by BUDGET OWNER,Permit FINAL_APPROVED by SUPERVISOR,Request For Payment SUBMITTED by EMPLOYEE,Request For Payment REJECTED by ADMINISTRATION,Request For Payment REJECTED by EMPLOYEE,Request For Payment SAVED by EMPLOYEE',\n",
       " 'Permit SUBMITTED by EMPLOYEE,Permit APPROVED by ADMINISTRATION,Permit APPROVED by BUDGET OWNER,Permit FINAL_APPROVED by SUPERVISOR,Request For Payment SUBMITTED by EMPLOYEE,Request For Payment APPROVED by ADMINISTRATION,Request For Payment REJECTED by BUDGET OWNER,Request For Payment REJECTED by EMPLOYEE,Request For Payment SUBMITTED by EMPLOYEE,Request For Payment APPROVED by ADMINISTRATION,Request For Payment APPROVED by BUDGET OWNER,Request For Payment FINAL_APPROVED by SUPERVISOR,Request Payment,Payment Handled',\n",
       " 'Permit SUBMITTED by EMPLOYEE,Permit APPROVED by ADMINISTRATION,Permit APPROVED by BUDGET OWNER,Permit FINAL_APPROVED by SUPERVISOR,Request For Payment SUBMITTED by EMPLOYEE,Request For Payment APPROVED by ADMINISTRATION,Request For Payment REJECTED by BUDGET OWNER,Request For Payment REJECTED by EMPLOYEE',\n",
       " 'Permit SUBMITTED by EMPLOYEE,Permit APPROVED by ADMINISTRATION,Permit APPROVED by BUDGET OWNER,Permit FINAL_APPROVED by SUPERVISOR,Request For Payment SUBMITTED by EMPLOYEE,Request For Payment APPROVED by ADMINISTRATION,Request For Payment APPROVED by BUDGET OWNER,Request For Payment REJECTED by SUPERVISOR,Request For Payment SUBMITTED by EMPLOYEE,Request For Payment APPROVED by ADMINISTRATION,Request For Payment APPROVED by BUDGET OWNER,Request For Payment FINAL_APPROVED by SUPERVISOR,Request Payment,Payment Handled',\n",
       " 'Permit SUBMITTED by EMPLOYEE,Permit APPROVED by ADMINISTRATION,Permit APPROVED by BUDGET OWNER,Permit FINAL_APPROVED by SUPERVISOR,Request For Payment SUBMITTED by EMPLOYEE,Request For Payment APPROVED by ADMINISTRATION,Request For Payment APPROVED by BUDGET OWNER,Request For Payment REJECTED by SUPERVISOR,Request For Payment REJECTED by EMPLOYEE',\n",
       " 'Permit SUBMITTED by EMPLOYEE,Permit APPROVED by ADMINISTRATION,Permit APPROVED by BUDGET OWNER,Permit FINAL_APPROVED by SUPERVISOR,Request For Payment SUBMITTED by EMPLOYEE,Request For Payment APPROVED by ADMINISTRATION,Request For Payment APPROVED by BUDGET OWNER,Request For Payment APPROVED by SUPERVISOR,Request For Payment FINAL_APPROVED by DIRECTOR,Request Payment,Payment Handled',\n",
       " 'Permit SUBMITTED by EMPLOYEE,Permit APPROVED by ADMINISTRATION,Permit APPROVED by BUDGET OWNER,Permit FINAL_APPROVED by DIRECTOR,Permit APPROVED by SUPERVISOR,Request For Payment SUBMITTED by EMPLOYEE,Request For Payment REJECTED by ADMINISTRATION,Request For Payment REJECTED by EMPLOYEE,Request For Payment SUBMITTED by EMPLOYEE,Request For Payment APPROVED by ADMINISTRATION,Request For Payment APPROVED by BUDGET OWNER,Request For Payment FINAL_APPROVED by SUPERVISOR,Request Payment,Payment Handled',\n",
       " 'Permit SUBMITTED by EMPLOYEE,Permit APPROVED by ADMINISTRATION,Permit APPROVED by BUDGET OWNER,Permit FINAL_APPROVED by DIRECTOR,Permit APPROVED by SUPERVISOR,Request For Payment SUBMITTED by EMPLOYEE,Request For Payment APPROVED by ADMINISTRATION,Request For Payment APPROVED by BUDGET OWNER,Request For Payment FINAL_APPROVED by SUPERVISOR,Request Payment,Payment Handled',\n",
       " 'Permit SUBMITTED by EMPLOYEE,Permit APPROVED by ADMINISTRATION,Permit APPROVED by BUDGET OWNER,Permit APPROVED by SUPERVISOR,Request For Payment SUBMITTED by EMPLOYEE,Request For Payment APPROVED by ADMINISTRATION,Permit FINAL_APPROVED by DIRECTOR,Request For Payment APPROVED by BUDGET OWNER,Request For Payment FINAL_APPROVED by SUPERVISOR,Request Payment,Payment Handled',\n",
       " 'Permit SUBMITTED by EMPLOYEE,Permit APPROVED by ADMINISTRATION,Permit APPROVED by BUDGET OWNER,Permit APPROVED by SUPERVISOR,Permit FINAL_APPROVED by DIRECTOR,Request For Payment SUBMITTED by EMPLOYEE,Request For Payment REJECTED by ADMINISTRATION,Request For Payment REJECTED by EMPLOYEE,Request For Payment SUBMITTED by EMPLOYEE,Request For Payment REJECTED by ADMINISTRATION,Request For Payment REJECTED by EMPLOYEE,Request For Payment SUBMITTED by EMPLOYEE,Request For Payment APPROVED by ADMINISTRATION,Request For Payment APPROVED by BUDGET OWNER,Request For Payment FINAL_APPROVED by SUPERVISOR,Request Payment,Payment Handled',\n",
       " 'Permit SUBMITTED by EMPLOYEE,Permit APPROVED by ADMINISTRATION,Permit APPROVED by BUDGET OWNER,Permit APPROVED by SUPERVISOR,Permit FINAL_APPROVED by DIRECTOR,Request For Payment SUBMITTED by EMPLOYEE,Request For Payment REJECTED by ADMINISTRATION,Request For Payment REJECTED by EMPLOYEE,Request For Payment SUBMITTED by EMPLOYEE,Request For Payment REJECTED by ADMINISTRATION,Request For Payment REJECTED by EMPLOYEE',\n",
       " 'Permit SUBMITTED by EMPLOYEE,Permit APPROVED by ADMINISTRATION,Permit APPROVED by BUDGET OWNER,Permit APPROVED by SUPERVISOR,Permit FINAL_APPROVED by DIRECTOR,Request For Payment SUBMITTED by EMPLOYEE,Request For Payment REJECTED by ADMINISTRATION,Request For Payment REJECTED by EMPLOYEE',\n",
       " 'Permit SUBMITTED by EMPLOYEE,Permit APPROVED by ADMINISTRATION,Permit APPROVED by BUDGET OWNER,Permit APPROVED by SUPERVISOR,Permit FINAL_APPROVED by DIRECTOR,Request For Payment SUBMITTED by EMPLOYEE,Request For Payment APPROVED by ADMINISTRATION,Request For Payment FINAL_APPROVED by SUPERVISOR,Request Payment,Payment Handled',\n",
       " 'Permit SUBMITTED by EMPLOYEE,Permit APPROVED by ADMINISTRATION,Permit APPROVED by BUDGET OWNER,Permit APPROVED by SUPERVISOR,Permit FINAL_APPROVED by DIRECTOR,Request For Payment SUBMITTED by EMPLOYEE,Request For Payment APPROVED by ADMINISTRATION,Request For Payment APPROVED by BUDGET OWNER,Request For Payment REJECTED by SUPERVISOR,Request For Payment REJECTED by EMPLOYEE,Request For Payment SUBMITTED by EMPLOYEE,Request For Payment APPROVED by ADMINISTRATION,Request For Payment APPROVED by BUDGET OWNER,Request For Payment REJECTED by SUPERVISOR,Request For Payment REJECTED by EMPLOYEE,Request For Payment SUBMITTED by EMPLOYEE,Request For Payment APPROVED by ADMINISTRATION,Request For Payment APPROVED by BUDGET OWNER,Request For Payment FINAL_APPROVED by SUPERVISOR,Request Payment,Payment Handled',\n",
       " 'Permit SUBMITTED by EMPLOYEE,Permit APPROVED by ADMINISTRATION,Permit APPROVED by BUDGET OWNER,Permit APPROVED by SUPERVISOR,Permit FINAL_APPROVED by DIRECTOR,Request For Payment SAVED by EMPLOYEE']"
      ]
     },
     "execution_count": 180,
     "metadata": {},
     "output_type": "execute_result"
    }
   ],
   "source": [
    "R"
   ]
  },
  {
   "cell_type": "markdown",
   "metadata": {},
   "source": [
    "# line 16 fitness check "
   ]
  },
  {
   "cell_type": "code",
   "execution_count": null,
   "metadata": {},
   "outputs": [],
   "source": []
  },
  {
   "cell_type": "code",
   "execution_count": null,
   "metadata": {},
   "outputs": [],
   "source": [
    "variants_count[0]['variant'].split(',')"
   ]
  },
  {
   "cell_type": "code",
   "execution_count": null,
   "metadata": {},
   "outputs": [],
   "source": [
    "def dist_btw_traces(trace1,trace2, output=False) : \n",
    "    A = set(trace1.split(','))\n",
    "    B = set(trace2.split(','))\n",
    "    if output : \n",
    "        print(\"\\nA SET\", A)\n",
    "        print(\"\\nB SET\", B)\n",
    "        print(\"\\nUNION\", A.union(B))\n",
    "        print(\"\\nINTERSECTION\", A.intersection(B))\n",
    "        print(\"\\nDIFFERENCE\", A.union(B) - A.intersection(B))\n",
    "    return(len(A.union(B) - A.intersection(B)))"
   ]
  },
  {
   "cell_type": "code",
   "execution_count": null,
   "metadata": {},
   "outputs": [],
   "source": [
    "dist_btw_traces(variants_count[0]['variant'], variants_count[1]['variant'], True)"
   ]
  },
  {
   "cell_type": "code",
   "execution_count": null,
   "metadata": {},
   "outputs": [],
   "source": [
    "C = "
   ]
  },
  {
   "cell_type": "code",
   "execution_count": null,
   "metadata": {},
   "outputs": [],
   "source": [
    "W_variant"
   ]
  },
  {
   "cell_type": "code",
   "execution_count": null,
   "metadata": {},
   "outputs": [],
   "source": [
    "def min_distance_seeker(dpi, C) :\n",
    "    import sys\n",
    "    min_dist = sys.maxsize #Instead of inf. \n",
    "    for c in C : \n",
    "        if min_dist > dist_btw_traces(dpi,c) : \n",
    "            min_dpi = c\n",
    "    return min_dpi"
   ]
  },
  {
   "cell_type": "code",
   "execution_count": null,
   "metadata": {},
   "outputs": [],
   "source": [
    "min_distance_seeker(\n",
    "    variants_count[0]['variant'],\n",
    "    \n",
    "\n",
    ")"
   ]
  },
  {
   "cell_type": "code",
   "execution_count": null,
   "metadata": {},
   "outputs": [],
   "source": []
  },
  {
   "cell_type": "code",
   "execution_count": null,
   "metadata": {},
   "outputs": [],
   "source": [
    "#Initialization\n",
    "R = [i for i in range(len(variants_count))]"
   ]
  },
  {
   "cell_type": "code",
   "execution_count": null,
   "metadata": {},
   "outputs": [],
   "source": [
    "for r in R :\n",
    "    dist_list = []\n",
    "    dist_dpi = 0 #temp variable for distance sum\n",
    "    min_dpi_dist = np.inf\n",
    "    min_dpi = np.NaN\n",
    "    \n",
    "    for c in C : \n",
    "        dist_dpi += distance_of_two_set(r,c, variants_count)\n",
    "    if dist_dpi / len(C) < min_dpi_dist : #if average is less than min_dpi, then update\n",
    "        min_dpi_dist = dist_dpi / len(C)\n",
    "        min_dpi = r\n",
    "        \n",
    "    print(\"among R variant\", variants_count[r]['variant'], min_dpi_dist/len(C))"
   ]
  },
  {
   "cell_type": "code",
   "execution_count": 65,
   "metadata": {},
   "outputs": [
    {
     "name": "stdout",
     "output_type": "stream",
     "text": [
      "fitness_inductive= 1.0\n"
     ]
    },
    {
     "name": "stderr",
     "output_type": "stream",
     "text": [
      "/home/bk/anaconda3/lib/python3.7/site-packages/ipykernel_launcher.py:3: DeprecatedWarning: apply is deprecated as of 1.3.0 and will be removed in 2.0.0. Use evaluator entrypoint instead\n",
      "  This is separate from the ipykernel package so we can avoid doing imports until\n"
     ]
    }
   ],
   "source": []
  },
  {
   "cell_type": "code",
   "execution_count": null,
   "metadata": {},
   "outputs": [],
   "source": [
    "distance_of_two_set(1,9,variants_count, True)"
   ]
  },
  {
   "cell_type": "code",
   "execution_count": null,
   "metadata": {},
   "outputs": [],
   "source": []
  },
  {
   "cell_type": "code",
   "execution_count": null,
   "metadata": {
    "scrolled": true
   },
   "outputs": [],
   "source": []
  },
  {
   "cell_type": "code",
   "execution_count": null,
   "metadata": {},
   "outputs": [],
   "source": []
  },
  {
   "cell_type": "code",
   "execution_count": null,
   "metadata": {},
   "outputs": [],
   "source": []
  },
  {
   "cell_type": "code",
   "execution_count": null,
   "metadata": {},
   "outputs": [],
   "source": []
  },
  {
   "cell_type": "code",
   "execution_count": null,
   "metadata": {},
   "outputs": [],
   "source": [
    "#parameter\n",
    "w = 0.5  #window size\n",
    "tf = 0.8 #target fitness\n",
    "nb_clus = 3 #number of cluster\n",
    "N = 1 #case separate \n",
    "\n",
    "\n"
   ]
  },
  {
   "cell_type": "code",
   "execution_count": null,
   "metadata": {},
   "outputs": [],
   "source": []
  },
  {
   "cell_type": "code",
   "execution_count": null,
   "metadata": {},
   "outputs": [],
   "source": []
  },
  {
   "cell_type": "code",
   "execution_count": null,
   "metadata": {},
   "outputs": [],
   "source": []
  },
  {
   "cell_type": "code",
   "execution_count": null,
   "metadata": {},
   "outputs": [],
   "source": []
  },
  {
   "cell_type": "code",
   "execution_count": null,
   "metadata": {},
   "outputs": [],
   "source": []
  },
  {
   "cell_type": "code",
   "execution_count": null,
   "metadata": {},
   "outputs": [],
   "source": []
  },
  {
   "cell_type": "markdown",
   "metadata": {},
   "source": [
    "from pm4py.visualization.heuristics_net import factory as hn_vis_factory\n",
    "gviz = hn_vis_factory.apply(heu_net)\n",
    "hn_vis_factory.view(gviz)"
   ]
  },
  {
   "cell_type": "markdown",
   "metadata": {},
   "source": [
    "from pm4py.visualization.petrinet import factory as pn_vis_factory\n",
    "gviz = pn_vis_factory.apply(net, im, fm)\n",
    "pn_vis_factory.view(gviz)"
   ]
  },
  {
   "cell_type": "code",
   "execution_count": null,
   "metadata": {},
   "outputs": [],
   "source": []
  },
  {
   "cell_type": "code",
   "execution_count": null,
   "metadata": {},
   "outputs": [],
   "source": []
  }
 ],
 "metadata": {
  "kernelspec": {
   "display_name": "Python 3",
   "language": "python",
   "name": "python3"
  },
  "language_info": {
   "codemirror_mode": {
    "name": "ipython",
    "version": 3
   },
   "file_extension": ".py",
   "mimetype": "text/x-python",
   "name": "python",
   "nbconvert_exporter": "python",
   "pygments_lexer": "ipython3",
   "version": "3.7.3"
  }
 },
 "nbformat": 4,
 "nbformat_minor": 2
}
