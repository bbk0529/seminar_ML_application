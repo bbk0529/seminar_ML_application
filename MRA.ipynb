{
 "cells": [
  {
   "cell_type": "code",
   "execution_count": 1,
   "metadata": {},
   "outputs": [],
   "source": [
    "from evaluation import *"
   ]
  },
  {
   "cell_type": "code",
   "execution_count": 2,
   "metadata": {},
   "outputs": [],
   "source": [
    "filename = './xes/filtered_3way_after_80%.xes'"
   ]
  },
  {
   "cell_type": "code",
   "execution_count": 3,
   "metadata": {},
   "outputs": [
    {
     "data": {
      "application/vnd.jupyter.widget-view+json": {
       "model_id": "554bab830b244f5abb29c379905aba55",
       "version_major": 2,
       "version_minor": 0
      },
      "text/plain": [
       "HBox(children=(IntProgress(value=0, description='parsing log, completed traces :: ', max=2534, style=ProgressS…"
      ]
     },
     "metadata": {},
     "output_type": "display_data"
    },
    {
     "name": "stdout",
     "output_type": "stream",
     "text": [
      "\n",
      "==================================================================================================== \n",
      "=READ THE XES FILE\n",
      "length of log 2534 \n",
      "length of event 13589 \n",
      "number of variants : 26\n"
     ]
    }
   ],
   "source": [
    "log, VARIANT = read_xes(filename)"
   ]
  },
  {
   "cell_type": "code",
   "execution_count": 4,
   "metadata": {},
   "outputs": [],
   "source": [
    "from clustering_util import *"
   ]
  },
  {
   "cell_type": "code",
   "execution_count": 5,
   "metadata": {},
   "outputs": [],
   "source": [
    "def MR_creator(VARIANT) : \n",
    "    '''\n",
    "    INPUT : VARIANT\n",
    "    output : MAXIMAL REPEAT in the list\n",
    "    \n",
    "    ''' \n",
    "    concatenated_log=[]\n",
    "    for trace in VARIANT:\n",
    "        sequence=[event for event in trace.split(',')]   \n",
    "        sequence.append('|')\n",
    "        concatenated_log+=sequence\n",
    "\n",
    "    return discover_maximal_repeat(concatenated_log)"
   ]
  },
  {
   "cell_type": "code",
   "execution_count": 6,
   "metadata": {},
   "outputs": [],
   "source": [
    "def MRA_creator (mr) : \n",
    "    mra = set()\n",
    "    for r in mr : \n",
    "        for a in r.split(','):\n",
    "            mra.add(a)\n",
    "    return mra\n",
    "        \n",
    "        \n",
    "    "
   ]
  },
  {
   "cell_type": "code",
   "execution_count": 25,
   "metadata": {},
   "outputs": [],
   "source": [
    "def dpi_finder(C, W, mra, output=False):\n",
    "    C_in_mra=[]\n",
    "    for v in C : \n",
    "        C_in_mra.append(mra.intersection(set(v.split(','))))\n",
    "\n",
    "    W_in_mra=[]\n",
    "    for v in W : \n",
    "        W_in_mra.append(mra.intersection(set(v.split(','))))\n",
    "\n",
    "    dist_mat = np.zeros((len(W_in_mra), len(C_in_mra)))\n",
    "    for w_idx, w in enumerate(W_in_mra) : \n",
    "        for c_idx, c in enumerate(C_in_mra): \n",
    "            dist_mat[w_idx, c_idx] = dist_btw_set(w,c)\n",
    "    idx = np.argmin(np.sum(dist_mat, axis=1))\n",
    "    print(np.sum(dist_mat, axis=1))\n",
    "    return W[idx]\n"
   ]
  },
  {
   "cell_type": "code",
   "execution_count": 26,
   "metadata": {},
   "outputs": [],
   "source": [
    "mra=MRA_creator(MR_creator(VARIANT))"
   ]
  },
  {
   "cell_type": "code",
   "execution_count": 27,
   "metadata": {},
   "outputs": [
    {
     "name": "stdout",
     "output_type": "stream",
     "text": [
      "[ 31.  31.  43. 127.  45.  43.  47.  43.  43.  57.  47.  59.  31.  59.\n",
      "  65.  55.  45.  43.  47.  55.  45.  53.  45.  43.  45.  31.]\n"
     ]
    },
    {
     "data": {
      "text/plain": [
       "'A,B,C,D,Z'"
      ]
     },
     "execution_count": 27,
     "metadata": {},
     "output_type": "execute_result"
    }
   ],
   "source": [
    "dpi_finder(C,W,mra)"
   ]
  },
  {
   "cell_type": "code",
   "execution_count": 17,
   "metadata": {},
   "outputs": [],
   "source": [
    "C=VARIANT"
   ]
  },
  {
   "cell_type": "code",
   "execution_count": 23,
   "metadata": {},
   "outputs": [],
   "source": [
    "W=VARIANT"
   ]
  },
  {
   "cell_type": "code",
   "execution_count": null,
   "metadata": {},
   "outputs": [],
   "source": [
    "dpi_finder(C,W, True)"
   ]
  },
  {
   "cell_type": "code",
   "execution_count": null,
   "metadata": {},
   "outputs": [],
   "source": []
  }
 ],
 "metadata": {
  "kernelspec": {
   "display_name": "Python 3",
   "language": "python",
   "name": "python3"
  },
  "language_info": {
   "codemirror_mode": {
    "name": "ipython",
    "version": 3
   },
   "file_extension": ".py",
   "mimetype": "text/x-python",
   "name": "python",
   "nbconvert_exporter": "python",
   "pygments_lexer": "ipython3",
   "version": "3.7.3"
  }
 },
 "nbformat": 4,
 "nbformat_minor": 2
}
