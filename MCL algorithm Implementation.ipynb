{
 "cells": [
  {
   "cell_type": "markdown",
   "metadata": {},
   "source": [
    "# PAPER TO BE IMPLEMENTED TO STUDY"
   ]
  },
  {
   "cell_type": "code",
   "execution_count": 54,
   "metadata": {},
   "outputs": [],
   "source": [
    "import sys\n",
    "import numpy\n",
    "numpy.set_printoptions(threshold=sys.maxsize)"
   ]
  },
  {
   "cell_type": "code",
   "execution_count": 55,
   "metadata": {},
   "outputs": [],
   "source": [
    "import copy"
   ]
  },
  {
   "cell_type": "code",
   "execution_count": 56,
   "metadata": {},
   "outputs": [],
   "source": [
    "from IPython.display import display_pretty, display_html, display_jpeg, display_png, display_json, display_latex, display_svg\n"
   ]
  },
  {
   "cell_type": "code",
   "execution_count": 57,
   "metadata": {},
   "outputs": [],
   "source": [
    "import numpy as np\n",
    "large_width = 400\n",
    "np.set_printoptions(linewidth=large_width)"
   ]
  },
  {
   "cell_type": "code",
   "execution_count": 58,
   "metadata": {},
   "outputs": [],
   "source": [
    "def gamma_operation (M, r):\n",
    "    M_new = copy.deepcopy(M.T)\n",
    "    \n",
    "    for i, row in enumerate(M_new) :\n",
    "        M_new[i] = M_new[i] ** r / sum(row **r )\n",
    "    return M_new.T"
   ]
  },
  {
   "cell_type": "code",
   "execution_count": 59,
   "metadata": {},
   "outputs": [],
   "source": [
    "def col_norm (M):\n",
    "    M_new = copy.deepcopy(M.T)\n",
    "    for i, row in enumerate(M_new) :\n",
    "        M_new[i] = M_new[i] / sum(row)\n",
    "    return M_new.T"
   ]
  },
  {
   "cell_type": "code",
   "execution_count": 60,
   "metadata": {},
   "outputs": [],
   "source": [
    "def power_matrix (M,r) :\n",
    "    M_new = copy.deepcopy(M)\n",
    "    for i in range(r-1) : \n",
    "        M_new = np.matmul(M_new, M)\n",
    "    return M_new\n"
   ]
  },
  {
   "cell_type": "code",
   "execution_count": 61,
   "metadata": {},
   "outputs": [],
   "source": [
    "def squaring(M,r) : \n",
    "    M_new = copy.deepcopy(M)\n",
    "    for i in range(r-1) : \n",
    "        M_new = gamma_operation(power_matrix(M_new,2),2)\n",
    "\n",
    "    return M_new"
   ]
  },
  {
   "cell_type": "code",
   "execution_count": 161,
   "metadata": {},
   "outputs": [],
   "source": [
    "np.set_printoptions(precision=3)"
   ]
  },
  {
   "cell_type": "code",
   "execution_count": 176,
   "metadata": {},
   "outputs": [],
   "source": [
    "edges =[\n",
    "    [6,10],\n",
    "    [6,1],\n",
    "    [10,7],\n",
    "    [10,1],\n",
    "    [7,1],\n",
    "    [7,5],\n",
    "    [5,2],\n",
    "    [5,3],\n",
    "    [1,2],\n",
    "    [2,3],\n",
    "    [5,8],\n",
    "    [3,4],\n",
    "    [5,8],\n",
    "    [8,9],\n",
    "    [8,4],\n",
    "    [8,11],\n",
    "    [11,4],\n",
    "    [4,9],\n",
    "    [11,9],\n",
    "    [11,12],\n",
    "    [12,11],\n",
    "    [12,9],\n",
    "]"
   ]
  },
  {
   "cell_type": "code",
   "execution_count": 177,
   "metadata": {},
   "outputs": [],
   "source": [
    "N = np.zeros((13,13))"
   ]
  },
  {
   "cell_type": "code",
   "execution_count": 178,
   "metadata": {},
   "outputs": [],
   "source": [
    "for e in edges : \n",
    "    N[e[0],e[1]] = 1\n",
    "    N[e[1],e[0]] = 1"
   ]
  },
  {
   "cell_type": "code",
   "execution_count": 179,
   "metadata": {},
   "outputs": [],
   "source": [
    "A=N[1:,:][:,1:]"
   ]
  },
  {
   "cell_type": "code",
   "execution_count": 180,
   "metadata": {},
   "outputs": [],
   "source": [
    "B=A + np.identity(12)"
   ]
  },
  {
   "cell_type": "code",
   "execution_count": 181,
   "metadata": {},
   "outputs": [],
   "source": [
    "M=col_norm(B)"
   ]
  },
  {
   "cell_type": "code",
   "execution_count": 182,
   "metadata": {},
   "outputs": [],
   "source": [
    "M_G3=np.matmul(B,B.T)\n"
   ]
  },
  {
   "cell_type": "markdown",
   "metadata": {},
   "source": [
    "$\n",
    "\\Gamma_2 M^2, \n",
    "$"
   ]
  },
  {
   "cell_type": "code",
   "execution_count": 309,
   "metadata": {},
   "outputs": [],
   "source": [
    "M_1=gamma_operation(power_matrix(M,2),2)"
   ]
  },
  {
   "cell_type": "code",
   "execution_count": 310,
   "metadata": {},
   "outputs": [
    {
     "data": {
      "text/plain": [
       "array([[0.38 , 0.087, 0.027, 0.   , 0.077, 0.295, 0.201, 0.   , 0.   , 0.32 , 0.   , 0.   ],\n",
       "       [0.047, 0.347, 0.21 , 0.017, 0.15 , 0.019, 0.066, 0.011, 0.   , 0.012, 0.   , 0.   ],\n",
       "       [0.014, 0.21 , 0.347, 0.055, 0.15 , 0.   , 0.016, 0.046, 0.009, 0.   , 0.009, 0.   ],\n",
       "       [0.   , 0.027, 0.087, 0.302, 0.062, 0.   , 0.   , 0.184, 0.143, 0.   , 0.143, 0.083],\n",
       "       [0.058, 0.21 , 0.21 , 0.055, 0.406, 0.   , 0.083, 0.046, 0.009, 0.019, 0.009, 0.   ],\n",
       "       [0.142, 0.017, 0.   , 0.   , 0.   , 0.295, 0.083, 0.   , 0.   , 0.184, 0.   , 0.   ],\n",
       "       [0.113, 0.069, 0.017, 0.   , 0.062, 0.097, 0.333, 0.011, 0.   , 0.147, 0.   , 0.   ],\n",
       "       [0.   , 0.017, 0.069, 0.175, 0.049, 0.   , 0.016, 0.287, 0.143, 0.   , 0.143, 0.083],\n",
       "       [0.   , 0.   , 0.017, 0.175, 0.012, 0.   , 0.   , 0.184, 0.288, 0.   , 0.288, 0.278],\n",
       "       [0.246, 0.017, 0.   , 0.   , 0.019, 0.295, 0.201, 0.   , 0.   , 0.32 , 0.   , 0.   ],\n",
       "       [0.   , 0.   , 0.017, 0.175, 0.012, 0.   , 0.   , 0.184, 0.288, 0.   , 0.288, 0.278],\n",
       "       [0.   , 0.   , 0.   , 0.044, 0.   , 0.   , 0.   , 0.046, 0.12 , 0.   , 0.12 , 0.278]])"
      ]
     },
     "execution_count": 310,
     "metadata": {},
     "output_type": "execute_result"
    }
   ],
   "source": [
    "M_1"
   ]
  },
  {
   "cell_type": "markdown",
   "metadata": {},
   "source": [
    "$\n",
    "\\Gamma_2 M^2, \n",
    "$"
   ]
  },
  {
   "cell_type": "code",
   "execution_count": 311,
   "metadata": {},
   "outputs": [],
   "source": [
    "M_2=tau_operation(power_matrix(M_1,2),2)\n",
    "M_3=tau_operation(power_matrix(M_2,2),2)\n",
    "M_4=tau_operation(power_matrix(M_3,2),2)\n"
   ]
  },
  {
   "cell_type": "code",
   "execution_count": 312,
   "metadata": {},
   "outputs": [
    {
     "data": {
      "text/plain": [
       "array([[0.807, 0.04 , 0.015, 0.   , 0.034, 0.807, 0.806, 0.   , 0.   , 0.807, 0.   , 0.   ],\n",
       "       [0.   , 0.09 , 0.092, 0.   , 0.088, 0.   , 0.   , 0.   , 0.   , 0.   , 0.   , 0.   ],\n",
       "       [0.   , 0.085, 0.088, 0.   , 0.084, 0.   , 0.   , 0.   , 0.   , 0.   , 0.   , 0.   ],\n",
       "       [0.   , 0.001, 0.001, 0.032, 0.001, 0.   , 0.   , 0.032, 0.031, 0.   , 0.031, 0.031],\n",
       "       [0.   , 0.777, 0.798, 0.   , 0.786, 0.   , 0.001, 0.   , 0.   , 0.   , 0.   , 0.   ],\n",
       "       [0.005, 0.   , 0.   , 0.   , 0.   , 0.005, 0.005, 0.   , 0.   , 0.005, 0.   , 0.   ],\n",
       "       [0.003, 0.   , 0.   , 0.   , 0.   , 0.003, 0.003, 0.   , 0.   , 0.003, 0.   , 0.   ],\n",
       "       [0.   , 0.   , 0.001, 0.024, 0.   , 0.   , 0.   , 0.024, 0.024, 0.   , 0.024, 0.024],\n",
       "       [0.   , 0.   , 0.002, 0.471, 0.001, 0.   , 0.   , 0.471, 0.472, 0.   , 0.472, 0.472],\n",
       "       [0.185, 0.005, 0.001, 0.   , 0.004, 0.185, 0.184, 0.   , 0.   , 0.185, 0.   , 0.   ],\n",
       "       [0.   , 0.   , 0.002, 0.471, 0.001, 0.   , 0.   , 0.471, 0.472, 0.   , 0.472, 0.472],\n",
       "       [0.   , 0.   , 0.   , 0.001, 0.   , 0.   , 0.   , 0.001, 0.001, 0.   , 0.001, 0.001]])"
      ]
     },
     "execution_count": 312,
     "metadata": {},
     "output_type": "execute_result"
    }
   ],
   "source": [
    "np.round(M_4,3)"
   ]
  },
  {
   "cell_type": "code",
   "execution_count": 313,
   "metadata": {},
   "outputs": [
    {
     "data": {
      "text/plain": [
       "array([4., 3., 3., 4., 4., 2., 3., 4., 4., 3., 4., 2.])"
      ]
     },
     "execution_count": 313,
     "metadata": {},
     "output_type": "execute_result"
    }
   ],
   "source": [
    "np.sum(A,axis=0)"
   ]
  },
  {
   "cell_type": "code",
   "execution_count": 203,
   "metadata": {},
   "outputs": [
    {
     "data": {
      "text/plain": [
       "array([[1. , 0. , 0. , 0. , 0. , 1. , 1. , 0. , 0. , 1. , 0. , 0. ],\n",
       "       [0. , 0. , 0. , 0. , 0. , 0. , 0. , 0. , 0. , 0. , 0. , 0. ],\n",
       "       [0. , 0. , 0. , 0. , 0. , 0. , 0. , 0. , 0. , 0. , 0. , 0. ],\n",
       "       [0. , 0. , 0. , 0. , 0. , 0. , 0. , 0. , 0. , 0. , 0. , 0. ],\n",
       "       [0. , 1. , 1. , 0. , 1. , 0. , 0. , 0. , 0. , 0. , 0. , 0. ],\n",
       "       [0. , 0. , 0. , 0. , 0. , 0. , 0. , 0. , 0. , 0. , 0. , 0. ],\n",
       "       [0. , 0. , 0. , 0. , 0. , 0. , 0. , 0. , 0. , 0. , 0. , 0. ],\n",
       "       [0. , 0. , 0. , 0. , 0. , 0. , 0. , 0. , 0. , 0. , 0. , 0. ],\n",
       "       [0. , 0. , 0. , 0.5, 0. , 0. , 0. , 0.5, 0.5, 0. , 0.5, 0.5],\n",
       "       [0. , 0. , 0. , 0. , 0. , 0. , 0. , 0. , 0. , 0. , 0. , 0. ],\n",
       "       [0. , 0. , 0. , 0.5, 0. , 0. , 0. , 0.5, 0.5, 0. , 0.5, 0.5],\n",
       "       [0. , 0. , 0. , 0. , 0. , 0. , 0. , 0. , 0. , 0. , 0. , 0. ]])"
      ]
     },
     "execution_count": 203,
     "metadata": {},
     "output_type": "execute_result"
    }
   ],
   "source": [
    "np.round(\n",
    "    squaring(M,100)\n",
    ",3)"
   ]
  },
  {
   "cell_type": "code",
   "execution_count": null,
   "metadata": {},
   "outputs": [],
   "source": []
  },
  {
   "cell_type": "code",
   "execution_count": null,
   "metadata": {},
   "outputs": [],
   "source": []
  },
  {
   "cell_type": "code",
   "execution_count": null,
   "metadata": {},
   "outputs": [],
   "source": []
  },
  {
   "cell_type": "code",
   "execution_count": null,
   "metadata": {},
   "outputs": [],
   "source": []
  },
  {
   "cell_type": "markdown",
   "metadata": {},
   "source": [
    "# PREPAID COST XES CLUSTERING"
   ]
  },
  {
   "cell_type": "code",
   "execution_count": 32,
   "metadata": {},
   "outputs": [],
   "source": [
    "from evaluation import *"
   ]
  },
  {
   "cell_type": "code",
   "execution_count": 33,
   "metadata": {},
   "outputs": [],
   "source": [
    "filename = './xes/PrepaidTravelCost.xes'"
   ]
  },
  {
   "cell_type": "code",
   "execution_count": 34,
   "metadata": {},
   "outputs": [
    {
     "data": {
      "application/vnd.jupyter.widget-view+json": {
       "model_id": "804c371bed62452e9974d9e51be2b359",
       "version_major": 2,
       "version_minor": 0
      },
      "text/plain": [
       "HBox(children=(IntProgress(value=0, description='parsing log, completed traces :: ', max=2099, style=ProgressS…"
      ]
     },
     "metadata": {},
     "output_type": "display_data"
    },
    {
     "name": "stdout",
     "output_type": "stream",
     "text": [
      "\n",
      "==================================================================================================== \n",
      "=READ THE XES FILE\n",
      "length of log 2099 \n",
      "length of event 18246 \n",
      "number of variants : 202\n"
     ]
    }
   ],
   "source": [
    "log, VARIANT = read_xes(filename)"
   ]
  },
  {
   "cell_type": "code",
   "execution_count": 35,
   "metadata": {},
   "outputs": [],
   "source": [
    "def cosine_similarity(v1,v2) : \n",
    "    return np.dot(v1,v2) / (np.linalg.norm(v1) *np.linalg.norm(v1))"
   ]
  },
  {
   "cell_type": "code",
   "execution_count": 36,
   "metadata": {},
   "outputs": [
    {
     "data": {
      "text/plain": [
       "[{'variant': 'B,C,H,A,G,F,D,E', 'count': 569},\n",
       " {'variant': 'B,C,J,H,A,G,K,F,D,E', 'count': 311},\n",
       " {'variant': 'B,C,M,N,A,G,F,D,E', 'count': 126},\n",
       " {'variant': 'B,C,J,M,N,A,G,K,F,D,E', 'count': 100},\n",
       " {'variant': 'A,G,K,F,D,E', 'count': 93},\n",
       " {'variant': 'B,P,H,A,Q,F,D,E', 'count': 90},\n",
       " {'variant': 'A,G,F,D,E', 'count': 84},\n",
       " {'variant': 'B,H,A,F,D,E', 'count': 79},\n",
       " {'variant': 'B,C,H,A,L,I,A,G,F,D,E', 'count': 53},\n",
       " {'variant': 'B,C,A,G,H,F,D,E', 'count': 43},\n",
       " {'variant': 'B,C,A,G,J,K,H,F,D,E', 'count': 28},\n",
       " {'variant': 'B,C,J,H,A,L,I,A,G,K,F,D,E', 'count': 26},\n",
       " {'variant': 'B,M,N,A,F,D,E', 'count': 21},\n",
       " {'variant': 'A,L,I', 'count': 20},\n",
       " {'variant': 'B,C,H,A,G,K,F,D,E', 'count': 19},\n",
       " {'variant': 'B,C,A,G,F,H,D,E', 'count': 14},\n",
       " {'variant': 'B,C,M,N,A,G,T,U,D,E', 'count': 13},\n",
       " {'variant': 'B,C,J,H,A,L,I', 'count': 13},\n",
       " {'variant': 'A,F,D,E', 'count': 13},\n",
       " {'variant': 'B,C,H,A,L,I', 'count': 12},\n",
       " {'variant': 'B,P,H,A,3,I,A,Q,F,D,E', 'count': 11},\n",
       " {'variant': 'B,P,M,N,A,Q,F,D,E', 'count': 10},\n",
       " {'variant': 'B,C,M,N,A,L,I,A,G,F,D,E', 'count': 9},\n",
       " {'variant': 'B,C,X,O,B,C,J,H,A,G,K,F,D,E', 'count': 8},\n",
       " {'variant': 'B,C,R,O,B,C,H,A,G,F,D,E', 'count': 8},\n",
       " {'variant': 'B,C,J,M,N,A,L,I,A,G,K,F,D,E', 'count': 8},\n",
       " {'variant': 'Y', 'count': 7},\n",
       " {'variant': 'B,C,A,L,H,I,A,G,F,D,E', 'count': 7},\n",
       " {'variant': 'B,2,O,B,P,H,A,Q,F,D,E', 'count': 7},\n",
       " {'variant': 'B,H,A,Q,F,D,E', 'count': 6},\n",
       " {'variant': 'B,C,J,H,A,G,F,D,E', 'count': 6},\n",
       " {'variant': 'B,P,A,Q,H,F,D,E', 'count': 5},\n",
       " {'variant': 'B,C,J,M,N,A,G,K,T,U,D,E', 'count': 5},\n",
       " {'variant': 'B,C,J,A,G,K,H,F,D,E', 'count': 5},\n",
       " {'variant': 'B,C,J,A,G,H,K,F,D,E', 'count': 5},\n",
       " {'variant': 'B,C,A,G,K,J,F,H,D,E', 'count': 5},\n",
       " {'variant': 'B,C,A,G,J,K,M,F,N,D,E', 'count': 5},\n",
       " {'variant': 'B,C,A,G,J,H,K,F,D,E', 'count': 5},\n",
       " {'variant': 'B,M,N,A,T,U,D,E', 'count': 4},\n",
       " {'variant': 'B,H,A,G,K,F,D,E', 'count': 4},\n",
       " {'variant': 'B,C,R,O,B,C,M,N,A,G,F,D,E', 'count': 4},\n",
       " {'variant': 'B,C,M,A,G,F,N,D,E', 'count': 4},\n",
       " {'variant': 'B,C,J,H,Y', 'count': 4},\n",
       " {'variant': 'B,C,H,A,L,I,A,L,I,A,G,F,D,E', 'count': 4},\n",
       " {'variant': 'B,C,A,G,M,F,D,N,E', 'count': 4},\n",
       " {'variant': 'B,P,H,A,Q,F,Z', 'count': 3},\n",
       " {'variant': 'B,P,H,A,Q,F,D,E,V', 'count': 3},\n",
       " {'variant': 'B,P,H,A,3,I', 'count': 3},\n",
       " {'variant': 'B,M,N,V,B,M,N,A,F,D,E,V,B,M,N', 'count': 3},\n",
       " {'variant': 'B,M,N,A,Q,F,D,E', 'count': 3},\n",
       " {'variant': 'B,H,A,F,D,E,V', 'count': 3},\n",
       " {'variant': 'B,C,Y,J,H', 'count': 3},\n",
       " {'variant': 'B,C,R,O,B,C,H,A,L,I,A,G,F,D,E', 'count': 3},\n",
       " {'variant': 'B,C,J,M,N,A,L,I,A,G,K,T,U,D,E', 'count': 3},\n",
       " {'variant': 'B,C,J,A,G,K,F,H,D,E', 'count': 3},\n",
       " {'variant': 'B,C,H,Y', 'count': 3},\n",
       " {'variant': 'B,C,H,A,G,S,I,A,G,F,D,E', 'count': 3},\n",
       " {'variant': 'B,C,A,L,J,I,A,G,H,K,F,D,E', 'count': 3},\n",
       " {'variant': 'B,C,A,H,G,F,D,E', 'count': 3},\n",
       " {'variant': 'B,2,O,B,P,H,A,3,I,A,Q,F,D,E', 'count': 3},\n",
       " {'variant': 'A,Q,F,D,E', 'count': 3},\n",
       " {'variant': 'B,W,O,B,C,J,M,N,A,G,K,F,D,E', 'count': 2},\n",
       " {'variant': 'B,W,O,B,C,J,H,A,L,I,A,G,K,F,D,E', 'count': 2},\n",
       " {'variant': 'B,W,O,B,C,H,A,G,F,D,E', 'count': 2},\n",
       " {'variant': 'B,R,O,B,M,N,A,T,U,D,E', 'count': 2},\n",
       " {'variant': 'B,R,O,B,H,A,F,D,E', 'count': 2},\n",
       " {'variant': 'B,P,H,Y', 'count': 2},\n",
       " {'variant': 'B,P,H,A,G,K,F,D,E', 'count': 2},\n",
       " {'variant': 'B,P,H,A,G,F,D,E', 'count': 2},\n",
       " {'variant': 'B,P,A,Q,F,H,D,E', 'count': 2},\n",
       " {'variant': 'B,M,N,V,B,H,A,F,D,E', 'count': 2},\n",
       " {'variant': 'B,M,N,A,F,D,E,V,B,M,N', 'count': 2},\n",
       " {'variant': 'B,M,A,F,N,D,E', 'count': 2},\n",
       " {'variant': 'B,H,P,A,Q,F,D,E', 'count': 2},\n",
       " {'variant': 'B,H,A,S,I', 'count': 2},\n",
       " {'variant': 'B,C,M,N,A,L,I', 'count': 2},\n",
       " {'variant': 'B,C,M,N,A,G,K,F,D,E', 'count': 2},\n",
       " {'variant': 'B,C,J,H,A,G,1,A,G,K,F,D,E', 'count': 2},\n",
       " {'variant': 'B,C,H,A,L,A,L,I', 'count': 2},\n",
       " {'variant': 'B,C,H,A,G,S,I', 'count': 2},\n",
       " {'variant': 'B,C,A,J,R,G,K,O,B,W,O,S,I', 'count': 2},\n",
       " {'variant': 'B,C,A,H,L,I,A,G,F,D,E', 'count': 2},\n",
       " {'variant': 'B,C,A,G,M,T,N,U,D,E', 'count': 2},\n",
       " {'variant': 'B,C,A,G,M,F,N,D,E', 'count': 2},\n",
       " {'variant': 'B,C,A,G,K,J,H,F,D,E', 'count': 2},\n",
       " {'variant': 'B,C,A,G,J,K,M,F,D,N,E', 'count': 2},\n",
       " {'variant': 'B,C,A,G,F,D,H,E', 'count': 2},\n",
       " {'variant': 'B,C,A,G,F,D,E,H', 'count': 2},\n",
       " {'variant': 'B,2,O,B,P,M,N,A,Q,F,D,E', 'count': 2},\n",
       " {'variant': 'B,2,O,B,2,O,B,P,H,A,Q,F,D,E', 'count': 2},\n",
       " {'variant': 'A,L,I,A,G,K,F,D,E', 'count': 2},\n",
       " {'variant': 'A,L,I,A,G,F,D,E', 'count': 2},\n",
       " {'variant': 'A,G,K,T,U,D,E', 'count': 2},\n",
       " {'variant': 'A,F,Z', 'count': 2},\n",
       " {'variant': 'B,W,O,B,C,M,N,A,G,F,D,E', 'count': 1},\n",
       " {'variant': 'B,W,O,B,C,H,A,L,I', 'count': 1},\n",
       " {'variant': 'B,W,A,O,B,C,J,G,K,M,N,F,D,E', 'count': 1},\n",
       " {'variant': 'B,W,A,O,B,C,G,J,K,F,H,D,E', 'count': 1},\n",
       " {'variant': 'B,W,A,G,F,D,O,B,C,E,H', 'count': 1},\n",
       " {'variant': 'B,P,R,O,B,P,M,N,A,Q,F,D,E', 'count': 1},\n",
       " {'variant': 'B,P,M,N,A,Q,T,U,Z', 'count': 1},\n",
       " {'variant': 'B,P,M,N,A,Q,T,U,D,E', 'count': 1},\n",
       " {'variant': 'B,P,M,N,A,G,F,D,E', 'count': 1},\n",
       " {'variant': 'B,P,H,A,Q,S,I,A,Q,F,D,E', 'count': 1},\n",
       " {'variant': 'B,P,H,A,Q,F,Z,V', 'count': 1},\n",
       " {'variant': 'B,P,H,A,L,I,A,G,F,D,E', 'count': 1},\n",
       " {'variant': 'B,P,A,Q,H,F,D,E,V', 'count': 1},\n",
       " {'variant': 'B,M,N,Y', 'count': 1},\n",
       " {'variant': 'B,M,N,A,G,K,F,D,E', 'count': 1},\n",
       " {'variant': 'B,M,N,A,F,D,Z', 'count': 1},\n",
       " {'variant': 'B,M,N,A,F,D,E,V', 'count': 1},\n",
       " {'variant': 'B,H,V,B,H,A,F,D,E', 'count': 1},\n",
       " {'variant': 'B,H,A,S,I,A,F,D,E', 'count': 1},\n",
       " {'variant': 'B,H,A,L,I,A,G,K,F,D,E', 'count': 1},\n",
       " {'variant': 'B,H,A,F,Z,V', 'count': 1},\n",
       " {'variant': 'B,H,A,F,V,D,E,B,H', 'count': 1},\n",
       " {'variant': 'B,C,Y,M,N', 'count': 1},\n",
       " {'variant': 'B,C,X,O,B,W,O,B,C,J,H,A,G,K,F,D,E', 'count': 1},\n",
       " {'variant': 'B,C,X,O,B,C,X,O,B,C,J,H,A,G,K,F,D,E', 'count': 1},\n",
       " {'variant': 'B,C,X,O,B,C,J,M,N,A,G,K,F,D,E', 'count': 1},\n",
       " {'variant': 'B,C,X,O,B,C,J,A,G,H,K,F,D,E', 'count': 1},\n",
       " {'variant': 'B,C,X,O,B,C,H,A,G,F,D,E', 'count': 1},\n",
       " {'variant': 'B,C,X,O,B,C,A,X,O,B,C,J,H,L,I', 'count': 1},\n",
       " {'variant': 'B,C,X,A,G,K,F,O,B,C,D,J,E,H', 'count': 1},\n",
       " {'variant': 'B,C,R,O,B,C,M,N,A,G,T,U,D,E', 'count': 1},\n",
       " {'variant': 'B,C,R,O,B,C,J,H,A,L,I,A,G,K,F,D,E', 'count': 1},\n",
       " {'variant': 'B,C,R,O,B,C,J,H,A,G,K,F,D,E', 'count': 1},\n",
       " {'variant': 'B,C,R,O,B,C,J,A,L,I,A,G,K,M,N,F,D,E', 'count': 1},\n",
       " {'variant': 'B,C,R,O,B,C,J,A,G,K,H,F,D,E', 'count': 1},\n",
       " {'variant': 'B,C,R,O,B,C,A,G,J,K,H,F,D,E', 'count': 1},\n",
       " {'variant': 'B,C,R,A,L,O,B,C,I,H,A,G,F,D,E', 'count': 1},\n",
       " {'variant': 'B,C,M,N,A,L,I,A,L,I', 'count': 1},\n",
       " {'variant': 'B,C,M,N,A,L,I,A,G,T,U,D,E', 'count': 1},\n",
       " {'variant': 'B,C,M,N,A,L,I,A,G,K,F,D,E', 'count': 1},\n",
       " {'variant': 'B,C,M,N,A,G,1,I,Y', 'count': 1},\n",
       " {'variant': 'B,C,M,A,G,F,D,N,E', 'count': 1},\n",
       " {'variant': 'B,C,J,R,A,G,K,O,B,W,O,S,I', 'count': 1},\n",
       " {'variant': 'B,C,J,N,M,A,L,I,A,G,K,F,D,E', 'count': 1},\n",
       " {'variant': 'B,C,J,N,M,A,G,K,F,D,E', 'count': 1},\n",
       " {'variant': 'B,C,J,M,N,Y', 'count': 1},\n",
       " {'variant': 'B,C,J,M,N,A,L,I,A,L,I,A,G,K,F,D,E', 'count': 1},\n",
       " {'variant': 'B,C,J,M,N,A,L,I,A,L,I', 'count': 1},\n",
       " {'variant': 'B,C,J,M,N,A,L,I', 'count': 1},\n",
       " {'variant': 'B,C,J,M,N,A,G,K,S,I,A,G,K,S,I,A,G,K,F,D,E', 'count': 1},\n",
       " {'variant': 'B,C,J,M,N,A,G,F,D,E', 'count': 1},\n",
       " {'variant': 'B,C,J,M,A,G,N,K,F,D,E', 'count': 1},\n",
       " {'variant': 'B,C,J,H,A,L,I,Y', 'count': 1},\n",
       " {'variant': 'B,C,J,H,A,L,I,A,L,I,A,G,K,F,D,E', 'count': 1},\n",
       " {'variant': 'B,C,J,H,A,L,I,A,L,A,I,A,G,K,F,D,E', 'count': 1},\n",
       " {'variant': 'B,C,J,H,A,L,I,A,G,F,D,E', 'count': 1},\n",
       " {'variant': 'B,C,J,H,A,G,K,T,U,D,E', 'count': 1},\n",
       " {'variant': 'B,C,J,H,A,G,K,S,I', 'count': 1},\n",
       " {'variant': 'B,C,J,H,A,G,K,S,A,G,K,F,D,E', 'count': 1},\n",
       " {'variant': 'B,C,J,H,A,G,1,I,A,G,K,F,D,E', 'count': 1},\n",
       " {'variant': 'B,C,J,H,A,G,1,I', 'count': 1},\n",
       " {'variant': 'B,C,J,A,R,O,B,C,H,L,I', 'count': 1},\n",
       " {'variant': 'B,C,J,A,L,I,M,N,A,G,K,F,D,E', 'count': 1},\n",
       " {'variant': 'B,C,J,A,L,H,I,A,G,K,F,D,E', 'count': 1},\n",
       " {'variant': 'B,C,J,A,H,L,I,A,G,K,F,D,E', 'count': 1},\n",
       " {'variant': 'B,C,J,A,H,L,I', 'count': 1},\n",
       " {'variant': 'B,C,J,A,G,K,M,F,D,N,E', 'count': 1},\n",
       " {'variant': 'B,C,H,A,L,I,A,L,I,A,L,I,A,G,F,D,E', 'count': 1},\n",
       " {'variant': 'B,C,H,A,L,I,A,L,I', 'count': 1},\n",
       " {'variant': 'B,C,H,A,G,T,U,D,E', 'count': 1},\n",
       " {'variant': 'B,C,A,R,O,B,C,J,L,I,A,G,K,H,F,D,E', 'count': 1},\n",
       " {'variant': 'B,C,A,L,R,O,B,C,I,A,G,H,F,D,E', 'count': 1},\n",
       " {'variant': 'B,C,A,L,R,I,O,B,C,A,G,J,K,H,F,D,E', 'count': 1},\n",
       " {'variant': 'B,C,A,L,J,I,H', 'count': 1},\n",
       " {'variant': 'B,C,A,L,I,J,H', 'count': 1},\n",
       " {'variant': 'B,C,A,L,I,A,L,I,A,G,F,D,H,E', 'count': 1},\n",
       " {'variant': 'B,C,A,L,H,I,A,L,I,A,G,F,D,E', 'count': 1},\n",
       " {'variant': 'B,C,A,L,H,A,G,F,D,E', 'count': 1},\n",
       " {'variant': 'B,C,A,J,H,L,I,A,G,K,T,U,D,E', 'count': 1},\n",
       " {'variant': 'B,C,A,J,H,G,K,F,D,E', 'count': 1},\n",
       " {'variant': 'B,C,A,G,R,S,O,I,B,C,A,G,J,K,H,F,D,E', 'count': 1},\n",
       " {'variant': 'B,C,A,G,R,O,B,C,S,H,I,A,G,F,D,E', 'count': 1},\n",
       " {'variant': 'B,C,A,G,M,S,N,I,A,G,F,D,E', 'count': 1},\n",
       " {'variant': 'B,C,A,G,M,N,F,D,E', 'count': 1},\n",
       " {'variant': 'B,C,A,G,K,J,M,F,N,D,E', 'count': 1},\n",
       " {'variant': 'B,C,A,G,K,J,F,M,D,N,E', 'count': 1},\n",
       " {'variant': 'B,C,A,G,K,J,F,D,M,N,E', 'count': 1},\n",
       " {'variant': 'B,C,A,G,K,F,D,J,H,E', 'count': 1},\n",
       " {'variant': 'B,C,A,G,K,F,D,J,E,H', 'count': 1},\n",
       " {'variant': 'B,C,A,G,J,K,T,M,U,N,D,E', 'count': 1},\n",
       " {'variant': 'B,C,A,G,J,K,F,H,D,E', 'count': 1},\n",
       " {'variant': 'B,C,A,G,J,F,D,H,E', 'count': 1},\n",
       " {'variant': 'B,C,A,G,H,S,I,A,G,F,D,E', 'count': 1},\n",
       " {'variant': 'B,C,A,G,F,M,N,D,E', 'count': 1},\n",
       " {'variant': 'B,C,A,G,F,M,D,N,E', 'count': 1},\n",
       " {'variant': 'B,C,A,G,1,J,I,H', 'count': 1},\n",
       " {'variant': 'A,Q,T,U,D,E', 'count': 1},\n",
       " {'variant': 'A,L,I,A,L,I,A,G,F,D,E', 'count': 1},\n",
       " {'variant': 'A,L,I,A,L,I', 'count': 1},\n",
       " {'variant': 'A,L,I,A,G,S,I,A,G,K,F,D,E', 'count': 1},\n",
       " {'variant': 'A,L,A,L', 'count': 1},\n",
       " {'variant': 'A,G,S,I,A,G,K,F,D,E', 'count': 1},\n",
       " {'variant': 'A,G,S,I,A,G,F,D,E', 'count': 1},\n",
       " {'variant': 'A,G,S,I', 'count': 1},\n",
       " {'variant': 'A,G,K,T,U,E,D', 'count': 1},\n",
       " {'variant': 'A,G,F,E', 'count': 1},\n",
       " {'variant': 'A,G,1,I,A,G,F,D,E', 'count': 1},\n",
       " {'variant': 'A,3,I', 'count': 1}]"
      ]
     },
     "execution_count": 36,
     "metadata": {},
     "output_type": "execute_result"
    }
   ],
   "source": [
    "case_statistics.get_variant_statistics(log)"
   ]
  },
  {
   "cell_type": "code",
   "execution_count": 13,
   "metadata": {},
   "outputs": [],
   "source": [
    "lst = []\n",
    "for l in log : \n",
    "    lst.append(l.attributes.values())\n"
   ]
  },
  {
   "cell_type": "code",
   "execution_count": 16,
   "metadata": {},
   "outputs": [
    {
     "data": {
      "text/plain": [
       "dict_keys(['Rfp_id', 'Permit travel permit number', 'Task', 'OrganizationalEntity', 'ReqedAmount', 'Activity', 'Permit TaskNumber', 'Permit BudgetNumber', 'Permit ProjectNumber', 'Project', 'concept:name', 'Permit OrganizationalEntity', 'Permit ReqedBudget', 'Cost Type', 'Permit id', 'Permit ActivityNumber', 'RfpNumber'])"
      ]
     },
     "execution_count": 16,
     "metadata": {},
     "output_type": "execute_result"
    }
   ],
   "source": [
    "l.attributes.keys()"
   ]
  },
  {
   "cell_type": "code",
   "execution_count": 14,
   "metadata": {},
   "outputs": [],
   "source": [
    "import pandas as pd"
   ]
  },
  {
   "cell_type": "code",
   "execution_count": 17,
   "metadata": {},
   "outputs": [
    {
     "data": {
      "text/html": [
       "<div>\n",
       "<style scoped>\n",
       "    .dataframe tbody tr th:only-of-type {\n",
       "        vertical-align: middle;\n",
       "    }\n",
       "\n",
       "    .dataframe tbody tr th {\n",
       "        vertical-align: top;\n",
       "    }\n",
       "\n",
       "    .dataframe thead th {\n",
       "        text-align: right;\n",
       "    }\n",
       "</style>\n",
       "<table border=\"1\" class=\"dataframe\">\n",
       "  <thead>\n",
       "    <tr style=\"text-align: right;\">\n",
       "      <th></th>\n",
       "      <th>Rfp_id</th>\n",
       "      <th>Permit travel permit number</th>\n",
       "      <th>Task</th>\n",
       "      <th>OrganizationalEntity</th>\n",
       "      <th>ReqedAmount</th>\n",
       "      <th>Activity</th>\n",
       "      <th>Permit TaskNumber</th>\n",
       "      <th>Permit BudgetNumber</th>\n",
       "      <th>Permit ProjectNumber</th>\n",
       "      <th>Project</th>\n",
       "      <th>concept:name</th>\n",
       "      <th>Permit OrganizationalEntity</th>\n",
       "      <th>Permit ReqedBudget</th>\n",
       "      <th>Cost Type</th>\n",
       "      <th>Permit id</th>\n",
       "      <th>Permit ActivityNumber</th>\n",
       "      <th>RfpNumber</th>\n",
       "    </tr>\n",
       "  </thead>\n",
       "  <tbody>\n",
       "    <tr>\n",
       "      <th>0</th>\n",
       "      <td>req for pay 73550</td>\n",
       "      <td>UNKNOWN</td>\n",
       "      <td>task 71977</td>\n",
       "      <td>organizational unit 65463</td>\n",
       "      <td>854.579838</td>\n",
       "      <td>activity 505</td>\n",
       "      <td>UNKNOWN</td>\n",
       "      <td>budget 6198</td>\n",
       "      <td>UNKNOWN</td>\n",
       "      <td>project 503</td>\n",
       "      <td>req for pay 73550</td>\n",
       "      <td>organizational unit 65455</td>\n",
       "      <td>1979.272104</td>\n",
       "      <td>0</td>\n",
       "      <td>travel permit 73549</td>\n",
       "      <td>UNKNOWN</td>\n",
       "      <td>req for pay number 73551</td>\n",
       "    </tr>\n",
       "    <tr>\n",
       "      <th>1</th>\n",
       "      <td>req for pay 73552</td>\n",
       "      <td>UNKNOWN</td>\n",
       "      <td>task 71977</td>\n",
       "      <td>organizational unit 65463</td>\n",
       "      <td>854.579838</td>\n",
       "      <td>activity 505</td>\n",
       "      <td>UNKNOWN</td>\n",
       "      <td>budget 6198</td>\n",
       "      <td>UNKNOWN</td>\n",
       "      <td>project 503</td>\n",
       "      <td>req for pay 73552</td>\n",
       "      <td>organizational unit 65455</td>\n",
       "      <td>1979.272104</td>\n",
       "      <td>0</td>\n",
       "      <td>travel permit 73549</td>\n",
       "      <td>UNKNOWN</td>\n",
       "      <td>req for pay number 73553</td>\n",
       "    </tr>\n",
       "    <tr>\n",
       "      <th>2</th>\n",
       "      <td>req for pay 76316</td>\n",
       "      <td>travel permit number 76315</td>\n",
       "      <td>UNKNOWN</td>\n",
       "      <td>organizational unit 65463</td>\n",
       "      <td>1173.957795</td>\n",
       "      <td>UNKNOWN</td>\n",
       "      <td>UNKNOWN</td>\n",
       "      <td>budget 2233</td>\n",
       "      <td>UNKNOWN</td>\n",
       "      <td>project 503</td>\n",
       "      <td>req for pay 76316</td>\n",
       "      <td>organizational unit 65455</td>\n",
       "      <td>3553.601973</td>\n",
       "      <td>0</td>\n",
       "      <td>travel permit 76314</td>\n",
       "      <td>UNKNOWN</td>\n",
       "      <td>req for pay number 76317</td>\n",
       "    </tr>\n",
       "    <tr>\n",
       "      <th>3</th>\n",
       "      <td>req for pay 73536</td>\n",
       "      <td>UNKNOWN</td>\n",
       "      <td>task 11190</td>\n",
       "      <td>organizational unit 65463</td>\n",
       "      <td>790.552073</td>\n",
       "      <td>activity 505</td>\n",
       "      <td>task 427</td>\n",
       "      <td>budget 899</td>\n",
       "      <td>project 2260</td>\n",
       "      <td>project 503</td>\n",
       "      <td>req for pay 73536</td>\n",
       "      <td>organizational unit 65455</td>\n",
       "      <td>3627.364438</td>\n",
       "      <td>0</td>\n",
       "      <td>travel permit 73535</td>\n",
       "      <td>UNKNOWN</td>\n",
       "      <td>req for pay number 73537</td>\n",
       "    </tr>\n",
       "    <tr>\n",
       "      <th>4</th>\n",
       "      <td>req for pay 185372</td>\n",
       "      <td>travel permit number 424</td>\n",
       "      <td>task 47027</td>\n",
       "      <td>organizational unit 65457</td>\n",
       "      <td>456.433436</td>\n",
       "      <td>activity 505</td>\n",
       "      <td>task 427</td>\n",
       "      <td>budget 425</td>\n",
       "      <td>project 426</td>\n",
       "      <td>project 503</td>\n",
       "      <td>req for pay 185372</td>\n",
       "      <td>organizational unit 65454</td>\n",
       "      <td>923.081315</td>\n",
       "      <td>0</td>\n",
       "      <td>travel permit 423</td>\n",
       "      <td>UNKNOWN</td>\n",
       "      <td>req for pay number 185373</td>\n",
       "    </tr>\n",
       "    <tr>\n",
       "      <th>...</th>\n",
       "      <td>...</td>\n",
       "      <td>...</td>\n",
       "      <td>...</td>\n",
       "      <td>...</td>\n",
       "      <td>...</td>\n",
       "      <td>...</td>\n",
       "      <td>...</td>\n",
       "      <td>...</td>\n",
       "      <td>...</td>\n",
       "      <td>...</td>\n",
       "      <td>...</td>\n",
       "      <td>...</td>\n",
       "      <td>...</td>\n",
       "      <td>...</td>\n",
       "      <td>...</td>\n",
       "      <td>...</td>\n",
       "      <td>...</td>\n",
       "    </tr>\n",
       "    <tr>\n",
       "      <th>2094</th>\n",
       "      <td>req for pay 186623</td>\n",
       "      <td>travel permit number 424</td>\n",
       "      <td>UNKNOWN</td>\n",
       "      <td>organizational unit 65458</td>\n",
       "      <td>708.655586</td>\n",
       "      <td>UNKNOWN</td>\n",
       "      <td>task 427</td>\n",
       "      <td>budget 425</td>\n",
       "      <td>project 426</td>\n",
       "      <td>project 503</td>\n",
       "      <td>req for pay 186623</td>\n",
       "      <td>organizational unit 65454</td>\n",
       "      <td>923.081315</td>\n",
       "      <td>0</td>\n",
       "      <td>travel permit 423</td>\n",
       "      <td>UNKNOWN</td>\n",
       "      <td>req for pay number 186624</td>\n",
       "    </tr>\n",
       "    <tr>\n",
       "      <th>2095</th>\n",
       "      <td>req for pay 13067</td>\n",
       "      <td>travel permit number 13066</td>\n",
       "      <td>UNKNOWN</td>\n",
       "      <td>organizational unit 65458</td>\n",
       "      <td>1026.634560</td>\n",
       "      <td>UNKNOWN</td>\n",
       "      <td>UNKNOWN</td>\n",
       "      <td>budget 635</td>\n",
       "      <td>UNKNOWN</td>\n",
       "      <td>project 503</td>\n",
       "      <td>req for pay 13067</td>\n",
       "      <td>organizational unit 65458</td>\n",
       "      <td>1296.255757</td>\n",
       "      <td>0</td>\n",
       "      <td>travel permit 13065</td>\n",
       "      <td>UNKNOWN</td>\n",
       "      <td>req for pay number 13068</td>\n",
       "    </tr>\n",
       "    <tr>\n",
       "      <th>2096</th>\n",
       "      <td>req for pay 186629</td>\n",
       "      <td>UNKNOWN</td>\n",
       "      <td>UNKNOWN</td>\n",
       "      <td>organizational unit 65458</td>\n",
       "      <td>34.647185</td>\n",
       "      <td>UNKNOWN</td>\n",
       "      <td>UNKNOWN</td>\n",
       "      <td>UNKNOWN</td>\n",
       "      <td>UNKNOWN</td>\n",
       "      <td>project 147546</td>\n",
       "      <td>req for pay 186629</td>\n",
       "      <td>UNKNOWN</td>\n",
       "      <td>0.000000</td>\n",
       "      <td>0</td>\n",
       "      <td>UNKNOWN</td>\n",
       "      <td>UNKNOWN</td>\n",
       "      <td>req for pay number 186630</td>\n",
       "    </tr>\n",
       "    <tr>\n",
       "      <th>2097</th>\n",
       "      <td>req for pay 186617</td>\n",
       "      <td>UNKNOWN</td>\n",
       "      <td>task 152704</td>\n",
       "      <td>organizational unit 65468</td>\n",
       "      <td>26.196422</td>\n",
       "      <td>activity 505</td>\n",
       "      <td>UNKNOWN</td>\n",
       "      <td>UNKNOWN</td>\n",
       "      <td>UNKNOWN</td>\n",
       "      <td>project 147649</td>\n",
       "      <td>req for pay 186617</td>\n",
       "      <td>UNKNOWN</td>\n",
       "      <td>0.000000</td>\n",
       "      <td>0</td>\n",
       "      <td>UNKNOWN</td>\n",
       "      <td>UNKNOWN</td>\n",
       "      <td>req for pay number 186618</td>\n",
       "    </tr>\n",
       "    <tr>\n",
       "      <th>2098</th>\n",
       "      <td>req for pay 186612</td>\n",
       "      <td>UNKNOWN</td>\n",
       "      <td>UNKNOWN</td>\n",
       "      <td>organizational unit 65462</td>\n",
       "      <td>96.739075</td>\n",
       "      <td>UNKNOWN</td>\n",
       "      <td>UNKNOWN</td>\n",
       "      <td>UNKNOWN</td>\n",
       "      <td>UNKNOWN</td>\n",
       "      <td>project 147531</td>\n",
       "      <td>req for pay 186612</td>\n",
       "      <td>UNKNOWN</td>\n",
       "      <td>0.000000</td>\n",
       "      <td>0</td>\n",
       "      <td>UNKNOWN</td>\n",
       "      <td>UNKNOWN</td>\n",
       "      <td>req for pay number 186613</td>\n",
       "    </tr>\n",
       "  </tbody>\n",
       "</table>\n",
       "<p>2099 rows × 17 columns</p>\n",
       "</div>"
      ],
      "text/plain": [
       "                  Rfp_id Permit travel permit number         Task  \\\n",
       "0      req for pay 73550                     UNKNOWN   task 71977   \n",
       "1      req for pay 73552                     UNKNOWN   task 71977   \n",
       "2      req for pay 76316  travel permit number 76315      UNKNOWN   \n",
       "3      req for pay 73536                     UNKNOWN   task 11190   \n",
       "4     req for pay 185372    travel permit number 424   task 47027   \n",
       "...                  ...                         ...          ...   \n",
       "2094  req for pay 186623    travel permit number 424      UNKNOWN   \n",
       "2095   req for pay 13067  travel permit number 13066      UNKNOWN   \n",
       "2096  req for pay 186629                     UNKNOWN      UNKNOWN   \n",
       "2097  req for pay 186617                     UNKNOWN  task 152704   \n",
       "2098  req for pay 186612                     UNKNOWN      UNKNOWN   \n",
       "\n",
       "           OrganizationalEntity  ReqedAmount      Activity Permit TaskNumber  \\\n",
       "0     organizational unit 65463   854.579838  activity 505           UNKNOWN   \n",
       "1     organizational unit 65463   854.579838  activity 505           UNKNOWN   \n",
       "2     organizational unit 65463  1173.957795       UNKNOWN           UNKNOWN   \n",
       "3     organizational unit 65463   790.552073  activity 505          task 427   \n",
       "4     organizational unit 65457   456.433436  activity 505          task 427   \n",
       "...                         ...          ...           ...               ...   \n",
       "2094  organizational unit 65458   708.655586       UNKNOWN          task 427   \n",
       "2095  organizational unit 65458  1026.634560       UNKNOWN           UNKNOWN   \n",
       "2096  organizational unit 65458    34.647185       UNKNOWN           UNKNOWN   \n",
       "2097  organizational unit 65468    26.196422  activity 505           UNKNOWN   \n",
       "2098  organizational unit 65462    96.739075       UNKNOWN           UNKNOWN   \n",
       "\n",
       "     Permit BudgetNumber Permit ProjectNumber         Project  \\\n",
       "0            budget 6198              UNKNOWN     project 503   \n",
       "1            budget 6198              UNKNOWN     project 503   \n",
       "2            budget 2233              UNKNOWN     project 503   \n",
       "3             budget 899         project 2260     project 503   \n",
       "4             budget 425          project 426     project 503   \n",
       "...                  ...                  ...             ...   \n",
       "2094          budget 425          project 426     project 503   \n",
       "2095          budget 635              UNKNOWN     project 503   \n",
       "2096             UNKNOWN              UNKNOWN  project 147546   \n",
       "2097             UNKNOWN              UNKNOWN  project 147649   \n",
       "2098             UNKNOWN              UNKNOWN  project 147531   \n",
       "\n",
       "            concept:name Permit OrganizationalEntity  Permit ReqedBudget  \\\n",
       "0      req for pay 73550   organizational unit 65455         1979.272104   \n",
       "1      req for pay 73552   organizational unit 65455         1979.272104   \n",
       "2      req for pay 76316   organizational unit 65455         3553.601973   \n",
       "3      req for pay 73536   organizational unit 65455         3627.364438   \n",
       "4     req for pay 185372   organizational unit 65454          923.081315   \n",
       "...                  ...                         ...                 ...   \n",
       "2094  req for pay 186623   organizational unit 65454          923.081315   \n",
       "2095   req for pay 13067   organizational unit 65458         1296.255757   \n",
       "2096  req for pay 186629                     UNKNOWN            0.000000   \n",
       "2097  req for pay 186617                     UNKNOWN            0.000000   \n",
       "2098  req for pay 186612                     UNKNOWN            0.000000   \n",
       "\n",
       "      Cost Type            Permit id Permit ActivityNumber  \\\n",
       "0             0  travel permit 73549               UNKNOWN   \n",
       "1             0  travel permit 73549               UNKNOWN   \n",
       "2             0  travel permit 76314               UNKNOWN   \n",
       "3             0  travel permit 73535               UNKNOWN   \n",
       "4             0    travel permit 423               UNKNOWN   \n",
       "...         ...                  ...                   ...   \n",
       "2094          0    travel permit 423               UNKNOWN   \n",
       "2095          0  travel permit 13065               UNKNOWN   \n",
       "2096          0              UNKNOWN               UNKNOWN   \n",
       "2097          0              UNKNOWN               UNKNOWN   \n",
       "2098          0              UNKNOWN               UNKNOWN   \n",
       "\n",
       "                      RfpNumber  \n",
       "0      req for pay number 73551  \n",
       "1      req for pay number 73553  \n",
       "2      req for pay number 76317  \n",
       "3      req for pay number 73537  \n",
       "4     req for pay number 185373  \n",
       "...                         ...  \n",
       "2094  req for pay number 186624  \n",
       "2095   req for pay number 13068  \n",
       "2096  req for pay number 186630  \n",
       "2097  req for pay number 186618  \n",
       "2098  req for pay number 186613  \n",
       "\n",
       "[2099 rows x 17 columns]"
      ]
     },
     "execution_count": 17,
     "metadata": {},
     "output_type": "execute_result"
    }
   ],
   "source": [
    "pd.DataFrame(lst, columns=l.attributes.keys())"
   ]
  },
  {
   "cell_type": "code",
   "execution_count": 22,
   "metadata": {},
   "outputs": [],
   "source": [
    "lst=[]\n",
    "for L in log : \n",
    "    for l in L : \n",
    "        lst.append(l.values())\n"
   ]
  },
  {
   "cell_type": "code",
   "execution_count": 25,
   "metadata": {},
   "outputs": [
    {
     "data": {
      "text/html": [
       "<div>\n",
       "<style scoped>\n",
       "    .dataframe tbody tr th:only-of-type {\n",
       "        vertical-align: middle;\n",
       "    }\n",
       "\n",
       "    .dataframe tbody tr th {\n",
       "        vertical-align: top;\n",
       "    }\n",
       "\n",
       "    .dataframe thead th {\n",
       "        text-align: right;\n",
       "    }\n",
       "</style>\n",
       "<table border=\"1\" class=\"dataframe\">\n",
       "  <thead>\n",
       "    <tr style=\"text-align: right;\">\n",
       "      <th></th>\n",
       "      <th>id</th>\n",
       "      <th>org:resource</th>\n",
       "      <th>concept:name</th>\n",
       "      <th>time:timestamp</th>\n",
       "      <th>org:role</th>\n",
       "    </tr>\n",
       "  </thead>\n",
       "  <tbody>\n",
       "    <tr>\n",
       "      <th>0</th>\n",
       "      <td>st_step 73555_0</td>\n",
       "      <td>STAFF MEMBER</td>\n",
       "      <td>B</td>\n",
       "      <td>2017-01-09 14:48:43+01:00</td>\n",
       "      <td>E</td>\n",
       "    </tr>\n",
       "    <tr>\n",
       "      <th>1</th>\n",
       "      <td>st_step 73554_0</td>\n",
       "      <td>STAFF MEMBER</td>\n",
       "      <td>H</td>\n",
       "      <td>2017-01-09 14:48:55+01:00</td>\n",
       "      <td>S</td>\n",
       "    </tr>\n",
       "    <tr>\n",
       "      <th>2</th>\n",
       "      <td>st_step 73558_0</td>\n",
       "      <td>STAFF MEMBER</td>\n",
       "      <td>A</td>\n",
       "      <td>2017-01-12 11:40:27+01:00</td>\n",
       "      <td>E</td>\n",
       "    </tr>\n",
       "    <tr>\n",
       "      <th>3</th>\n",
       "      <td>st_step 73559_0</td>\n",
       "      <td>STAFF MEMBER</td>\n",
       "      <td>F</td>\n",
       "      <td>2017-01-12 11:41:59+01:00</td>\n",
       "      <td>S</td>\n",
       "    </tr>\n",
       "    <tr>\n",
       "      <th>4</th>\n",
       "      <td>st_step 73557_0</td>\n",
       "      <td>STAFF MEMBER</td>\n",
       "      <td>Z</td>\n",
       "      <td>2017-01-12 11:53:07+01:00</td>\n",
       "      <td>MIS.</td>\n",
       "    </tr>\n",
       "    <tr>\n",
       "      <th>...</th>\n",
       "      <td>...</td>\n",
       "      <td>...</td>\n",
       "      <td>...</td>\n",
       "      <td>...</td>\n",
       "      <td>...</td>\n",
       "    </tr>\n",
       "    <tr>\n",
       "      <th>18241</th>\n",
       "      <td>st_step 186614_0</td>\n",
       "      <td>STAFF MEMBER</td>\n",
       "      <td>A</td>\n",
       "      <td>2018-12-30 20:16:15+01:00</td>\n",
       "      <td>E</td>\n",
       "    </tr>\n",
       "    <tr>\n",
       "      <th>18242</th>\n",
       "      <td>st_step 186616_0</td>\n",
       "      <td>STAFF MEMBER</td>\n",
       "      <td>G</td>\n",
       "      <td>2018-12-30 20:16:25+01:00</td>\n",
       "      <td>ADMIN</td>\n",
       "    </tr>\n",
       "    <tr>\n",
       "      <th>18243</th>\n",
       "      <td>st_step 186615_0</td>\n",
       "      <td>STAFF MEMBER</td>\n",
       "      <td>F</td>\n",
       "      <td>2019-01-14 15:09:11+01:00</td>\n",
       "      <td>S</td>\n",
       "    </tr>\n",
       "    <tr>\n",
       "      <th>18244</th>\n",
       "      <td>rp_req for pay 186612_15</td>\n",
       "      <td>SYSTEM</td>\n",
       "      <td>D</td>\n",
       "      <td>2019-01-15 07:02:45+01:00</td>\n",
       "      <td>UNDEFINED</td>\n",
       "    </tr>\n",
       "    <tr>\n",
       "      <th>18245</th>\n",
       "      <td>rp_req for pay 186612_16</td>\n",
       "      <td>SYSTEM</td>\n",
       "      <td>E</td>\n",
       "      <td>2019-01-17 17:31:44+01:00</td>\n",
       "      <td>UNDEFINED</td>\n",
       "    </tr>\n",
       "  </tbody>\n",
       "</table>\n",
       "<p>18246 rows × 5 columns</p>\n",
       "</div>"
      ],
      "text/plain": [
       "                             id  org:resource concept:name  \\\n",
       "0               st_step 73555_0  STAFF MEMBER            B   \n",
       "1               st_step 73554_0  STAFF MEMBER            H   \n",
       "2               st_step 73558_0  STAFF MEMBER            A   \n",
       "3               st_step 73559_0  STAFF MEMBER            F   \n",
       "4               st_step 73557_0  STAFF MEMBER            Z   \n",
       "...                         ...           ...          ...   \n",
       "18241          st_step 186614_0  STAFF MEMBER            A   \n",
       "18242          st_step 186616_0  STAFF MEMBER            G   \n",
       "18243          st_step 186615_0  STAFF MEMBER            F   \n",
       "18244  rp_req for pay 186612_15        SYSTEM            D   \n",
       "18245  rp_req for pay 186612_16        SYSTEM            E   \n",
       "\n",
       "                  time:timestamp   org:role  \n",
       "0      2017-01-09 14:48:43+01:00          E  \n",
       "1      2017-01-09 14:48:55+01:00          S  \n",
       "2      2017-01-12 11:40:27+01:00          E  \n",
       "3      2017-01-12 11:41:59+01:00          S  \n",
       "4      2017-01-12 11:53:07+01:00       MIS.  \n",
       "...                          ...        ...  \n",
       "18241  2018-12-30 20:16:15+01:00          E  \n",
       "18242  2018-12-30 20:16:25+01:00      ADMIN  \n",
       "18243  2019-01-14 15:09:11+01:00          S  \n",
       "18244  2019-01-15 07:02:45+01:00  UNDEFINED  \n",
       "18245  2019-01-17 17:31:44+01:00  UNDEFINED  \n",
       "\n",
       "[18246 rows x 5 columns]"
      ]
     },
     "execution_count": 25,
     "metadata": {},
     "output_type": "execute_result"
    }
   ],
   "source": [
    "pd.DataFrame(lst, columns=log[0][0].keys())"
   ]
  },
  {
   "cell_type": "code",
   "execution_count": 37,
   "metadata": {},
   "outputs": [],
   "source": [
    "lst_features =[]\n",
    "for v in VARIANT : \n",
    "    feature=[]\n",
    "    for i in variants_filter.apply(log, [v])[0].attributes.values() : \n",
    "        feature.append(i)\n",
    "    lst_features.append(feature)"
   ]
  },
  {
   "cell_type": "code",
   "execution_count": 38,
   "metadata": {},
   "outputs": [],
   "source": [
    "import pandas as pd\n",
    "data=pd.DataFrame(lst_features)"
   ]
  },
  {
   "cell_type": "code",
   "execution_count": 104,
   "metadata": {},
   "outputs": [],
   "source": [
    "data_final= pd.get_dummies(data)"
   ]
  },
  {
   "cell_type": "code",
   "execution_count": 105,
   "metadata": {},
   "outputs": [],
   "source": [
    "n = len(data_final)\n",
    "A=np.zeros((n,n))"
   ]
  },
  {
   "cell_type": "code",
   "execution_count": 87,
   "metadata": {},
   "outputs": [],
   "source": [
    "from sklearn import preprocessing\n",
    "x = data_final[[4,12]].values\n",
    "min_max_scaler = preprocessing.MinMaxScaler()\n",
    "x_scaled = min_max_scaler.fit_transform(x)\n",
    "\n",
    "data_final[4]=x_scaled[:,0]\n",
    "data_final[12]=x_scaled[:,1]"
   ]
  },
  {
   "cell_type": "code",
   "execution_count": 106,
   "metadata": {},
   "outputs": [],
   "source": [
    "for i in range(len(A)-1) : \n",
    "    for j in range(i+1, len(A)) : \n",
    "        sim = cosine_similarity(data_final.iloc[i], data_final.iloc[j])\n",
    "        A[i,j] = sim\n",
    "        A[j,i] = sim"
   ]
  },
  {
   "cell_type": "code",
   "execution_count": 107,
   "metadata": {},
   "outputs": [],
   "source": [
    "result=np.round(\n",
    "    squaring(A,100)\n",
    ",3)"
   ]
  },
  {
   "cell_type": "code",
   "execution_count": 110,
   "metadata": {},
   "outputs": [],
   "source": [
    "CS=[]"
   ]
  },
  {
   "cell_type": "code",
   "execution_count": 111,
   "metadata": {},
   "outputs": [],
   "source": [
    "CS.append(np.array(VARIANT)[result[91]==1])"
   ]
  },
  {
   "cell_type": "code",
   "execution_count": 112,
   "metadata": {},
   "outputs": [],
   "source": [
    "CS.append(np.array(VARIANT)[result[154] == 1])"
   ]
  },
  {
   "cell_type": "code",
   "execution_count": 113,
   "metadata": {},
   "outputs": [],
   "source": [
    "CS.append(np.array(VARIANT)[189])"
   ]
  },
  {
   "cell_type": "code",
   "execution_count": 114,
   "metadata": {},
   "outputs": [
    {
     "data": {
      "text/plain": [
       "[0.9052763274408954,\n",
       " 0.8625646816161946,\n",
       " 0.5931900538883159,\n",
       " 0.5342506664339292]"
      ]
     },
     "execution_count": 114,
     "metadata": {},
     "output_type": "execute_result"
    }
   ],
   "source": [
    "quality_measure(log,CS)"
   ]
  },
  {
   "cell_type": "code",
   "execution_count": null,
   "metadata": {},
   "outputs": [],
   "source": []
  },
  {
   "cell_type": "code",
   "execution_count": null,
   "metadata": {},
   "outputs": [],
   "source": []
  },
  {
   "cell_type": "code",
   "execution_count": 64,
   "metadata": {},
   "outputs": [],
   "source": [
    "CS=[]"
   ]
  },
  {
   "cell_type": "code",
   "execution_count": 65,
   "metadata": {},
   "outputs": [],
   "source": [
    "CS.append(np.array(VARIANT)[result[91]==1])"
   ]
  },
  {
   "cell_type": "code",
   "execution_count": 66,
   "metadata": {},
   "outputs": [],
   "source": [
    "CS.append(np.array(VARIANT)[result[154] == 1])"
   ]
  },
  {
   "cell_type": "code",
   "execution_count": 67,
   "metadata": {},
   "outputs": [],
   "source": [
    "CS.append(np.array(VARIANT)[189])"
   ]
  },
  {
   "cell_type": "code",
   "execution_count": 68,
   "metadata": {},
   "outputs": [
    {
     "data": {
      "text/plain": [
       "[0.9052763274408954, 0.8625646816161946, 0.593279865002121, 0.5342506664339292]"
      ]
     },
     "execution_count": 68,
     "metadata": {},
     "output_type": "execute_result"
    }
   ],
   "source": [
    "quality_measure(log,CS)"
   ]
  },
  {
   "cell_type": "code",
   "execution_count": 68,
   "metadata": {},
   "outputs": [
    {
     "data": {
      "text/plain": [
       "[0.9052763274408954, 0.8625646816161946, 0.593279865002121, 0.5342506664339292]"
      ]
     },
     "execution_count": 68,
     "metadata": {},
     "output_type": "execute_result"
    }
   ],
   "source": [
    "quality_measure(log,CS)"
   ]
  },
  {
   "cell_type": "code",
   "execution_count": 137,
   "metadata": {},
   "outputs": [
    {
     "data": {
      "text/plain": [
       "array([-2.29399987e-03, -1.69481465e-03, -3.77060373e-02,  4.02402846e-02, -9.76665929e-03,  9.39501760e-03,  1.45555103e-04,  1.35865653e-04,  2.38011297e-02,  1.93714899e-02,  5.75287483e-03,  4.02724282e-02, -8.90261956e-03,  3.69952258e-02,  2.02085827e-03,  1.47210280e-05,  2.97632791e-02,  9.90264348e-03,  1.94552834e-02, -1.01395560e-02, -2.13235070e-02, -1.63114751e-02,  5.73400486e-03,\n",
       "       -1.47494141e-03,  4.59954930e-03,  2.26221367e-02, -2.93342405e-03,  6.07968762e-02, -1.49908188e-03, -9.78600957e-05, -1.45503002e-03, -1.04472860e-02, -3.12480763e-03,  3.52369421e-02, -5.55609333e-03, -4.21738109e-04,  1.20596421e-02,  4.96101202e-02,  6.92160803e-02, -3.74096063e-02, -1.50446217e-03, -2.03389052e-06,  7.03700224e-03,  2.56917929e-01,  6.42195264e-02, -2.96868528e-03,\n",
       "        2.26918308e-03, -2.84357961e-02,  6.61516441e-03, -2.29563944e-03, -4.17345929e-03,  4.27342421e-04,  1.01215924e-04, -7.08110777e-03, -7.04118181e-03, -1.60547189e-03,  1.61502759e-03, -9.50589288e-03, -3.28282135e-02, -2.32818196e-05,  1.11070698e-02,  8.55922499e-04,  8.47470814e-02,  1.77606915e-03,  1.59256438e-03, -2.70418423e-03,  1.63921574e-02, -1.09961331e-04,  1.66858918e-05,\n",
       "        4.05708416e-05, -1.05019986e-03, -6.98596049e-04, -2.24828870e-03,  4.54593805e-03, -4.47774390e-06,  5.25734037e-01,  4.91853954e-06,  5.41146497e-05, -1.42032009e-03,  2.74888416e-02,  1.21268154e-03,  2.32733369e-04, -3.44571485e-03,  1.24838650e-04,  5.39634233e-05,  5.71255336e-03,  1.60381507e-04, -4.13650847e-03,  1.47764713e-03,  5.34433692e-03,  1.52966453e-04, -2.02731152e-04,\n",
       "       -3.24674717e-04,  3.78106232e-05,  3.33128513e-03,  2.86377817e-03,  5.67308024e-06,  1.03236983e-05,  2.79654458e-01,  6.17263652e-03, -7.39660380e-04, -1.59334612e-04,  6.03305515e-05, -1.02726341e-03, -2.20998204e-04,  2.75535832e-05,  6.60669378e-01, -1.88966013e-01,  8.42014143e-06, -3.98980739e-06,  2.86592369e-03,  1.45556582e-06,  4.46992105e-05,  2.35106312e-03, -1.15443018e-02,\n",
       "        1.37625258e-05,  3.52159720e-06,  1.01207848e-06,  7.22866564e-07, -1.50673578e-07,  8.59924152e-04,  1.06595311e-04,  9.71331927e-03, -2.33425215e-05,  1.05279710e-07,  1.10567992e-06,  1.83522211e-06,  6.17866754e-07,  1.69966061e-07, -1.17302798e-06, -2.09388191e-06,  9.45454490e-07,  7.61359447e-07, -2.59210188e-01,  6.03457200e-03,  4.59977315e-07,  4.06327723e-07,  1.72264409e-05,\n",
       "        3.00095158e-02,  1.22163219e-08,  7.33392179e-06,  7.46143669e-06,  1.32907334e-05,  3.25103392e-04, -7.50253888e-06, -2.05169598e-06,  4.95500584e-05,  6.40678054e-06, -3.35929439e-07, -2.55203811e-06, -1.62567235e-03,  2.14707348e-06,  6.72997762e-05, -1.16103192e-06, -1.15369074e-07, -3.40655446e-06, -4.04661040e-05, -4.65028878e-06,  2.96541355e-06,  9.24383019e-07, -1.36313088e-06,\n",
       "       -1.64776823e-07, -2.40775681e-07, -5.14384291e-06, -2.17072641e-07,  4.41601698e-08,  1.25094382e-07, -1.54434002e-07, -2.16563859e-06,  1.51659928e-07, -5.56609770e-06,  1.40566532e-06, -2.89364821e-03,  2.89398594e-03, -1.42378196e-06,  1.09413085e-03,  3.96518895e-06,  3.39213264e-06,  2.23021608e-09, -2.55897163e-08,  9.74982153e-07, -8.15415968e-07, -9.71679782e-05,  4.69841867e-05,\n",
       "        1.26616204e-03,  1.23680335e-07, -9.44978956e-06, -1.52337705e-06, -4.21095753e-08, -2.26485666e-03,  2.05069170e-03,  2.42878563e-05,  3.94970593e-05, -3.73168325e-06, -7.14828089e-08, -4.80675851e-07,  1.55656505e-07,  3.60439672e-06, -1.19833517e-07,  7.32842377e-07, -8.01189214e-07,  7.31635438e-08])"
      ]
     },
     "execution_count": 137,
     "metadata": {},
     "output_type": "execute_result"
    }
   ],
   "source": [
    "np.linalg.eig(A)[1][0]"
   ]
  },
  {
   "cell_type": "code",
   "execution_count": 131,
   "metadata": {},
   "outputs": [],
   "source": [
    "a=np.array([[0.3,0.7],[0.2,0.8]])"
   ]
  },
  {
   "cell_type": "code",
   "execution_count": 133,
   "metadata": {},
   "outputs": [
    {
     "data": {
      "text/plain": [
       "(array([0.1, 1. ]), array([[-0.96152395, -0.70710678],\n",
       "        [ 0.27472113, -0.70710678]]))"
      ]
     },
     "execution_count": 133,
     "metadata": {},
     "output_type": "execute_result"
    }
   ],
   "source": [
    "np.linalg.eig(a)"
   ]
  },
  {
   "cell_type": "code",
   "execution_count": null,
   "metadata": {},
   "outputs": [],
   "source": []
  },
  {
   "cell_type": "code",
   "execution_count": null,
   "metadata": {},
   "outputs": [],
   "source": []
  },
  {
   "cell_type": "markdown",
   "metadata": {},
   "source": [
    "# TEMP"
   ]
  },
  {
   "cell_type": "code",
   "execution_count": 123,
   "metadata": {},
   "outputs": [],
   "source": [
    "v1=[1,1,1,1,1,0,0,   1, 1, 0, 0, 0, 0, 1,0.9  , 0.5]"
   ]
  },
  {
   "cell_type": "code",
   "execution_count": 124,
   "metadata": {},
   "outputs": [],
   "source": [
    "v2=[1,1,1,1,1,0,0,0.4, 1, 0, 0, 0, 0, 1,0.47,    1]"
   ]
  },
  {
   "cell_type": "code",
   "execution_count": 125,
   "metadata": {},
   "outputs": [
    {
     "data": {
      "text/plain": [
       "0.9186534216335541"
      ]
     },
     "execution_count": 125,
     "metadata": {},
     "output_type": "execute_result"
    }
   ],
   "source": [
    "cosine_similarity(v1,v2)"
   ]
  },
  {
   "cell_type": "code",
   "execution_count": null,
   "metadata": {},
   "outputs": [],
   "source": []
  }
 ],
 "metadata": {
  "kernelspec": {
   "display_name": "Python 3",
   "language": "python",
   "name": "python3"
  },
  "language_info": {
   "codemirror_mode": {
    "name": "ipython",
    "version": 3
   },
   "file_extension": ".py",
   "mimetype": "text/x-python",
   "name": "python",
   "nbconvert_exporter": "python",
   "pygments_lexer": "ipython3",
   "version": "3.7.3"
  }
 },
 "nbformat": 4,
 "nbformat_minor": 2
}
