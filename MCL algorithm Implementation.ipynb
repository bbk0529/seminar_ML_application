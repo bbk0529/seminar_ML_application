{
 "cells": [
  {
   "cell_type": "code",
   "execution_count": 183,
   "metadata": {},
   "outputs": [],
   "source": [
    "from IPython.display import display_pretty, display_html, display_jpeg, display_png, display_json, display_latex, display_svg\n"
   ]
  },
  {
   "cell_type": "code",
   "execution_count": 228,
   "metadata": {},
   "outputs": [],
   "source": [
    "import sys\n",
    "import numpy\n",
    "numpy.set_printoptions(threshold=sys.maxsize)"
   ]
  },
  {
   "cell_type": "code",
   "execution_count": 236,
   "metadata": {},
   "outputs": [],
   "source": [
    "import numpy as np\n",
    "large_width = 400\n",
    "np.set_printoptions(linewidth=large_width)"
   ]
  },
  {
   "cell_type": "code",
   "execution_count": 230,
   "metadata": {},
   "outputs": [],
   "source": [
    "np.set_printoptions(precision=3)"
   ]
  },
  {
   "cell_type": "code",
   "execution_count": 1,
   "metadata": {},
   "outputs": [],
   "source": [
    "import numpy as np"
   ]
  },
  {
   "cell_type": "code",
   "execution_count": 296,
   "metadata": {},
   "outputs": [],
   "source": [
    "edges =[\n",
    "    [6,10],\n",
    "    [6,1],\n",
    "    [10,7],\n",
    "    [10,1],\n",
    "    [7,1],\n",
    "    [7,5],\n",
    "    [5,2],\n",
    "    [5,3],\n",
    "    [1,2],\n",
    "    [2,3],\n",
    "    [5,8],\n",
    "    [3,4],\n",
    "    [5,8],\n",
    "    [8,9],\n",
    "    [8,4],\n",
    "    [8,11],\n",
    "    [11,4],\n",
    "    [4,9],\n",
    "    [11,9],\n",
    "    [11,12],\n",
    "    [12,11],\n",
    "    [12,9],\n",
    "]"
   ]
  },
  {
   "cell_type": "code",
   "execution_count": 297,
   "metadata": {},
   "outputs": [],
   "source": [
    "N = np.zeros((13,13))"
   ]
  },
  {
   "cell_type": "code",
   "execution_count": 298,
   "metadata": {},
   "outputs": [],
   "source": [
    "for e in edges : \n",
    "    N[e[0],e[1]] = 1\n",
    "    N[e[1],e[0]] = 1"
   ]
  },
  {
   "cell_type": "code",
   "execution_count": 299,
   "metadata": {},
   "outputs": [],
   "source": [
    "A=N[1:,:][:,1:]"
   ]
  },
  {
   "cell_type": "code",
   "execution_count": 300,
   "metadata": {},
   "outputs": [],
   "source": [
    "B=A + np.identity(12)"
   ]
  },
  {
   "cell_type": "code",
   "execution_count": 301,
   "metadata": {},
   "outputs": [],
   "source": [
    "M=col_norm(B)"
   ]
  },
  {
   "cell_type": "code",
   "execution_count": 303,
   "metadata": {},
   "outputs": [],
   "source": [
    "M_G3=np.matmul(B,B.T)\n"
   ]
  },
  {
   "cell_type": "code",
   "execution_count": 304,
   "metadata": {},
   "outputs": [],
   "source": [
    "import copy"
   ]
  },
  {
   "cell_type": "code",
   "execution_count": 305,
   "metadata": {},
   "outputs": [],
   "source": [
    "def gamma_operation (M, r):\n",
    "    M_new = copy.deepcopy(M.T)\n",
    "    \n",
    "    for i, row in enumerate(M_new) :\n",
    "        M_new[i] = M_new[i] ** r / sum(row **r )\n",
    "    return M_new.T"
   ]
  },
  {
   "cell_type": "code",
   "execution_count": 306,
   "metadata": {},
   "outputs": [],
   "source": [
    "def col_norm (M):\n",
    "    M_new = copy.deepcopy(M.T)\n",
    "    for i, row in enumerate(M_new) :\n",
    "        M_new[i] = M_new[i] / sum(row)\n",
    "    return M_new.T"
   ]
  },
  {
   "cell_type": "code",
   "execution_count": 307,
   "metadata": {},
   "outputs": [],
   "source": [
    "def power_matrix (M,r) :\n",
    "    M_new = copy.deepcopy(M)\n",
    "    for i in range(r-1) : \n",
    "        M_new = np.matmul(M_new, M)\n",
    "    return M_new\n"
   ]
  },
  {
   "cell_type": "markdown",
   "metadata": {},
   "source": [
    "$\n",
    "\\Gamma_2 M^2, \n",
    "$"
   ]
  },
  {
   "cell_type": "code",
   "execution_count": 309,
   "metadata": {},
   "outputs": [],
   "source": [
    "M_1=gamma_operation(power_matrix(M,2),2)"
   ]
  },
  {
   "cell_type": "code",
   "execution_count": 310,
   "metadata": {},
   "outputs": [
    {
     "data": {
      "text/plain": [
       "array([[0.38 , 0.087, 0.027, 0.   , 0.077, 0.295, 0.201, 0.   , 0.   , 0.32 , 0.   , 0.   ],\n",
       "       [0.047, 0.347, 0.21 , 0.017, 0.15 , 0.019, 0.066, 0.011, 0.   , 0.012, 0.   , 0.   ],\n",
       "       [0.014, 0.21 , 0.347, 0.055, 0.15 , 0.   , 0.016, 0.046, 0.009, 0.   , 0.009, 0.   ],\n",
       "       [0.   , 0.027, 0.087, 0.302, 0.062, 0.   , 0.   , 0.184, 0.143, 0.   , 0.143, 0.083],\n",
       "       [0.058, 0.21 , 0.21 , 0.055, 0.406, 0.   , 0.083, 0.046, 0.009, 0.019, 0.009, 0.   ],\n",
       "       [0.142, 0.017, 0.   , 0.   , 0.   , 0.295, 0.083, 0.   , 0.   , 0.184, 0.   , 0.   ],\n",
       "       [0.113, 0.069, 0.017, 0.   , 0.062, 0.097, 0.333, 0.011, 0.   , 0.147, 0.   , 0.   ],\n",
       "       [0.   , 0.017, 0.069, 0.175, 0.049, 0.   , 0.016, 0.287, 0.143, 0.   , 0.143, 0.083],\n",
       "       [0.   , 0.   , 0.017, 0.175, 0.012, 0.   , 0.   , 0.184, 0.288, 0.   , 0.288, 0.278],\n",
       "       [0.246, 0.017, 0.   , 0.   , 0.019, 0.295, 0.201, 0.   , 0.   , 0.32 , 0.   , 0.   ],\n",
       "       [0.   , 0.   , 0.017, 0.175, 0.012, 0.   , 0.   , 0.184, 0.288, 0.   , 0.288, 0.278],\n",
       "       [0.   , 0.   , 0.   , 0.044, 0.   , 0.   , 0.   , 0.046, 0.12 , 0.   , 0.12 , 0.278]])"
      ]
     },
     "execution_count": 310,
     "metadata": {},
     "output_type": "execute_result"
    }
   ],
   "source": [
    "M_1"
   ]
  },
  {
   "cell_type": "markdown",
   "metadata": {},
   "source": [
    "$\n",
    "\\Gamma_2 M^2, \n",
    "$"
   ]
  },
  {
   "cell_type": "code",
   "execution_count": 311,
   "metadata": {},
   "outputs": [],
   "source": [
    "M_2=tau_operation(power_matrix(M_1,2),2)\n",
    "M_3=tau_operation(power_matrix(M_2,2),2)\n",
    "M_4=tau_operation(power_matrix(M_3,2),2)\n"
   ]
  },
  {
   "cell_type": "code",
   "execution_count": 312,
   "metadata": {},
   "outputs": [
    {
     "data": {
      "text/plain": [
       "array([[0.807, 0.04 , 0.015, 0.   , 0.034, 0.807, 0.806, 0.   , 0.   , 0.807, 0.   , 0.   ],\n",
       "       [0.   , 0.09 , 0.092, 0.   , 0.088, 0.   , 0.   , 0.   , 0.   , 0.   , 0.   , 0.   ],\n",
       "       [0.   , 0.085, 0.088, 0.   , 0.084, 0.   , 0.   , 0.   , 0.   , 0.   , 0.   , 0.   ],\n",
       "       [0.   , 0.001, 0.001, 0.032, 0.001, 0.   , 0.   , 0.032, 0.031, 0.   , 0.031, 0.031],\n",
       "       [0.   , 0.777, 0.798, 0.   , 0.786, 0.   , 0.001, 0.   , 0.   , 0.   , 0.   , 0.   ],\n",
       "       [0.005, 0.   , 0.   , 0.   , 0.   , 0.005, 0.005, 0.   , 0.   , 0.005, 0.   , 0.   ],\n",
       "       [0.003, 0.   , 0.   , 0.   , 0.   , 0.003, 0.003, 0.   , 0.   , 0.003, 0.   , 0.   ],\n",
       "       [0.   , 0.   , 0.001, 0.024, 0.   , 0.   , 0.   , 0.024, 0.024, 0.   , 0.024, 0.024],\n",
       "       [0.   , 0.   , 0.002, 0.471, 0.001, 0.   , 0.   , 0.471, 0.472, 0.   , 0.472, 0.472],\n",
       "       [0.185, 0.005, 0.001, 0.   , 0.004, 0.185, 0.184, 0.   , 0.   , 0.185, 0.   , 0.   ],\n",
       "       [0.   , 0.   , 0.002, 0.471, 0.001, 0.   , 0.   , 0.471, 0.472, 0.   , 0.472, 0.472],\n",
       "       [0.   , 0.   , 0.   , 0.001, 0.   , 0.   , 0.   , 0.001, 0.001, 0.   , 0.001, 0.001]])"
      ]
     },
     "execution_count": 312,
     "metadata": {},
     "output_type": "execute_result"
    }
   ],
   "source": [
    "np.round(M_4,3)"
   ]
  },
  {
   "cell_type": "code",
   "execution_count": 313,
   "metadata": {},
   "outputs": [
    {
     "data": {
      "text/plain": [
       "array([4., 3., 3., 4., 4., 2., 3., 4., 4., 3., 4., 2.])"
      ]
     },
     "execution_count": 313,
     "metadata": {},
     "output_type": "execute_result"
    }
   ],
   "source": [
    "np.sum(A,axis=0)"
   ]
  },
  {
   "cell_type": "code",
   "execution_count": 314,
   "metadata": {},
   "outputs": [],
   "source": [
    "def squaring(M,r) : \n",
    "    M_new = copy.deepcopy(M)\n",
    "    for i in range(r-1) : \n",
    "        M_new = tau_operation(power_matrix(M_new,2),2)\n",
    "\n",
    "    return M_new"
   ]
  },
  {
   "cell_type": "code",
   "execution_count": 320,
   "metadata": {},
   "outputs": [
    {
     "data": {
      "text/plain": [
       "array([[1. , 0. , 0. , 0. , 0. , 1. , 1. , 0. , 0. , 1. , 0. , 0. ],\n",
       "       [0. , 0. , 0. , 0. , 0. , 0. , 0. , 0. , 0. , 0. , 0. , 0. ],\n",
       "       [0. , 0. , 0. , 0. , 0. , 0. , 0. , 0. , 0. , 0. , 0. , 0. ],\n",
       "       [0. , 0. , 0. , 0. , 0. , 0. , 0. , 0. , 0. , 0. , 0. , 0. ],\n",
       "       [0. , 1. , 1. , 0. , 1. , 0. , 0. , 0. , 0. , 0. , 0. , 0. ],\n",
       "       [0. , 0. , 0. , 0. , 0. , 0. , 0. , 0. , 0. , 0. , 0. , 0. ],\n",
       "       [0. , 0. , 0. , 0. , 0. , 0. , 0. , 0. , 0. , 0. , 0. , 0. ],\n",
       "       [0. , 0. , 0. , 0. , 0. , 0. , 0. , 0. , 0. , 0. , 0. , 0. ],\n",
       "       [0. , 0. , 0. , 0.5, 0. , 0. , 0. , 0.5, 0.5, 0. , 0.5, 0.5],\n",
       "       [0. , 0. , 0. , 0. , 0. , 0. , 0. , 0. , 0. , 0. , 0. , 0. ],\n",
       "       [0. , 0. , 0. , 0.5, 0. , 0. , 0. , 0.5, 0.5, 0. , 0.5, 0.5],\n",
       "       [0. , 0. , 0. , 0. , 0. , 0. , 0. , 0. , 0. , 0. , 0. , 0. ]])"
      ]
     },
     "execution_count": 320,
     "metadata": {},
     "output_type": "execute_result"
    }
   ],
   "source": [
    "np.round(\n",
    "    squaring(M,90)\n",
    ",3)"
   ]
  },
  {
   "cell_type": "code",
   "execution_count": null,
   "metadata": {},
   "outputs": [],
   "source": []
  }
 ],
 "metadata": {
  "kernelspec": {
   "display_name": "Python 3",
   "language": "python",
   "name": "python3"
  },
  "language_info": {
   "codemirror_mode": {
    "name": "ipython",
    "version": 3
   },
   "file_extension": ".py",
   "mimetype": "text/x-python",
   "name": "python",
   "nbconvert_exporter": "python",
   "pygments_lexer": "ipython3",
   "version": "3.7.3"
  }
 },
 "nbformat": 4,
 "nbformat_minor": 2
}
