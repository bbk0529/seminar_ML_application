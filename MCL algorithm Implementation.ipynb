{
 "cells": [
  {
   "cell_type": "code",
   "execution_count": 1,
   "metadata": {},
   "outputs": [],
   "source": [
    "from evaluation import *"
   ]
  },
  {
   "cell_type": "code",
   "execution_count": 204,
   "metadata": {},
   "outputs": [],
   "source": [
    "filename = './xes/PrepaidTravelCost.xes'"
   ]
  },
  {
   "cell_type": "code",
   "execution_count": 205,
   "metadata": {},
   "outputs": [
    {
     "data": {
      "application/vnd.jupyter.widget-view+json": {
       "model_id": "0c7243616e894602b932af50e3064961",
       "version_major": 2,
       "version_minor": 0
      },
      "text/plain": [
       "HBox(children=(IntProgress(value=0, description='parsing log, completed traces :: ', max=2099, style=ProgressS…"
      ]
     },
     "metadata": {},
     "output_type": "display_data"
    },
    {
     "name": "stdout",
     "output_type": "stream",
     "text": [
      "\n",
      "==================================================================================================== \n",
      "=READ THE XES FILE\n",
      "length of log 2099 \n",
      "length of event 18246 \n",
      "number of variants : 202\n"
     ]
    }
   ],
   "source": [
    "log, VARIANT = read_xes(filename)"
   ]
  },
  {
   "cell_type": "code",
   "execution_count": null,
   "metadata": {},
   "outputs": [],
   "source": []
  },
  {
   "cell_type": "code",
   "execution_count": 25,
   "metadata": {},
   "outputs": [],
   "source": [
    "def cosine_similarity(v1,v2) : \n",
    "    return np.dot(v1,v2) / (np.linalg.norm(v1) *np.linalg.norm(v1))"
   ]
  },
  {
   "cell_type": "code",
   "execution_count": 206,
   "metadata": {},
   "outputs": [
    {
     "data": {
      "text/plain": [
       "[{'variant': 'B,C,H,A,G,F,D,E', 'count': 569},\n",
       " {'variant': 'B,C,J,H,A,G,K,F,D,E', 'count': 311},\n",
       " {'variant': 'B,C,M,N,A,G,F,D,E', 'count': 126},\n",
       " {'variant': 'B,C,J,M,N,A,G,K,F,D,E', 'count': 100},\n",
       " {'variant': 'A,G,K,F,D,E', 'count': 93},\n",
       " {'variant': 'B,P,H,A,Q,F,D,E', 'count': 90},\n",
       " {'variant': 'A,G,F,D,E', 'count': 84},\n",
       " {'variant': 'B,H,A,F,D,E', 'count': 79},\n",
       " {'variant': 'B,C,H,A,L,I,A,G,F,D,E', 'count': 53},\n",
       " {'variant': 'B,C,A,G,H,F,D,E', 'count': 43},\n",
       " {'variant': 'B,C,A,G,J,K,H,F,D,E', 'count': 28},\n",
       " {'variant': 'B,C,J,H,A,L,I,A,G,K,F,D,E', 'count': 26},\n",
       " {'variant': 'B,M,N,A,F,D,E', 'count': 21},\n",
       " {'variant': 'A,L,I', 'count': 20},\n",
       " {'variant': 'B,C,H,A,G,K,F,D,E', 'count': 19},\n",
       " {'variant': 'B,C,A,G,F,H,D,E', 'count': 14},\n",
       " {'variant': 'B,C,M,N,A,G,T,U,D,E', 'count': 13},\n",
       " {'variant': 'B,C,J,H,A,L,I', 'count': 13},\n",
       " {'variant': 'A,F,D,E', 'count': 13},\n",
       " {'variant': 'B,C,H,A,L,I', 'count': 12},\n",
       " {'variant': 'B,P,H,A,3,I,A,Q,F,D,E', 'count': 11},\n",
       " {'variant': 'B,P,M,N,A,Q,F,D,E', 'count': 10},\n",
       " {'variant': 'B,C,M,N,A,L,I,A,G,F,D,E', 'count': 9},\n",
       " {'variant': 'B,C,X,O,B,C,J,H,A,G,K,F,D,E', 'count': 8},\n",
       " {'variant': 'B,C,R,O,B,C,H,A,G,F,D,E', 'count': 8},\n",
       " {'variant': 'B,C,J,M,N,A,L,I,A,G,K,F,D,E', 'count': 8},\n",
       " {'variant': 'Y', 'count': 7},\n",
       " {'variant': 'B,C,A,L,H,I,A,G,F,D,E', 'count': 7},\n",
       " {'variant': 'B,2,O,B,P,H,A,Q,F,D,E', 'count': 7},\n",
       " {'variant': 'B,H,A,Q,F,D,E', 'count': 6},\n",
       " {'variant': 'B,C,J,H,A,G,F,D,E', 'count': 6},\n",
       " {'variant': 'B,P,A,Q,H,F,D,E', 'count': 5},\n",
       " {'variant': 'B,C,J,M,N,A,G,K,T,U,D,E', 'count': 5},\n",
       " {'variant': 'B,C,J,A,G,K,H,F,D,E', 'count': 5},\n",
       " {'variant': 'B,C,J,A,G,H,K,F,D,E', 'count': 5},\n",
       " {'variant': 'B,C,A,G,K,J,F,H,D,E', 'count': 5},\n",
       " {'variant': 'B,C,A,G,J,K,M,F,N,D,E', 'count': 5},\n",
       " {'variant': 'B,C,A,G,J,H,K,F,D,E', 'count': 5},\n",
       " {'variant': 'B,M,N,A,T,U,D,E', 'count': 4},\n",
       " {'variant': 'B,H,A,G,K,F,D,E', 'count': 4},\n",
       " {'variant': 'B,C,R,O,B,C,M,N,A,G,F,D,E', 'count': 4},\n",
       " {'variant': 'B,C,M,A,G,F,N,D,E', 'count': 4},\n",
       " {'variant': 'B,C,J,H,Y', 'count': 4},\n",
       " {'variant': 'B,C,H,A,L,I,A,L,I,A,G,F,D,E', 'count': 4},\n",
       " {'variant': 'B,C,A,G,M,F,D,N,E', 'count': 4},\n",
       " {'variant': 'B,P,H,A,Q,F,Z', 'count': 3},\n",
       " {'variant': 'B,P,H,A,Q,F,D,E,V', 'count': 3},\n",
       " {'variant': 'B,P,H,A,3,I', 'count': 3},\n",
       " {'variant': 'B,M,N,V,B,M,N,A,F,D,E,V,B,M,N', 'count': 3},\n",
       " {'variant': 'B,M,N,A,Q,F,D,E', 'count': 3},\n",
       " {'variant': 'B,H,A,F,D,E,V', 'count': 3},\n",
       " {'variant': 'B,C,Y,J,H', 'count': 3},\n",
       " {'variant': 'B,C,R,O,B,C,H,A,L,I,A,G,F,D,E', 'count': 3},\n",
       " {'variant': 'B,C,J,M,N,A,L,I,A,G,K,T,U,D,E', 'count': 3},\n",
       " {'variant': 'B,C,J,A,G,K,F,H,D,E', 'count': 3},\n",
       " {'variant': 'B,C,H,Y', 'count': 3},\n",
       " {'variant': 'B,C,H,A,G,S,I,A,G,F,D,E', 'count': 3},\n",
       " {'variant': 'B,C,A,L,J,I,A,G,H,K,F,D,E', 'count': 3},\n",
       " {'variant': 'B,C,A,H,G,F,D,E', 'count': 3},\n",
       " {'variant': 'B,2,O,B,P,H,A,3,I,A,Q,F,D,E', 'count': 3},\n",
       " {'variant': 'A,Q,F,D,E', 'count': 3},\n",
       " {'variant': 'B,W,O,B,C,J,M,N,A,G,K,F,D,E', 'count': 2},\n",
       " {'variant': 'B,W,O,B,C,J,H,A,L,I,A,G,K,F,D,E', 'count': 2},\n",
       " {'variant': 'B,W,O,B,C,H,A,G,F,D,E', 'count': 2},\n",
       " {'variant': 'B,R,O,B,M,N,A,T,U,D,E', 'count': 2},\n",
       " {'variant': 'B,R,O,B,H,A,F,D,E', 'count': 2},\n",
       " {'variant': 'B,P,H,Y', 'count': 2},\n",
       " {'variant': 'B,P,H,A,G,K,F,D,E', 'count': 2},\n",
       " {'variant': 'B,P,H,A,G,F,D,E', 'count': 2},\n",
       " {'variant': 'B,P,A,Q,F,H,D,E', 'count': 2},\n",
       " {'variant': 'B,M,N,V,B,H,A,F,D,E', 'count': 2},\n",
       " {'variant': 'B,M,N,A,F,D,E,V,B,M,N', 'count': 2},\n",
       " {'variant': 'B,M,A,F,N,D,E', 'count': 2},\n",
       " {'variant': 'B,H,P,A,Q,F,D,E', 'count': 2},\n",
       " {'variant': 'B,H,A,S,I', 'count': 2},\n",
       " {'variant': 'B,C,M,N,A,L,I', 'count': 2},\n",
       " {'variant': 'B,C,M,N,A,G,K,F,D,E', 'count': 2},\n",
       " {'variant': 'B,C,J,H,A,G,1,A,G,K,F,D,E', 'count': 2},\n",
       " {'variant': 'B,C,H,A,L,A,L,I', 'count': 2},\n",
       " {'variant': 'B,C,H,A,G,S,I', 'count': 2},\n",
       " {'variant': 'B,C,A,J,R,G,K,O,B,W,O,S,I', 'count': 2},\n",
       " {'variant': 'B,C,A,H,L,I,A,G,F,D,E', 'count': 2},\n",
       " {'variant': 'B,C,A,G,M,T,N,U,D,E', 'count': 2},\n",
       " {'variant': 'B,C,A,G,M,F,N,D,E', 'count': 2},\n",
       " {'variant': 'B,C,A,G,K,J,H,F,D,E', 'count': 2},\n",
       " {'variant': 'B,C,A,G,J,K,M,F,D,N,E', 'count': 2},\n",
       " {'variant': 'B,C,A,G,F,D,H,E', 'count': 2},\n",
       " {'variant': 'B,C,A,G,F,D,E,H', 'count': 2},\n",
       " {'variant': 'B,2,O,B,P,M,N,A,Q,F,D,E', 'count': 2},\n",
       " {'variant': 'B,2,O,B,2,O,B,P,H,A,Q,F,D,E', 'count': 2},\n",
       " {'variant': 'A,L,I,A,G,K,F,D,E', 'count': 2},\n",
       " {'variant': 'A,L,I,A,G,F,D,E', 'count': 2},\n",
       " {'variant': 'A,G,K,T,U,D,E', 'count': 2},\n",
       " {'variant': 'A,F,Z', 'count': 2},\n",
       " {'variant': 'B,W,O,B,C,M,N,A,G,F,D,E', 'count': 1},\n",
       " {'variant': 'B,W,O,B,C,H,A,L,I', 'count': 1},\n",
       " {'variant': 'B,W,A,O,B,C,J,G,K,M,N,F,D,E', 'count': 1},\n",
       " {'variant': 'B,W,A,O,B,C,G,J,K,F,H,D,E', 'count': 1},\n",
       " {'variant': 'B,W,A,G,F,D,O,B,C,E,H', 'count': 1},\n",
       " {'variant': 'B,P,R,O,B,P,M,N,A,Q,F,D,E', 'count': 1},\n",
       " {'variant': 'B,P,M,N,A,Q,T,U,Z', 'count': 1},\n",
       " {'variant': 'B,P,M,N,A,Q,T,U,D,E', 'count': 1},\n",
       " {'variant': 'B,P,M,N,A,G,F,D,E', 'count': 1},\n",
       " {'variant': 'B,P,H,A,Q,S,I,A,Q,F,D,E', 'count': 1},\n",
       " {'variant': 'B,P,H,A,Q,F,Z,V', 'count': 1},\n",
       " {'variant': 'B,P,H,A,L,I,A,G,F,D,E', 'count': 1},\n",
       " {'variant': 'B,P,A,Q,H,F,D,E,V', 'count': 1},\n",
       " {'variant': 'B,M,N,Y', 'count': 1},\n",
       " {'variant': 'B,M,N,A,G,K,F,D,E', 'count': 1},\n",
       " {'variant': 'B,M,N,A,F,D,Z', 'count': 1},\n",
       " {'variant': 'B,M,N,A,F,D,E,V', 'count': 1},\n",
       " {'variant': 'B,H,V,B,H,A,F,D,E', 'count': 1},\n",
       " {'variant': 'B,H,A,S,I,A,F,D,E', 'count': 1},\n",
       " {'variant': 'B,H,A,L,I,A,G,K,F,D,E', 'count': 1},\n",
       " {'variant': 'B,H,A,F,Z,V', 'count': 1},\n",
       " {'variant': 'B,H,A,F,V,D,E,B,H', 'count': 1},\n",
       " {'variant': 'B,C,Y,M,N', 'count': 1},\n",
       " {'variant': 'B,C,X,O,B,W,O,B,C,J,H,A,G,K,F,D,E', 'count': 1},\n",
       " {'variant': 'B,C,X,O,B,C,X,O,B,C,J,H,A,G,K,F,D,E', 'count': 1},\n",
       " {'variant': 'B,C,X,O,B,C,J,M,N,A,G,K,F,D,E', 'count': 1},\n",
       " {'variant': 'B,C,X,O,B,C,J,A,G,H,K,F,D,E', 'count': 1},\n",
       " {'variant': 'B,C,X,O,B,C,H,A,G,F,D,E', 'count': 1},\n",
       " {'variant': 'B,C,X,O,B,C,A,X,O,B,C,J,H,L,I', 'count': 1},\n",
       " {'variant': 'B,C,X,A,G,K,F,O,B,C,D,J,E,H', 'count': 1},\n",
       " {'variant': 'B,C,R,O,B,C,M,N,A,G,T,U,D,E', 'count': 1},\n",
       " {'variant': 'B,C,R,O,B,C,J,H,A,L,I,A,G,K,F,D,E', 'count': 1},\n",
       " {'variant': 'B,C,R,O,B,C,J,H,A,G,K,F,D,E', 'count': 1},\n",
       " {'variant': 'B,C,R,O,B,C,J,A,L,I,A,G,K,M,N,F,D,E', 'count': 1},\n",
       " {'variant': 'B,C,R,O,B,C,J,A,G,K,H,F,D,E', 'count': 1},\n",
       " {'variant': 'B,C,R,O,B,C,A,G,J,K,H,F,D,E', 'count': 1},\n",
       " {'variant': 'B,C,R,A,L,O,B,C,I,H,A,G,F,D,E', 'count': 1},\n",
       " {'variant': 'B,C,M,N,A,L,I,A,L,I', 'count': 1},\n",
       " {'variant': 'B,C,M,N,A,L,I,A,G,T,U,D,E', 'count': 1},\n",
       " {'variant': 'B,C,M,N,A,L,I,A,G,K,F,D,E', 'count': 1},\n",
       " {'variant': 'B,C,M,N,A,G,1,I,Y', 'count': 1},\n",
       " {'variant': 'B,C,M,A,G,F,D,N,E', 'count': 1},\n",
       " {'variant': 'B,C,J,R,A,G,K,O,B,W,O,S,I', 'count': 1},\n",
       " {'variant': 'B,C,J,N,M,A,L,I,A,G,K,F,D,E', 'count': 1},\n",
       " {'variant': 'B,C,J,N,M,A,G,K,F,D,E', 'count': 1},\n",
       " {'variant': 'B,C,J,M,N,Y', 'count': 1},\n",
       " {'variant': 'B,C,J,M,N,A,L,I,A,L,I,A,G,K,F,D,E', 'count': 1},\n",
       " {'variant': 'B,C,J,M,N,A,L,I,A,L,I', 'count': 1},\n",
       " {'variant': 'B,C,J,M,N,A,L,I', 'count': 1},\n",
       " {'variant': 'B,C,J,M,N,A,G,K,S,I,A,G,K,S,I,A,G,K,F,D,E', 'count': 1},\n",
       " {'variant': 'B,C,J,M,N,A,G,F,D,E', 'count': 1},\n",
       " {'variant': 'B,C,J,M,A,G,N,K,F,D,E', 'count': 1},\n",
       " {'variant': 'B,C,J,H,A,L,I,Y', 'count': 1},\n",
       " {'variant': 'B,C,J,H,A,L,I,A,L,I,A,G,K,F,D,E', 'count': 1},\n",
       " {'variant': 'B,C,J,H,A,L,I,A,L,A,I,A,G,K,F,D,E', 'count': 1},\n",
       " {'variant': 'B,C,J,H,A,L,I,A,G,F,D,E', 'count': 1},\n",
       " {'variant': 'B,C,J,H,A,G,K,T,U,D,E', 'count': 1},\n",
       " {'variant': 'B,C,J,H,A,G,K,S,I', 'count': 1},\n",
       " {'variant': 'B,C,J,H,A,G,K,S,A,G,K,F,D,E', 'count': 1},\n",
       " {'variant': 'B,C,J,H,A,G,1,I,A,G,K,F,D,E', 'count': 1},\n",
       " {'variant': 'B,C,J,H,A,G,1,I', 'count': 1},\n",
       " {'variant': 'B,C,J,A,R,O,B,C,H,L,I', 'count': 1},\n",
       " {'variant': 'B,C,J,A,L,I,M,N,A,G,K,F,D,E', 'count': 1},\n",
       " {'variant': 'B,C,J,A,L,H,I,A,G,K,F,D,E', 'count': 1},\n",
       " {'variant': 'B,C,J,A,H,L,I,A,G,K,F,D,E', 'count': 1},\n",
       " {'variant': 'B,C,J,A,H,L,I', 'count': 1},\n",
       " {'variant': 'B,C,J,A,G,K,M,F,D,N,E', 'count': 1},\n",
       " {'variant': 'B,C,H,A,L,I,A,L,I,A,L,I,A,G,F,D,E', 'count': 1},\n",
       " {'variant': 'B,C,H,A,L,I,A,L,I', 'count': 1},\n",
       " {'variant': 'B,C,H,A,G,T,U,D,E', 'count': 1},\n",
       " {'variant': 'B,C,A,R,O,B,C,J,L,I,A,G,K,H,F,D,E', 'count': 1},\n",
       " {'variant': 'B,C,A,L,R,O,B,C,I,A,G,H,F,D,E', 'count': 1},\n",
       " {'variant': 'B,C,A,L,R,I,O,B,C,A,G,J,K,H,F,D,E', 'count': 1},\n",
       " {'variant': 'B,C,A,L,J,I,H', 'count': 1},\n",
       " {'variant': 'B,C,A,L,I,J,H', 'count': 1},\n",
       " {'variant': 'B,C,A,L,I,A,L,I,A,G,F,D,H,E', 'count': 1},\n",
       " {'variant': 'B,C,A,L,H,I,A,L,I,A,G,F,D,E', 'count': 1},\n",
       " {'variant': 'B,C,A,L,H,A,G,F,D,E', 'count': 1},\n",
       " {'variant': 'B,C,A,J,H,L,I,A,G,K,T,U,D,E', 'count': 1},\n",
       " {'variant': 'B,C,A,J,H,G,K,F,D,E', 'count': 1},\n",
       " {'variant': 'B,C,A,G,R,S,O,I,B,C,A,G,J,K,H,F,D,E', 'count': 1},\n",
       " {'variant': 'B,C,A,G,R,O,B,C,S,H,I,A,G,F,D,E', 'count': 1},\n",
       " {'variant': 'B,C,A,G,M,S,N,I,A,G,F,D,E', 'count': 1},\n",
       " {'variant': 'B,C,A,G,M,N,F,D,E', 'count': 1},\n",
       " {'variant': 'B,C,A,G,K,J,M,F,N,D,E', 'count': 1},\n",
       " {'variant': 'B,C,A,G,K,J,F,M,D,N,E', 'count': 1},\n",
       " {'variant': 'B,C,A,G,K,J,F,D,M,N,E', 'count': 1},\n",
       " {'variant': 'B,C,A,G,K,F,D,J,H,E', 'count': 1},\n",
       " {'variant': 'B,C,A,G,K,F,D,J,E,H', 'count': 1},\n",
       " {'variant': 'B,C,A,G,J,K,T,M,U,N,D,E', 'count': 1},\n",
       " {'variant': 'B,C,A,G,J,K,F,H,D,E', 'count': 1},\n",
       " {'variant': 'B,C,A,G,J,F,D,H,E', 'count': 1},\n",
       " {'variant': 'B,C,A,G,H,S,I,A,G,F,D,E', 'count': 1},\n",
       " {'variant': 'B,C,A,G,F,M,N,D,E', 'count': 1},\n",
       " {'variant': 'B,C,A,G,F,M,D,N,E', 'count': 1},\n",
       " {'variant': 'B,C,A,G,1,J,I,H', 'count': 1},\n",
       " {'variant': 'A,Q,T,U,D,E', 'count': 1},\n",
       " {'variant': 'A,L,I,A,L,I,A,G,F,D,E', 'count': 1},\n",
       " {'variant': 'A,L,I,A,L,I', 'count': 1},\n",
       " {'variant': 'A,L,I,A,G,S,I,A,G,K,F,D,E', 'count': 1},\n",
       " {'variant': 'A,L,A,L', 'count': 1},\n",
       " {'variant': 'A,G,S,I,A,G,K,F,D,E', 'count': 1},\n",
       " {'variant': 'A,G,S,I,A,G,F,D,E', 'count': 1},\n",
       " {'variant': 'A,G,S,I', 'count': 1},\n",
       " {'variant': 'A,G,K,T,U,E,D', 'count': 1},\n",
       " {'variant': 'A,G,F,E', 'count': 1},\n",
       " {'variant': 'A,G,1,I,A,G,F,D,E', 'count': 1},\n",
       " {'variant': 'A,3,I', 'count': 1}]"
      ]
     },
     "execution_count": 206,
     "metadata": {},
     "output_type": "execute_result"
    }
   ],
   "source": [
    "case_statistics.get_variant_statistics(log)"
   ]
  },
  {
   "cell_type": "code",
   "execution_count": 215,
   "metadata": {},
   "outputs": [
    {
     "name": "stdout",
     "output_type": "stream",
     "text": [
      "req for pay 73550\n",
      "UNKNOWN\n",
      "task 71977\n",
      "organizational unit 65463\n",
      "854.5798378437331\n",
      "activity 505\n",
      "UNKNOWN\n",
      "budget 6198\n",
      "UNKNOWN\n",
      "project 503\n",
      "req for pay 73550\n",
      "organizational unit 65455\n",
      "1979.272103997747\n",
      "0\n",
      "travel permit 73549\n",
      "UNKNOWN\n",
      "req for pay number 73551\n"
     ]
    }
   ],
   "source": [
    "for i in log[0].attributes.values() : print(i)"
   ]
  },
  {
   "cell_type": "code",
   "execution_count": 251,
   "metadata": {},
   "outputs": [
    {
     "data": {
      "text/plain": [
       "dict_values(['req for pay 36828', 'travel permit number 36823', 'task 36827', 'organizational unit 65463', 193.76527411003897, 'activity 505', 'task 427', 'budget 529', 'project 36824', 'project 503', 'req for pay 36828', 'organizational unit 65455', 2877.702090743153, 0, 'travel permit 36822', 'UNKNOWN', 'req for pay number 36829'])"
      ]
     },
     "execution_count": 251,
     "metadata": {},
     "output_type": "execute_result"
    }
   ],
   "source": [
    "variants_filter.apply(log, [VARIANT[0]])[0].attributes.values()"
   ]
  },
  {
   "cell_type": "code",
   "execution_count": 241,
   "metadata": {},
   "outputs": [
    {
     "data": {
      "text/plain": [
       "'A,3,I'"
      ]
     },
     "execution_count": 241,
     "metadata": {},
     "output_type": "execute_result"
    }
   ],
   "source": [
    "v"
   ]
  },
  {
   "cell_type": "code",
   "execution_count": 20,
   "metadata": {},
   "outputs": [
    {
     "data": {
      "text/plain": [
       "{'(case)_Item': '00010', '(case)_Goods_Receipt': 'true', '(case)_Item_Category': '3-way match, invoice after GR', '(case)_Document_Type': 'Standard PO', '(case)_Purch__Doc__Category_name': 'Purchase order', '(case)_Vendor': 'vendorID_0107', 'User': 'user_033', '(case)_Spend_area_text': 'Specialty Resins', '(case)_Spend_classification_text': 'PR', 'Cumulative_net_worth_(EUR)': '43301.0', '(case)_Sub_spend_area_text': 'Alkyd Resins', 'time:timestamp': datetime.datetime(2018, 1, 2, 7, 23, tzinfo=datetime.timezone(datetime.timedelta(seconds=3600))), '(case)_Source': 'sourceSystemID_0000', '(case)_Company': 'companyID_0000', '(case)_GR-Based_Inv__Verif_': 'true', '(case)_Purchasing_Document': '4507000227', 'org:resource': 'user_033', 'concept:name': 'A', '(case)_Name': 'vendor_0107', 'lifecycle:transition': 'complete', '(case)_Item_Type': 'Standard'}"
      ]
     },
     "execution_count": 20,
     "metadata": {},
     "output_type": "execute_result"
    }
   ],
   "source": [
    "vlog[0][0]"
   ]
  },
  {
   "cell_type": "code",
   "execution_count": 269,
   "metadata": {},
   "outputs": [],
   "source": [
    "lst_features =[]\n",
    "for v in VARIANT : \n",
    "    feature=[]\n",
    "    for i in variants_filter.apply(log, [v])[0].attributes.values() : \n",
    "        feature.append(i)\n",
    "    lst_features.append(feature)"
   ]
  },
  {
   "cell_type": "code",
   "execution_count": 270,
   "metadata": {},
   "outputs": [],
   "source": [
    "import pandas as pd\n",
    "data=pd.DataFrame(lst_features)"
   ]
  },
  {
   "cell_type": "code",
   "execution_count": 271,
   "metadata": {},
   "outputs": [
    {
     "data": {
      "text/html": [
       "<div>\n",
       "<style scoped>\n",
       "    .dataframe tbody tr th:only-of-type {\n",
       "        vertical-align: middle;\n",
       "    }\n",
       "\n",
       "    .dataframe tbody tr th {\n",
       "        vertical-align: top;\n",
       "    }\n",
       "\n",
       "    .dataframe thead th {\n",
       "        text-align: right;\n",
       "    }\n",
       "</style>\n",
       "<table border=\"1\" class=\"dataframe\">\n",
       "  <thead>\n",
       "    <tr style=\"text-align: right;\">\n",
       "      <th></th>\n",
       "      <th>0</th>\n",
       "      <th>1</th>\n",
       "      <th>2</th>\n",
       "      <th>3</th>\n",
       "      <th>4</th>\n",
       "      <th>5</th>\n",
       "      <th>6</th>\n",
       "      <th>7</th>\n",
       "      <th>8</th>\n",
       "      <th>9</th>\n",
       "      <th>10</th>\n",
       "      <th>11</th>\n",
       "      <th>12</th>\n",
       "      <th>13</th>\n",
       "      <th>14</th>\n",
       "      <th>15</th>\n",
       "      <th>16</th>\n",
       "    </tr>\n",
       "  </thead>\n",
       "  <tbody>\n",
       "    <tr>\n",
       "      <th>0</th>\n",
       "      <td>req for pay 36828</td>\n",
       "      <td>travel permit number 36823</td>\n",
       "      <td>task 36827</td>\n",
       "      <td>organizational unit 65463</td>\n",
       "      <td>193.765274</td>\n",
       "      <td>activity 505</td>\n",
       "      <td>task 427</td>\n",
       "      <td>budget 529</td>\n",
       "      <td>project 36824</td>\n",
       "      <td>project 503</td>\n",
       "      <td>req for pay 36828</td>\n",
       "      <td>organizational unit 65455</td>\n",
       "      <td>2877.702091</td>\n",
       "      <td>0</td>\n",
       "      <td>travel permit 36822</td>\n",
       "      <td>UNKNOWN</td>\n",
       "      <td>req for pay number 36829</td>\n",
       "    </tr>\n",
       "    <tr>\n",
       "      <th>1</th>\n",
       "      <td>req for pay 16289</td>\n",
       "      <td>travel permit number 16288</td>\n",
       "      <td>UNKNOWN</td>\n",
       "      <td>organizational unit 65463</td>\n",
       "      <td>3422.610409</td>\n",
       "      <td>UNKNOWN</td>\n",
       "      <td>UNKNOWN</td>\n",
       "      <td>budget 8795</td>\n",
       "      <td>UNKNOWN</td>\n",
       "      <td>project 503</td>\n",
       "      <td>req for pay 16289</td>\n",
       "      <td>organizational unit 65455</td>\n",
       "      <td>4819.069725</td>\n",
       "      <td>0</td>\n",
       "      <td>travel permit 16287</td>\n",
       "      <td>UNKNOWN</td>\n",
       "      <td>req for pay number 16290</td>\n",
       "    </tr>\n",
       "    <tr>\n",
       "      <th>2</th>\n",
       "      <td>req for pay 7712</td>\n",
       "      <td>travel permit number 7711</td>\n",
       "      <td>task 6652</td>\n",
       "      <td>organizational unit 65454</td>\n",
       "      <td>364.852114</td>\n",
       "      <td>activity 505</td>\n",
       "      <td>task 427</td>\n",
       "      <td>budget 499</td>\n",
       "      <td>project 6649</td>\n",
       "      <td>project 503</td>\n",
       "      <td>req for pay 7712</td>\n",
       "      <td>organizational unit 65460</td>\n",
       "      <td>1934.821819</td>\n",
       "      <td>0</td>\n",
       "      <td>travel permit 7710</td>\n",
       "      <td>UNKNOWN</td>\n",
       "      <td>req for pay number 7713</td>\n",
       "    </tr>\n",
       "    <tr>\n",
       "      <th>3</th>\n",
       "      <td>req for pay 4544</td>\n",
       "      <td>travel permit number 4538</td>\n",
       "      <td>UNKNOWN</td>\n",
       "      <td>organizational unit 65458</td>\n",
       "      <td>65.244734</td>\n",
       "      <td>UNKNOWN</td>\n",
       "      <td>UNKNOWN</td>\n",
       "      <td>budget 922</td>\n",
       "      <td>UNKNOWN</td>\n",
       "      <td>project 503</td>\n",
       "      <td>req for pay 4544</td>\n",
       "      <td>organizational unit 65458</td>\n",
       "      <td>3113.953197</td>\n",
       "      <td>0</td>\n",
       "      <td>travel permit 4537</td>\n",
       "      <td>UNKNOWN</td>\n",
       "      <td>req for pay number 4545</td>\n",
       "    </tr>\n",
       "    <tr>\n",
       "      <th>4</th>\n",
       "      <td>req for pay 185740</td>\n",
       "      <td>travel permit number 424</td>\n",
       "      <td>task 185446</td>\n",
       "      <td>organizational unit 65469</td>\n",
       "      <td>243.648867</td>\n",
       "      <td>activity 505</td>\n",
       "      <td>task 427</td>\n",
       "      <td>budget 425</td>\n",
       "      <td>project 426</td>\n",
       "      <td>project 503</td>\n",
       "      <td>req for pay 185740</td>\n",
       "      <td>organizational unit 65454</td>\n",
       "      <td>923.081315</td>\n",
       "      <td>0</td>\n",
       "      <td>travel permit 423</td>\n",
       "      <td>UNKNOWN</td>\n",
       "      <td>req for pay number 185741</td>\n",
       "    </tr>\n",
       "    <tr>\n",
       "      <th>...</th>\n",
       "      <td>...</td>\n",
       "      <td>...</td>\n",
       "      <td>...</td>\n",
       "      <td>...</td>\n",
       "      <td>...</td>\n",
       "      <td>...</td>\n",
       "      <td>...</td>\n",
       "      <td>...</td>\n",
       "      <td>...</td>\n",
       "      <td>...</td>\n",
       "      <td>...</td>\n",
       "      <td>...</td>\n",
       "      <td>...</td>\n",
       "      <td>...</td>\n",
       "      <td>...</td>\n",
       "      <td>...</td>\n",
       "      <td>...</td>\n",
       "    </tr>\n",
       "    <tr>\n",
       "      <th>197</th>\n",
       "      <td>req for pay 186216</td>\n",
       "      <td>UNKNOWN</td>\n",
       "      <td>UNKNOWN</td>\n",
       "      <td>organizational unit 65462</td>\n",
       "      <td>73.932604</td>\n",
       "      <td>UNKNOWN</td>\n",
       "      <td>UNKNOWN</td>\n",
       "      <td>UNKNOWN</td>\n",
       "      <td>UNKNOWN</td>\n",
       "      <td>project 147582</td>\n",
       "      <td>req for pay 186216</td>\n",
       "      <td>UNKNOWN</td>\n",
       "      <td>0.000000</td>\n",
       "      <td>0</td>\n",
       "      <td>UNKNOWN</td>\n",
       "      <td>UNKNOWN</td>\n",
       "      <td>UNKNOWN</td>\n",
       "    </tr>\n",
       "    <tr>\n",
       "      <th>198</th>\n",
       "      <td>req for pay 186113</td>\n",
       "      <td>UNKNOWN</td>\n",
       "      <td>task 148121</td>\n",
       "      <td>organizational unit 65458</td>\n",
       "      <td>4230.460182</td>\n",
       "      <td>activity 505</td>\n",
       "      <td>UNKNOWN</td>\n",
       "      <td>UNKNOWN</td>\n",
       "      <td>UNKNOWN</td>\n",
       "      <td>project 148216</td>\n",
       "      <td>req for pay 186113</td>\n",
       "      <td>UNKNOWN</td>\n",
       "      <td>0.000000</td>\n",
       "      <td>0</td>\n",
       "      <td>UNKNOWN</td>\n",
       "      <td>UNKNOWN</td>\n",
       "      <td>req for pay number 186114</td>\n",
       "    </tr>\n",
       "    <tr>\n",
       "      <th>199</th>\n",
       "      <td>req for pay 186345</td>\n",
       "      <td>UNKNOWN</td>\n",
       "      <td>task 10542</td>\n",
       "      <td>organizational unit 65456</td>\n",
       "      <td>387.624471</td>\n",
       "      <td>activity 505</td>\n",
       "      <td>UNKNOWN</td>\n",
       "      <td>UNKNOWN</td>\n",
       "      <td>UNKNOWN</td>\n",
       "      <td>project 147546</td>\n",
       "      <td>req for pay 186345</td>\n",
       "      <td>UNKNOWN</td>\n",
       "      <td>0.000000</td>\n",
       "      <td>0</td>\n",
       "      <td>UNKNOWN</td>\n",
       "      <td>UNKNOWN</td>\n",
       "      <td>req for pay number 186346</td>\n",
       "    </tr>\n",
       "    <tr>\n",
       "      <th>200</th>\n",
       "      <td>req for pay 186322</td>\n",
       "      <td>UNKNOWN</td>\n",
       "      <td>UNKNOWN</td>\n",
       "      <td>organizational unit 65482</td>\n",
       "      <td>102.983373</td>\n",
       "      <td>UNKNOWN</td>\n",
       "      <td>UNKNOWN</td>\n",
       "      <td>UNKNOWN</td>\n",
       "      <td>UNKNOWN</td>\n",
       "      <td>project 147620</td>\n",
       "      <td>req for pay 186322</td>\n",
       "      <td>UNKNOWN</td>\n",
       "      <td>0.000000</td>\n",
       "      <td>0</td>\n",
       "      <td>UNKNOWN</td>\n",
       "      <td>UNKNOWN</td>\n",
       "      <td>req for pay number 186323</td>\n",
       "    </tr>\n",
       "    <tr>\n",
       "      <th>201</th>\n",
       "      <td>req for pay 185404</td>\n",
       "      <td>UNKNOWN</td>\n",
       "      <td>UNKNOWN</td>\n",
       "      <td>organizational unit 65463</td>\n",
       "      <td>1112.095617</td>\n",
       "      <td>UNKNOWN</td>\n",
       "      <td>UNKNOWN</td>\n",
       "      <td>UNKNOWN</td>\n",
       "      <td>UNKNOWN</td>\n",
       "      <td>UNKNOWN</td>\n",
       "      <td>req for pay 185404</td>\n",
       "      <td>UNKNOWN</td>\n",
       "      <td>0.000000</td>\n",
       "      <td>0</td>\n",
       "      <td>UNKNOWN</td>\n",
       "      <td>UNKNOWN</td>\n",
       "      <td>UNKNOWN</td>\n",
       "    </tr>\n",
       "  </tbody>\n",
       "</table>\n",
       "<p>202 rows × 17 columns</p>\n",
       "</div>"
      ],
      "text/plain": [
       "                      0                           1            2  \\\n",
       "0     req for pay 36828  travel permit number 36823   task 36827   \n",
       "1     req for pay 16289  travel permit number 16288      UNKNOWN   \n",
       "2      req for pay 7712   travel permit number 7711    task 6652   \n",
       "3      req for pay 4544   travel permit number 4538      UNKNOWN   \n",
       "4    req for pay 185740    travel permit number 424  task 185446   \n",
       "..                  ...                         ...          ...   \n",
       "197  req for pay 186216                     UNKNOWN      UNKNOWN   \n",
       "198  req for pay 186113                     UNKNOWN  task 148121   \n",
       "199  req for pay 186345                     UNKNOWN   task 10542   \n",
       "200  req for pay 186322                     UNKNOWN      UNKNOWN   \n",
       "201  req for pay 185404                     UNKNOWN      UNKNOWN   \n",
       "\n",
       "                             3            4             5         6  \\\n",
       "0    organizational unit 65463   193.765274  activity 505  task 427   \n",
       "1    organizational unit 65463  3422.610409       UNKNOWN   UNKNOWN   \n",
       "2    organizational unit 65454   364.852114  activity 505  task 427   \n",
       "3    organizational unit 65458    65.244734       UNKNOWN   UNKNOWN   \n",
       "4    organizational unit 65469   243.648867  activity 505  task 427   \n",
       "..                         ...          ...           ...       ...   \n",
       "197  organizational unit 65462    73.932604       UNKNOWN   UNKNOWN   \n",
       "198  organizational unit 65458  4230.460182  activity 505   UNKNOWN   \n",
       "199  organizational unit 65456   387.624471  activity 505   UNKNOWN   \n",
       "200  organizational unit 65482   102.983373       UNKNOWN   UNKNOWN   \n",
       "201  organizational unit 65463  1112.095617       UNKNOWN   UNKNOWN   \n",
       "\n",
       "               7              8               9                  10  \\\n",
       "0     budget 529  project 36824     project 503   req for pay 36828   \n",
       "1    budget 8795        UNKNOWN     project 503   req for pay 16289   \n",
       "2     budget 499   project 6649     project 503    req for pay 7712   \n",
       "3     budget 922        UNKNOWN     project 503    req for pay 4544   \n",
       "4     budget 425    project 426     project 503  req for pay 185740   \n",
       "..           ...            ...             ...                 ...   \n",
       "197      UNKNOWN        UNKNOWN  project 147582  req for pay 186216   \n",
       "198      UNKNOWN        UNKNOWN  project 148216  req for pay 186113   \n",
       "199      UNKNOWN        UNKNOWN  project 147546  req for pay 186345   \n",
       "200      UNKNOWN        UNKNOWN  project 147620  req for pay 186322   \n",
       "201      UNKNOWN        UNKNOWN         UNKNOWN  req for pay 185404   \n",
       "\n",
       "                            11           12  13                   14       15  \\\n",
       "0    organizational unit 65455  2877.702091   0  travel permit 36822  UNKNOWN   \n",
       "1    organizational unit 65455  4819.069725   0  travel permit 16287  UNKNOWN   \n",
       "2    organizational unit 65460  1934.821819   0   travel permit 7710  UNKNOWN   \n",
       "3    organizational unit 65458  3113.953197   0   travel permit 4537  UNKNOWN   \n",
       "4    organizational unit 65454   923.081315   0    travel permit 423  UNKNOWN   \n",
       "..                         ...          ...  ..                  ...      ...   \n",
       "197                    UNKNOWN     0.000000   0              UNKNOWN  UNKNOWN   \n",
       "198                    UNKNOWN     0.000000   0              UNKNOWN  UNKNOWN   \n",
       "199                    UNKNOWN     0.000000   0              UNKNOWN  UNKNOWN   \n",
       "200                    UNKNOWN     0.000000   0              UNKNOWN  UNKNOWN   \n",
       "201                    UNKNOWN     0.000000   0              UNKNOWN  UNKNOWN   \n",
       "\n",
       "                            16  \n",
       "0     req for pay number 36829  \n",
       "1     req for pay number 16290  \n",
       "2      req for pay number 7713  \n",
       "3      req for pay number 4545  \n",
       "4    req for pay number 185741  \n",
       "..                         ...  \n",
       "197                    UNKNOWN  \n",
       "198  req for pay number 186114  \n",
       "199  req for pay number 186346  \n",
       "200  req for pay number 186323  \n",
       "201                    UNKNOWN  \n",
       "\n",
       "[202 rows x 17 columns]"
      ]
     },
     "execution_count": 271,
     "metadata": {},
     "output_type": "execute_result"
    }
   ],
   "source": [
    "data"
   ]
  },
  {
   "cell_type": "code",
   "execution_count": 147,
   "metadata": {},
   "outputs": [],
   "source": [
    "data_filtered = data.loc[:,[6,7,15]]"
   ]
  },
  {
   "cell_type": "code",
   "execution_count": 149,
   "metadata": {},
   "outputs": [],
   "source": [
    "data_filtered[7] = data_filtered[7].astype('float')\n",
    "data_filtered[7] = (data_filtered[7] - min(data_filtered[7])) / (max(data_filtered[7]) - min(data_filtered[7]))"
   ]
  },
  {
   "cell_type": "code",
   "execution_count": 275,
   "metadata": {},
   "outputs": [],
   "source": [
    "data_final= pd.get_dummies(data)"
   ]
  },
  {
   "cell_type": "code",
   "execution_count": 276,
   "metadata": {},
   "outputs": [],
   "source": [
    "n = len(data_final)\n",
    "A=np.zeros((n,n))"
   ]
  },
  {
   "cell_type": "code",
   "execution_count": 281,
   "metadata": {},
   "outputs": [],
   "source": [
    "for i in range(len(A)-1) : \n",
    "    for j in range(i+1, len(A)) : \n",
    "        sim = cosine_similarity(data_final.iloc[i], data_final.iloc[j])\n",
    "        A[i,j] = sim\n",
    "        A[j,i] = sim"
   ]
  },
  {
   "cell_type": "code",
   "execution_count": 158,
   "metadata": {},
   "outputs": [],
   "source": [
    "from IPython.display import display_pretty, display_html, display_jpeg, display_png, display_json, display_latex, display_svg\n"
   ]
  },
  {
   "cell_type": "code",
   "execution_count": 159,
   "metadata": {},
   "outputs": [],
   "source": [
    "import sys\n",
    "import numpy\n",
    "numpy.set_printoptions(threshold=sys.maxsize)"
   ]
  },
  {
   "cell_type": "code",
   "execution_count": 160,
   "metadata": {},
   "outputs": [],
   "source": [
    "import numpy as np\n",
    "large_width = 400\n",
    "np.set_printoptions(linewidth=large_width)"
   ]
  },
  {
   "cell_type": "code",
   "execution_count": 161,
   "metadata": {},
   "outputs": [],
   "source": [
    "np.set_printoptions(precision=3)"
   ]
  },
  {
   "cell_type": "code",
   "execution_count": 162,
   "metadata": {},
   "outputs": [],
   "source": [
    "import numpy as np"
   ]
  },
  {
   "cell_type": "code",
   "execution_count": 176,
   "metadata": {},
   "outputs": [],
   "source": [
    "edges =[\n",
    "    [6,10],\n",
    "    [6,1],\n",
    "    [10,7],\n",
    "    [10,1],\n",
    "    [7,1],\n",
    "    [7,5],\n",
    "    [5,2],\n",
    "    [5,3],\n",
    "    [1,2],\n",
    "    [2,3],\n",
    "    [5,8],\n",
    "    [3,4],\n",
    "    [5,8],\n",
    "    [8,9],\n",
    "    [8,4],\n",
    "    [8,11],\n",
    "    [11,4],\n",
    "    [4,9],\n",
    "    [11,9],\n",
    "    [11,12],\n",
    "    [12,11],\n",
    "    [12,9],\n",
    "]"
   ]
  },
  {
   "cell_type": "code",
   "execution_count": 177,
   "metadata": {},
   "outputs": [],
   "source": [
    "N = np.zeros((13,13))"
   ]
  },
  {
   "cell_type": "code",
   "execution_count": 178,
   "metadata": {},
   "outputs": [],
   "source": [
    "for e in edges : \n",
    "    N[e[0],e[1]] = 1\n",
    "    N[e[1],e[0]] = 1"
   ]
  },
  {
   "cell_type": "code",
   "execution_count": 179,
   "metadata": {},
   "outputs": [],
   "source": [
    "A=N[1:,:][:,1:]"
   ]
  },
  {
   "cell_type": "code",
   "execution_count": 180,
   "metadata": {},
   "outputs": [],
   "source": [
    "B=A + np.identity(12)"
   ]
  },
  {
   "cell_type": "code",
   "execution_count": 181,
   "metadata": {},
   "outputs": [],
   "source": [
    "M=col_norm(B)"
   ]
  },
  {
   "cell_type": "code",
   "execution_count": 182,
   "metadata": {},
   "outputs": [],
   "source": [
    "M_G3=np.matmul(B,B.T)\n"
   ]
  },
  {
   "cell_type": "code",
   "execution_count": 163,
   "metadata": {},
   "outputs": [],
   "source": [
    "import copy"
   ]
  },
  {
   "cell_type": "code",
   "execution_count": 170,
   "metadata": {},
   "outputs": [],
   "source": [
    "def gamma_operation (M, r):\n",
    "    M_new = copy.deepcopy(M.T)\n",
    "    \n",
    "    for i, row in enumerate(M_new) :\n",
    "        M_new[i] = M_new[i] ** r / sum(row **r )\n",
    "    return M_new.T"
   ]
  },
  {
   "cell_type": "code",
   "execution_count": 171,
   "metadata": {},
   "outputs": [],
   "source": [
    "def col_norm (M):\n",
    "    M_new = copy.deepcopy(M.T)\n",
    "    for i, row in enumerate(M_new) :\n",
    "        M_new[i] = M_new[i] / sum(row)\n",
    "    return M_new.T"
   ]
  },
  {
   "cell_type": "code",
   "execution_count": 172,
   "metadata": {},
   "outputs": [],
   "source": [
    "def power_matrix (M,r) :\n",
    "    M_new = copy.deepcopy(M)\n",
    "    for i in range(r-1) : \n",
    "        M_new = np.matmul(M_new, M)\n",
    "    return M_new\n"
   ]
  },
  {
   "cell_type": "markdown",
   "metadata": {},
   "source": [
    "$\n",
    "\\Gamma_2 M^2, \n",
    "$"
   ]
  },
  {
   "cell_type": "code",
   "execution_count": 309,
   "metadata": {},
   "outputs": [],
   "source": [
    "M_1=gamma_operation(power_matrix(M,2),2)"
   ]
  },
  {
   "cell_type": "code",
   "execution_count": 310,
   "metadata": {},
   "outputs": [
    {
     "data": {
      "text/plain": [
       "array([[0.38 , 0.087, 0.027, 0.   , 0.077, 0.295, 0.201, 0.   , 0.   , 0.32 , 0.   , 0.   ],\n",
       "       [0.047, 0.347, 0.21 , 0.017, 0.15 , 0.019, 0.066, 0.011, 0.   , 0.012, 0.   , 0.   ],\n",
       "       [0.014, 0.21 , 0.347, 0.055, 0.15 , 0.   , 0.016, 0.046, 0.009, 0.   , 0.009, 0.   ],\n",
       "       [0.   , 0.027, 0.087, 0.302, 0.062, 0.   , 0.   , 0.184, 0.143, 0.   , 0.143, 0.083],\n",
       "       [0.058, 0.21 , 0.21 , 0.055, 0.406, 0.   , 0.083, 0.046, 0.009, 0.019, 0.009, 0.   ],\n",
       "       [0.142, 0.017, 0.   , 0.   , 0.   , 0.295, 0.083, 0.   , 0.   , 0.184, 0.   , 0.   ],\n",
       "       [0.113, 0.069, 0.017, 0.   , 0.062, 0.097, 0.333, 0.011, 0.   , 0.147, 0.   , 0.   ],\n",
       "       [0.   , 0.017, 0.069, 0.175, 0.049, 0.   , 0.016, 0.287, 0.143, 0.   , 0.143, 0.083],\n",
       "       [0.   , 0.   , 0.017, 0.175, 0.012, 0.   , 0.   , 0.184, 0.288, 0.   , 0.288, 0.278],\n",
       "       [0.246, 0.017, 0.   , 0.   , 0.019, 0.295, 0.201, 0.   , 0.   , 0.32 , 0.   , 0.   ],\n",
       "       [0.   , 0.   , 0.017, 0.175, 0.012, 0.   , 0.   , 0.184, 0.288, 0.   , 0.288, 0.278],\n",
       "       [0.   , 0.   , 0.   , 0.044, 0.   , 0.   , 0.   , 0.046, 0.12 , 0.   , 0.12 , 0.278]])"
      ]
     },
     "execution_count": 310,
     "metadata": {},
     "output_type": "execute_result"
    }
   ],
   "source": [
    "M_1"
   ]
  },
  {
   "cell_type": "markdown",
   "metadata": {},
   "source": [
    "$\n",
    "\\Gamma_2 M^2, \n",
    "$"
   ]
  },
  {
   "cell_type": "code",
   "execution_count": 311,
   "metadata": {},
   "outputs": [],
   "source": [
    "M_2=tau_operation(power_matrix(M_1,2),2)\n",
    "M_3=tau_operation(power_matrix(M_2,2),2)\n",
    "M_4=tau_operation(power_matrix(M_3,2),2)\n"
   ]
  },
  {
   "cell_type": "code",
   "execution_count": 312,
   "metadata": {},
   "outputs": [
    {
     "data": {
      "text/plain": [
       "array([[0.807, 0.04 , 0.015, 0.   , 0.034, 0.807, 0.806, 0.   , 0.   , 0.807, 0.   , 0.   ],\n",
       "       [0.   , 0.09 , 0.092, 0.   , 0.088, 0.   , 0.   , 0.   , 0.   , 0.   , 0.   , 0.   ],\n",
       "       [0.   , 0.085, 0.088, 0.   , 0.084, 0.   , 0.   , 0.   , 0.   , 0.   , 0.   , 0.   ],\n",
       "       [0.   , 0.001, 0.001, 0.032, 0.001, 0.   , 0.   , 0.032, 0.031, 0.   , 0.031, 0.031],\n",
       "       [0.   , 0.777, 0.798, 0.   , 0.786, 0.   , 0.001, 0.   , 0.   , 0.   , 0.   , 0.   ],\n",
       "       [0.005, 0.   , 0.   , 0.   , 0.   , 0.005, 0.005, 0.   , 0.   , 0.005, 0.   , 0.   ],\n",
       "       [0.003, 0.   , 0.   , 0.   , 0.   , 0.003, 0.003, 0.   , 0.   , 0.003, 0.   , 0.   ],\n",
       "       [0.   , 0.   , 0.001, 0.024, 0.   , 0.   , 0.   , 0.024, 0.024, 0.   , 0.024, 0.024],\n",
       "       [0.   , 0.   , 0.002, 0.471, 0.001, 0.   , 0.   , 0.471, 0.472, 0.   , 0.472, 0.472],\n",
       "       [0.185, 0.005, 0.001, 0.   , 0.004, 0.185, 0.184, 0.   , 0.   , 0.185, 0.   , 0.   ],\n",
       "       [0.   , 0.   , 0.002, 0.471, 0.001, 0.   , 0.   , 0.471, 0.472, 0.   , 0.472, 0.472],\n",
       "       [0.   , 0.   , 0.   , 0.001, 0.   , 0.   , 0.   , 0.001, 0.001, 0.   , 0.001, 0.001]])"
      ]
     },
     "execution_count": 312,
     "metadata": {},
     "output_type": "execute_result"
    }
   ],
   "source": [
    "np.round(M_4,3)"
   ]
  },
  {
   "cell_type": "code",
   "execution_count": 313,
   "metadata": {},
   "outputs": [
    {
     "data": {
      "text/plain": [
       "array([4., 3., 3., 4., 4., 2., 3., 4., 4., 3., 4., 2.])"
      ]
     },
     "execution_count": 313,
     "metadata": {},
     "output_type": "execute_result"
    }
   ],
   "source": [
    "np.sum(A,axis=0)"
   ]
  },
  {
   "cell_type": "code",
   "execution_count": 173,
   "metadata": {},
   "outputs": [],
   "source": [
    "def squaring(M,r) : \n",
    "    M_new = copy.deepcopy(M)\n",
    "    for i in range(r-1) : \n",
    "        M_new = gamma_operation(power_matrix(M_new,2),2)\n",
    "\n",
    "    return M_new"
   ]
  },
  {
   "cell_type": "code",
   "execution_count": 203,
   "metadata": {},
   "outputs": [
    {
     "data": {
      "text/plain": [
       "array([[1. , 0. , 0. , 0. , 0. , 1. , 1. , 0. , 0. , 1. , 0. , 0. ],\n",
       "       [0. , 0. , 0. , 0. , 0. , 0. , 0. , 0. , 0. , 0. , 0. , 0. ],\n",
       "       [0. , 0. , 0. , 0. , 0. , 0. , 0. , 0. , 0. , 0. , 0. , 0. ],\n",
       "       [0. , 0. , 0. , 0. , 0. , 0. , 0. , 0. , 0. , 0. , 0. , 0. ],\n",
       "       [0. , 1. , 1. , 0. , 1. , 0. , 0. , 0. , 0. , 0. , 0. , 0. ],\n",
       "       [0. , 0. , 0. , 0. , 0. , 0. , 0. , 0. , 0. , 0. , 0. , 0. ],\n",
       "       [0. , 0. , 0. , 0. , 0. , 0. , 0. , 0. , 0. , 0. , 0. , 0. ],\n",
       "       [0. , 0. , 0. , 0. , 0. , 0. , 0. , 0. , 0. , 0. , 0. , 0. ],\n",
       "       [0. , 0. , 0. , 0.5, 0. , 0. , 0. , 0.5, 0.5, 0. , 0.5, 0.5],\n",
       "       [0. , 0. , 0. , 0. , 0. , 0. , 0. , 0. , 0. , 0. , 0. , 0. ],\n",
       "       [0. , 0. , 0. , 0.5, 0. , 0. , 0. , 0.5, 0.5, 0. , 0.5, 0.5],\n",
       "       [0. , 0. , 0. , 0. , 0. , 0. , 0. , 0. , 0. , 0. , 0. , 0. ]])"
      ]
     },
     "execution_count": 203,
     "metadata": {},
     "output_type": "execute_result"
    }
   ],
   "source": [
    "np.round(\n",
    "    squaring(M,100)\n",
    ",3)"
   ]
  },
  {
   "cell_type": "code",
   "execution_count": null,
   "metadata": {},
   "outputs": [],
   "source": []
  },
  {
   "cell_type": "code",
   "execution_count": null,
   "metadata": {},
   "outputs": [],
   "source": []
  },
  {
   "cell_type": "code",
   "execution_count": null,
   "metadata": {},
   "outputs": [],
   "source": []
  },
  {
   "cell_type": "code",
   "execution_count": 284,
   "metadata": {},
   "outputs": [],
   "source": [
    "result=np.round(\n",
    "    squaring(A,100)\n",
    ",3)"
   ]
  },
  {
   "cell_type": "code",
   "execution_count": 297,
   "metadata": {},
   "outputs": [
    {
     "data": {
      "text/plain": [
       "91"
      ]
     },
     "execution_count": 297,
     "metadata": {},
     "output_type": "execute_result"
    }
   ],
   "source": [
    "np.sum(result, axis=1).argmax()"
   ]
  },
  {
   "cell_type": "code",
   "execution_count": 301,
   "metadata": {},
   "outputs": [
    {
     "ename": "TypeError",
     "evalue": "only integer scalar arrays can be converted to a scalar index",
     "output_type": "error",
     "traceback": [
      "\u001b[0;31m---------------------------------------------------------------------------\u001b[0m",
      "\u001b[0;31mTypeError\u001b[0m                                 Traceback (most recent call last)",
      "\u001b[0;32m<ipython-input-301-bd71555fb071>\u001b[0m in \u001b[0;36m<module>\u001b[0;34m\u001b[0m\n\u001b[0;32m----> 1\u001b[0;31m \u001b[0mVARIANT\u001b[0m\u001b[0;34m[\u001b[0m\u001b[0mresult\u001b[0m\u001b[0;34m[\u001b[0m\u001b[0;36m91\u001b[0m\u001b[0;34m]\u001b[0m \u001b[0;34m*\u001b[0m \u001b[0;32mTrue\u001b[0m\u001b[0;34m]\u001b[0m\u001b[0;34m\u001b[0m\u001b[0;34m\u001b[0m\u001b[0m\n\u001b[0m",
      "\u001b[0;31mTypeError\u001b[0m: only integer scalar arrays can be converted to a scalar index"
     ]
    }
   ],
   "source": [
    "VARIANT[result[91] * True]"
   ]
  },
  {
   "cell_type": "code",
   "execution_count": 318,
   "metadata": {},
   "outputs": [],
   "source": [
    "CS=[]"
   ]
  },
  {
   "cell_type": "code",
   "execution_count": 320,
   "metadata": {},
   "outputs": [],
   "source": [
    "CS.append(np.array(VARIANT)[result[91]==1])"
   ]
  },
  {
   "cell_type": "code",
   "execution_count": 321,
   "metadata": {},
   "outputs": [],
   "source": [
    "CS.append(np.array(VARIANT)[result[154] == 1])"
   ]
  },
  {
   "cell_type": "code",
   "execution_count": 322,
   "metadata": {},
   "outputs": [],
   "source": [
    "CS.append(np.array(VARIANT)[189])"
   ]
  },
  {
   "cell_type": "code",
   "execution_count": 324,
   "metadata": {},
   "outputs": [
    {
     "data": {
      "text/plain": [
       "[0.9052763274408954,\n",
       " 0.8625646816161946,\n",
       " 0.5932837826344332,\n",
       " 0.5342506664339292]"
      ]
     },
     "execution_count": 324,
     "metadata": {},
     "output_type": "execute_result"
    }
   ],
   "source": [
    "quality_measure(log,CS)"
   ]
  }
 ],
 "metadata": {
  "kernelspec": {
   "display_name": "Python 3",
   "language": "python",
   "name": "python3"
  },
  "language_info": {
   "codemirror_mode": {
    "name": "ipython",
    "version": 3
   },
   "file_extension": ".py",
   "mimetype": "text/x-python",
   "name": "python",
   "nbconvert_exporter": "python",
   "pygments_lexer": "ipython3",
   "version": "3.7.3"
  }
 },
 "nbformat": 4,
 "nbformat_minor": 2
}
