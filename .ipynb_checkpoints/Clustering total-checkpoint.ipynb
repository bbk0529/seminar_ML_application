{
 "cells": [
  {
   "cell_type": "code",
   "execution_count": 1,
   "metadata": {},
   "outputs": [
    {
     "data": {
      "text/plain": [
       "<module 'clustering_util' from '/home/bk/dev/seminar/clustering_util.py'>"
      ]
     },
     "execution_count": 1,
     "metadata": {},
     "output_type": "execute_result"
    }
   ],
   "source": [
    "import importlib\n",
    "import active_clustering\n",
    "from active_clustering import *\n",
    "importlib.reload(active_clustering)\n",
    "import clustering_util\n",
    "import importlib\n",
    "from clustering_util import *\n",
    "importlib.reload(clustering_util)"
   ]
  },
  {
   "cell_type": "code",
   "execution_count": 2,
   "metadata": {},
   "outputs": [
    {
     "data": {
      "application/vnd.jupyter.widget-view+json": {
       "model_id": "cc29a6d23c10457b8ed7ec97f0f40478",
       "version_major": 2,
       "version_minor": 0
      },
      "text/plain": [
       "HBox(children=(IntProgress(value=0, description='parsing log, completed traces :: ', max=2099, style=ProgressS…"
      ]
     },
     "metadata": {},
     "output_type": "display_data"
    },
    {
     "name": "stdout",
     "output_type": "stream",
     "text": [
      "\n",
      "length of trace 2099 \n",
      "length of event 18246 \n",
      "number of variants : 202\n"
     ]
    }
   ],
   "source": [
    "# filename = 'filtered_3way_after_80%.xes'\n",
    "filename = 'PrepaidTravelCost.xes'\n",
    "log, VARIANT = read_xes(filename,1)\n"
   ]
  },
  {
   "cell_type": "code",
   "execution_count": 3,
   "metadata": {},
   "outputs": [],
   "source": [
    "import pickle\n",
    "pickle.dump(log, open('log.p','wb'))\n",
    "pickle.dump(VARIANT, open('VARIANT.p','wb'))"
   ]
  },
  {
   "cell_type": "code",
   "execution_count": 5,
   "metadata": {},
   "outputs": [],
   "source": [
    "def total_clustering (log, VARIANT, k, output=False) : \n",
    "    if output : \n",
    "        print(\"* active clustering started, it may take some time to finish. to see the progress, please use output = True\")\n",
    "    CS_act = A_clustering(\n",
    "        log, VARIANT,\n",
    "        w = 1,  tf = 1, nb_clus = 20, mcs = 0.5,\n",
    "        N = 0,\n",
    "        output=output\n",
    "    )\n",
    "    if output : \n",
    "        print(\"* active clustering finished\")\n",
    "    \n",
    "    if output : \n",
    "        print(\"* BOA clustering finished\")\n",
    "    CS_boa = CS_creator(VARIANT, type='boa', k=k)\n",
    "    if output : \n",
    "        print(\"* BOA clustering finished\")\n",
    "    \n",
    "    if output : \n",
    "        print(\"* MRA clustering finished\")\n",
    "    CS_mra = CS_creator(VARIANT, type='mra', k=k)\n",
    "    if output : \n",
    "        print(\"* MRA clustering finished\")\n",
    "    \n",
    "    if output : \n",
    "        print(\"* ngram clustering finished\")\n",
    "    CS_ngram = CS_creator(VARIANT, type='ngram', n=3, k=k)\n",
    "    if output : \n",
    "        print(\"* ngram clustering finished\")\n",
    "    \n",
    "    pickle.dump(CS_act, open( \"CS_act.p\", \"wb\" ) )\n",
    "    pickle.dump(CS_boa, open( \"CS_boa.p\", \"wb\" ) )\n",
    "    pickle.dump(CS_mra, open( \"CS_mra.p\", \"wb\" ) )\n",
    "    pickle.dump(CS_ngram, open( \"CS_ngram.p\", \"wb\" ) )\n",
    "    "
   ]
  },
  {
   "cell_type": "code",
   "execution_count": 6,
   "metadata": {},
   "outputs": [
    {
     "name": "stdout",
     "output_type": "stream",
     "text": [
      "boa\n",
      "mra\n",
      "ngram\n"
     ]
    }
   ],
   "source": [
    "total_clustering(log, VARIANT, 20)"
   ]
  },
  {
   "cell_type": "code",
   "execution_count": null,
   "metadata": {},
   "outputs": [],
   "source": []
  }
 ],
 "metadata": {
  "kernelspec": {
   "display_name": "Python 3",
   "language": "python",
   "name": "python3"
  },
  "language_info": {
   "codemirror_mode": {
    "name": "ipython",
    "version": 3
   },
   "file_extension": ".py",
   "mimetype": "text/x-python",
   "name": "python",
   "nbconvert_exporter": "python",
   "pygments_lexer": "ipython3",
   "version": "3.7.3"
  }
 },
 "nbformat": 4,
 "nbformat_minor": 2
}
