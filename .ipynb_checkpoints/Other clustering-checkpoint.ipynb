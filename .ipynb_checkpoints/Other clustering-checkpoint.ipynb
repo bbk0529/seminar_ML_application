{
 "cells": [
  {
   "cell_type": "code",
   "execution_count": 17,
   "metadata": {},
   "outputs": [
    {
     "data": {
      "text/plain": [
       "<module 'clustering_util' from '/home/bk/dev/seminar/clustering_util.py'>"
      ]
     },
     "execution_count": 17,
     "metadata": {},
     "output_type": "execute_result"
    }
   ],
   "source": [
    "import clustering_util\n",
    "import boa_clustering\n",
    "import importlib\n",
    "from boa_clustering import *\n",
    "from clustering_util import *\n",
    "importlib.reload(boa_clustering) #for iterative coding enviroment, it loads the library again\n",
    "importlib.reload(clustering_util)"
   ]
  },
  {
   "cell_type": "code",
   "execution_count": 18,
   "metadata": {},
   "outputs": [
    {
     "name": "stdout",
     "output_type": "stream",
     "text": [
      "length of trace 2534 \n",
      "length of event 13589 \n",
      "number of variants : 26\n"
     ]
    }
   ],
   "source": [
    "filename = 'filtered_3way_after_80%.xes'\n",
    "# filename = 'PrepaidTravelCost.xes'\n",
    "log, VARIANT = read_xes(filename,1)\n"
   ]
  },
  {
   "cell_type": "code",
   "execution_count": 20,
   "metadata": {},
   "outputs": [
    {
     "name": "stdout",
     "output_type": "stream",
     "text": [
      "ngram\n"
     ]
    }
   ],
   "source": [
    "CS=CS_creator(VARIANT, type='ngram')"
   ]
  },
  {
   "cell_type": "code",
   "execution_count": null,
   "metadata": {},
   "outputs": [],
   "source": []
  },
  {
   "cell_type": "code",
   "execution_count": null,
   "metadata": {},
   "outputs": [],
   "source": [
    "features=pd.DataFrame(columns=list(boa_feature_generator(VARIANT)))"
   ]
  },
  {
   "cell_type": "code",
   "execution_count": null,
   "metadata": {},
   "outputs": [],
   "source": [
    "features"
   ]
  },
  {
   "cell_type": "code",
   "execution_count": null,
   "metadata": {},
   "outputs": [],
   "source": [
    "feature_space=list(features)\n",
    "result=pd.DataFrame(columns=feature_space)\n",
    "for variant in VARIANT :\n",
    "    v=list(set(variant.split(',')))\n",
    "    print(v)\n",
    "    A=pd.DataFrame(np.ones((1,len(v))), columns=v)\n",
    "    result=result.append(A)\n",
    "result=result.fillna(0)"
   ]
  },
  {
   "cell_type": "code",
   "execution_count": null,
   "metadata": {},
   "outputs": [],
   "source": [
    "data=np.array(result)"
   ]
  },
  {
   "cell_type": "code",
   "execution_count": null,
   "metadata": {},
   "outputs": [],
   "source": [
    "from sklearn.cluster import KMeans"
   ]
  },
  {
   "cell_type": "code",
   "execution_count": null,
   "metadata": {},
   "outputs": [],
   "source": [
    "kmeans = KMeans(n_clusters=5, random_state=0).fit(data)"
   ]
  },
  {
   "cell_type": "code",
   "execution_count": null,
   "metadata": {},
   "outputs": [],
   "source": [
    "kmeans.labels_"
   ]
  },
  {
   "cell_type": "code",
   "execution_count": null,
   "metadata": {},
   "outputs": [],
   "source": [
    "unique, count = np.unique(kmeans.labels_, return_counts=True)\n",
    "dict(zip(unique,count))"
   ]
  },
  {
   "cell_type": "code",
   "execution_count": null,
   "metadata": {},
   "outputs": [],
   "source": [
    "np.unique"
   ]
  },
  {
   "cell_type": "code",
   "execution_count": null,
   "metadata": {
    "scrolled": false
   },
   "outputs": [],
   "source": [
    "for i in np.unique(kmeans.labels_) : \n",
    "    cs=np.array(VARIANT)[kmeans.labels_ == i]\n",
    "    print(len(cs))\n",
    "    print(fit_check(log, cs))\n",
    "    visualization(log, cs, True, False)\n",
    "    "
   ]
  },
  {
   "cell_type": "code",
   "execution_count": null,
   "metadata": {},
   "outputs": [],
   "source": [
    "v"
   ]
  }
 ],
 "metadata": {
  "kernelspec": {
   "display_name": "Python 3",
   "language": "python",
   "name": "python3"
  },
  "language_info": {
   "codemirror_mode": {
    "name": "ipython",
    "version": 3
   },
   "file_extension": ".py",
   "mimetype": "text/x-python",
   "name": "python",
   "nbconvert_exporter": "python",
   "pygments_lexer": "ipython3",
   "version": "3.7.3"
  }
 },
 "nbformat": 4,
 "nbformat_minor": 2
}
